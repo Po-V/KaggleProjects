{
 "cells": [
  {
   "cell_type": "code",
   "execution_count": 13,
   "metadata": {
    "_cell_guid": "b1076dfc-b9ad-4769-8c92-a6c4dae69d19",
    "_uuid": "8f2839f25d086af736a60e9eeb907d3b93b6e0e5",
    "execution": {
     "iopub.execute_input": "2021-10-16T13:15:32.951028Z",
     "iopub.status.busy": "2021-10-16T13:15:32.950578Z",
     "iopub.status.idle": "2021-10-16T13:15:32.972555Z",
     "shell.execute_reply": "2021-10-16T13:15:32.971603Z",
     "shell.execute_reply.started": "2021-10-16T13:15:32.950991Z"
    }
   },
   "outputs": [
    {
     "name": "stdout",
     "output_type": "stream",
     "text": [
      "/kaggle/input/gb-vpp-whoppity-dub-dub/mean_submission.csv\n",
      "/kaggle/input/gb-vpp-whoppity-dub-dub/Bidirect_LSTM_model_6C.h5\n",
      "/kaggle/input/gb-vpp-whoppity-dub-dub/Google_Brain_Keras_Model.png\n",
      "/kaggle/input/gb-vpp-whoppity-dub-dub/Bidirect_LSTM_model_2C.h5\n",
      "/kaggle/input/gb-vpp-whoppity-dub-dub/__results__.html\n",
      "/kaggle/input/gb-vpp-whoppity-dub-dub/Bidirect_LSTM_model_3C.h5\n",
      "/kaggle/input/gb-vpp-whoppity-dub-dub/Bidirect_LSTM_model_1C.h5\n",
      "/kaggle/input/gb-vpp-whoppity-dub-dub/Bidirect_LSTM_model_7C.h5\n",
      "/kaggle/input/gb-vpp-whoppity-dub-dub/Bidirect_LSTM_model_5C.h5\n",
      "/kaggle/input/gb-vpp-whoppity-dub-dub/__resultx__.html\n",
      "/kaggle/input/gb-vpp-whoppity-dub-dub/median_submission.csv\n",
      "/kaggle/input/gb-vpp-whoppity-dub-dub/Bidirect_LSTM_model_4C.h5\n",
      "/kaggle/input/gb-vpp-whoppity-dub-dub/__notebook__.ipynb\n",
      "/kaggle/input/gb-vpp-whoppity-dub-dub/__output__.json\n",
      "/kaggle/input/gb-vpp-whoppity-dub-dub/custom.css\n",
      "/kaggle/input/gb-vpp-whoppity-dub-dub/__results___files/__results___15_0.png\n",
      "/kaggle/input/ventilator-pressure-prediction/sample_submission.csv\n",
      "/kaggle/input/ventilator-pressure-prediction/train.csv\n",
      "/kaggle/input/ventilator-pressure-prediction/test.csv\n"
     ]
    }
   ],
   "source": [
    "# This Python 3 environment comes with many helpful analytics libraries installed\n",
    "# It is defined by the kaggle/python Docker image: https://github.com/kaggle/docker-python\n",
    "# For example, here's several helpful packages to load\n",
    "\n",
    "import numpy as np # linear algebra\n",
    "import pandas as pd # data processing, CSV file I/O (e.g. pd.read_csv)\n",
    "\n",
    "# Input data files are available in the read-only \"../input/\" directory\n",
    "# For example, running this (by clicking run or pressing Shift+Enter) will list all files under the input directory\n",
    "\n",
    "import os\n",
    "for dirname, _, filenames in os.walk('/kaggle/input'):\n",
    "    for filename in filenames:\n",
    "        print(os.path.join(dirname, filename))\n",
    "\n",
    "# You can write up to 20GB to the current directory (/kaggle/working/) that gets preserved as output when you create a version using \"Save & Run All\" \n",
    "# You can also write temporary files to /kaggle/temp/, but they won't be saved outside of the current session"
   ]
  },
  {
   "cell_type": "code",
   "execution_count": 14,
   "metadata": {
    "execution": {
     "iopub.execute_input": "2021-10-16T13:15:32.974608Z",
     "iopub.status.busy": "2021-10-16T13:15:32.974087Z",
     "iopub.status.idle": "2021-10-16T13:15:41.889650Z",
     "shell.execute_reply": "2021-10-16T13:15:41.888706Z",
     "shell.execute_reply.started": "2021-10-16T13:15:32.974572Z"
    }
   },
   "outputs": [
    {
     "data": {
      "text/plain": [
       "0           5.837492\n",
       "1           5.907794\n",
       "2           7.876254\n",
       "3          11.742872\n",
       "4          12.234987\n",
       "             ...    \n",
       "6035995     3.869032\n",
       "6035996     3.869032\n",
       "6035997     3.798729\n",
       "6035998     4.079938\n",
       "6035999     3.869032\n",
       "Name: pressure, Length: 6036000, dtype: float64"
      ]
     },
     "execution_count": 14,
     "metadata": {},
     "output_type": "execute_result"
    }
   ],
   "source": [
    "train = pd.read_csv('/kaggle/input/ventilator-pressure-prediction/train.csv')\n",
    "targets = train['pressure']\n",
    "targets"
   ]
  },
  {
   "cell_type": "code",
   "execution_count": 15,
   "metadata": {
    "execution": {
     "iopub.execute_input": "2021-10-16T13:15:41.891031Z",
     "iopub.status.busy": "2021-10-16T13:15:41.890818Z",
     "iopub.status.idle": "2021-10-16T13:15:45.097310Z",
     "shell.execute_reply": "2021-10-16T13:15:45.096750Z",
     "shell.execute_reply.started": "2021-10-16T13:15:41.891005Z"
    }
   },
   "outputs": [
    {
     "data": {
      "text/plain": [
       "(4024000, 7)"
      ]
     },
     "execution_count": 15,
     "metadata": {},
     "output_type": "execute_result"
    }
   ],
   "source": [
    "test = pd.read_csv('/kaggle/input/ventilator-pressure-prediction/test.csv')\n",
    "test.shape"
   ]
  },
  {
   "cell_type": "code",
   "execution_count": 16,
   "metadata": {
    "execution": {
     "iopub.execute_input": "2021-10-16T13:15:45.098905Z",
     "iopub.status.busy": "2021-10-16T13:15:45.098211Z",
     "iopub.status.idle": "2021-10-16T13:15:45.800310Z",
     "shell.execute_reply": "2021-10-16T13:15:45.799362Z",
     "shell.execute_reply.started": "2021-10-16T13:15:45.098863Z"
    }
   },
   "outputs": [
    {
     "data": {
      "text/plain": [
       "(4024000, 2)"
      ]
     },
     "execution_count": 16,
     "metadata": {},
     "output_type": "execute_result"
    }
   ],
   "source": [
    "sub = pd.read_csv('/kaggle/input/ventilator-pressure-prediction/sample_submission.csv')\n",
    "sub.shape"
   ]
  },
  {
   "cell_type": "code",
   "execution_count": 17,
   "metadata": {
    "execution": {
     "iopub.execute_input": "2021-10-16T13:15:45.802929Z",
     "iopub.status.busy": "2021-10-16T13:15:45.802631Z",
     "iopub.status.idle": "2021-10-16T13:15:46.801278Z",
     "shell.execute_reply": "2021-10-16T13:15:46.800382Z",
     "shell.execute_reply.started": "2021-10-16T13:15:45.802898Z"
    }
   },
   "outputs": [
    {
     "data": {
      "text/html": [
       "<div>\n",
       "<style scoped>\n",
       "    .dataframe tbody tr th:only-of-type {\n",
       "        vertical-align: middle;\n",
       "    }\n",
       "\n",
       "    .dataframe tbody tr th {\n",
       "        vertical-align: top;\n",
       "    }\n",
       "\n",
       "    .dataframe thead th {\n",
       "        text-align: right;\n",
       "    }\n",
       "</style>\n",
       "<table border=\"1\" class=\"dataframe\">\n",
       "  <thead>\n",
       "    <tr style=\"text-align: right;\">\n",
       "      <th></th>\n",
       "      <th>id</th>\n",
       "      <th>pressure</th>\n",
       "    </tr>\n",
       "  </thead>\n",
       "  <tbody>\n",
       "    <tr>\n",
       "      <th>0</th>\n",
       "      <td>1</td>\n",
       "      <td>6.259344</td>\n",
       "    </tr>\n",
       "    <tr>\n",
       "      <th>1</th>\n",
       "      <td>2</td>\n",
       "      <td>5.978134</td>\n",
       "    </tr>\n",
       "    <tr>\n",
       "      <th>2</th>\n",
       "      <td>3</td>\n",
       "      <td>7.102974</td>\n",
       "    </tr>\n",
       "    <tr>\n",
       "      <th>3</th>\n",
       "      <td>4</td>\n",
       "      <td>7.595091</td>\n",
       "    </tr>\n",
       "    <tr>\n",
       "      <th>4</th>\n",
       "      <td>5</td>\n",
       "      <td>9.141746</td>\n",
       "    </tr>\n",
       "  </tbody>\n",
       "</table>\n",
       "</div>"
      ],
      "text/plain": [
       "   id  pressure\n",
       "0   1  6.259344\n",
       "1   2  5.978134\n",
       "2   3  7.102974\n",
       "3   4  7.595091\n",
       "4   5  9.141746"
      ]
     },
     "execution_count": 17,
     "metadata": {},
     "output_type": "execute_result"
    }
   ],
   "source": [
    "median_sub = pd.read_csv('../input/gb-vpp-whoppity-dub-dub/median_submission.csv')\n",
    "median_sub.head()"
   ]
  },
  {
   "cell_type": "code",
   "execution_count": 18,
   "metadata": {
    "execution": {
     "iopub.execute_input": "2021-10-16T13:15:46.802721Z",
     "iopub.status.busy": "2021-10-16T13:15:46.802466Z",
     "iopub.status.idle": "2021-10-16T13:15:46.967246Z",
     "shell.execute_reply": "2021-10-16T13:15:46.966238Z",
     "shell.execute_reply.started": "2021-10-16T13:15:46.802692Z"
    }
   },
   "outputs": [],
   "source": [
    "targets = train['pressure']\n",
    "train.drop(['pressure', 'id'], axis=1, inplace=True)\n",
    "test = test.drop(['id'], axis=1)"
   ]
  },
  {
   "cell_type": "code",
   "execution_count": 19,
   "metadata": {
    "execution": {
     "iopub.execute_input": "2021-10-16T13:15:46.969112Z",
     "iopub.status.busy": "2021-10-16T13:15:46.968786Z",
     "iopub.status.idle": "2021-10-16T13:15:46.975374Z",
     "shell.execute_reply": "2021-10-16T13:15:46.974028Z",
     "shell.execute_reply.started": "2021-10-16T13:15:46.969067Z"
    }
   },
   "outputs": [],
   "source": [
    "pseudo_l = median_sub['pressure']"
   ]
  },
  {
   "cell_type": "code",
   "execution_count": 20,
   "metadata": {
    "execution": {
     "iopub.execute_input": "2021-10-16T13:15:46.977131Z",
     "iopub.status.busy": "2021-10-16T13:15:46.976819Z",
     "iopub.status.idle": "2021-10-16T13:15:46.990414Z",
     "shell.execute_reply": "2021-10-16T13:15:46.989706Z",
     "shell.execute_reply.started": "2021-10-16T13:15:46.977091Z"
    }
   },
   "outputs": [
    {
     "data": {
      "text/plain": [
       "(4024000, 6)"
      ]
     },
     "execution_count": 20,
     "metadata": {},
     "output_type": "execute_result"
    }
   ],
   "source": [
    "test.shape"
   ]
  },
  {
   "cell_type": "code",
   "execution_count": 21,
   "metadata": {
    "execution": {
     "iopub.execute_input": "2021-10-16T13:15:46.992179Z",
     "iopub.status.busy": "2021-10-16T13:15:46.991954Z",
     "iopub.status.idle": "2021-10-16T13:15:47.002830Z",
     "shell.execute_reply": "2021-10-16T13:15:47.001991Z",
     "shell.execute_reply.started": "2021-10-16T13:15:46.992152Z"
    }
   },
   "outputs": [
    {
     "data": {
      "text/plain": [
       "(6036000, 6)"
      ]
     },
     "execution_count": 21,
     "metadata": {},
     "output_type": "execute_result"
    }
   ],
   "source": [
    "train.shape"
   ]
  },
  {
   "cell_type": "code",
   "execution_count": 22,
   "metadata": {
    "execution": {
     "iopub.execute_input": "2021-10-16T13:15:47.004409Z",
     "iopub.status.busy": "2021-10-16T13:15:47.003863Z",
     "iopub.status.idle": "2021-10-16T13:15:47.018489Z",
     "shell.execute_reply": "2021-10-16T13:15:47.017493Z",
     "shell.execute_reply.started": "2021-10-16T13:15:47.004376Z"
    }
   },
   "outputs": [
    {
     "data": {
      "text/plain": [
       "array([5.83749171, 5.90779385, 7.87625392, ..., 3.79872949, 4.07993807,\n",
       "       3.86903163])"
      ]
     },
     "execution_count": 22,
     "metadata": {},
     "output_type": "execute_result"
    }
   ],
   "source": [
    "targets.values"
   ]
  },
  {
   "cell_type": "code",
   "execution_count": 23,
   "metadata": {
    "execution": {
     "iopub.execute_input": "2021-10-16T13:15:47.020544Z",
     "iopub.status.busy": "2021-10-16T13:15:47.020222Z",
     "iopub.status.idle": "2021-10-16T15:32:01.026382Z",
     "shell.execute_reply": "2021-10-16T15:32:01.024756Z",
     "shell.execute_reply.started": "2021-10-16T13:15:47.020500Z"
    }
   },
   "outputs": [
    {
     "name": "stdout",
     "output_type": "stream",
     "text": [
      "[LightGBM] [Warning] Auto-choosing row-wise multi-threading, the overhead of testing was 0.053825 seconds.\n",
      "You can set `force_row_wise=true` to remove the overhead.\n",
      "And if memory is not enough, you can set `force_col_wise=true`.\n",
      "[LightGBM] [Warning] Auto-choosing row-wise multi-threading, the overhead of testing was 0.080264 seconds.\n",
      "You can set `force_row_wise=true` to remove the overhead.\n",
      "And if memory is not enough, you can set `force_col_wise=true`.\n",
      "[LightGBM] [Warning] Auto-choosing row-wise multi-threading, the overhead of testing was 0.056535 seconds.\n",
      "You can set `force_row_wise=true` to remove the overhead.\n",
      "And if memory is not enough, you can set `force_col_wise=true`.\n",
      "[LightGBM] [Warning] Auto-choosing row-wise multi-threading, the overhead of testing was 0.077787 seconds.\n",
      "You can set `force_row_wise=true` to remove the overhead.\n",
      "And if memory is not enough, you can set `force_col_wise=true`.\n",
      "[LightGBM] [Warning] Auto-choosing row-wise multi-threading, the overhead of testing was 0.053780 seconds.\n",
      "You can set `force_row_wise=true` to remove the overhead.\n",
      "And if memory is not enough, you can set `force_col_wise=true`.\n",
      "[LightGBM] [Warning] Auto-choosing row-wise multi-threading, the overhead of testing was 0.080590 seconds.\n",
      "You can set `force_row_wise=true` to remove the overhead.\n",
      "And if memory is not enough, you can set `force_col_wise=true`.\n"
     ]
    }
   ],
   "source": [
    "import lightgbm as lgb\n",
    "\n",
    "lr = 0.2\n",
    "p_m = 0\n",
    "new_y = 0\n",
    "\n",
    "\n",
    "for w in range(3):\n",
    "    \n",
    "    params_loss_1 = {\n",
    "                    'n_estimators': 5000,\n",
    "                    'learning_rate': 0.1}\n",
    "    \n",
    "    \n",
    "    lgbm_reg_1 = lgb.LGBMRegressor(\n",
    "                                **params_loss_1, \n",
    "                                objective='mae',\n",
    "                                metric='mae',\n",
    "                                n_jobs=-1, random_state = 2021, verbose = 0\n",
    "                                )\n",
    "    \n",
    "    lgbm_reg_1.fit(test, pseudo_l)\n",
    "\n",
    "    p_m = lgbm_reg_1.predict(train)\n",
    "\n",
    "    new_y = targets.values - p_m\n",
    "    \n",
    "    \n",
    "    \n",
    "    params_loss_2 = {\n",
    "                    'n_estimators': 5000,\n",
    "                    'learning_rate': 0.1}\n",
    "    \n",
    "    \n",
    "    lgbm_reg_2 = lgb.LGBMRegressor(\n",
    "                                **params_loss_2, \n",
    "                                objective='mae',\n",
    "                                metric='mae',\n",
    "                                n_jobs=-1, verbose = 0, random_state = 2020\n",
    "                                )\n",
    "    \n",
    "    lgbm_reg_2.fit(\n",
    "                train, \n",
    "                new_y\n",
    "                )\n",
    "\n",
    "    p_a = lgbm_reg_2.predict(test)\n",
    "\n",
    "    my_y = median_sub['pressure'].values + (p_a * lr)\n"
   ]
  },
  {
   "cell_type": "code",
   "execution_count": 24,
   "metadata": {
    "execution": {
     "iopub.execute_input": "2021-10-16T15:32:01.029718Z",
     "iopub.status.busy": "2021-10-16T15:32:01.029298Z",
     "iopub.status.idle": "2021-10-16T15:32:01.044220Z",
     "shell.execute_reply": "2021-10-16T15:32:01.043419Z",
     "shell.execute_reply.started": "2021-10-16T15:32:01.029629Z"
    }
   },
   "outputs": [
    {
     "data": {
      "text/plain": [
       "array([6.24259954, 5.95034736, 7.10800514, ..., 6.45126386, 6.17877995,\n",
       "       6.31820115])"
      ]
     },
     "execution_count": 24,
     "metadata": {},
     "output_type": "execute_result"
    }
   ],
   "source": [
    "my_y"
   ]
  },
  {
   "cell_type": "code",
   "execution_count": 25,
   "metadata": {
    "execution": {
     "iopub.execute_input": "2021-10-16T15:34:19.508255Z",
     "iopub.status.busy": "2021-10-16T15:34:19.507927Z",
     "iopub.status.idle": "2021-10-16T15:34:19.622696Z",
     "shell.execute_reply": "2021-10-16T15:34:19.621691Z",
     "shell.execute_reply.started": "2021-10-16T15:34:19.508221Z"
    }
   },
   "outputs": [
    {
     "name": "stdout",
     "output_type": "stream",
     "text": [
      "1.9031754651181227\n"
     ]
    }
   ],
   "source": [
    "from sklearn.metrics import mean_absolute_error\n",
    "\n",
    "print(mean_absolute_error(targets, p_m))"
   ]
  },
  {
   "cell_type": "code",
   "execution_count": 31,
   "metadata": {
    "execution": {
     "iopub.execute_input": "2021-10-16T15:40:26.698310Z",
     "iopub.status.busy": "2021-10-16T15:40:26.698025Z",
     "iopub.status.idle": "2021-10-16T15:40:26.733234Z",
     "shell.execute_reply": "2021-10-16T15:40:26.732398Z",
     "shell.execute_reply.started": "2021-10-16T15:40:26.698279Z"
    }
   },
   "outputs": [
    {
     "name": "stdout",
     "output_type": "stream",
     "text": [
      "0.050676802484954354\n"
     ]
    }
   ],
   "source": [
    "print(mean_absolute_error(median_sub['pressure'].values, my_y))"
   ]
  },
  {
   "cell_type": "code",
   "execution_count": 33,
   "metadata": {
    "execution": {
     "iopub.execute_input": "2021-10-16T15:47:04.377721Z",
     "iopub.status.busy": "2021-10-16T15:47:04.377048Z",
     "iopub.status.idle": "2021-10-16T15:47:10.074866Z",
     "shell.execute_reply": "2021-10-16T15:47:10.074198Z",
     "shell.execute_reply.started": "2021-10-16T15:47:04.377675Z"
    }
   },
   "outputs": [
    {
     "name": "stdout",
     "output_type": "stream",
     "text": [
      "The first 25 unique pressures...\n"
     ]
    },
    {
     "data": {
      "text/plain": [
       "array([-1.89574429, -1.82544215, -1.75514   , -1.68483786, -1.61453571,\n",
       "       -1.54423357, -1.47393142, -1.40362928, -1.33332713, -1.26302499,\n",
       "       -1.19272284, -1.12242069, -1.05211855, -0.9818164 , -0.91151426,\n",
       "       -0.84121211, -0.77090997, -0.70060782, -0.63030568, -0.56000353,\n",
       "       -0.48970139, -0.41939924, -0.34909709, -0.27879495, -0.2084928 ])"
      ]
     },
     "execution_count": 33,
     "metadata": {},
     "output_type": "execute_result"
    }
   ],
   "source": [
    "train_1 = pd.read_csv('/kaggle/input/ventilator-pressure-prediction/train.csv')\n",
    "all_pressure = np.sort(train_1.pressure.unique())\n",
    "print('The first 25 unique pressures...')\n",
    "PRESSURE_MIN = all_pressure[0].item()\n",
    "PRESSURE_MAX = all_pressure[-1].item()\n",
    "all_pressure[:25]"
   ]
  },
  {
   "cell_type": "code",
   "execution_count": 35,
   "metadata": {
    "execution": {
     "iopub.execute_input": "2021-10-16T15:52:30.616948Z",
     "iopub.status.busy": "2021-10-16T15:52:30.616647Z",
     "iopub.status.idle": "2021-10-16T15:52:30.624656Z",
     "shell.execute_reply": "2021-10-16T15:52:30.623845Z",
     "shell.execute_reply.started": "2021-10-16T15:52:30.616916Z"
    }
   },
   "outputs": [
    {
     "data": {
      "text/plain": [
       "array([0.07030215, 0.07030215, 0.07030215, 0.07030215, 0.07030215,\n",
       "       0.07030215, 0.07030215, 0.07030215, 0.07030215, 0.07030215,\n",
       "       0.07030215, 0.07030215, 0.07030215, 0.07030215, 0.07030215,\n",
       "       0.07030215, 0.07030215, 0.07030215, 0.07030215, 0.07030215,\n",
       "       0.07030215, 0.07030215, 0.07030215, 0.07030215, 0.07030215])"
      ]
     },
     "execution_count": 35,
     "metadata": {},
     "output_type": "execute_result"
    }
   ],
   "source": [
    "PRESSURE_STEP = ( all_pressure[1] - all_pressure[0] ).item()\n",
    "all_pressure[1:26] - all_pressure[:25]"
   ]
  },
  {
   "cell_type": "code",
   "execution_count": 36,
   "metadata": {
    "execution": {
     "iopub.execute_input": "2021-10-16T15:52:37.377656Z",
     "iopub.status.busy": "2021-10-16T15:52:37.377334Z",
     "iopub.status.idle": "2021-10-16T15:52:52.102290Z",
     "shell.execute_reply": "2021-10-16T15:52:52.101239Z",
     "shell.execute_reply.started": "2021-10-16T15:52:37.377597Z"
    }
   },
   "outputs": [],
   "source": [
    "median_sub['pressure'] = my_y\n",
    "median_sub[\"pressure\"] =\\\n",
    "    np.round( (median_sub.pressure - PRESSURE_MIN)/PRESSURE_STEP ) * PRESSURE_STEP + PRESSURE_MIN\n",
    "median_sub.pressure = np.clip(median_sub.pressure, PRESSURE_MIN, PRESSURE_MAX)\n",
    "median_sub.to_csv('submission.csv', index=False)"
   ]
  },
  {
   "cell_type": "code",
   "execution_count": null,
   "metadata": {},
   "outputs": [],
   "source": []
  },
  {
   "cell_type": "code",
   "execution_count": null,
   "metadata": {},
   "outputs": [],
   "source": []
  }
 ],
 "metadata": {
  "kernelspec": {
   "display_name": "Python 3",
   "language": "python",
   "name": "python3"
  },
  "language_info": {
   "codemirror_mode": {
    "name": "ipython",
    "version": 3
   },
   "file_extension": ".py",
   "mimetype": "text/x-python",
   "name": "python",
   "nbconvert_exporter": "python",
   "pygments_lexer": "ipython3",
   "version": "3.8.5"
  }
 },
 "nbformat": 4,
 "nbformat_minor": 4
}
