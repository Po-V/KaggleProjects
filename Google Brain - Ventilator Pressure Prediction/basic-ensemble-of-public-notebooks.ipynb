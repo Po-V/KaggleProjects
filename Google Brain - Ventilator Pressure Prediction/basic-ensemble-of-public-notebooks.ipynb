{
 "cells": [
  {
   "cell_type": "code",
   "execution_count": 1,
   "id": "55d752bc",
   "metadata": {
    "_cell_guid": "b1076dfc-b9ad-4769-8c92-a6c4dae69d19",
    "_uuid": "8f2839f25d086af736a60e9eeb907d3b93b6e0e5",
    "execution": {
     "iopub.execute_input": "2021-10-17T01:34:37.095998Z",
     "iopub.status.busy": "2021-10-17T01:34:37.094910Z",
     "iopub.status.idle": "2021-10-17T01:34:37.102714Z",
     "shell.execute_reply": "2021-10-17T01:34:37.103216Z",
     "shell.execute_reply.started": "2021-10-16T19:36:11.791892Z"
    },
    "papermill": {
     "duration": 0.017962,
     "end_time": "2021-10-17T01:34:37.103498",
     "exception": false,
     "start_time": "2021-10-17T01:34:37.085536",
     "status": "completed"
    },
    "tags": []
   },
   "outputs": [],
   "source": [
    "import numpy as np\n",
    "import pandas as pd"
   ]
  },
  {
   "cell_type": "code",
   "execution_count": 2,
   "id": "ddd12ba4",
   "metadata": {
    "execution": {
     "iopub.execute_input": "2021-10-17T01:34:37.116472Z",
     "iopub.status.busy": "2021-10-17T01:34:37.115757Z",
     "iopub.status.idle": "2021-10-17T01:34:45.827674Z",
     "shell.execute_reply": "2021-10-17T01:34:45.828142Z",
     "shell.execute_reply.started": "2021-10-16T19:36:04.927227Z"
    },
    "papermill": {
     "duration": 8.720572,
     "end_time": "2021-10-17T01:34:45.828365",
     "exception": false,
     "start_time": "2021-10-17T01:34:37.107793",
     "status": "completed"
    },
    "tags": []
   },
   "outputs": [],
   "source": [
    "sub = pd.read_csv(\"../input/ventilator-pressure-prediction/sample_submission.csv\")\n",
    "\n",
    "sub_1 = pd.read_csv('../input/gb-vpp-whoppity-dub-dub/median_submission.csv')\n",
    "sub_2 = pd.read_csv('../input/blend-of-blend-of-blend-of-blend-of-blend-of-ble/submission.csv')\n",
    "sub_3 = pd.read_csv('../input/random-weights-blending-tool-ventilator-pressure/rwb 125 loops.csv')\n",
    "sub_4 = pd.read_csv('../input/gb-vpp-to-infinity-and-beyond/submission.csv')\n",
    "sub_5 = pd.read_csv('../input/pred-ventilator-lstm-model-0-149/submission.csv')\n"
   ]
  },
  {
   "cell_type": "code",
   "execution_count": 3,
   "id": "89ac5be8",
   "metadata": {
    "execution": {
     "iopub.execute_input": "2021-10-17T01:34:45.838618Z",
     "iopub.status.busy": "2021-10-17T01:34:45.837703Z",
     "iopub.status.idle": "2021-10-17T01:34:55.080259Z",
     "shell.execute_reply": "2021-10-17T01:34:55.080658Z",
     "shell.execute_reply.started": "2021-10-11T05:29:31.739137Z"
    },
    "papermill": {
     "duration": 9.249142,
     "end_time": "2021-10-17T01:34:55.080823",
     "exception": false,
     "start_time": "2021-10-17T01:34:45.831681",
     "status": "completed"
    },
    "tags": []
   },
   "outputs": [
    {
     "data": {
      "text/html": [
       "<div>\n",
       "<style scoped>\n",
       "    .dataframe tbody tr th:only-of-type {\n",
       "        vertical-align: middle;\n",
       "    }\n",
       "\n",
       "    .dataframe tbody tr th {\n",
       "        vertical-align: top;\n",
       "    }\n",
       "\n",
       "    .dataframe thead th {\n",
       "        text-align: right;\n",
       "    }\n",
       "</style>\n",
       "<table border=\"1\" class=\"dataframe\">\n",
       "  <thead>\n",
       "    <tr style=\"text-align: right;\">\n",
       "      <th></th>\n",
       "      <th>id</th>\n",
       "      <th>pressure</th>\n",
       "    </tr>\n",
       "  </thead>\n",
       "  <tbody>\n",
       "    <tr>\n",
       "      <th>0</th>\n",
       "      <td>1</td>\n",
       "      <td>6.274773</td>\n",
       "    </tr>\n",
       "    <tr>\n",
       "      <th>1</th>\n",
       "      <td>2</td>\n",
       "      <td>5.979222</td>\n",
       "    </tr>\n",
       "    <tr>\n",
       "      <th>2</th>\n",
       "      <td>3</td>\n",
       "      <td>7.109184</td>\n",
       "    </tr>\n",
       "    <tr>\n",
       "      <th>3</th>\n",
       "      <td>4</td>\n",
       "      <td>7.600317</td>\n",
       "    </tr>\n",
       "    <tr>\n",
       "      <th>4</th>\n",
       "      <td>5</td>\n",
       "      <td>9.143909</td>\n",
       "    </tr>\n",
       "  </tbody>\n",
       "</table>\n",
       "</div>"
      ],
      "text/plain": [
       "   id  pressure\n",
       "0   1  6.274773\n",
       "1   2  5.979222\n",
       "2   3  7.109184\n",
       "3   4  7.600317\n",
       "4   5  9.143909"
      ]
     },
     "execution_count": 3,
     "metadata": {},
     "output_type": "execute_result"
    }
   ],
   "source": [
    "sub['pressure'] = (sub_1['pressure'].values*0.44)+(sub_2['pressure'].values*0.195)+(sub_3['pressure'].values*0.125)+ \\\n",
    "                  (sub_4['pressure'].values*0.120) + (sub_5['pressure'].values*0.120)\n",
    "sub.to_csv('submission.csv', index=False)\n",
    "sub.head(5)"
   ]
  }
 ],
 "metadata": {
  "kernelspec": {
   "display_name": "Python 3",
   "language": "python",
   "name": "python3"
  },
  "language_info": {
   "codemirror_mode": {
    "name": "ipython",
    "version": 3
   },
   "file_extension": ".py",
   "mimetype": "text/x-python",
   "name": "python",
   "nbconvert_exporter": "python",
   "pygments_lexer": "ipython3",
   "version": "3.8.5"
  },
  "papermill": {
   "default_parameters": {},
   "duration": 25.6202,
   "end_time": "2021-10-17T01:34:55.592432",
   "environment_variables": {},
   "exception": null,
   "input_path": "__notebook__.ipynb",
   "output_path": "__notebook__.ipynb",
   "parameters": {},
   "start_time": "2021-10-17T01:34:29.972232",
   "version": "2.3.3"
  }
 },
 "nbformat": 4,
 "nbformat_minor": 5
}
