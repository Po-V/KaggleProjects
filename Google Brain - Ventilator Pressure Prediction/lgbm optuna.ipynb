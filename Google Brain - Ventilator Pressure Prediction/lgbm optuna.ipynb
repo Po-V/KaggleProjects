{
 "cells": [
  {
   "cell_type": "code",
   "execution_count": 15,
   "id": "af107204",
   "metadata": {},
   "outputs": [],
   "source": [
    "import pandas as pd\n",
    "import numpy as np\n",
    "import lightgbm as lgb"
   ]
  },
  {
   "cell_type": "code",
   "execution_count": 16,
   "id": "7b775b1e",
   "metadata": {},
   "outputs": [],
   "source": [
    "train = pd.read_csv('train.csv')\n",
    "test = pd.read_csv('test.csv')"
   ]
  },
  {
   "cell_type": "code",
   "execution_count": 17,
   "id": "ca685096",
   "metadata": {},
   "outputs": [],
   "source": [
    "def add_features(df):\n",
    "    df['area'] = df['time_step'] * df['u_in']\n",
    "    df['area'] = df.groupby('breath_id')['area'].cumsum()\n",
    "    \n",
    "    df['u_in_cumsum'] = (df['u_in']).groupby(df['breath_id']).cumsum()\n",
    "    \n",
    "    df['u_in_lag1'] = df.groupby('breath_id')['u_in'].shift(1)\n",
    "    df['u_out_lag1'] = df.groupby('breath_id')['u_out'].shift(1)\n",
    "    df['u_in_lag_back1'] = df.groupby('breath_id')['u_in'].shift(-1)\n",
    "    df['u_out_lag_back1'] = df.groupby('breath_id')['u_out'].shift(-1)\n",
    "    df['u_in_lag2'] = df.groupby('breath_id')['u_in'].shift(2)\n",
    "    df['u_out_lag2'] = df.groupby('breath_id')['u_out'].shift(2)\n",
    "    df['u_in_lag_back2'] = df.groupby('breath_id')['u_in'].shift(-2)\n",
    "    df['u_out_lag_back2'] = df.groupby('breath_id')['u_out'].shift(-2)\n",
    "    df['u_in_lag3'] = df.groupby('breath_id')['u_in'].shift(3)\n",
    "    df['u_out_lag3'] = df.groupby('breath_id')['u_out'].shift(3)\n",
    "    df['u_in_lag_back3'] = df.groupby('breath_id')['u_in'].shift(-3)\n",
    "    df['u_out_lag_back3'] = df.groupby('breath_id')['u_out'].shift(-3)\n",
    "    df['u_in_lag4'] = df.groupby('breath_id')['u_in'].shift(4)\n",
    "    df['u_out_lag4'] = df.groupby('breath_id')['u_out'].shift(4)\n",
    "    df['u_in_lag_back4'] = df.groupby('breath_id')['u_in'].shift(-4)\n",
    "    df['u_out_lag_back4'] = df.groupby('breath_id')['u_out'].shift(-4)\n",
    "    df = df.fillna(0)\n",
    "    \n",
    "    df['breath_id__u_in__max'] = df.groupby(['breath_id'])['u_in'].transform('max')\n",
    "    df['breath_id__u_out__max'] = df.groupby(['breath_id'])['u_out'].transform('max')\n",
    "    \n",
    "    df['u_in_diff1'] = df['u_in'] - df['u_in_lag1']\n",
    "    df['u_out_diff1'] = df['u_out'] - df['u_out_lag1']\n",
    "    df['u_in_diff2'] = df['u_in'] - df['u_in_lag2']\n",
    "    df['u_out_diff2'] = df['u_out'] - df['u_out_lag2']\n",
    "    \n",
    "    df['breath_id__u_in__diffmax'] = df.groupby(['breath_id'])['u_in'].transform('max') - df['u_in']\n",
    "    df['breath_id__u_in__diffmean'] = df.groupby(['breath_id'])['u_in'].transform('mean') - df['u_in']\n",
    "    \n",
    "    df['breath_id__u_in__diffmax'] = df.groupby(['breath_id'])['u_in'].transform('max') - df['u_in']\n",
    "    df['breath_id__u_in__diffmean'] = df.groupby(['breath_id'])['u_in'].transform('mean') - df['u_in']\n",
    "    \n",
    "    df['u_in_diff3'] = df['u_in'] - df['u_in_lag3']\n",
    "    df['u_out_diff3'] = df['u_out'] - df['u_out_lag3']\n",
    "    df['u_in_diff4'] = df['u_in'] - df['u_in_lag4']\n",
    "    df['u_out_diff4'] = df['u_out'] - df['u_out_lag4']\n",
    "    df['cross']= df['u_in']*df['u_out']\n",
    "    df['cross2']= df['time_step']*df['u_out']\n",
    "    \n",
    "    df['R'] = df['R'].astype(str)\n",
    "    df['C'] = df['C'].astype(str)\n",
    "    df['R__C'] = df[\"R\"].astype(str) + '__' + df[\"C\"].astype(str)\n",
    "    df = pd.get_dummies(df)\n",
    "    return df\n",
    "\n",
    "train = add_features(train)\n",
    "test = add_features(test)\n",
    "\n",
    "# RS = RobustScaler()\n",
    "# train = RS.fit_transform(train)\n",
    "# test = RS.transform(test)\n",
    "\n",
    "# train = train.reshape(-1, 80, train.shape[-1])\n",
    "# test = test.reshape(-1, 80, train.shape[-1])"
   ]
  },
  {
   "cell_type": "code",
   "execution_count": 18,
   "id": "b83ebae3",
   "metadata": {},
   "outputs": [],
   "source": [
    "targets = train['pressure']\n",
    "train.drop(['pressure', 'id', 'breath_id'], axis=1, inplace=True)\n",
    "test = test.drop(['id', 'breath_id'], axis=1)"
   ]
  },
  {
   "cell_type": "code",
   "execution_count": 19,
   "id": "b0bc9dbf",
   "metadata": {},
   "outputs": [],
   "source": [
    "median_sub = pd.read_csv('submission.csv')\n",
    "pseudo_l = median_sub['pressure']"
   ]
  },
  {
   "cell_type": "code",
   "execution_count": 20,
   "id": "42667a25",
   "metadata": {},
   "outputs": [
    {
     "name": "stderr",
     "output_type": "stream",
     "text": [
      "\u001b[32m[I 2021-10-19 10:43:20,591]\u001b[0m A new study created in memory with name: no-name-e804db87-e1e3-4aa8-a0cc-4f852eb1704b\u001b[0m\n",
      "\u001b[32m[I 2021-10-19 10:57:36,325]\u001b[0m Trial 0 finished with value: 2.436180271369652 and parameters: {'num_leaves': 368, 'max_depth': 80, 'reg_alpha': 9.651243752095864, 'reg_lambda': 50.40682402023616, 'colsample_bytree': 0.017032246489922333, 'cat_smooth': 41.208119517489735, 'subsample': 0.8, 'min_child_samples': 244, 'min_child_weight': 1.0346898790184724, 'subsample_freq': 17, 'learning_rate': 0.0023846504495965244}. Best is trial 0 with value: 2.436180271369652.\u001b[0m\n",
      "\u001b[32m[I 2021-10-19 10:58:04,492]\u001b[0m Trial 1 finished with value: 0.5722647364576676 and parameters: {'num_leaves': 442, 'max_depth': -1, 'reg_alpha': 14.213741007609562, 'reg_lambda': 18.02100450807621, 'colsample_bytree': 0.927270205972183, 'cat_smooth': 72.9979488021712, 'subsample': 0.2, 'min_child_samples': 102, 'min_child_weight': 0.0505329914509953, 'subsample_freq': 18, 'learning_rate': 0.6622945971189075}. Best is trial 1 with value: 0.5722647364576676.\u001b[0m\n",
      "\u001b[32m[I 2021-10-19 11:21:55,068]\u001b[0m Trial 2 finished with value: 0.41541509248458663 and parameters: {'num_leaves': 63, 'max_depth': 100, 'reg_alpha': 79.44861881450832, 'reg_lambda': 23.893601939115154, 'colsample_bytree': 0.4817837412825595, 'cat_smooth': 70.60288006954231, 'subsample': 0.5, 'min_child_samples': 207, 'min_child_weight': 7.714773300003987, 'subsample_freq': 13, 'learning_rate': 0.08084208411341827}. Best is trial 2 with value: 0.41541509248458663.\u001b[0m\n",
      "\u001b[32m[I 2021-10-19 11:49:35,823]\u001b[0m Trial 3 finished with value: 0.44402933721696075 and parameters: {'num_leaves': 489, 'max_depth': 80, 'reg_alpha': 81.32720994434155, 'reg_lambda': 12.6227495700931, 'colsample_bytree': 0.4911704234315209, 'cat_smooth': 63.484342309540345, 'subsample': 0.4, 'min_child_samples': 64, 'min_child_weight': 0.03996977070988105, 'subsample_freq': 2, 'learning_rate': 0.505016124740246}. Best is trial 2 with value: 0.41541509248458663.\u001b[0m\n",
      "\u001b[32m[I 2021-10-19 12:53:33,079]\u001b[0m Trial 4 finished with value: 0.4159713005801753 and parameters: {'num_leaves': 316, 'max_depth': 100, 'reg_alpha': 99.42737550455628, 'reg_lambda': 32.540538279807876, 'colsample_bytree': 0.4824823826509702, 'cat_smooth': 79.00946051759861, 'subsample': 0.7, 'min_child_samples': 179, 'min_child_weight': 0.031128371030752264, 'subsample_freq': 8, 'learning_rate': 0.006700064313051416}. Best is trial 2 with value: 0.41541509248458663.\u001b[0m\n",
      "\u001b[32m[I 2021-10-19 13:21:33,784]\u001b[0m Trial 5 finished with value: 0.5476958632811008 and parameters: {'num_leaves': 479, 'max_depth': 300, 'reg_alpha': 79.16601691121096, 'reg_lambda': 40.93355070965232, 'colsample_bytree': 0.07849490225396974, 'cat_smooth': 24.00037330137682, 'subsample': 0.2, 'min_child_samples': 83, 'min_child_weight': 0.470033598145356, 'subsample_freq': 3, 'learning_rate': 0.15178711859456745}. Best is trial 2 with value: 0.41541509248458663.\u001b[0m\n",
      "\u001b[32m[I 2021-10-19 14:18:08,490]\u001b[0m Trial 6 finished with value: 0.5572650775602941 and parameters: {'num_leaves': 139, 'max_depth': 300, 'reg_alpha': 8.580240290501504, 'reg_lambda': 24.96023697704124, 'colsample_bytree': 0.2051293208515057, 'cat_smooth': 1.6117745772617558, 'subsample': 0.7, 'min_child_samples': 254, 'min_child_weight': 1.0977661138564694, 'subsample_freq': 10, 'learning_rate': 0.00176239390935597}. Best is trial 2 with value: 0.41541509248458663.\u001b[0m\n",
      "\u001b[32m[I 2021-10-19 17:44:14,395]\u001b[0m Trial 7 finished with value: 0.4319761655060966 and parameters: {'num_leaves': 482, 'max_depth': 100, 'reg_alpha': 69.0365061503219, 'reg_lambda': 45.077972999737575, 'colsample_bytree': 0.8121536079028795, 'cat_smooth': 76.1622915270705, 'subsample': 1.0, 'min_child_samples': 109, 'min_child_weight': 0.009679484226294721, 'subsample_freq': 1, 'learning_rate': 0.0015309550953996867}. Best is trial 2 with value: 0.41541509248458663.\u001b[0m\n",
      "\u001b[32m[I 2021-10-19 18:32:58,755]\u001b[0m Trial 8 finished with value: 0.3721863421054521 and parameters: {'num_leaves': 443, 'max_depth': 30, 'reg_alpha': 4.500960181657224, 'reg_lambda': 8.72745010853087, 'colsample_bytree': 0.2937983014325471, 'cat_smooth': 34.77936142899168, 'subsample': 0.5, 'min_child_samples': 245, 'min_child_weight': 0.05120673442343147, 'subsample_freq': 20, 'learning_rate': 0.023737775962419615}. Best is trial 8 with value: 0.3721863421054521.\u001b[0m\n",
      "\u001b[32m[I 2021-10-19 19:13:37,144]\u001b[0m Trial 9 finished with value: 0.56919145975372 and parameters: {'num_leaves': 188, 'max_depth': 50, 'reg_alpha': 89.16239065185145, 'reg_lambda': 8.981886657340128, 'colsample_bytree': 0.17969732432860508, 'cat_smooth': 72.26292657638136, 'subsample': 0.8, 'min_child_samples': 250, 'min_child_weight': 0.005221080239957664, 'subsample_freq': 19, 'learning_rate': 0.0014268815034256875}. Best is trial 8 with value: 0.3721863421054521.\u001b[0m\n",
      "\u001b[32m[I 2021-10-19 20:05:24,563]\u001b[0m Trial 10 finished with value: 0.38353604831288446 and parameters: {'num_leaves': 294, 'max_depth': 30, 'reg_alpha': 34.68210393507405, 'reg_lambda': 85.70604505315225, 'colsample_bytree': 0.6849668500929131, 'cat_smooth': 98.1701253273182, 'subsample': 0.6, 'min_child_samples': 156, 'min_child_weight': 0.0017286719260584738, 'subsample_freq': 14, 'learning_rate': 0.013176248423218241}. Best is trial 8 with value: 0.3721863421054521.\u001b[0m\n",
      "\u001b[32m[I 2021-10-19 21:08:12,162]\u001b[0m Trial 11 finished with value: 0.37858204820692365 and parameters: {'num_leaves': 286, 'max_depth': 30, 'reg_alpha': 33.82594702343279, 'reg_lambda': 81.75285833823354, 'colsample_bytree': 0.6937446630151836, 'cat_smooth': 35.6401528723761, 'subsample': 0.6, 'min_child_samples': 19, 'min_child_weight': 0.0013815319368347813, 'subsample_freq': 14, 'learning_rate': 0.015485544634393606}. Best is trial 8 with value: 0.3721863421054521.\u001b[0m\n",
      "\u001b[32m[I 2021-10-19 22:21:46,458]\u001b[0m Trial 12 finished with value: 0.3994190558206687 and parameters: {'num_leaves': 382, 'max_depth': 30, 'reg_alpha': 34.42277118207546, 'reg_lambda': 85.39700236716536, 'colsample_bytree': 0.3084471603356087, 'cat_smooth': 28.17586079406051, 'subsample': 0.3, 'min_child_samples': 10, 'min_child_weight': 0.0020227262746491635, 'subsample_freq': 20, 'learning_rate': 0.02529533968263681}. Best is trial 8 with value: 0.3721863421054521.\u001b[0m\n",
      "\u001b[32m[I 2021-10-19 23:27:08,235]\u001b[0m Trial 13 finished with value: 0.37085485445399297 and parameters: {'num_leaves': 233, 'max_depth': 200, 'reg_alpha': 31.153273778903415, 'reg_lambda': 64.89503876300283, 'colsample_bytree': 0.6666904512581892, 'cat_smooth': 10.517679531491318, 'subsample': 0.5, 'min_child_samples': 294, 'min_child_weight': 0.011261214108730723, 'subsample_freq': 15, 'learning_rate': 0.06013927663711707}. Best is trial 13 with value: 0.37085485445399297.\u001b[0m\n",
      "\u001b[32m[I 2021-10-20 00:20:50,516]\u001b[0m Trial 14 finished with value: 0.39715235081661393 and parameters: {'num_leaves': 204, 'max_depth': 200, 'reg_alpha': 51.7477038214184, 'reg_lambda': 64.46544541626734, 'colsample_bytree': 0.32906985449451875, 'cat_smooth': 7.105868053756481, 'subsample': 0.5, 'min_child_samples': 300, 'min_child_weight': 0.17891953195988639, 'subsample_freq': 16, 'learning_rate': 0.057594139526155656}. Best is trial 13 with value: 0.37085485445399297.\u001b[0m\n",
      "\u001b[32m[I 2021-10-20 00:50:45,470]\u001b[0m Trial 15 finished with value: 0.39298280441816213 and parameters: {'num_leaves': 69, 'max_depth': 20, 'reg_alpha': 22.673969258888583, 'reg_lambda': 64.1483430017412, 'colsample_bytree': 0.6420095780639847, 'cat_smooth': 17.400781643550864, 'subsample': 0.5, 'min_child_samples': 287, 'min_child_weight': 0.012801601774681877, 'subsample_freq': 11, 'learning_rate': 0.24075438820285006}. Best is trial 13 with value: 0.37085485445399297.\u001b[0m\n",
      "\u001b[32m[I 2021-10-20 01:37:08,074]\u001b[0m Trial 16 finished with value: 0.42043663698332073 and parameters: {'num_leaves': 232, 'max_depth': 200, 'reg_alpha': 0.6025364357105638, 'reg_lambda': 98.35767446129242, 'colsample_bytree': 0.3689492535456685, 'cat_smooth': 52.40342522089112, 'subsample': 0.5, 'min_child_samples': 300, 'min_child_weight': 0.1358002185308921, 'subsample_freq': 7, 'learning_rate': 0.006038345769271207}. Best is trial 13 with value: 0.37085485445399297.\u001b[0m\n"
     ]
    },
    {
     "name": "stderr",
     "output_type": "stream",
     "text": [
      "\u001b[32m[I 2021-10-20 02:28:09,512]\u001b[0m Trial 17 finished with value: 0.383842702093722 and parameters: {'num_leaves': 145, 'max_depth': 200, 'reg_alpha': 52.37048064148203, 'reg_lambda': 61.240592650977966, 'colsample_bytree': 0.986278556965961, 'cat_smooth': 12.854835047608432, 'subsample': 0.5, 'min_child_samples': 217, 'min_child_weight': 0.015249383869502094, 'subsample_freq': 20, 'learning_rate': 0.05561811443639728}. Best is trial 13 with value: 0.37085485445399297.\u001b[0m\n",
      "\u001b[32m[I 2021-10-20 03:10:25,956]\u001b[0m Trial 18 finished with value: 0.38903979657493376 and parameters: {'num_leaves': 387, 'max_depth': -1, 'reg_alpha': 23.373295902350492, 'reg_lambda': 3.218354541330207, 'colsample_bytree': 0.594518819045296, 'cat_smooth': 48.90218345241772, 'subsample': 0.3, 'min_child_samples': 275, 'min_child_weight': 0.005636627323621311, 'subsample_freq': 16, 'learning_rate': 0.14857272748028655}. Best is trial 13 with value: 0.37085485445399297.\u001b[0m\n",
      "\u001b[32m[I 2021-10-20 03:50:12,833]\u001b[0m Trial 19 finished with value: 0.3701852344685757 and parameters: {'num_leaves': 133, 'max_depth': 20, 'reg_alpha': 43.140038125781146, 'reg_lambda': 76.6364519827211, 'colsample_bytree': 0.8081428835761639, 'cat_smooth': 29.631703918145774, 'subsample': 1.0, 'min_child_samples': 214, 'min_child_weight': 0.36280851907527195, 'subsample_freq': 13, 'learning_rate': 0.03356388964089824}. Best is trial 19 with value: 0.3701852344685757.\u001b[0m\n",
      "\u001b[32m[I 2021-10-20 04:14:57,091]\u001b[0m Trial 20 finished with value: 0.38074207158937545 and parameters: {'num_leaves': 116, 'max_depth': 20, 'reg_alpha': 63.15696398640853, 'reg_lambda': 99.71732617080876, 'colsample_bytree': 0.8322445207733065, 'cat_smooth': 19.668210827076734, 'subsample': 1.0, 'min_child_samples': 188, 'min_child_weight': 5.292780669870723, 'subsample_freq': 12, 'learning_rate': 0.3042987447116316}. Best is trial 19 with value: 0.3701852344685757.\u001b[0m\n",
      "\u001b[32m[I 2021-10-20 06:50:51,499]\u001b[0m Trial 21 finished with value: 0.5444560891136109 and parameters: {'num_leaves': 8, 'max_depth': 20, 'reg_alpha': 42.83093615180601, 'reg_lambda': 74.46596172444956, 'colsample_bytree': 0.8515264018221379, 'cat_smooth': 37.036891290211564, 'subsample': 1.0, 'min_child_samples': 225, 'min_child_weight': 0.2958783285749019, 'subsample_freq': 15, 'learning_rate': 0.03134380035427159}. Best is trial 19 with value: 0.3701852344685757.\u001b[0m\n",
      "\u001b[32m[I 2021-10-20 07:40:44,999]\u001b[0m Trial 22 finished with value: 0.3939186266648183 and parameters: {'num_leaves': 186, 'max_depth': 20, 'reg_alpha': 22.998418453975905, 'reg_lambda': 54.889641306008855, 'colsample_bytree': 0.7621929238011653, 'cat_smooth': 29.809875205121497, 'subsample': 0.5, 'min_child_samples': 264, 'min_child_weight': 0.05264319890088544, 'subsample_freq': 8, 'learning_rate': 0.015461989027350244}. Best is trial 19 with value: 0.3701852344685757.\u001b[0m\n",
      "\u001b[32m[I 2021-10-20 08:39:12,890]\u001b[0m Trial 23 finished with value: 0.37936596747679774 and parameters: {'num_leaves': 263, 'max_depth': 50, 'reg_alpha': 43.762687178573046, 'reg_lambda': 74.76500261866934, 'colsample_bytree': 0.5976066494590722, 'cat_smooth': 10.359758856449938, 'subsample': 0.4, 'min_child_samples': 231, 'min_child_weight': 0.8884655763880737, 'subsample_freq': 18, 'learning_rate': 0.08347740691619547}. Best is trial 19 with value: 0.3701852344685757.\u001b[0m\n",
      "\u001b[32m[I 2021-10-20 09:19:32,549]\u001b[0m Trial 24 finished with value: 0.4380604225911108 and parameters: {'num_leaves': 89, 'max_depth': 30, 'reg_alpha': 3.220365104572654, 'reg_lambda': 74.83716880575429, 'colsample_bytree': 0.9290715062685533, 'cat_smooth': 51.85645537951214, 'subsample': 1.0, 'min_child_samples': 185, 'min_child_weight': 2.8815140556774232, 'subsample_freq': 12, 'learning_rate': 0.007306395841779144}. Best is trial 19 with value: 0.3701852344685757.\u001b[0m\n",
      "\u001b[32m[I 2021-10-20 09:38:58,003]\u001b[0m Trial 25 finished with value: 0.5854383125945514 and parameters: {'num_leaves': 6, 'max_depth': 200, 'reg_alpha': 62.01650979487225, 'reg_lambda': 91.26320678968105, 'colsample_bytree': 0.4034735014452048, 'cat_smooth': 3.784505559725833, 'subsample': 0.5, 'min_child_samples': 147, 'min_child_weight': 0.07883300696777694, 'subsample_freq': 6, 'learning_rate': 0.04220418565996731}. Best is trial 19 with value: 0.3701852344685757.\u001b[0m\n",
      "\u001b[32m[I 2021-10-20 10:22:45,064]\u001b[0m Trial 26 finished with value: 0.3897080569645054 and parameters: {'num_leaves': 232, 'max_depth': 200, 'reg_alpha': 17.78318244931764, 'reg_lambda': 69.9168999186817, 'colsample_bytree': 0.2301930142447537, 'cat_smooth': 43.857405359000495, 'subsample': 1.0, 'min_child_samples': 276, 'min_child_weight': 0.021741903607840028, 'subsample_freq': 15, 'learning_rate': 0.021493678418112328}. Best is trial 19 with value: 0.3701852344685757.\u001b[0m\n",
      "\u001b[32m[I 2021-10-20 11:52:59,736]\u001b[0m Trial 27 finished with value: 0.3626020270842226 and parameters: {'num_leaves': 333, 'max_depth': 30, 'reg_alpha': 43.7571801179797, 'reg_lambda': 55.67019289197583, 'colsample_bytree': 0.7400002573301045, 'cat_smooth': 30.245601033599094, 'subsample': 0.5, 'min_child_samples': 203, 'min_child_weight': 0.2477999139806078, 'subsample_freq': 17, 'learning_rate': 0.10108118954470942}. Best is trial 27 with value: 0.3626020270842226.\u001b[0m\n",
      "\u001b[32m[I 2021-10-20 12:28:08,842]\u001b[0m Trial 28 finished with value: 0.4014541655660475 and parameters: {'num_leaves': 307, 'max_depth': 20, 'reg_alpha': 44.19045997759427, 'reg_lambda': 56.31745437303735, 'colsample_bytree': 0.7481477855106778, 'cat_smooth': 19.789088062490855, 'subsample': 0.2, 'min_child_samples': 147, 'min_child_weight': 0.3669387027367165, 'subsample_freq': 17, 'learning_rate': 0.11169840031162757}. Best is trial 27 with value: 0.3626020270842226.\u001b[0m\n",
      "\u001b[32m[I 2021-10-20 13:47:49,580]\u001b[0m Trial 29 finished with value: 0.35729543624726945 and parameters: {'num_leaves': 350, 'max_depth': 80, 'reg_alpha': 29.3502319064728, 'reg_lambda': 52.59572544357152, 'colsample_bytree': 0.9110586946975531, 'cat_smooth': 28.891894921383145, 'subsample': 0.8, 'min_child_samples': 167, 'min_child_weight': 1.6155911502349105, 'subsample_freq': 13, 'learning_rate': 0.2891337533262337}. Best is trial 29 with value: 0.35729543624726945.\u001b[0m\n",
      "\u001b[32m[I 2021-10-20 15:06:10,487]\u001b[0m Trial 30 finished with value: 0.37751479272172245 and parameters: {'num_leaves': 342, 'max_depth': 80, 'reg_alpha': 56.40708600660725, 'reg_lambda': 40.95715158076936, 'colsample_bytree': 0.9159943001022145, 'cat_smooth': 40.46050165527416, 'subsample': 0.8, 'min_child_samples': 167, 'min_child_weight': 1.9579968511340073, 'subsample_freq': 10, 'learning_rate': 0.39529789447952973}. Best is trial 29 with value: 0.35729543624726945.\u001b[0m\n",
      "\u001b[32m[I 2021-10-20 16:42:57,779]\u001b[0m Trial 31 finished with value: 0.3492584335002542 and parameters: {'num_leaves': 345, 'max_depth': 80, 'reg_alpha': 29.92027988122725, 'reg_lambda': 49.887413337670495, 'colsample_bytree': 0.9943295136303703, 'cat_smooth': 27.260180619542407, 'subsample': 0.8, 'min_child_samples': 198, 'min_child_weight': 0.7404571141147365, 'subsample_freq': 13, 'learning_rate': 0.20385011691861146}. Best is trial 31 with value: 0.3492584335002542.\u001b[0m\n"
     ]
    },
    {
     "ename": "KeyboardInterrupt",
     "evalue": "",
     "output_type": "error",
     "traceback": [
      "\u001b[1;31m---------------------------------------------------------------------------\u001b[0m",
      "\u001b[1;31mKeyboardInterrupt\u001b[0m                         Traceback (most recent call last)",
      "\u001b[1;32m<ipython-input-20-77d8e94a3011>\u001b[0m in \u001b[0;36m<module>\u001b[1;34m\u001b[0m\n\u001b[0;32m     43\u001b[0m \u001b[1;33m\u001b[0m\u001b[0m\n\u001b[0;32m     44\u001b[0m \u001b[0mstudy\u001b[0m \u001b[1;33m=\u001b[0m \u001b[0moptuna\u001b[0m\u001b[1;33m.\u001b[0m\u001b[0mcreate_study\u001b[0m\u001b[1;33m(\u001b[0m\u001b[1;33m)\u001b[0m\u001b[1;33m\u001b[0m\u001b[1;33m\u001b[0m\u001b[0m\n\u001b[1;32m---> 45\u001b[1;33m \u001b[0mstudy\u001b[0m\u001b[1;33m.\u001b[0m\u001b[0moptimize\u001b[0m\u001b[1;33m(\u001b[0m\u001b[0mobjective\u001b[0m\u001b[1;33m,\u001b[0m \u001b[0mn_trials\u001b[0m\u001b[1;33m=\u001b[0m\u001b[1;36m100\u001b[0m\u001b[1;33m)\u001b[0m\u001b[1;33m\u001b[0m\u001b[1;33m\u001b[0m\u001b[0m\n\u001b[0m\u001b[0;32m     46\u001b[0m \u001b[0mprint\u001b[0m\u001b[1;33m(\u001b[0m\u001b[1;34m'Best trial:'\u001b[0m\u001b[1;33m,\u001b[0m \u001b[0mstudy\u001b[0m\u001b[1;33m.\u001b[0m\u001b[0mbest_params\u001b[0m\u001b[1;33m)\u001b[0m\u001b[1;33m\u001b[0m\u001b[1;33m\u001b[0m\u001b[0m\n",
      "\u001b[1;32m~\\anaconda3\\lib\\site-packages\\optuna\\study.py\u001b[0m in \u001b[0;36moptimize\u001b[1;34m(self, func, n_trials, timeout, n_jobs, catch, callbacks, gc_after_trial, show_progress_bar)\u001b[0m\n\u001b[0;32m    374\u001b[0m                 \u001b[0mIf\u001b[0m \u001b[0mnested\u001b[0m \u001b[0minvocation\u001b[0m \u001b[0mof\u001b[0m \u001b[0mthis\u001b[0m \u001b[0mmethod\u001b[0m \u001b[0moccurs\u001b[0m\u001b[1;33m.\u001b[0m\u001b[1;33m\u001b[0m\u001b[1;33m\u001b[0m\u001b[0m\n\u001b[0;32m    375\u001b[0m         \"\"\"\n\u001b[1;32m--> 376\u001b[1;33m         _optimize(\n\u001b[0m\u001b[0;32m    377\u001b[0m             \u001b[0mstudy\u001b[0m\u001b[1;33m=\u001b[0m\u001b[0mself\u001b[0m\u001b[1;33m,\u001b[0m\u001b[1;33m\u001b[0m\u001b[1;33m\u001b[0m\u001b[0m\n\u001b[0;32m    378\u001b[0m             \u001b[0mfunc\u001b[0m\u001b[1;33m=\u001b[0m\u001b[0mfunc\u001b[0m\u001b[1;33m,\u001b[0m\u001b[1;33m\u001b[0m\u001b[1;33m\u001b[0m\u001b[0m\n",
      "\u001b[1;32m~\\anaconda3\\lib\\site-packages\\optuna\\_optimize.py\u001b[0m in \u001b[0;36m_optimize\u001b[1;34m(study, func, n_trials, timeout, n_jobs, catch, callbacks, gc_after_trial, show_progress_bar)\u001b[0m\n\u001b[0;32m     61\u001b[0m     \u001b[1;32mtry\u001b[0m\u001b[1;33m:\u001b[0m\u001b[1;33m\u001b[0m\u001b[1;33m\u001b[0m\u001b[0m\n\u001b[0;32m     62\u001b[0m         \u001b[1;32mif\u001b[0m \u001b[0mn_jobs\u001b[0m \u001b[1;33m==\u001b[0m \u001b[1;36m1\u001b[0m\u001b[1;33m:\u001b[0m\u001b[1;33m\u001b[0m\u001b[1;33m\u001b[0m\u001b[0m\n\u001b[1;32m---> 63\u001b[1;33m             _optimize_sequential(\n\u001b[0m\u001b[0;32m     64\u001b[0m                 \u001b[0mstudy\u001b[0m\u001b[1;33m,\u001b[0m\u001b[1;33m\u001b[0m\u001b[1;33m\u001b[0m\u001b[0m\n\u001b[0;32m     65\u001b[0m                 \u001b[0mfunc\u001b[0m\u001b[1;33m,\u001b[0m\u001b[1;33m\u001b[0m\u001b[1;33m\u001b[0m\u001b[0m\n",
      "\u001b[1;32m~\\anaconda3\\lib\\site-packages\\optuna\\_optimize.py\u001b[0m in \u001b[0;36m_optimize_sequential\u001b[1;34m(study, func, n_trials, timeout, catch, callbacks, gc_after_trial, reseed_sampler_rng, time_start, progress_bar)\u001b[0m\n\u001b[0;32m    162\u001b[0m \u001b[1;33m\u001b[0m\u001b[0m\n\u001b[0;32m    163\u001b[0m         \u001b[1;32mtry\u001b[0m\u001b[1;33m:\u001b[0m\u001b[1;33m\u001b[0m\u001b[1;33m\u001b[0m\u001b[0m\n\u001b[1;32m--> 164\u001b[1;33m             \u001b[0mtrial\u001b[0m \u001b[1;33m=\u001b[0m \u001b[0m_run_trial\u001b[0m\u001b[1;33m(\u001b[0m\u001b[0mstudy\u001b[0m\u001b[1;33m,\u001b[0m \u001b[0mfunc\u001b[0m\u001b[1;33m,\u001b[0m \u001b[0mcatch\u001b[0m\u001b[1;33m)\u001b[0m\u001b[1;33m\u001b[0m\u001b[1;33m\u001b[0m\u001b[0m\n\u001b[0m\u001b[0;32m    165\u001b[0m         \u001b[1;32mexcept\u001b[0m \u001b[0mException\u001b[0m\u001b[1;33m:\u001b[0m\u001b[1;33m\u001b[0m\u001b[1;33m\u001b[0m\u001b[0m\n\u001b[0;32m    166\u001b[0m             \u001b[1;32mraise\u001b[0m\u001b[1;33m\u001b[0m\u001b[1;33m\u001b[0m\u001b[0m\n",
      "\u001b[1;32m~\\anaconda3\\lib\\site-packages\\optuna\\_optimize.py\u001b[0m in \u001b[0;36m_run_trial\u001b[1;34m(study, func, catch)\u001b[0m\n\u001b[0;32m    209\u001b[0m \u001b[1;33m\u001b[0m\u001b[0m\n\u001b[0;32m    210\u001b[0m     \u001b[1;32mtry\u001b[0m\u001b[1;33m:\u001b[0m\u001b[1;33m\u001b[0m\u001b[1;33m\u001b[0m\u001b[0m\n\u001b[1;32m--> 211\u001b[1;33m         \u001b[0mvalue_or_values\u001b[0m \u001b[1;33m=\u001b[0m \u001b[0mfunc\u001b[0m\u001b[1;33m(\u001b[0m\u001b[0mtrial\u001b[0m\u001b[1;33m)\u001b[0m\u001b[1;33m\u001b[0m\u001b[1;33m\u001b[0m\u001b[0m\n\u001b[0m\u001b[0;32m    212\u001b[0m     \u001b[1;32mexcept\u001b[0m \u001b[0mexceptions\u001b[0m\u001b[1;33m.\u001b[0m\u001b[0mTrialPruned\u001b[0m \u001b[1;32mas\u001b[0m \u001b[0me\u001b[0m\u001b[1;33m:\u001b[0m\u001b[1;33m\u001b[0m\u001b[1;33m\u001b[0m\u001b[0m\n\u001b[0;32m    213\u001b[0m         \u001b[1;31m# TODO(mamu): Handle multi-objective cases.\u001b[0m\u001b[1;33m\u001b[0m\u001b[1;33m\u001b[0m\u001b[1;33m\u001b[0m\u001b[0m\n",
      "\u001b[1;32m<ipython-input-20-77d8e94a3011>\u001b[0m in \u001b[0;36mobjective\u001b[1;34m(trial, data, target)\u001b[0m\n\u001b[0;32m     35\u001b[0m \u001b[1;33m\u001b[0m\u001b[0m\n\u001b[0;32m     36\u001b[0m     \u001b[0mmodel\u001b[0m \u001b[1;33m=\u001b[0m \u001b[0mlgb\u001b[0m\u001b[1;33m.\u001b[0m\u001b[0mLGBMRegressor\u001b[0m\u001b[1;33m(\u001b[0m\u001b[1;33m**\u001b[0m\u001b[0mparam\u001b[0m\u001b[1;33m)\u001b[0m\u001b[1;33m\u001b[0m\u001b[1;33m\u001b[0m\u001b[0m\n\u001b[1;32m---> 37\u001b[1;33m     \u001b[0mmodel\u001b[0m\u001b[1;33m.\u001b[0m\u001b[0mfit\u001b[0m\u001b[1;33m(\u001b[0m\u001b[0mtrain_x\u001b[0m\u001b[1;33m,\u001b[0m\u001b[0mtrain_y\u001b[0m\u001b[1;33m,\u001b[0m\u001b[0meval_set\u001b[0m\u001b[1;33m=\u001b[0m\u001b[1;33m[\u001b[0m\u001b[1;33m(\u001b[0m\u001b[0mtest_x\u001b[0m\u001b[1;33m,\u001b[0m\u001b[0mtest_y\u001b[0m\u001b[1;33m)\u001b[0m\u001b[1;33m]\u001b[0m\u001b[1;33m,\u001b[0m\u001b[0mearly_stopping_rounds\u001b[0m\u001b[1;33m=\u001b[0m\u001b[1;36m50\u001b[0m\u001b[1;33m,\u001b[0m\u001b[0mverbose\u001b[0m\u001b[1;33m=\u001b[0m\u001b[1;32mFalse\u001b[0m\u001b[1;33m)\u001b[0m\u001b[1;33m\u001b[0m\u001b[1;33m\u001b[0m\u001b[0m\n\u001b[0m\u001b[0;32m     38\u001b[0m \u001b[1;33m\u001b[0m\u001b[0m\n\u001b[0;32m     39\u001b[0m     \u001b[0mpreds\u001b[0m \u001b[1;33m=\u001b[0m \u001b[0mmodel\u001b[0m\u001b[1;33m.\u001b[0m\u001b[0mpredict\u001b[0m\u001b[1;33m(\u001b[0m\u001b[0mtest_x\u001b[0m\u001b[1;33m)\u001b[0m\u001b[1;33m\u001b[0m\u001b[1;33m\u001b[0m\u001b[0m\n",
      "\u001b[1;32m~\\anaconda3\\lib\\site-packages\\lightgbm\\sklearn.py\u001b[0m in \u001b[0;36mfit\u001b[1;34m(self, X, y, sample_weight, init_score, eval_set, eval_names, eval_sample_weight, eval_init_score, eval_metric, early_stopping_rounds, verbose, feature_name, categorical_feature, callbacks, init_model)\u001b[0m\n\u001b[0;32m    893\u001b[0m             callbacks=None, init_model=None):\n\u001b[0;32m    894\u001b[0m         \u001b[1;34m\"\"\"Docstring is inherited from the LGBMModel.\"\"\"\u001b[0m\u001b[1;33m\u001b[0m\u001b[1;33m\u001b[0m\u001b[0m\n\u001b[1;32m--> 895\u001b[1;33m         super().fit(X, y, sample_weight=sample_weight, init_score=init_score,\n\u001b[0m\u001b[0;32m    896\u001b[0m                     \u001b[0meval_set\u001b[0m\u001b[1;33m=\u001b[0m\u001b[0meval_set\u001b[0m\u001b[1;33m,\u001b[0m \u001b[0meval_names\u001b[0m\u001b[1;33m=\u001b[0m\u001b[0meval_names\u001b[0m\u001b[1;33m,\u001b[0m \u001b[0meval_sample_weight\u001b[0m\u001b[1;33m=\u001b[0m\u001b[0meval_sample_weight\u001b[0m\u001b[1;33m,\u001b[0m\u001b[1;33m\u001b[0m\u001b[1;33m\u001b[0m\u001b[0m\n\u001b[0;32m    897\u001b[0m                     \u001b[0meval_init_score\u001b[0m\u001b[1;33m=\u001b[0m\u001b[0meval_init_score\u001b[0m\u001b[1;33m,\u001b[0m \u001b[0meval_metric\u001b[0m\u001b[1;33m=\u001b[0m\u001b[0meval_metric\u001b[0m\u001b[1;33m,\u001b[0m\u001b[1;33m\u001b[0m\u001b[1;33m\u001b[0m\u001b[0m\n",
      "\u001b[1;32m~\\anaconda3\\lib\\site-packages\\lightgbm\\sklearn.py\u001b[0m in \u001b[0;36mfit\u001b[1;34m(self, X, y, sample_weight, init_score, group, eval_set, eval_names, eval_sample_weight, eval_class_weight, eval_init_score, eval_group, eval_metric, early_stopping_rounds, verbose, feature_name, categorical_feature, callbacks, init_model)\u001b[0m\n\u001b[0;32m    746\u001b[0m         \u001b[0mcallbacks\u001b[0m\u001b[1;33m.\u001b[0m\u001b[0mappend\u001b[0m\u001b[1;33m(\u001b[0m\u001b[0mrecord_evaluation\u001b[0m\u001b[1;33m(\u001b[0m\u001b[0mevals_result\u001b[0m\u001b[1;33m)\u001b[0m\u001b[1;33m)\u001b[0m\u001b[1;33m\u001b[0m\u001b[1;33m\u001b[0m\u001b[0m\n\u001b[0;32m    747\u001b[0m \u001b[1;33m\u001b[0m\u001b[0m\n\u001b[1;32m--> 748\u001b[1;33m         self._Booster = train(\n\u001b[0m\u001b[0;32m    749\u001b[0m             \u001b[0mparams\u001b[0m\u001b[1;33m=\u001b[0m\u001b[0mparams\u001b[0m\u001b[1;33m,\u001b[0m\u001b[1;33m\u001b[0m\u001b[1;33m\u001b[0m\u001b[0m\n\u001b[0;32m    750\u001b[0m             \u001b[0mtrain_set\u001b[0m\u001b[1;33m=\u001b[0m\u001b[0mtrain_set\u001b[0m\u001b[1;33m,\u001b[0m\u001b[1;33m\u001b[0m\u001b[1;33m\u001b[0m\u001b[0m\n",
      "\u001b[1;32m~\\anaconda3\\lib\\site-packages\\lightgbm\\engine.py\u001b[0m in \u001b[0;36mtrain\u001b[1;34m(params, train_set, num_boost_round, valid_sets, valid_names, fobj, feval, init_model, feature_name, categorical_feature, early_stopping_rounds, evals_result, verbose_eval, learning_rates, keep_training_booster, callbacks)\u001b[0m\n\u001b[0;32m    291\u001b[0m                                     evaluation_result_list=None))\n\u001b[0;32m    292\u001b[0m \u001b[1;33m\u001b[0m\u001b[0m\n\u001b[1;32m--> 293\u001b[1;33m         \u001b[0mbooster\u001b[0m\u001b[1;33m.\u001b[0m\u001b[0mupdate\u001b[0m\u001b[1;33m(\u001b[0m\u001b[0mfobj\u001b[0m\u001b[1;33m=\u001b[0m\u001b[0mfobj\u001b[0m\u001b[1;33m)\u001b[0m\u001b[1;33m\u001b[0m\u001b[1;33m\u001b[0m\u001b[0m\n\u001b[0m\u001b[0;32m    294\u001b[0m \u001b[1;33m\u001b[0m\u001b[0m\n\u001b[0;32m    295\u001b[0m         \u001b[0mevaluation_result_list\u001b[0m \u001b[1;33m=\u001b[0m \u001b[1;33m[\u001b[0m\u001b[1;33m]\u001b[0m\u001b[1;33m\u001b[0m\u001b[1;33m\u001b[0m\u001b[0m\n",
      "\u001b[1;32m~\\anaconda3\\lib\\site-packages\\lightgbm\\basic.py\u001b[0m in \u001b[0;36mupdate\u001b[1;34m(self, train_set, fobj)\u001b[0m\n\u001b[0;32m   3019\u001b[0m             \u001b[1;32mif\u001b[0m \u001b[0mself\u001b[0m\u001b[1;33m.\u001b[0m\u001b[0m__set_objective_to_none\u001b[0m\u001b[1;33m:\u001b[0m\u001b[1;33m\u001b[0m\u001b[1;33m\u001b[0m\u001b[0m\n\u001b[0;32m   3020\u001b[0m                 \u001b[1;32mraise\u001b[0m \u001b[0mLightGBMError\u001b[0m\u001b[1;33m(\u001b[0m\u001b[1;34m'Cannot update due to null objective function.'\u001b[0m\u001b[1;33m)\u001b[0m\u001b[1;33m\u001b[0m\u001b[1;33m\u001b[0m\u001b[0m\n\u001b[1;32m-> 3021\u001b[1;33m             _safe_call(_LIB.LGBM_BoosterUpdateOneIter(\n\u001b[0m\u001b[0;32m   3022\u001b[0m                 \u001b[0mself\u001b[0m\u001b[1;33m.\u001b[0m\u001b[0mhandle\u001b[0m\u001b[1;33m,\u001b[0m\u001b[1;33m\u001b[0m\u001b[1;33m\u001b[0m\u001b[0m\n\u001b[0;32m   3023\u001b[0m                 ctypes.byref(is_finished)))\n",
      "\u001b[1;31mKeyboardInterrupt\u001b[0m: "
     ]
    }
   ],
   "source": [
    "import lightgbm as lgb\n",
    "import optuna\n",
    "from sklearn.model_selection import train_test_split\n",
    "from sklearn.metrics import mean_absolute_error\n",
    "import warnings\n",
    "warnings.filterwarnings(\"ignore\")\n",
    "\n",
    "lr = 0.2\n",
    "p_m = 0\n",
    "new_y = 0\n",
    "my_y = 0\n",
    "\n",
    "\n",
    "def objective(trial, data=test, target=pseudo_l):\n",
    "\n",
    "    train_x, test_x, train_y, test_y = train_test_split(data, target, test_size=0.3, shuffle = False, random_state=2021)\n",
    "    param = {\n",
    "        'n_estimators': 20000,\n",
    "        'num_leaves': trial.suggest_int('num_leaves', 2, 500),\n",
    "        'max_depth': trial.suggest_categorical('max_depth', [-1,20, 30,50,80, 100,200, 300]),\n",
    "        'reg_alpha': trial.suggest_float('reg_alpha', 1E-5, 100),\n",
    "        'reg_lambda': trial.suggest_float('reg_lambda', 1E-5, 100),\n",
    "        'colsample_bytree': trial.suggest_float('colsample_bytree', 1E-3, 1.0),\n",
    "        #'subsample': trial.suggest_float('subsample ', 1E-16, 1.0),\n",
    "        'cat_smooth': trial.suggest_float('cat_smooth', 1.0, 100),  \n",
    "        'subsample': trial.suggest_categorical('subsample', [0.2,0.3,0.4,0.5,0.6,0.7,0.8,1.0]),\n",
    "        'min_child_samples': trial.suggest_int('min_child_samples', 1, 300),\n",
    "        'min_child_weight': trial.suggest_loguniform('min_child_weight', 1E-3, 10),\n",
    "        'subsample_freq': trial.suggest_int('subsample_freq', 0, 20),\n",
    "        'metric': 'mae', \n",
    "        'random_state': 2021,\n",
    "        'learning_rate': trial.suggest_loguniform('learning_rate', 1E-3, 1.0) \n",
    "        \n",
    "    }\n",
    "\n",
    "    model = lgb.LGBMRegressor(**param)  \n",
    "    model.fit(train_x,train_y,eval_set=[(test_x,test_y)],early_stopping_rounds=50,verbose=False)\n",
    "\n",
    "    preds = model.predict(test_x)    \n",
    "    mae = mean_absolute_error(test_y, preds)\n",
    "    \n",
    "    return mae\n",
    "\n",
    "study = optuna.create_study()\n",
    "study.optimize(objective, n_trials=100)\n",
    "print('Best trial:', study.best_params)"
   ]
  },
  {
   "cell_type": "code",
   "execution_count": null,
   "id": "86ab0b23",
   "metadata": {},
   "outputs": [],
   "source": [
    "train_1 = pd.read_csv('train.csv')\n",
    "all_pressure = np.sort(train_1.pressure.unique())\n",
    "print('The first 25 unique pressures...')\n",
    "PRESSURE_MIN = all_pressure[0].item()\n",
    "PRESSURE_MAX = all_pressure[-1].item()\n",
    "all_pressure[:25]"
   ]
  },
  {
   "cell_type": "code",
   "execution_count": null,
   "id": "8c63fad5",
   "metadata": {},
   "outputs": [],
   "source": []
  },
  {
   "cell_type": "code",
   "execution_count": null,
   "id": "b45f5db5",
   "metadata": {},
   "outputs": [],
   "source": []
  },
  {
   "cell_type": "code",
   "execution_count": null,
   "id": "16af89a5",
   "metadata": {},
   "outputs": [],
   "source": []
  },
  {
   "cell_type": "code",
   "execution_count": null,
   "id": "cf5b7ae7",
   "metadata": {},
   "outputs": [],
   "source": []
  },
  {
   "cell_type": "code",
   "execution_count": null,
   "id": "2a15d790",
   "metadata": {},
   "outputs": [],
   "source": []
  },
  {
   "cell_type": "code",
   "execution_count": null,
   "id": "af48e005",
   "metadata": {},
   "outputs": [],
   "source": []
  },
  {
   "cell_type": "code",
   "execution_count": null,
   "id": "de7b249a",
   "metadata": {},
   "outputs": [],
   "source": []
  },
  {
   "cell_type": "code",
   "execution_count": null,
   "id": "73711a2d",
   "metadata": {},
   "outputs": [],
   "source": []
  },
  {
   "cell_type": "code",
   "execution_count": null,
   "id": "1e046712",
   "metadata": {},
   "outputs": [],
   "source": []
  }
 ],
 "metadata": {
  "kernelspec": {
   "display_name": "Python 3",
   "language": "python",
   "name": "python3"
  },
  "language_info": {
   "codemirror_mode": {
    "name": "ipython",
    "version": 3
   },
   "file_extension": ".py",
   "mimetype": "text/x-python",
   "name": "python",
   "nbconvert_exporter": "python",
   "pygments_lexer": "ipython3",
   "version": "3.8.5"
  }
 },
 "nbformat": 4,
 "nbformat_minor": 5
}
