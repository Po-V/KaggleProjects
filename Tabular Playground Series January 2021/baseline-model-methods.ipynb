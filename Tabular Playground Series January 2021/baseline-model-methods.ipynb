{
 "cells": [
  {
   "cell_type": "code",
   "execution_count": null,
   "metadata": {
    "_cell_guid": "b1076dfc-b9ad-4769-8c92-a6c4dae69d19",
    "_uuid": "8f2839f25d086af736a60e9eeb907d3b93b6e0e5"
   },
   "outputs": [],
   "source": [
    "# This Python 3 environment comes with many helpful analytics libraries installed\n",
    "# It is defined by the kaggle/python Docker image: https://github.com/kaggle/docker-python\n",
    "# For example, here's several helpful packages to load\n",
    "\n",
    "import numpy as np # linear algebra\n",
    "import pandas as pd # data processing, CSV file I/O (e.g. pd.read_csv)\n",
    "\n",
    "# Input data files are available in the read-only \"../input/\" directory\n",
    "# For example, running this (by clicking run or pressing Shift+Enter) will list all files under the input directory\n",
    "\n",
    "import os\n",
    "for dirname, _, filenames in os.walk('/kaggle/input'):\n",
    "    for filename in filenames:\n",
    "        print(os.path.join(dirname, filename))\n",
    "\n",
    "# You can write up to 20GB to the current directory (/kaggle/working/) that gets preserved as output when you create a version using \"Save & Run All\" \n",
    "# You can also write temporary files to /kaggle/temp/, but they won't be saved outside of the current session"
   ]
  },
  {
   "cell_type": "markdown",
   "metadata": {},
   "source": [
    "Rapids is an open-source GPU accelerated Data Sceince and Machine Learning library, developed and mainatained by Nvidia. It is designed to be compatible with many existing CPU tools, such as Pandas, scikit-learn, numpy, etc. It enables massive acceleration of many data-science and machine learning tasks, oftentimes by a factor fo 100X, or even more"
   ]
  },
  {
   "cell_type": "code",
   "execution_count": null,
   "metadata": {},
   "outputs": [],
   "source": [
    "from sklearn.linear_model import Ridge\n",
    "from sklearn.neighbors import KNeighborsRegressor\n",
    "from sklearn.svm import SVR\n",
    "from sklearn.ensemble import RandomForestRegressor\n",
    "from sklearn.model_selection import GroupKFold, KFold\n",
    "from sklearn.metrics import mean_squared_error\n",
    "from tqdm.notebook import tqdm"
   ]
  },
  {
   "cell_type": "code",
   "execution_count": null,
   "metadata": {},
   "outputs": [],
   "source": [
    "train = pd.read_csv(\"/kaggle/input/tabular-playground-series-jan-2021/train.csv\")\n",
    "test = pd.read_csv(\"/kaggle/input/tabular-playground-series-jan-2021/test.csv\")\n",
    "sample_submission = pd.read_csv('../input/tabular-playground-series-jan-2021/sample_submission.csv')"
   ]
  },
  {
   "cell_type": "code",
   "execution_count": null,
   "metadata": {},
   "outputs": [],
   "source": [
    "target = train['target'].values\n",
    "columns = test.columns[1:]"
   ]
  },
  {
   "cell_type": "code",
   "execution_count": null,
   "metadata": {},
   "outputs": [],
   "source": [
    "rr_train_oof = np.zeros(300000,)\n",
    "rr_test_preds = 0\n",
    "rr_train_oof.shape"
   ]
  },
  {
   "cell_type": "code",
   "execution_count": null,
   "metadata": {},
   "outputs": [],
   "source": [
    "NUM_FOLDS = 5\n",
    "\n",
    "kf = KFold(n_splits = NUM_FOLDS, shuffle = True, random_state = 2021)\n",
    "\n",
    "for f, (train_idx, val_idx) in tqdm(enumerate(kf.split(train, target))) :\n",
    "    \n",
    "    train_x, val_x = train.iloc[train_idx][columns], train.iloc[val_idx][columns]\n",
    "    train_y, val_y = target[train_idx], target[val_idx]\n",
    "    \n",
    "    model = Ridge(alpha = 0.01)\n",
    "    model.fit(train_x, train_y)\n",
    "    temp_oof = model.predict(val_x)\n",
    "    temp_test = model.predict(test[columns])\n",
    "    \n",
    "    rr_train_oof[val_idx] = temp_oof\n",
    "    rr_test_preds += temp_test / NUM_FOLDS\n"
   ]
  },
  {
   "cell_type": "code",
   "execution_count": null,
   "metadata": {},
   "outputs": [],
   "source": [
    "mean_squared_error(rr_train_oof, target, squared = False)"
   ]
  },
  {
   "cell_type": "code",
   "execution_count": null,
   "metadata": {},
   "outputs": [],
   "source": [
    "rf_train_oof = np.zeros(3000000,)\n",
    "rf_test_preds = 0\n",
    "rf_train_oof.shape"
   ]
  },
  {
   "cell_type": "code",
   "execution_count": null,
   "metadata": {},
   "outputs": [],
   "source": [
    "NUM_FOLDS = 5\n",
    "\n",
    "kf = KFold(n_splits = NUM_FOLDS, shuffle = True, random_state = 2021)\n",
    "\n",
    "for f, (train_idx, val_idx) in tqdm(enumerate(kf.split(train, target))) :\n",
    "    train_x, val_x = train.iloc[train_idx][columns], train.iloc[val_idx][columns]\n",
    "    train_y, val_y = target[train_idx], target[val_idx]\n",
    "    \n",
    "    model = RandomForestRegressor(n_estimators = 500, max_depth = 15)\n",
    "    model.fit(train_x, train_y)\n",
    "    temp_oof = model.predict(val_x)\n",
    "    \n",
    "    temp_test = model.predict(test[columns])\n",
    "    rf_train_oof[val_idx] = temp_oof\n",
    "    test_preds += temp_test /NUM_FOLDS"
   ]
  },
  {
   "cell_type": "code",
   "execution_count": null,
   "metadata": {},
   "outputs": [],
   "source": [
    "mean_squared_error(rf_train_oof, target, squared = False)"
   ]
  },
  {
   "cell_type": "code",
   "execution_count": null,
   "metadata": {},
   "outputs": [],
   "source": [
    "mean_squared_error(0.9*rf_train_oof + 0.1*rr_train_oof, target, squared = False)"
   ]
  },
  {
   "cell_type": "code",
   "execution_count": null,
   "metadata": {},
   "outputs": [],
   "source": [
    "knn_train_oof = np.zeros(3000000,)\n",
    "knn_test_preds = 0\n",
    "knn_train_oof.shape"
   ]
  },
  {
   "cell_type": "code",
   "execution_count": null,
   "metadata": {},
   "outputs": [],
   "source": [
    "NUM_FOLDS = 5\n",
    "\n",
    "kf = KFold(n_splits = NUM_FOLDS, shuffle = True, random_state = 2021)\n",
    "\n",
    "for f, (train_idx, val_idx) in tqdm(enumerate(kf.split(train, target))) :\n",
    "    train_x, val_x = train.iloc[train_idx][columns], train.iloc[val_idx][columns]\n",
    "    train_y, val_y = target[train_idx], target[val_idx]\n",
    "    \n",
    "    model = KNeighborsRegressor(n_neighbors = 150)\n",
    "    model.fit(train_x, train_y)\n",
    "    temp_oof = model.predict(val_x)\n",
    "    \n",
    "    temp_test = model.predict(test[columns])\n",
    "    knn_train_oof[val_idx] = temp_oof\n",
    "    knn_test_preds += temp_test /NUM_FOLDS"
   ]
  },
  {
   "cell_type": "code",
   "execution_count": null,
   "metadata": {},
   "outputs": [],
   "source": [
    "mean_squared_error(knn_train_oof, target, squared = False)"
   ]
  },
  {
   "cell_type": "code",
   "execution_count": null,
   "metadata": {},
   "outputs": [],
   "source": [
    "mean_squared_error(0.5*rf_train_oof+0.5*knn_train_oof, target, squared=False)"
   ]
  },
  {
   "cell_type": "code",
   "execution_count": null,
   "metadata": {},
   "outputs": [],
   "source": [
    "svr_train_oof = np.zeros(3000000,)\n",
    "svr_test_preds = 0\n",
    "svr_train_oof.shape"
   ]
  },
  {
   "cell_type": "code",
   "execution_count": null,
   "metadata": {},
   "outputs": [],
   "source": [
    "NUM_FOLDS = 5\n",
    "\n",
    "kf = KFold(n_splits = NUM_FOLDS, shuffle = True, random_state = 2021)\n",
    "\n",
    "for f, (train_idx, val_idx) in tqdm(enumerate(kf.split(train, target))) :\n",
    "    train_x, val_x = train.iloc[train_idx][columns], train.iloc[val_idx][columns]\n",
    "    train_y, val_y = target[train_idx], target[val_idx]\n",
    "    \n",
    "    model = SVR(C = 0.1)\n",
    "    model.fit(train_x, train_y)\n",
    "    temp_oof = model.predict(val_x)\n",
    "    \n",
    "    temp_test = model.predict(test[columns])\n",
    "    svr_train_oof[val_idx] = temp_oof\n",
    "    svr_test_preds += temp_test /NUM_FOLDS"
   ]
  },
  {
   "cell_type": "code",
   "execution_count": null,
   "metadata": {},
   "outputs": [],
   "source": [
    "mean_squared_error(svr_train_oof, target, squared = False)"
   ]
  },
  {
   "cell_type": "code",
   "execution_count": null,
   "metadata": {},
   "outputs": [],
   "source": [
    "mean_squared_error(0.35*rf_train_oof + 0.34*knn_train_oof+0.31*svr_train_oof, target, squared = False)"
   ]
  },
  {
   "cell_type": "code",
   "execution_count": null,
   "metadata": {},
   "outputs": [],
   "source": [
    "sample_submission['target'] = 0.35*rf_test_preds+0.34*knn_test_preds+0.31*svr_test_preds\n",
    "sample_submission.to_csv('submission.csv', index=False)"
   ]
  },
  {
   "cell_type": "code",
   "execution_count": null,
   "metadata": {},
   "outputs": [],
   "source": []
  }
 ],
 "metadata": {
  "kernelspec": {
   "display_name": "Python 3",
   "language": "python",
   "name": "python3"
  },
  "language_info": {
   "codemirror_mode": {
    "name": "ipython",
    "version": 3
   },
   "file_extension": ".py",
   "mimetype": "text/x-python",
   "name": "python",
   "nbconvert_exporter": "python",
   "pygments_lexer": "ipython3",
   "version": "3.8.5"
  }
 },
 "nbformat": 4,
 "nbformat_minor": 4
}
