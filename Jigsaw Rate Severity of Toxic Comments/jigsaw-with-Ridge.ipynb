{
 "cells": [
  {
   "cell_type": "code",
   "execution_count": 1,
   "id": "a9d0fb36",
   "metadata": {
    "execution": {
     "iopub.execute_input": "2021-12-25T07:04:37.629296Z",
     "iopub.status.busy": "2021-12-25T07:04:37.628098Z",
     "iopub.status.idle": "2021-12-25T07:04:38.909131Z",
     "shell.execute_reply": "2021-12-25T07:04:38.909668Z",
     "shell.execute_reply.started": "2021-12-25T06:39:41.473865Z"
    },
    "papermill": {
     "duration": 1.310534,
     "end_time": "2021-12-25T07:04:38.909972",
     "exception": false,
     "start_time": "2021-12-25T07:04:37.599438",
     "status": "completed"
    },
    "tags": []
   },
   "outputs": [],
   "source": [
    "import numpy as np\n",
    "import pandas as pd\n",
    "from bs4 import BeautifulSoup\n",
    "from collections import defaultdict\n",
    "from sklearn.feature_extraction.text import TfidfVectorizer, CountVectorizer\n",
    "import re "
   ]
  },
  {
   "cell_type": "code",
   "execution_count": 2,
   "id": "8f017ad5",
   "metadata": {
    "execution": {
     "iopub.execute_input": "2021-12-25T07:04:38.961759Z",
     "iopub.status.busy": "2021-12-25T07:04:38.960773Z",
     "iopub.status.idle": "2021-12-25T07:04:39.085581Z",
     "shell.execute_reply": "2021-12-25T07:04:39.086085Z",
     "shell.execute_reply.started": "2021-12-25T06:39:42.686623Z"
    },
    "papermill": {
     "duration": 0.152379,
     "end_time": "2021-12-25T07:04:39.086431",
     "exception": false,
     "start_time": "2021-12-25T07:04:38.934052",
     "status": "completed"
    },
    "tags": []
   },
   "outputs": [
    {
     "data": {
      "text/html": [
       "<div>\n",
       "<style scoped>\n",
       "    .dataframe tbody tr th:only-of-type {\n",
       "        vertical-align: middle;\n",
       "    }\n",
       "\n",
       "    .dataframe tbody tr th {\n",
       "        vertical-align: top;\n",
       "    }\n",
       "\n",
       "    .dataframe thead th {\n",
       "        text-align: right;\n",
       "    }\n",
       "</style>\n",
       "<table border=\"1\" class=\"dataframe\">\n",
       "  <thead>\n",
       "    <tr style=\"text-align: right;\">\n",
       "      <th></th>\n",
       "      <th>comment_id</th>\n",
       "      <th>text</th>\n",
       "    </tr>\n",
       "  </thead>\n",
       "  <tbody>\n",
       "    <tr>\n",
       "      <th>0</th>\n",
       "      <td>114890</td>\n",
       "      <td>\"\\n \\n\\nGjalexei, you asked about whether ther...</td>\n",
       "    </tr>\n",
       "    <tr>\n",
       "      <th>1</th>\n",
       "      <td>732895</td>\n",
       "      <td>Looks like be have an abuser , can you please ...</td>\n",
       "    </tr>\n",
       "    <tr>\n",
       "      <th>2</th>\n",
       "      <td>1139051</td>\n",
       "      <td>I confess to having complete (and apparently b...</td>\n",
       "    </tr>\n",
       "    <tr>\n",
       "      <th>3</th>\n",
       "      <td>1434512</td>\n",
       "      <td>\"\\n\\nFreud's ideas are certainly much discusse...</td>\n",
       "    </tr>\n",
       "    <tr>\n",
       "      <th>4</th>\n",
       "      <td>2084821</td>\n",
       "      <td>It is not just you. This is a laundry list of ...</td>\n",
       "    </tr>\n",
       "  </tbody>\n",
       "</table>\n",
       "</div>"
      ],
      "text/plain": [
       "   comment_id                                               text\n",
       "0      114890  \"\\n \\n\\nGjalexei, you asked about whether ther...\n",
       "1      732895  Looks like be have an abuser , can you please ...\n",
       "2     1139051  I confess to having complete (and apparently b...\n",
       "3     1434512  \"\\n\\nFreud's ideas are certainly much discusse...\n",
       "4     2084821  It is not just you. This is a laundry list of ..."
      ]
     },
     "execution_count": 2,
     "metadata": {},
     "output_type": "execute_result"
    }
   ],
   "source": [
    "comment_to_score = pd.read_csv('../input/jigsaw-toxic-severity-rating/comments_to_score.csv')\n",
    "comment_to_score.head()"
   ]
  },
  {
   "cell_type": "code",
   "execution_count": 3,
   "id": "f5aab3fc",
   "metadata": {
    "execution": {
     "iopub.execute_input": "2021-12-25T07:04:39.139121Z",
     "iopub.status.busy": "2021-12-25T07:04:39.138113Z",
     "iopub.status.idle": "2021-12-25T07:04:39.143575Z",
     "shell.execute_reply": "2021-12-25T07:04:39.144208Z",
     "shell.execute_reply.started": "2021-12-25T06:39:42.834749Z"
    },
    "papermill": {
     "duration": 0.033262,
     "end_time": "2021-12-25T07:04:39.144391",
     "exception": false,
     "start_time": "2021-12-25T07:04:39.111129",
     "status": "completed"
    },
    "tags": []
   },
   "outputs": [
    {
     "data": {
      "text/plain": [
       "(7537, 2)"
      ]
     },
     "execution_count": 3,
     "metadata": {},
     "output_type": "execute_result"
    }
   ],
   "source": [
    "comment_to_score.shape"
   ]
  },
  {
   "cell_type": "code",
   "execution_count": 4,
   "id": "374ee267",
   "metadata": {
    "execution": {
     "iopub.execute_input": "2021-12-25T07:04:39.197330Z",
     "iopub.status.busy": "2021-12-25T07:04:39.196292Z",
     "iopub.status.idle": "2021-12-25T07:04:39.735881Z",
     "shell.execute_reply": "2021-12-25T07:04:39.735364Z",
     "shell.execute_reply.started": "2021-12-25T06:39:42.845177Z"
    },
    "papermill": {
     "duration": 0.566803,
     "end_time": "2021-12-25T07:04:39.736037",
     "exception": false,
     "start_time": "2021-12-25T07:04:39.169234",
     "status": "completed"
    },
    "tags": []
   },
   "outputs": [
    {
     "data": {
      "text/html": [
       "<div>\n",
       "<style scoped>\n",
       "    .dataframe tbody tr th:only-of-type {\n",
       "        vertical-align: middle;\n",
       "    }\n",
       "\n",
       "    .dataframe tbody tr th {\n",
       "        vertical-align: top;\n",
       "    }\n",
       "\n",
       "    .dataframe thead th {\n",
       "        text-align: right;\n",
       "    }\n",
       "</style>\n",
       "<table border=\"1\" class=\"dataframe\">\n",
       "  <thead>\n",
       "    <tr style=\"text-align: right;\">\n",
       "      <th></th>\n",
       "      <th>worker</th>\n",
       "      <th>less_toxic</th>\n",
       "      <th>more_toxic</th>\n",
       "    </tr>\n",
       "  </thead>\n",
       "  <tbody>\n",
       "    <tr>\n",
       "      <th>0</th>\n",
       "      <td>313</td>\n",
       "      <td>This article sucks \\n\\nwoo woo wooooooo</td>\n",
       "      <td>WHAT!!!!!!!!?!?!!?!?!!?!?!?!?!!!!!!!!!!!!!!!!!...</td>\n",
       "    </tr>\n",
       "    <tr>\n",
       "      <th>1</th>\n",
       "      <td>188</td>\n",
       "      <td>\"And yes, people should recognize that but the...</td>\n",
       "      <td>Daphne Guinness \\n\\nTop of the mornin' my fav...</td>\n",
       "    </tr>\n",
       "    <tr>\n",
       "      <th>2</th>\n",
       "      <td>82</td>\n",
       "      <td>Western Media?\\n\\nYup, because every crime in...</td>\n",
       "      <td>\"Atom you don't believe actual photos of mastu...</td>\n",
       "    </tr>\n",
       "    <tr>\n",
       "      <th>3</th>\n",
       "      <td>347</td>\n",
       "      <td>And you removed it! You numbskull! I don't car...</td>\n",
       "      <td>You seem to have sand in your vagina.\\n\\nMight...</td>\n",
       "    </tr>\n",
       "    <tr>\n",
       "      <th>4</th>\n",
       "      <td>539</td>\n",
       "      <td>smelly vagina \\n\\nBluerasberry why don't you ...</td>\n",
       "      <td>hey \\n\\nway to support nazis, you racist</td>\n",
       "    </tr>\n",
       "  </tbody>\n",
       "</table>\n",
       "</div>"
      ],
      "text/plain": [
       "   worker                                         less_toxic  \\\n",
       "0     313            This article sucks \\n\\nwoo woo wooooooo   \n",
       "1     188  \"And yes, people should recognize that but the...   \n",
       "2      82   Western Media?\\n\\nYup, because every crime in...   \n",
       "3     347  And you removed it! You numbskull! I don't car...   \n",
       "4     539   smelly vagina \\n\\nBluerasberry why don't you ...   \n",
       "\n",
       "                                          more_toxic  \n",
       "0  WHAT!!!!!!!!?!?!!?!?!!?!?!?!?!!!!!!!!!!!!!!!!!...  \n",
       "1   Daphne Guinness \\n\\nTop of the mornin' my fav...  \n",
       "2  \"Atom you don't believe actual photos of mastu...  \n",
       "3  You seem to have sand in your vagina.\\n\\nMight...  \n",
       "4           hey \\n\\nway to support nazis, you racist  "
      ]
     },
     "execution_count": 4,
     "metadata": {},
     "output_type": "execute_result"
    }
   ],
   "source": [
    "val_data = pd.read_csv('../input/jigsaw-toxic-severity-rating/validation_data.csv')\n",
    "val_data.head()"
   ]
  },
  {
   "cell_type": "code",
   "execution_count": 5,
   "id": "f16b011f",
   "metadata": {
    "execution": {
     "iopub.execute_input": "2021-12-25T07:04:39.791896Z",
     "iopub.status.busy": "2021-12-25T07:04:39.790945Z",
     "iopub.status.idle": "2021-12-25T07:04:39.794885Z",
     "shell.execute_reply": "2021-12-25T07:04:39.794391Z",
     "shell.execute_reply.started": "2021-12-25T06:39:43.420949Z"
    },
    "papermill": {
     "duration": 0.034102,
     "end_time": "2021-12-25T07:04:39.795028",
     "exception": false,
     "start_time": "2021-12-25T07:04:39.760926",
     "status": "completed"
    },
    "tags": []
   },
   "outputs": [
    {
     "data": {
      "text/plain": [
       "(30108, 3)"
      ]
     },
     "execution_count": 5,
     "metadata": {},
     "output_type": "execute_result"
    }
   ],
   "source": [
    "val_data.shape"
   ]
  },
  {
   "cell_type": "code",
   "execution_count": 6,
   "id": "3752290c",
   "metadata": {
    "execution": {
     "iopub.execute_input": "2021-12-25T07:04:39.849171Z",
     "iopub.status.busy": "2021-12-25T07:04:39.848544Z",
     "iopub.status.idle": "2021-12-25T07:04:39.860229Z",
     "shell.execute_reply": "2021-12-25T07:04:39.860770Z",
     "shell.execute_reply.started": "2021-12-25T06:39:43.427799Z"
    },
    "papermill": {
     "duration": 0.040667,
     "end_time": "2021-12-25T07:04:39.860966",
     "exception": false,
     "start_time": "2021-12-25T07:04:39.820299",
     "status": "completed"
    },
    "tags": []
   },
   "outputs": [
    {
     "data": {
      "text/plain": [
       "753"
      ]
     },
     "execution_count": 6,
     "metadata": {},
     "output_type": "execute_result"
    }
   ],
   "source": [
    "val_data['worker'].nunique()"
   ]
  },
  {
   "cell_type": "code",
   "execution_count": 7,
   "id": "dfcbb7a4",
   "metadata": {
    "execution": {
     "iopub.execute_input": "2021-12-25T07:04:39.918771Z",
     "iopub.status.busy": "2021-12-25T07:04:39.917997Z",
     "iopub.status.idle": "2021-12-25T07:04:41.942716Z",
     "shell.execute_reply": "2021-12-25T07:04:41.943255Z",
     "shell.execute_reply.started": "2021-12-25T06:39:43.448248Z"
    },
    "papermill": {
     "duration": 2.056628,
     "end_time": "2021-12-25T07:04:41.943457",
     "exception": false,
     "start_time": "2021-12-25T07:04:39.886829",
     "status": "completed"
    },
    "tags": []
   },
   "outputs": [
    {
     "data": {
      "text/html": [
       "<div>\n",
       "<style scoped>\n",
       "    .dataframe tbody tr th:only-of-type {\n",
       "        vertical-align: middle;\n",
       "    }\n",
       "\n",
       "    .dataframe tbody tr th {\n",
       "        vertical-align: top;\n",
       "    }\n",
       "\n",
       "    .dataframe thead th {\n",
       "        text-align: right;\n",
       "    }\n",
       "</style>\n",
       "<table border=\"1\" class=\"dataframe\">\n",
       "  <thead>\n",
       "    <tr style=\"text-align: right;\">\n",
       "      <th></th>\n",
       "      <th>id</th>\n",
       "      <th>comment_text</th>\n",
       "      <th>toxic</th>\n",
       "      <th>severe_toxic</th>\n",
       "      <th>obscene</th>\n",
       "      <th>threat</th>\n",
       "      <th>insult</th>\n",
       "      <th>identity_hate</th>\n",
       "    </tr>\n",
       "  </thead>\n",
       "  <tbody>\n",
       "    <tr>\n",
       "      <th>0</th>\n",
       "      <td>0000997932d777bf</td>\n",
       "      <td>Explanation\\nWhy the edits made under my usern...</td>\n",
       "      <td>0</td>\n",
       "      <td>0</td>\n",
       "      <td>0</td>\n",
       "      <td>0</td>\n",
       "      <td>0</td>\n",
       "      <td>0</td>\n",
       "    </tr>\n",
       "    <tr>\n",
       "      <th>1</th>\n",
       "      <td>000103f0d9cfb60f</td>\n",
       "      <td>D'aww! He matches this background colour I'm s...</td>\n",
       "      <td>0</td>\n",
       "      <td>0</td>\n",
       "      <td>0</td>\n",
       "      <td>0</td>\n",
       "      <td>0</td>\n",
       "      <td>0</td>\n",
       "    </tr>\n",
       "    <tr>\n",
       "      <th>2</th>\n",
       "      <td>000113f07ec002fd</td>\n",
       "      <td>Hey man, I'm really not trying to edit war. It...</td>\n",
       "      <td>0</td>\n",
       "      <td>0</td>\n",
       "      <td>0</td>\n",
       "      <td>0</td>\n",
       "      <td>0</td>\n",
       "      <td>0</td>\n",
       "    </tr>\n",
       "    <tr>\n",
       "      <th>3</th>\n",
       "      <td>0001b41b1c6bb37e</td>\n",
       "      <td>\"\\nMore\\nI can't make any real suggestions on ...</td>\n",
       "      <td>0</td>\n",
       "      <td>0</td>\n",
       "      <td>0</td>\n",
       "      <td>0</td>\n",
       "      <td>0</td>\n",
       "      <td>0</td>\n",
       "    </tr>\n",
       "    <tr>\n",
       "      <th>4</th>\n",
       "      <td>0001d958c54c6e35</td>\n",
       "      <td>You, sir, are my hero. Any chance you remember...</td>\n",
       "      <td>0</td>\n",
       "      <td>0</td>\n",
       "      <td>0</td>\n",
       "      <td>0</td>\n",
       "      <td>0</td>\n",
       "      <td>0</td>\n",
       "    </tr>\n",
       "  </tbody>\n",
       "</table>\n",
       "</div>"
      ],
      "text/plain": [
       "                 id                                       comment_text  toxic  \\\n",
       "0  0000997932d777bf  Explanation\\nWhy the edits made under my usern...      0   \n",
       "1  000103f0d9cfb60f  D'aww! He matches this background colour I'm s...      0   \n",
       "2  000113f07ec002fd  Hey man, I'm really not trying to edit war. It...      0   \n",
       "3  0001b41b1c6bb37e  \"\\nMore\\nI can't make any real suggestions on ...      0   \n",
       "4  0001d958c54c6e35  You, sir, are my hero. Any chance you remember...      0   \n",
       "\n",
       "   severe_toxic  obscene  threat  insult  identity_hate  \n",
       "0             0        0       0       0              0  \n",
       "1             0        0       0       0              0  \n",
       "2             0        0       0       0              0  \n",
       "3             0        0       0       0              0  \n",
       "4             0        0       0       0              0  "
      ]
     },
     "execution_count": 7,
     "metadata": {},
     "output_type": "execute_result"
    }
   ],
   "source": [
    "train = pd.read_csv('../input/jigsaw-toxic-comment-classification-challenge/train.csv')\n",
    "train.head()"
   ]
  },
  {
   "cell_type": "code",
   "execution_count": 8,
   "id": "421ead62",
   "metadata": {
    "execution": {
     "iopub.execute_input": "2021-12-25T07:04:42.003401Z",
     "iopub.status.busy": "2021-12-25T07:04:42.002372Z",
     "iopub.status.idle": "2021-12-25T07:04:42.007034Z",
     "shell.execute_reply": "2021-12-25T07:04:42.007645Z",
     "shell.execute_reply.started": "2021-12-25T06:39:45.403077Z"
    },
    "papermill": {
     "duration": 0.037184,
     "end_time": "2021-12-25T07:04:42.007816",
     "exception": false,
     "start_time": "2021-12-25T07:04:41.970632",
     "status": "completed"
    },
    "tags": []
   },
   "outputs": [
    {
     "data": {
      "text/plain": [
       "0.09584448302009764"
      ]
     },
     "execution_count": 8,
     "metadata": {},
     "output_type": "execute_result"
    }
   ],
   "source": [
    "train['toxic'].mean()"
   ]
  },
  {
   "cell_type": "code",
   "execution_count": 9,
   "id": "8942a1d6",
   "metadata": {
    "execution": {
     "iopub.execute_input": "2021-12-25T07:04:42.066753Z",
     "iopub.status.busy": "2021-12-25T07:04:42.064427Z",
     "iopub.status.idle": "2021-12-25T07:04:42.071771Z",
     "shell.execute_reply": "2021-12-25T07:04:42.071112Z",
     "shell.execute_reply.started": "2021-12-25T06:39:45.410574Z"
    },
    "papermill": {
     "duration": 0.03789,
     "end_time": "2021-12-25T07:04:42.071911",
     "exception": false,
     "start_time": "2021-12-25T07:04:42.034021",
     "status": "completed"
    },
    "tags": []
   },
   "outputs": [
    {
     "data": {
      "text/plain": [
       "0.052948217407925"
      ]
     },
     "execution_count": 9,
     "metadata": {},
     "output_type": "execute_result"
    }
   ],
   "source": [
    "train['obscene'].mean()"
   ]
  },
  {
   "cell_type": "code",
   "execution_count": 10,
   "id": "375c348d",
   "metadata": {
    "execution": {
     "iopub.execute_input": "2021-12-25T07:04:42.131863Z",
     "iopub.status.busy": "2021-12-25T07:04:42.130844Z",
     "iopub.status.idle": "2021-12-25T07:04:42.135154Z",
     "shell.execute_reply": "2021-12-25T07:04:42.135726Z",
     "shell.execute_reply.started": "2021-12-25T06:39:45.428810Z"
    },
    "papermill": {
     "duration": 0.036302,
     "end_time": "2021-12-25T07:04:42.135897",
     "exception": false,
     "start_time": "2021-12-25T07:04:42.099595",
     "status": "completed"
    },
    "tags": []
   },
   "outputs": [
    {
     "data": {
      "text/plain": [
       "0.04936360616904074"
      ]
     },
     "execution_count": 10,
     "metadata": {},
     "output_type": "execute_result"
    }
   ],
   "source": [
    "train['insult'].mean()"
   ]
  },
  {
   "cell_type": "code",
   "execution_count": 11,
   "id": "b0413ef8",
   "metadata": {
    "execution": {
     "iopub.execute_input": "2021-12-25T07:04:42.194255Z",
     "iopub.status.busy": "2021-12-25T07:04:42.193290Z",
     "iopub.status.idle": "2021-12-25T07:04:42.214567Z",
     "shell.execute_reply": "2021-12-25T07:04:42.213968Z",
     "shell.execute_reply.started": "2021-12-25T06:39:45.442444Z"
    },
    "papermill": {
     "duration": 0.05135,
     "end_time": "2021-12-25T07:04:42.214720",
     "exception": false,
     "start_time": "2021-12-25T07:04:42.163370",
     "status": "completed"
    },
    "tags": []
   },
   "outputs": [],
   "source": [
    "unlabelled_in_all = train[(train['toxic']!=1) & (train['severe_toxic']!=1) & (train['obscene']!=1) & \n",
    "                            (train['threat']!=1) & (train['insult']!=1) & (train['identity_hate']!=1)]"
   ]
  },
  {
   "cell_type": "code",
   "execution_count": 12,
   "id": "7e0a1fa2",
   "metadata": {
    "execution": {
     "iopub.execute_input": "2021-12-25T07:04:42.277010Z",
     "iopub.status.busy": "2021-12-25T07:04:42.276348Z",
     "iopub.status.idle": "2021-12-25T07:04:42.286680Z",
     "shell.execute_reply": "2021-12-25T07:04:42.286139Z",
     "shell.execute_reply.started": "2021-12-25T06:39:45.471427Z"
    },
    "papermill": {
     "duration": 0.044607,
     "end_time": "2021-12-25T07:04:42.286827",
     "exception": false,
     "start_time": "2021-12-25T07:04:42.242220",
     "status": "completed"
    },
    "tags": []
   },
   "outputs": [
    {
     "data": {
      "text/plain": [
       "'\"\\nMore\\nI can\\'t make any real suggestions on improvement - I wondered if the section statistics should be later on, or a subsection of \"\"types of accidents\"\"  -I think the references may need tidying so that they are all in the exact same format ie date format etc. I can do that later on, if no-one else does first - if you have any preferences for formatting style on references or want to do it yourself please let me know.\\n\\nThere appears to be a backlog on articles for review so I guess there may be a delay until a reviewer turns up. It\\'s listed in the relevant form eg Wikipedia:Good_article_nominations#Transport  \"'"
      ]
     },
     "execution_count": 12,
     "metadata": {},
     "output_type": "execute_result"
    }
   ],
   "source": [
    "unlabelled_in_all['comment_text'][3]"
   ]
  },
  {
   "cell_type": "code",
   "execution_count": 13,
   "id": "0bdeb738",
   "metadata": {
    "execution": {
     "iopub.execute_input": "2021-12-25T07:04:42.346617Z",
     "iopub.status.busy": "2021-12-25T07:04:42.345878Z",
     "iopub.status.idle": "2021-12-25T07:04:42.382563Z",
     "shell.execute_reply": "2021-12-25T07:04:42.381929Z",
     "shell.execute_reply.started": "2021-12-25T06:39:45.487881Z"
    },
    "papermill": {
     "duration": 0.068588,
     "end_time": "2021-12-25T07:04:42.382703",
     "exception": false,
     "start_time": "2021-12-25T07:04:42.314115",
     "status": "completed"
    },
    "tags": []
   },
   "outputs": [
    {
     "data": {
      "text/html": [
       "<div>\n",
       "<style scoped>\n",
       "    .dataframe tbody tr th:only-of-type {\n",
       "        vertical-align: middle;\n",
       "    }\n",
       "\n",
       "    .dataframe tbody tr th {\n",
       "        vertical-align: top;\n",
       "    }\n",
       "\n",
       "    .dataframe thead th {\n",
       "        text-align: right;\n",
       "    }\n",
       "</style>\n",
       "<table border=\"1\" class=\"dataframe\">\n",
       "  <thead>\n",
       "    <tr style=\"text-align: right;\">\n",
       "      <th></th>\n",
       "      <th>id</th>\n",
       "      <th>comment_text</th>\n",
       "      <th>toxic</th>\n",
       "      <th>severe_toxic</th>\n",
       "      <th>obscene</th>\n",
       "      <th>threat</th>\n",
       "      <th>insult</th>\n",
       "      <th>identity_hate</th>\n",
       "    </tr>\n",
       "  </thead>\n",
       "  <tbody>\n",
       "    <tr>\n",
       "      <th>6</th>\n",
       "      <td>0002bcb3da6cb337</td>\n",
       "      <td>COCKSUCKER BEFORE YOU PISS AROUND ON MY WORK</td>\n",
       "      <td>1</td>\n",
       "      <td>1</td>\n",
       "      <td>1</td>\n",
       "      <td>0</td>\n",
       "      <td>1</td>\n",
       "      <td>0</td>\n",
       "    </tr>\n",
       "  </tbody>\n",
       "</table>\n",
       "</div>"
      ],
      "text/plain": [
       "                 id                                  comment_text  toxic  \\\n",
       "6  0002bcb3da6cb337  COCKSUCKER BEFORE YOU PISS AROUND ON MY WORK      1   \n",
       "\n",
       "   severe_toxic  obscene  threat  insult  identity_hate  \n",
       "6             1        1       0       1              0  "
      ]
     },
     "execution_count": 13,
     "metadata": {},
     "output_type": "execute_result"
    }
   ],
   "source": [
    "train[train['id'] == '0002bcb3da6cb337']"
   ]
  },
  {
   "cell_type": "code",
   "execution_count": 14,
   "id": "4f494108",
   "metadata": {
    "execution": {
     "iopub.execute_input": "2021-12-25T07:04:42.445393Z",
     "iopub.status.busy": "2021-12-25T07:04:42.444717Z",
     "iopub.status.idle": "2021-12-25T07:04:42.492527Z",
     "shell.execute_reply": "2021-12-25T07:04:42.491789Z",
     "shell.execute_reply.started": "2021-12-25T06:39:45.528828Z"
    },
    "papermill": {
     "duration": 0.082308,
     "end_time": "2021-12-25T07:04:42.492673",
     "exception": false,
     "start_time": "2021-12-25T07:04:42.410365",
     "status": "completed"
    },
    "tags": []
   },
   "outputs": [],
   "source": [
    "cat_mtpl = {'obscene': 0.64, 'toxic': 0.16, 'threat': 1.5, \n",
    "            'insult': 1.5, 'severe_toxic': 0.32, 'identity_hate': 1.5}\n",
    "\n",
    "for category in cat_mtpl:\n",
    "    train[category] = train[category] * cat_mtpl[category]\n",
    "    \n",
    "train['y'] = train.loc[:, 'toxic':'identity_hate'].sum(axis = 1)"
   ]
  },
  {
   "cell_type": "code",
   "execution_count": 15,
   "id": "c6c45940",
   "metadata": {
    "execution": {
     "iopub.execute_input": "2021-12-25T07:04:42.556127Z",
     "iopub.status.busy": "2021-12-25T07:04:42.554742Z",
     "iopub.status.idle": "2021-12-25T07:04:42.596477Z",
     "shell.execute_reply": "2021-12-25T07:04:42.596966Z",
     "shell.execute_reply.started": "2021-12-25T06:39:45.584120Z"
    },
    "papermill": {
     "duration": 0.076308,
     "end_time": "2021-12-25T07:04:42.597164",
     "exception": false,
     "start_time": "2021-12-25T07:04:42.520856",
     "status": "completed"
    },
    "tags": []
   },
   "outputs": [],
   "source": [
    "min_len = (train['y']> 0).sum()\n",
    "train_undersample = train[train['y'] == 0].sample(n=min_len, random_state=2020)\n",
    "train_new = pd.concat([train[train['y'] > 0], train_undersample])"
   ]
  },
  {
   "cell_type": "code",
   "execution_count": 16,
   "id": "48265918",
   "metadata": {
    "execution": {
     "iopub.execute_input": "2021-12-25T07:04:42.671010Z",
     "iopub.status.busy": "2021-12-25T07:04:42.670334Z",
     "iopub.status.idle": "2021-12-25T07:04:42.672861Z",
     "shell.execute_reply": "2021-12-25T07:04:42.673462Z",
     "shell.execute_reply.started": "2021-12-25T06:39:45.629462Z"
    },
    "papermill": {
     "duration": 0.04739,
     "end_time": "2021-12-25T07:04:42.673626",
     "exception": false,
     "start_time": "2021-12-25T07:04:42.626236",
     "status": "completed"
    },
    "tags": []
   },
   "outputs": [
    {
     "data": {
      "text/html": [
       "<div>\n",
       "<style scoped>\n",
       "    .dataframe tbody tr th:only-of-type {\n",
       "        vertical-align: middle;\n",
       "    }\n",
       "\n",
       "    .dataframe tbody tr th {\n",
       "        vertical-align: top;\n",
       "    }\n",
       "\n",
       "    .dataframe thead th {\n",
       "        text-align: right;\n",
       "    }\n",
       "</style>\n",
       "<table border=\"1\" class=\"dataframe\">\n",
       "  <thead>\n",
       "    <tr style=\"text-align: right;\">\n",
       "      <th></th>\n",
       "      <th>id</th>\n",
       "      <th>comment_text</th>\n",
       "      <th>toxic</th>\n",
       "      <th>severe_toxic</th>\n",
       "      <th>obscene</th>\n",
       "      <th>threat</th>\n",
       "      <th>insult</th>\n",
       "      <th>identity_hate</th>\n",
       "      <th>y</th>\n",
       "    </tr>\n",
       "  </thead>\n",
       "  <tbody>\n",
       "    <tr>\n",
       "      <th>6</th>\n",
       "      <td>0002bcb3da6cb337</td>\n",
       "      <td>COCKSUCKER BEFORE YOU PISS AROUND ON MY WORK</td>\n",
       "      <td>0.16</td>\n",
       "      <td>0.32</td>\n",
       "      <td>0.64</td>\n",
       "      <td>0.0</td>\n",
       "      <td>1.5</td>\n",
       "      <td>0.0</td>\n",
       "      <td>2.62</td>\n",
       "    </tr>\n",
       "    <tr>\n",
       "      <th>12</th>\n",
       "      <td>0005c987bdfc9d4b</td>\n",
       "      <td>Hey... what is it..\\n@ | talk .\\nWhat is it......</td>\n",
       "      <td>0.16</td>\n",
       "      <td>0.00</td>\n",
       "      <td>0.00</td>\n",
       "      <td>0.0</td>\n",
       "      <td>0.0</td>\n",
       "      <td>0.0</td>\n",
       "      <td>0.16</td>\n",
       "    </tr>\n",
       "    <tr>\n",
       "      <th>16</th>\n",
       "      <td>0007e25b2121310b</td>\n",
       "      <td>Bye! \\n\\nDon't look, come or think of comming ...</td>\n",
       "      <td>0.16</td>\n",
       "      <td>0.00</td>\n",
       "      <td>0.00</td>\n",
       "      <td>0.0</td>\n",
       "      <td>0.0</td>\n",
       "      <td>0.0</td>\n",
       "      <td>0.16</td>\n",
       "    </tr>\n",
       "    <tr>\n",
       "      <th>42</th>\n",
       "      <td>001810bf8c45bf5f</td>\n",
       "      <td>You are gay or antisemmitian? \\n\\nArchangel WH...</td>\n",
       "      <td>0.16</td>\n",
       "      <td>0.00</td>\n",
       "      <td>0.64</td>\n",
       "      <td>0.0</td>\n",
       "      <td>1.5</td>\n",
       "      <td>1.5</td>\n",
       "      <td>3.80</td>\n",
       "    </tr>\n",
       "    <tr>\n",
       "      <th>43</th>\n",
       "      <td>00190820581d90ce</td>\n",
       "      <td>FUCK YOUR FILTHY MOTHER IN THE ASS, DRY!</td>\n",
       "      <td>0.16</td>\n",
       "      <td>0.00</td>\n",
       "      <td>0.64</td>\n",
       "      <td>0.0</td>\n",
       "      <td>1.5</td>\n",
       "      <td>0.0</td>\n",
       "      <td>2.30</td>\n",
       "    </tr>\n",
       "  </tbody>\n",
       "</table>\n",
       "</div>"
      ],
      "text/plain": [
       "                  id                                       comment_text  \\\n",
       "6   0002bcb3da6cb337       COCKSUCKER BEFORE YOU PISS AROUND ON MY WORK   \n",
       "12  0005c987bdfc9d4b  Hey... what is it..\\n@ | talk .\\nWhat is it......   \n",
       "16  0007e25b2121310b  Bye! \\n\\nDon't look, come or think of comming ...   \n",
       "42  001810bf8c45bf5f  You are gay or antisemmitian? \\n\\nArchangel WH...   \n",
       "43  00190820581d90ce           FUCK YOUR FILTHY MOTHER IN THE ASS, DRY!   \n",
       "\n",
       "    toxic  severe_toxic  obscene  threat  insult  identity_hate     y  \n",
       "6    0.16          0.32     0.64     0.0     1.5            0.0  2.62  \n",
       "12   0.16          0.00     0.00     0.0     0.0            0.0  0.16  \n",
       "16   0.16          0.00     0.00     0.0     0.0            0.0  0.16  \n",
       "42   0.16          0.00     0.64     0.0     1.5            1.5  3.80  \n",
       "43   0.16          0.00     0.64     0.0     1.5            0.0  2.30  "
      ]
     },
     "execution_count": 16,
     "metadata": {},
     "output_type": "execute_result"
    }
   ],
   "source": [
    "train_new.head()"
   ]
  },
  {
   "cell_type": "code",
   "execution_count": 17,
   "id": "111d36ca",
   "metadata": {
    "execution": {
     "iopub.execute_input": "2021-12-25T07:04:42.738294Z",
     "iopub.status.busy": "2021-12-25T07:04:42.737645Z",
     "iopub.status.idle": "2021-12-25T07:04:42.739323Z",
     "shell.execute_reply": "2021-12-25T07:04:42.739876Z",
     "shell.execute_reply.started": "2021-12-25T06:39:45.647608Z"
    },
    "papermill": {
     "duration": 0.038395,
     "end_time": "2021-12-25T07:04:42.740033",
     "exception": false,
     "start_time": "2021-12-25T07:04:42.701638",
     "status": "completed"
    },
    "tags": []
   },
   "outputs": [],
   "source": [
    "def text_cleaning(text):\n",
    "    '''\n",
    "    Cleans text into a basic form for NLP. Operations include the following:-\n",
    "    1. Remove special charecters like &, #, etc\n",
    "    2. Removes extra spaces\n",
    "    3. Removes embedded URL links\n",
    "    4. Removes HTML tags\n",
    "    5. Removes emojis\n",
    "    \n",
    "    text - Text piece to be cleaned.\n",
    "    '''\n",
    "    template = re.compile(r'https?://\\S+|www\\.\\S+') #Removes website links\n",
    "    text = template.sub(r'', text)\n",
    "    \n",
    "    soup = BeautifulSoup(text, 'lxml') #Removes HTML tags\n",
    "    only_text = soup.get_text()\n",
    "    text = only_text\n",
    "    \n",
    "    emoji_pattern = re.compile(\"[\"\n",
    "                               u\"\\U0001F600-\\U0001F64F\"  # emoticons\n",
    "                               u\"\\U0001F300-\\U0001F5FF\"  # symbols & pictographs\n",
    "                               u\"\\U0001F680-\\U0001F6FF\"  # transport & map symbols\n",
    "                               u\"\\U0001F1E0-\\U0001F1FF\"  # flags (iOS)\n",
    "                               u\"\\U00002702-\\U000027B0\"\n",
    "                               u\"\\U000024C2-\\U0001F251\"\n",
    "                               \"]+\", flags=re.UNICODE)\n",
    "    text = emoji_pattern.sub(r'', text)\n",
    "    \n",
    "    text = re.sub(r\"[^a-zA-Z\\d]\", \" \", text) #Remove special Charecters\n",
    "    text = re.sub(' +', ' ', text) #Remove Extra Spaces\n",
    "    text = text.strip() # remove spaces at the beginning and at the end of string\n",
    "\n",
    "    return text"
   ]
  },
  {
   "cell_type": "code",
   "execution_count": 18,
   "id": "9e95fbfc",
   "metadata": {
    "execution": {
     "iopub.execute_input": "2021-12-25T07:04:42.807735Z",
     "iopub.status.busy": "2021-12-25T07:04:42.799257Z",
     "iopub.status.idle": "2021-12-25T07:04:42.811568Z",
     "shell.execute_reply": "2021-12-25T07:04:42.810986Z",
     "shell.execute_reply.started": "2021-12-25T06:43:17.410829Z"
    },
    "papermill": {
     "duration": 0.043415,
     "end_time": "2021-12-25T07:04:42.811713",
     "exception": false,
     "start_time": "2021-12-25T07:04:42.768298",
     "status": "completed"
    },
    "tags": []
   },
   "outputs": [
    {
     "data": {
      "text/plain": [
       "0.00    16225\n",
       "0.16     5666\n",
       "2.30     3846\n",
       "0.80     1758\n",
       "1.66     1464\n",
       "2.62      999\n",
       "3.80      749\n",
       "1.50      377\n",
       "4.12      329\n",
       "0.64      317\n",
       "2.14      186\n",
       "1.12      158\n",
       "3.16      157\n",
       "5.30       56\n",
       "0.48       41\n",
       "5.62       31\n",
       "3.00       31\n",
       "1.98       28\n",
       "3.64       20\n",
       "3.48        9\n",
       "4.66        3\n",
       "Name: y, dtype: int64"
      ]
     },
     "execution_count": 18,
     "metadata": {},
     "output_type": "execute_result"
    }
   ],
   "source": [
    "train_new['y'].value_counts()"
   ]
  },
  {
   "cell_type": "code",
   "execution_count": 19,
   "id": "1dfc70d0",
   "metadata": {
    "execution": {
     "iopub.execute_input": "2021-12-25T07:04:42.881980Z",
     "iopub.status.busy": "2021-12-25T07:04:42.876777Z",
     "iopub.status.idle": "2021-12-25T07:04:53.944800Z",
     "shell.execute_reply": "2021-12-25T07:04:53.945328Z",
     "shell.execute_reply.started": "2021-12-25T06:43:55.487198Z"
    },
    "papermill": {
     "duration": 11.105219,
     "end_time": "2021-12-25T07:04:53.945517",
     "exception": false,
     "start_time": "2021-12-25T07:04:42.840298",
     "status": "completed"
    },
    "tags": []
   },
   "outputs": [],
   "source": [
    "train_new['comment_text'] = train_new['comment_text'].apply(text_cleaning)"
   ]
  },
  {
   "cell_type": "code",
   "execution_count": 20,
   "id": "927051c8",
   "metadata": {
    "execution": {
     "iopub.execute_input": "2021-12-25T07:04:54.026741Z",
     "iopub.status.busy": "2021-12-25T07:04:54.016420Z",
     "iopub.status.idle": "2021-12-25T07:05:17.201332Z",
     "shell.execute_reply": "2021-12-25T07:05:17.200672Z",
     "shell.execute_reply.started": "2021-12-25T06:50:05.403425Z"
    },
    "papermill": {
     "duration": 23.227175,
     "end_time": "2021-12-25T07:05:17.201505",
     "exception": false,
     "start_time": "2021-12-25T07:04:53.974330",
     "status": "completed"
    },
    "tags": []
   },
   "outputs": [],
   "source": [
    "vect = TfidfVectorizer(min_df = 3, max_df = 0.5, analyzer = 'char_wb', ngram_range = (3, 5))\n",
    "X_train = vect.fit_transform(train_new['comment_text'])"
   ]
  },
  {
   "cell_type": "code",
   "execution_count": 21,
   "id": "096e62f7",
   "metadata": {
    "execution": {
     "iopub.execute_input": "2021-12-25T07:05:17.263676Z",
     "iopub.status.busy": "2021-12-25T07:05:17.262872Z",
     "iopub.status.idle": "2021-12-25T07:05:23.500717Z",
     "shell.execute_reply": "2021-12-25T07:05:23.501795Z",
     "shell.execute_reply.started": "2021-12-25T06:52:13.320887Z"
    },
    "papermill": {
     "duration": 6.271915,
     "end_time": "2021-12-25T07:05:23.502086",
     "exception": false,
     "start_time": "2021-12-25T07:05:17.230171",
     "status": "completed"
    },
    "tags": []
   },
   "outputs": [
    {
     "data": {
      "text/plain": [
       "Ridge(alpha=0.5)"
      ]
     },
     "execution_count": 21,
     "metadata": {},
     "output_type": "execute_result"
    }
   ],
   "source": [
    "from sklearn.linear_model import Ridge\n",
    "\n",
    "model = Ridge(alpha = 0.5)\n",
    "model.fit(X_train, train_new['y'])"
   ]
  },
  {
   "cell_type": "code",
   "execution_count": 22,
   "id": "63260058",
   "metadata": {
    "execution": {
     "iopub.execute_input": "2021-12-25T07:05:23.616518Z",
     "iopub.status.busy": "2021-12-25T07:05:23.615433Z",
     "iopub.status.idle": "2021-12-25T07:05:45.103865Z",
     "shell.execute_reply": "2021-12-25T07:05:45.103140Z",
     "shell.execute_reply.started": "2021-12-25T06:54:21.114570Z"
    },
    "papermill": {
     "duration": 21.548124,
     "end_time": "2021-12-25T07:05:45.104022",
     "exception": false,
     "start_time": "2021-12-25T07:05:23.555898",
     "status": "completed"
    },
    "tags": []
   },
   "outputs": [],
   "source": [
    "val_data['less_toxic'] = val_data['less_toxic'].apply(text_cleaning)\n",
    "val_data['more_toxic'] = val_data['more_toxic'].apply(text_cleaning)"
   ]
  },
  {
   "cell_type": "code",
   "execution_count": 23,
   "id": "6ab19570",
   "metadata": {
    "execution": {
     "iopub.execute_input": "2021-12-25T07:05:45.201791Z",
     "iopub.status.busy": "2021-12-25T07:05:45.165025Z",
     "iopub.status.idle": "2021-12-25T07:06:34.489807Z",
     "shell.execute_reply": "2021-12-25T07:06:34.488979Z",
     "shell.execute_reply.started": "2021-12-25T06:58:05.077453Z"
    },
    "papermill": {
     "duration": 49.356534,
     "end_time": "2021-12-25T07:06:34.489958",
     "exception": false,
     "start_time": "2021-12-25T07:05:45.133424",
     "status": "completed"
    },
    "tags": []
   },
   "outputs": [],
   "source": [
    "less_toxic_val = vect.transform(val_data['less_toxic'])\n",
    "more_toxic_val = vect.transform(val_data['more_toxic'])"
   ]
  },
  {
   "cell_type": "code",
   "execution_count": 24,
   "id": "8dfe81da",
   "metadata": {
    "execution": {
     "iopub.execute_input": "2021-12-25T07:06:34.554133Z",
     "iopub.status.busy": "2021-12-25T07:06:34.552904Z",
     "iopub.status.idle": "2021-12-25T07:06:34.625629Z",
     "shell.execute_reply": "2021-12-25T07:06:34.624941Z",
     "shell.execute_reply.started": "2021-12-25T06:58:58.669458Z"
    },
    "papermill": {
     "duration": 0.106783,
     "end_time": "2021-12-25T07:06:34.625790",
     "exception": false,
     "start_time": "2021-12-25T07:06:34.519007",
     "status": "completed"
    },
    "tags": []
   },
   "outputs": [],
   "source": [
    "less_toxic_preds = model.predict(less_toxic_val)\n",
    "more_toxic_preds = model.predict(more_toxic_val)"
   ]
  },
  {
   "cell_type": "code",
   "execution_count": 25,
   "id": "29a1415e",
   "metadata": {
    "execution": {
     "iopub.execute_input": "2021-12-25T07:06:34.690473Z",
     "iopub.status.busy": "2021-12-25T07:06:34.689578Z",
     "iopub.status.idle": "2021-12-25T07:06:34.693711Z",
     "shell.execute_reply": "2021-12-25T07:06:34.693168Z",
     "shell.execute_reply.started": "2021-12-25T06:59:01.993502Z"
    },
    "papermill": {
     "duration": 0.039047,
     "end_time": "2021-12-25T07:06:34.693847",
     "exception": false,
     "start_time": "2021-12-25T07:06:34.654800",
     "status": "completed"
    },
    "tags": []
   },
   "outputs": [
    {
     "data": {
      "text/plain": [
       "0.6694566228244985"
      ]
     },
     "execution_count": 25,
     "metadata": {},
     "output_type": "execute_result"
    }
   ],
   "source": [
    "(less_toxic_preds < more_toxic_preds).mean()"
   ]
  },
  {
   "cell_type": "code",
   "execution_count": 26,
   "id": "abab9090",
   "metadata": {
    "execution": {
     "iopub.execute_input": "2021-12-25T07:06:34.758331Z",
     "iopub.status.busy": "2021-12-25T07:06:34.757662Z",
     "iopub.status.idle": "2021-12-25T07:06:34.784786Z",
     "shell.execute_reply": "2021-12-25T07:06:34.785399Z",
     "shell.execute_reply.started": "2021-12-25T07:02:36.993638Z"
    },
    "papermill": {
     "duration": 0.062694,
     "end_time": "2021-12-25T07:06:34.785582",
     "exception": false,
     "start_time": "2021-12-25T07:06:34.722888",
     "status": "completed"
    },
    "tags": []
   },
   "outputs": [
    {
     "data": {
      "text/html": [
       "<div>\n",
       "<style scoped>\n",
       "    .dataframe tbody tr th:only-of-type {\n",
       "        vertical-align: middle;\n",
       "    }\n",
       "\n",
       "    .dataframe tbody tr th {\n",
       "        vertical-align: top;\n",
       "    }\n",
       "\n",
       "    .dataframe thead th {\n",
       "        text-align: right;\n",
       "    }\n",
       "</style>\n",
       "<table border=\"1\" class=\"dataframe\">\n",
       "  <thead>\n",
       "    <tr style=\"text-align: right;\">\n",
       "      <th></th>\n",
       "      <th>comment_id</th>\n",
       "      <th>score</th>\n",
       "    </tr>\n",
       "  </thead>\n",
       "  <tbody>\n",
       "    <tr>\n",
       "      <th>0</th>\n",
       "      <td>114890</td>\n",
       "      <td>0.5</td>\n",
       "    </tr>\n",
       "    <tr>\n",
       "      <th>1</th>\n",
       "      <td>732895</td>\n",
       "      <td>0.5</td>\n",
       "    </tr>\n",
       "    <tr>\n",
       "      <th>2</th>\n",
       "      <td>1139051</td>\n",
       "      <td>0.5</td>\n",
       "    </tr>\n",
       "    <tr>\n",
       "      <th>3</th>\n",
       "      <td>1434512</td>\n",
       "      <td>0.5</td>\n",
       "    </tr>\n",
       "    <tr>\n",
       "      <th>4</th>\n",
       "      <td>2084821</td>\n",
       "      <td>0.5</td>\n",
       "    </tr>\n",
       "  </tbody>\n",
       "</table>\n",
       "</div>"
      ],
      "text/plain": [
       "   comment_id  score\n",
       "0      114890    0.5\n",
       "1      732895    0.5\n",
       "2     1139051    0.5\n",
       "3     1434512    0.5\n",
       "4     2084821    0.5"
      ]
     },
     "execution_count": 26,
     "metadata": {},
     "output_type": "execute_result"
    }
   ],
   "source": [
    "sub = pd.read_csv('../input/jigsaw-toxic-severity-rating/sample_submission.csv')\n",
    "sub.head()"
   ]
  },
  {
   "cell_type": "code",
   "execution_count": 27,
   "id": "bbceba1a",
   "metadata": {
    "execution": {
     "iopub.execute_input": "2021-12-25T07:06:34.848115Z",
     "iopub.status.busy": "2021-12-25T07:06:34.847486Z",
     "iopub.status.idle": "2021-12-25T07:06:44.359126Z",
     "shell.execute_reply": "2021-12-25T07:06:44.358477Z",
     "shell.execute_reply.started": "2021-12-25T07:03:32.685368Z"
    },
    "papermill": {
     "duration": 9.544025,
     "end_time": "2021-12-25T07:06:44.359285",
     "exception": false,
     "start_time": "2021-12-25T07:06:34.815260",
     "status": "completed"
    },
    "tags": []
   },
   "outputs": [
    {
     "data": {
      "text/html": [
       "<div>\n",
       "<style scoped>\n",
       "    .dataframe tbody tr th:only-of-type {\n",
       "        vertical-align: middle;\n",
       "    }\n",
       "\n",
       "    .dataframe tbody tr th {\n",
       "        vertical-align: top;\n",
       "    }\n",
       "\n",
       "    .dataframe thead th {\n",
       "        text-align: right;\n",
       "    }\n",
       "</style>\n",
       "<table border=\"1\" class=\"dataframe\">\n",
       "  <thead>\n",
       "    <tr style=\"text-align: right;\">\n",
       "      <th></th>\n",
       "      <th>comment_id</th>\n",
       "      <th>score</th>\n",
       "    </tr>\n",
       "  </thead>\n",
       "  <tbody>\n",
       "    <tr>\n",
       "      <th>0</th>\n",
       "      <td>114890</td>\n",
       "      <td>0.153997</td>\n",
       "    </tr>\n",
       "    <tr>\n",
       "      <th>1</th>\n",
       "      <td>732895</td>\n",
       "      <td>0.244331</td>\n",
       "    </tr>\n",
       "    <tr>\n",
       "      <th>2</th>\n",
       "      <td>1139051</td>\n",
       "      <td>0.107895</td>\n",
       "    </tr>\n",
       "    <tr>\n",
       "      <th>3</th>\n",
       "      <td>1434512</td>\n",
       "      <td>-0.267452</td>\n",
       "    </tr>\n",
       "    <tr>\n",
       "      <th>4</th>\n",
       "      <td>2084821</td>\n",
       "      <td>0.320342</td>\n",
       "    </tr>\n",
       "  </tbody>\n",
       "</table>\n",
       "</div>"
      ],
      "text/plain": [
       "   comment_id     score\n",
       "0      114890  0.153997\n",
       "1      732895  0.244331\n",
       "2     1139051  0.107895\n",
       "3     1434512 -0.267452\n",
       "4     2084821  0.320342"
      ]
     },
     "execution_count": 27,
     "metadata": {},
     "output_type": "execute_result"
    }
   ],
   "source": [
    "comment_to_score['text'] = comment_to_score['text'].apply(text_cleaning)\n",
    "X_test = vect.transform(comment_to_score['text'])\n",
    "sub['score'] = model.predict(X_test)\n",
    "sub.head()"
   ]
  },
  {
   "cell_type": "code",
   "execution_count": 28,
   "id": "1d9bd165",
   "metadata": {
    "execution": {
     "iopub.execute_input": "2021-12-25T07:06:44.425778Z",
     "iopub.status.busy": "2021-12-25T07:06:44.424873Z",
     "iopub.status.idle": "2021-12-25T07:06:44.460831Z",
     "shell.execute_reply": "2021-12-25T07:06:44.460272Z",
     "shell.execute_reply.started": "2021-12-25T07:03:48.125737Z"
    },
    "papermill": {
     "duration": 0.071707,
     "end_time": "2021-12-25T07:06:44.460984",
     "exception": false,
     "start_time": "2021-12-25T07:06:44.389277",
     "status": "completed"
    },
    "tags": []
   },
   "outputs": [],
   "source": [
    "sub[['comment_id', 'score']].to_csv(\"submission.csv\", index=False)"
   ]
  },
  {
   "cell_type": "code",
   "execution_count": null,
   "id": "62106e39",
   "metadata": {
    "papermill": {
     "duration": 0.029856,
     "end_time": "2021-12-25T07:06:44.520819",
     "exception": false,
     "start_time": "2021-12-25T07:06:44.490963",
     "status": "completed"
    },
    "tags": []
   },
   "outputs": [],
   "source": []
  }
 ],
 "metadata": {
  "kernelspec": {
   "display_name": "Python 3",
   "language": "python",
   "name": "python3"
  },
  "language_info": {
   "codemirror_mode": {
    "name": "ipython",
    "version": 3
   },
   "file_extension": ".py",
   "mimetype": "text/x-python",
   "name": "python",
   "nbconvert_exporter": "python",
   "pygments_lexer": "ipython3",
   "version": "3.7.12"
  },
  "papermill": {
   "default_parameters": {},
   "duration": 138.03102,
   "end_time": "2021-12-25T07:06:45.361917",
   "environment_variables": {},
   "exception": null,
   "input_path": "__notebook__.ipynb",
   "output_path": "__notebook__.ipynb",
   "parameters": {},
   "start_time": "2021-12-25T07:04:27.330897",
   "version": "2.3.3"
  }
 },
 "nbformat": 4,
 "nbformat_minor": 5
}
