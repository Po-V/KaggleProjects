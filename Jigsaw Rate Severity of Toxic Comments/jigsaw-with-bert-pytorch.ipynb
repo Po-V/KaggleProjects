{
 "cells": [
  {
   "cell_type": "code",
   "execution_count": 1,
   "id": "0de7b5b4",
   "metadata": {
    "execution": {
     "iopub.execute_input": "2022-01-20T02:08:47.827526Z",
     "iopub.status.busy": "2022-01-20T02:08:47.826019Z",
     "iopub.status.idle": "2022-01-20T02:08:47.835852Z",
     "shell.execute_reply": "2022-01-20T02:08:47.835313Z",
     "shell.execute_reply.started": "2022-01-18T15:43:16.491869Z"
    },
    "papermill": {
     "duration": 0.033705,
     "end_time": "2022-01-20T02:08:47.835992",
     "exception": false,
     "start_time": "2022-01-20T02:08:47.802287",
     "status": "completed"
    },
    "tags": []
   },
   "outputs": [],
   "source": [
    "import pandas as pd\n",
    "import numpy as np"
   ]
  },
  {
   "cell_type": "code",
   "execution_count": 2,
   "id": "68223650",
   "metadata": {
    "execution": {
     "iopub.execute_input": "2022-01-20T02:08:47.887811Z",
     "iopub.status.busy": "2022-01-20T02:08:47.886746Z",
     "iopub.status.idle": "2022-01-20T02:08:49.474586Z",
     "shell.execute_reply": "2022-01-20T02:08:49.475052Z",
     "shell.execute_reply.started": "2022-01-18T15:43:16.534297Z"
    },
    "papermill": {
     "duration": 1.619855,
     "end_time": "2022-01-20T02:08:49.475206",
     "exception": false,
     "start_time": "2022-01-20T02:08:47.855351",
     "status": "completed"
    },
    "tags": []
   },
   "outputs": [
    {
     "name": "stdout",
     "output_type": "stream",
     "text": [
      "There are 1 GPU(s) available.\n",
      "We will use the GPU: Tesla P100-PCIE-16GB\n"
     ]
    }
   ],
   "source": [
    "import torch\n",
    "\n",
    "if torch.cuda.is_available():    \n",
    "\n",
    "    device = torch.device(\"cuda\")\n",
    "\n",
    "    print('There are %d GPU(s) available.' % torch.cuda.device_count())\n",
    "\n",
    "    print('We will use the GPU:', torch.cuda.get_device_name(0))\n",
    "\n",
    "else:\n",
    "    print('No GPU available, using the CPU instead.')\n",
    "    device = torch.device(\"cpu\")"
   ]
  },
  {
   "cell_type": "code",
   "execution_count": 3,
   "id": "903b0653",
   "metadata": {
    "execution": {
     "iopub.execute_input": "2022-01-20T02:08:49.517574Z",
     "iopub.status.busy": "2022-01-20T02:08:49.517065Z",
     "iopub.status.idle": "2022-01-20T02:08:51.450743Z",
     "shell.execute_reply": "2022-01-20T02:08:51.451184Z",
     "shell.execute_reply.started": "2022-01-18T15:43:18.190483Z"
    },
    "papermill": {
     "duration": 1.956946,
     "end_time": "2022-01-20T02:08:51.451328",
     "exception": false,
     "start_time": "2022-01-20T02:08:49.494382",
     "status": "completed"
    },
    "tags": []
   },
   "outputs": [
    {
     "data": {
      "text/html": [
       "<div>\n",
       "<style scoped>\n",
       "    .dataframe tbody tr th:only-of-type {\n",
       "        vertical-align: middle;\n",
       "    }\n",
       "\n",
       "    .dataframe tbody tr th {\n",
       "        vertical-align: top;\n",
       "    }\n",
       "\n",
       "    .dataframe thead th {\n",
       "        text-align: right;\n",
       "    }\n",
       "</style>\n",
       "<table border=\"1\" class=\"dataframe\">\n",
       "  <thead>\n",
       "    <tr style=\"text-align: right;\">\n",
       "      <th></th>\n",
       "      <th>id</th>\n",
       "      <th>comment_text</th>\n",
       "      <th>toxic</th>\n",
       "      <th>severe_toxic</th>\n",
       "      <th>obscene</th>\n",
       "      <th>threat</th>\n",
       "      <th>insult</th>\n",
       "      <th>identity_hate</th>\n",
       "    </tr>\n",
       "  </thead>\n",
       "  <tbody>\n",
       "    <tr>\n",
       "      <th>0</th>\n",
       "      <td>0000997932d777bf</td>\n",
       "      <td>Explanation\\nWhy the edits made under my usern...</td>\n",
       "      <td>0</td>\n",
       "      <td>0</td>\n",
       "      <td>0</td>\n",
       "      <td>0</td>\n",
       "      <td>0</td>\n",
       "      <td>0</td>\n",
       "    </tr>\n",
       "    <tr>\n",
       "      <th>1</th>\n",
       "      <td>000103f0d9cfb60f</td>\n",
       "      <td>D'aww! He matches this background colour I'm s...</td>\n",
       "      <td>0</td>\n",
       "      <td>0</td>\n",
       "      <td>0</td>\n",
       "      <td>0</td>\n",
       "      <td>0</td>\n",
       "      <td>0</td>\n",
       "    </tr>\n",
       "    <tr>\n",
       "      <th>2</th>\n",
       "      <td>000113f07ec002fd</td>\n",
       "      <td>Hey man, I'm really not trying to edit war. It...</td>\n",
       "      <td>0</td>\n",
       "      <td>0</td>\n",
       "      <td>0</td>\n",
       "      <td>0</td>\n",
       "      <td>0</td>\n",
       "      <td>0</td>\n",
       "    </tr>\n",
       "    <tr>\n",
       "      <th>3</th>\n",
       "      <td>0001b41b1c6bb37e</td>\n",
       "      <td>\"\\nMore\\nI can't make any real suggestions on ...</td>\n",
       "      <td>0</td>\n",
       "      <td>0</td>\n",
       "      <td>0</td>\n",
       "      <td>0</td>\n",
       "      <td>0</td>\n",
       "      <td>0</td>\n",
       "    </tr>\n",
       "    <tr>\n",
       "      <th>4</th>\n",
       "      <td>0001d958c54c6e35</td>\n",
       "      <td>You, sir, are my hero. Any chance you remember...</td>\n",
       "      <td>0</td>\n",
       "      <td>0</td>\n",
       "      <td>0</td>\n",
       "      <td>0</td>\n",
       "      <td>0</td>\n",
       "      <td>0</td>\n",
       "    </tr>\n",
       "  </tbody>\n",
       "</table>\n",
       "</div>"
      ],
      "text/plain": [
       "                 id                                       comment_text  toxic  \\\n",
       "0  0000997932d777bf  Explanation\\nWhy the edits made under my usern...      0   \n",
       "1  000103f0d9cfb60f  D'aww! He matches this background colour I'm s...      0   \n",
       "2  000113f07ec002fd  Hey man, I'm really not trying to edit war. It...      0   \n",
       "3  0001b41b1c6bb37e  \"\\nMore\\nI can't make any real suggestions on ...      0   \n",
       "4  0001d958c54c6e35  You, sir, are my hero. Any chance you remember...      0   \n",
       "\n",
       "   severe_toxic  obscene  threat  insult  identity_hate  \n",
       "0             0        0       0       0              0  \n",
       "1             0        0       0       0              0  \n",
       "2             0        0       0       0              0  \n",
       "3             0        0       0       0              0  \n",
       "4             0        0       0       0              0  "
      ]
     },
     "execution_count": 3,
     "metadata": {},
     "output_type": "execute_result"
    }
   ],
   "source": [
    "train = pd.read_csv('../input/jigsaw-toxic-comment-classification-challenge/train.csv')\n",
    "train.head()"
   ]
  },
  {
   "cell_type": "code",
   "execution_count": 4,
   "id": "8b874177",
   "metadata": {
    "execution": {
     "iopub.execute_input": "2022-01-20T02:08:51.502799Z",
     "iopub.status.busy": "2022-01-20T02:08:51.501998Z",
     "iopub.status.idle": "2022-01-20T02:08:51.508196Z",
     "shell.execute_reply": "2022-01-20T02:08:51.507749Z",
     "shell.execute_reply.started": "2022-01-18T15:43:20.642563Z"
    },
    "papermill": {
     "duration": 0.037045,
     "end_time": "2022-01-20T02:08:51.508307",
     "exception": false,
     "start_time": "2022-01-20T02:08:51.471262",
     "status": "completed"
    },
    "tags": []
   },
   "outputs": [],
   "source": [
    "train['y'] = (train[['toxic', 'severe_toxic', 'obscene', 'threat', 'insult', 'identity_hate']].sum(axis = 1) >0 ).astype(int)"
   ]
  },
  {
   "cell_type": "code",
   "execution_count": 5,
   "id": "b5cc1083",
   "metadata": {
    "execution": {
     "iopub.execute_input": "2022-01-20T02:08:51.552593Z",
     "iopub.status.busy": "2022-01-20T02:08:51.551684Z",
     "iopub.status.idle": "2022-01-20T02:08:51.584225Z",
     "shell.execute_reply": "2022-01-20T02:08:51.583709Z",
     "shell.execute_reply.started": "2022-01-18T15:43:20.673071Z"
    },
    "papermill": {
     "duration": 0.056933,
     "end_time": "2022-01-20T02:08:51.584358",
     "exception": false,
     "start_time": "2022-01-20T02:08:51.527425",
     "status": "completed"
    },
    "tags": []
   },
   "outputs": [],
   "source": [
    "min_len = (train['y']> 0).sum()\n",
    "train_undersample = train[train['y'] == 0].sample(n=min_len, random_state=2020)\n",
    "train_new = pd.concat([train[train['y'] > 0], train_undersample])"
   ]
  },
  {
   "cell_type": "code",
   "execution_count": 6,
   "id": "15857a60",
   "metadata": {
    "execution": {
     "iopub.execute_input": "2022-01-20T02:08:51.631530Z",
     "iopub.status.busy": "2022-01-20T02:08:51.629995Z",
     "iopub.status.idle": "2022-01-20T02:08:51.632166Z",
     "shell.execute_reply": "2022-01-20T02:08:51.632562Z",
     "shell.execute_reply.started": "2022-01-18T15:43:20.756716Z"
    },
    "papermill": {
     "duration": 0.028454,
     "end_time": "2022-01-20T02:08:51.632703",
     "exception": false,
     "start_time": "2022-01-20T02:08:51.604249",
     "status": "completed"
    },
    "tags": []
   },
   "outputs": [],
   "source": [
    "def text_cleaning(text):\n",
    "    '''\n",
    "    Cleans text into a basic form for NLP. Operations include the following:-\n",
    "    1. Remove special charecters like &, #, etc\n",
    "    2. Removes extra spaces\n",
    "    3. Removes embedded URL links\n",
    "    4. Removes HTML tags\n",
    "    5. Removes emojis\n",
    "    \n",
    "    text - Text piece to be cleaned.\n",
    "    '''\n",
    "    template = re.compile(r'https?://\\S+|www\\.\\S+') #Removes website links\n",
    "    text = template.sub(r'', text)\n",
    "    \n",
    "    soup = BeautifulSoup(text, 'lxml') #Removes HTML tags\n",
    "    only_text = soup.get_text()\n",
    "    text = only_text\n",
    "    \n",
    "    emoji_pattern = re.compile(\"[\"\n",
    "                               u\"\\U0001F600-\\U0001F64F\"  # emoticons\n",
    "                               u\"\\U0001F300-\\U0001F5FF\"  # symbols & pictographs\n",
    "                               u\"\\U0001F680-\\U0001F6FF\"  # transport & map symbols\n",
    "                               u\"\\U0001F1E0-\\U0001F1FF\"  # flags (iOS)\n",
    "                               u\"\\U00002702-\\U000027B0\"\n",
    "                               u\"\\U000024C2-\\U0001F251\"\n",
    "                               \"]+\", flags=re.UNICODE)\n",
    "    text = emoji_pattern.sub(r'', text)\n",
    "    \n",
    "    text = re.sub(r\"[^a-zA-Z\\d]\", \" \", text) #Remove special Charecters\n",
    "    text = re.sub(' +', ' ', text) #Remove Extra Spaces\n",
    "    text = text.strip() # remove spaces at the beginning and at the end of string\n",
    "    return text"
   ]
  },
  {
   "cell_type": "code",
   "execution_count": 7,
   "id": "49834822",
   "metadata": {
    "execution": {
     "iopub.execute_input": "2022-01-20T02:08:51.675703Z",
     "iopub.status.busy": "2022-01-20T02:08:51.675146Z",
     "iopub.status.idle": "2022-01-20T02:09:02.969535Z",
     "shell.execute_reply": "2022-01-20T02:09:02.970044Z",
     "shell.execute_reply.started": "2022-01-18T15:43:20.773223Z"
    },
    "papermill": {
     "duration": 11.318403,
     "end_time": "2022-01-20T02:09:02.970237",
     "exception": false,
     "start_time": "2022-01-20T02:08:51.651834",
     "status": "completed"
    },
    "tags": []
   },
   "outputs": [],
   "source": [
    "from nltk.corpus import stopwords\n",
    "import re\n",
    "from bs4 import BeautifulSoup\n",
    "from collections import defaultdict\n",
    "\n",
    "stop = stopwords.words('english')\n",
    "train_new['comment_text'] = train_new['comment_text'].apply(text_cleaning)"
   ]
  },
  {
   "cell_type": "code",
   "execution_count": 8,
   "id": "6cca40a7",
   "metadata": {
    "execution": {
     "iopub.execute_input": "2022-01-20T02:09:03.064320Z",
     "iopub.status.busy": "2022-01-20T02:09:03.030603Z",
     "iopub.status.idle": "2022-01-20T02:09:03.145946Z",
     "shell.execute_reply": "2022-01-20T02:09:03.145475Z",
     "shell.execute_reply.started": "2022-01-18T15:43:36.278053Z"
    },
    "papermill": {
     "duration": 0.156168,
     "end_time": "2022-01-20T02:09:03.146072",
     "exception": false,
     "start_time": "2022-01-20T02:09:02.989904",
     "status": "completed"
    },
    "tags": []
   },
   "outputs": [],
   "source": [
    "s = train_new['comment_text'].apply(lambda x : len(str(x).split()))"
   ]
  },
  {
   "cell_type": "code",
   "execution_count": 9,
   "id": "192968c6",
   "metadata": {
    "execution": {
     "iopub.execute_input": "2022-01-20T02:09:03.188965Z",
     "iopub.status.busy": "2022-01-20T02:09:03.188365Z",
     "iopub.status.idle": "2022-01-20T02:09:03.889839Z",
     "shell.execute_reply": "2022-01-20T02:09:03.890372Z",
     "shell.execute_reply.started": "2022-01-18T15:43:36.451825Z"
    },
    "papermill": {
     "duration": 0.724784,
     "end_time": "2022-01-20T02:09:03.890524",
     "exception": false,
     "start_time": "2022-01-20T02:09:03.165740",
     "status": "completed"
    },
    "tags": []
   },
   "outputs": [
    {
     "name": "stderr",
     "output_type": "stream",
     "text": [
      "/opt/conda/lib/python3.7/site-packages/seaborn/distributions.py:2619: FutureWarning: `distplot` is a deprecated function and will be removed in a future version. Please adapt your code to use either `displot` (a figure-level function with similar flexibility) or `histplot` (an axes-level function for histograms).\n",
      "  warnings.warn(msg, FutureWarning)\n"
     ]
    },
    {
     "data": {
      "text/plain": [
       "<AxesSubplot:xlabel='comment_text', ylabel='Density'>"
      ]
     },
     "execution_count": 9,
     "metadata": {},
     "output_type": "execute_result"
    },
    {
     "data": {
      "image/png": "[encoded data removed]",
      "text/plain": [
       "<Figure size 432x288 with 1 Axes>"
      ]
     },
     "metadata": {
      "needs_background": "light"
     },
     "output_type": "display_data"
    }
   ],
   "source": [
    "import seaborn as sns\n",
    "\n",
    "sns.distplot(s)"
   ]
  },
  {
   "cell_type": "code",
   "execution_count": 10,
   "id": "17e60788",
   "metadata": {
    "execution": {
     "iopub.execute_input": "2022-01-20T02:09:03.937989Z",
     "iopub.status.busy": "2022-01-20T02:09:03.937304Z",
     "iopub.status.idle": "2022-01-20T02:09:03.939942Z",
     "shell.execute_reply": "2022-01-20T02:09:03.940337Z",
     "shell.execute_reply.started": "2022-01-18T15:43:37.225932Z"
    },
    "papermill": {
     "duration": 0.028923,
     "end_time": "2022-01-20T02:09:03.940459",
     "exception": false,
     "start_time": "2022-01-20T02:09:03.911536",
     "status": "completed"
    },
    "tags": []
   },
   "outputs": [
    {
     "data": {
      "text/plain": [
       "6          COCKSUCKER BEFORE YOU PISS AROUND ON MY WORK\n",
       "12    Hey what is it talk What is it an exclusive gr...\n",
       "16    Bye Don t look come or think of comming back T...\n",
       "42    You are gay or antisemmitian Archangel WHite T...\n",
       "43               FUCK YOUR FILTHY MOTHER IN THE ASS DRY\n",
       "Name: comment_text, dtype: object"
      ]
     },
     "execution_count": 10,
     "metadata": {},
     "output_type": "execute_result"
    }
   ],
   "source": [
    "train_new['comment_text'].head()"
   ]
  },
  {
   "cell_type": "code",
   "execution_count": 11,
   "id": "08f5e4d4",
   "metadata": {
    "execution": {
     "iopub.execute_input": "2022-01-20T02:09:03.989385Z",
     "iopub.status.busy": "2022-01-20T02:09:03.988893Z",
     "iopub.status.idle": "2022-01-20T02:09:04.001084Z",
     "shell.execute_reply": "2022-01-20T02:09:04.001522Z",
     "shell.execute_reply.started": "2022-01-18T15:43:37.242025Z"
    },
    "papermill": {
     "duration": 0.038806,
     "end_time": "2022-01-20T02:09:04.001668",
     "exception": false,
     "start_time": "2022-01-20T02:09:03.962862",
     "status": "completed"
    },
    "tags": []
   },
   "outputs": [],
   "source": [
    "import sklearn\n",
    "train_new['comment_text'], train_new['y'] = sklearn.utils.shuffle(train_new['comment_text'], train_new['y'], random_state = 2021)"
   ]
  },
  {
   "cell_type": "code",
   "execution_count": 12,
   "id": "11688aac",
   "metadata": {
    "execution": {
     "iopub.execute_input": "2022-01-20T02:09:04.046278Z",
     "iopub.status.busy": "2022-01-20T02:09:04.045451Z",
     "iopub.status.idle": "2022-01-20T02:09:09.311956Z",
     "shell.execute_reply": "2022-01-20T02:09:09.312431Z",
     "shell.execute_reply.started": "2022-01-18T15:43:37.275625Z"
    },
    "papermill": {
     "duration": 5.290113,
     "end_time": "2022-01-20T02:09:09.312585",
     "exception": false,
     "start_time": "2022-01-20T02:09:04.022472",
     "status": "completed"
    },
    "tags": []
   },
   "outputs": [],
   "source": [
    "import transformers\n",
    "\n",
    "tokenizer = transformers.AutoTokenizer.from_pretrained('../input/huggingface-bert/bert-base-cased')"
   ]
  },
  {
   "cell_type": "code",
   "execution_count": 13,
   "id": "c82d506d",
   "metadata": {
    "execution": {
     "iopub.execute_input": "2022-01-20T02:09:09.368910Z",
     "iopub.status.busy": "2022-01-20T02:09:09.368102Z",
     "iopub.status.idle": "2022-01-20T02:09:19.810517Z",
     "shell.execute_reply": "2022-01-20T02:09:19.809564Z",
     "shell.execute_reply.started": "2022-01-18T15:43:45.282578Z"
    },
    "papermill": {
     "duration": 10.476488,
     "end_time": "2022-01-20T02:09:19.810679",
     "exception": false,
     "start_time": "2022-01-20T02:09:09.334191",
     "status": "completed"
    },
    "tags": []
   },
   "outputs": [],
   "source": [
    "inputs = tokenizer(train_new['comment_text'].values.tolist(), padding =True, max_length = 160, truncation = True, add_special_tokens=True,return_attention_mask=True, return_tensors='pt')"
   ]
  },
  {
   "cell_type": "code",
   "execution_count": 14,
   "id": "de1199de",
   "metadata": {
    "execution": {
     "iopub.execute_input": "2022-01-20T02:09:19.856422Z",
     "iopub.status.busy": "2022-01-20T02:09:19.855640Z",
     "iopub.status.idle": "2022-01-20T02:09:19.858126Z",
     "shell.execute_reply": "2022-01-20T02:09:19.857691Z",
     "shell.execute_reply.started": "2022-01-18T15:43:53.850541Z"
    },
    "papermill": {
     "duration": 0.02638,
     "end_time": "2022-01-20T02:09:19.858248",
     "exception": false,
     "start_time": "2022-01-20T02:09:19.831868",
     "status": "completed"
    },
    "tags": []
   },
   "outputs": [],
   "source": [
    "# tokenizer.convert_ids_to_tokens(inputs['input_ids'][11]) "
   ]
  },
  {
   "cell_type": "code",
   "execution_count": 15,
   "id": "0b772778",
   "metadata": {
    "execution": {
     "iopub.execute_input": "2022-01-20T02:09:19.917383Z",
     "iopub.status.busy": "2022-01-20T02:09:19.916613Z",
     "iopub.status.idle": "2022-01-20T02:09:19.919427Z",
     "shell.execute_reply": "2022-01-20T02:09:19.919862Z",
     "shell.execute_reply.started": "2022-01-18T15:43:53.858196Z"
    },
    "papermill": {
     "duration": 0.04084,
     "end_time": "2022-01-20T02:09:19.919990",
     "exception": false,
     "start_time": "2022-01-20T02:09:19.879150",
     "status": "completed"
    },
    "tags": []
   },
   "outputs": [
    {
     "data": {
      "text/plain": [
       "160"
      ]
     },
     "execution_count": 15,
     "metadata": {},
     "output_type": "execute_result"
    }
   ],
   "source": [
    "len(inputs['input_ids'][0])"
   ]
  },
  {
   "cell_type": "code",
   "execution_count": 16,
   "id": "614ce5a1",
   "metadata": {
    "execution": {
     "iopub.execute_input": "2022-01-20T02:09:19.966804Z",
     "iopub.status.busy": "2022-01-20T02:09:19.966134Z",
     "iopub.status.idle": "2022-01-20T02:09:19.968712Z",
     "shell.execute_reply": "2022-01-20T02:09:19.969176Z",
     "shell.execute_reply.started": "2022-01-18T15:43:53.889884Z"
    },
    "papermill": {
     "duration": 0.028087,
     "end_time": "2022-01-20T02:09:19.969305",
     "exception": false,
     "start_time": "2022-01-20T02:09:19.941218",
     "status": "completed"
    },
    "tags": []
   },
   "outputs": [
    {
     "data": {
      "text/plain": [
       "dict_keys(['input_ids', 'token_type_ids', 'attention_mask'])"
      ]
     },
     "execution_count": 16,
     "metadata": {},
     "output_type": "execute_result"
    }
   ],
   "source": [
    "inputs.keys()"
   ]
  },
  {
   "cell_type": "code",
   "execution_count": 17,
   "id": "10f32ff2",
   "metadata": {
    "execution": {
     "iopub.execute_input": "2022-01-20T02:09:20.017591Z",
     "iopub.status.busy": "2022-01-20T02:09:20.017059Z",
     "iopub.status.idle": "2022-01-20T02:09:20.024880Z",
     "shell.execute_reply": "2022-01-20T02:09:20.025298Z",
     "shell.execute_reply.started": "2022-01-18T15:43:53.907401Z"
    },
    "papermill": {
     "duration": 0.03461,
     "end_time": "2022-01-20T02:09:20.025415",
     "exception": false,
     "start_time": "2022-01-20T02:09:19.990805",
     "status": "completed"
    },
    "tags": []
   },
   "outputs": [],
   "source": [
    "import torch\n",
    "from torch.utils.data import TensorDataset, DataLoader\n",
    "\n",
    "batch_size = 32\n",
    "\n",
    "target = torch.tensor(train_new['y'].astype(np.float32).values)\n",
    "train_data = TensorDataset(inputs['input_ids'], inputs['attention_mask'], target)\n",
    "dataloader = DataLoader(train_data, batch_size = batch_size)"
   ]
  },
  {
   "cell_type": "code",
   "execution_count": 18,
   "id": "dfd6c948",
   "metadata": {
    "execution": {
     "iopub.execute_input": "2022-01-20T02:09:20.070657Z",
     "iopub.status.busy": "2022-01-20T02:09:20.069849Z",
     "iopub.status.idle": "2022-01-20T02:43:04.362206Z",
     "shell.execute_reply": "2022-01-20T02:43:04.362920Z",
     "shell.execute_reply.started": "2022-01-18T15:43:53.937193Z"
    },
    "papermill": {
     "duration": 2024.316435,
     "end_time": "2022-01-20T02:43:04.363082",
     "exception": false,
     "start_time": "2022-01-20T02:09:20.046647",
     "status": "completed"
    },
    "tags": []
   },
   "outputs": [
    {
     "name": "stderr",
     "output_type": "stream",
     "text": [
      "Some weights of the model checkpoint at ../input/huggingface-bert/bert-base-cased were not used when initializing BertForSequenceClassification: ['cls.seq_relationship.bias', 'cls.predictions.transform.LayerNorm.weight', 'cls.predictions.transform.dense.bias', 'cls.predictions.transform.LayerNorm.bias', 'cls.predictions.bias', 'cls.seq_relationship.weight', 'cls.predictions.decoder.weight', 'cls.predictions.transform.dense.weight']\n",
      "- This IS expected if you are initializing BertForSequenceClassification from the checkpoint of a model trained on another task or with another architecture (e.g. initializing a BertForSequenceClassification model from a BertForPreTraining model).\n",
      "- This IS NOT expected if you are initializing BertForSequenceClassification from the checkpoint of a model that you expect to be exactly identical (initializing a BertForSequenceClassification model from a BertForSequenceClassification model).\n",
      "Some weights of BertForSequenceClassification were not initialized from the model checkpoint at ../input/huggingface-bert/bert-base-cased and are newly initialized: ['classifier.bias', 'classifier.weight']\n",
      "You should probably TRAIN this model on a down-stream task to be able to use it for predictions and inference.\n"
     ]
    },
    {
     "data": {
      "application/vnd.jupyter.widget-view+json": {
       "model_id": "1b4cb497de16474f882aefcdc2347d11",
       "version_major": 2,
       "version_minor": 0
      },
      "text/plain": [
       "  0%|          | 0/4060 [00:00<?, ?it/s]"
      ]
     },
     "metadata": {},
     "output_type": "display_data"
    },
    {
     "name": "stdout",
     "output_type": "stream",
     "text": [
      "Training Epoch  0\n",
      "  Average training loss: 0.01\n",
      "Training Epoch  1\n",
      "  Average training loss: 0.01\n",
      "Training Epoch  2\n",
      "  Average training loss: 0.01\n",
      "Training Epoch  3\n",
      "  Average training loss: 0.02\n"
     ]
    }
   ],
   "source": [
    "from transformers import TFBertModel, BertConfig, AdamW, BertModel,get_linear_schedule_with_warmup, BertForSequenceClassification\n",
    "from tqdm.auto import tqdm\n",
    "\n",
    "\n",
    "config = BertConfig.from_pretrained('../input/huggingface-bert/bert-base-cased', output_hidden_states = False)\n",
    "\n",
    "model = BertForSequenceClassification.from_pretrained('../input/huggingface-bert/bert-base-cased', num_labels=1, output_hidden_states = False)\n",
    "\n",
    "model.to(device)\n",
    "\n",
    "optimizer = AdamW(model.parameters(), lr = 3e-5)\n",
    "epochs = 4\n",
    "\n",
    "total_steps = len(dataloader)*epochs\n",
    "\n",
    "progress_bar = tqdm(range(total_steps))\n",
    "\n",
    "scheduler = get_linear_schedule_with_warmup(optimizer, num_warmup_steps = 0, num_training_steps = total_steps)\n",
    "\n",
    "loss_vals = []\n",
    "\n",
    "for epoch in range(epochs):\n",
    "    print('Training Epoch ', epoch)\n",
    "    model.train()\n",
    "    total_loss = 0\n",
    "    \n",
    "    for step, batch in enumerate(dataloader):\n",
    "        batch_input_ids = batch[0].to(device)\n",
    "        batch_input_mask = batch[1].to(device)\n",
    "        batch_labels = batch[2].to(device)\n",
    "        \n",
    "        optimizer.zero_grad()\n",
    "        \n",
    "        outputs = model(batch_input_ids, token_type_ids=None, attention_mask = batch_input_mask, labels = batch_labels)\n",
    "#         print(outputs.keys()) # loss, logits\n",
    "        \n",
    "        loss = outputs[0].float()\n",
    "        \n",
    "        total_loss += loss.item()\n",
    "        \n",
    "        loss.backward()\n",
    "        \n",
    "        torch.nn.utils.clip_grad_norm_(model.parameters(), 1.0)\n",
    "        \n",
    "        optimizer.step()\n",
    "        \n",
    "        scheduler.step()\n",
    "        \n",
    "        progress_bar.update(1)\n",
    "        \n",
    "    avg_epoch_loss = total_loss / len(dataloader)\n",
    "    \n",
    "    loss_vals.append(avg_epoch_loss)\n",
    "\n",
    "    print(\"  Average training loss: {0:.2f}\".format(avg_epoch_loss))"
   ]
  },
  {
   "cell_type": "code",
   "execution_count": 19,
   "id": "f6cfc8c2",
   "metadata": {
    "execution": {
     "iopub.execute_input": "2022-01-20T02:43:04.415548Z",
     "iopub.status.busy": "2022-01-20T02:43:04.414899Z",
     "iopub.status.idle": "2022-01-20T02:43:04.525768Z",
     "shell.execute_reply": "2022-01-20T02:43:04.526576Z",
     "shell.execute_reply.started": "2022-01-18T15:46:46.155652Z"
    },
    "papermill": {
     "duration": 0.139783,
     "end_time": "2022-01-20T02:43:04.526761",
     "exception": false,
     "start_time": "2022-01-20T02:43:04.386978",
     "status": "completed"
    },
    "tags": []
   },
   "outputs": [],
   "source": [
    "test = pd.read_csv('../input/jigsaw-toxic-severity-rating/comments_to_score.csv')"
   ]
  },
  {
   "cell_type": "code",
   "execution_count": 20,
   "id": "31d248cf",
   "metadata": {
    "execution": {
     "iopub.execute_input": "2022-01-20T02:43:04.583126Z",
     "iopub.status.busy": "2022-01-20T02:43:04.582262Z",
     "iopub.status.idle": "2022-01-20T02:43:06.854591Z",
     "shell.execute_reply": "2022-01-20T02:43:06.853489Z",
     "shell.execute_reply.started": "2022-01-18T15:46:47.135Z"
    },
    "papermill": {
     "duration": 2.302993,
     "end_time": "2022-01-20T02:43:06.854800",
     "exception": false,
     "start_time": "2022-01-20T02:43:04.551807",
     "status": "completed"
    },
    "tags": []
   },
   "outputs": [],
   "source": [
    "test['text'] = test['text'].apply(text_cleaning)"
   ]
  },
  {
   "cell_type": "code",
   "execution_count": 21,
   "id": "2c2961d0",
   "metadata": {
    "execution": {
     "iopub.execute_input": "2022-01-20T02:43:06.944580Z",
     "iopub.status.busy": "2022-01-20T02:43:06.943694Z",
     "iopub.status.idle": "2022-01-20T02:43:09.629231Z",
     "shell.execute_reply": "2022-01-20T02:43:09.628700Z",
     "shell.execute_reply.started": "2022-01-18T15:46:51.803401Z"
    },
    "papermill": {
     "duration": 2.742859,
     "end_time": "2022-01-20T02:43:09.629367",
     "exception": false,
     "start_time": "2022-01-20T02:43:06.886508",
     "status": "completed"
    },
    "tags": []
   },
   "outputs": [],
   "source": [
    "test_inputs = tokenizer(test['text'].values.tolist(), padding =True, max_length = 160, truncation = True, add_special_tokens=True,return_attention_mask=True, return_tensors='pt')"
   ]
  },
  {
   "cell_type": "code",
   "execution_count": 22,
   "id": "eca91587",
   "metadata": {
    "execution": {
     "iopub.execute_input": "2022-01-20T02:43:09.685735Z",
     "iopub.status.busy": "2022-01-20T02:43:09.684990Z",
     "iopub.status.idle": "2022-01-20T02:43:09.687077Z",
     "shell.execute_reply": "2022-01-20T02:43:09.687456Z",
     "shell.execute_reply.started": "2022-01-18T15:46:58.634543Z"
    },
    "papermill": {
     "duration": 0.032938,
     "end_time": "2022-01-20T02:43:09.687587",
     "exception": false,
     "start_time": "2022-01-20T02:43:09.654649",
     "status": "completed"
    },
    "tags": []
   },
   "outputs": [],
   "source": [
    "test['target'] = 0\n",
    "test['target'] = test['target'].astype(np.float32)\n",
    "\n",
    "test_data = TensorDataset(test_inputs['input_ids'], test_inputs['attention_mask'], torch.tensor(test['target'].values))\n",
    "test_dataloader = DataLoader(test_data, batch_size = batch_size)"
   ]
  },
  {
   "cell_type": "code",
   "execution_count": 23,
   "id": "11d23de6",
   "metadata": {
    "execution": {
     "iopub.execute_input": "2022-01-20T02:43:09.743718Z",
     "iopub.status.busy": "2022-01-20T02:43:09.742918Z",
     "iopub.status.idle": "2022-01-20T02:43:49.528755Z",
     "shell.execute_reply": "2022-01-20T02:43:49.528298Z",
     "shell.execute_reply.started": "2022-01-18T15:47:01.795404Z"
    },
    "papermill": {
     "duration": 39.81786,
     "end_time": "2022-01-20T02:43:49.528947",
     "exception": false,
     "start_time": "2022-01-20T02:43:09.711087",
     "status": "completed"
    },
    "tags": []
   },
   "outputs": [
    {
     "data": {
      "application/vnd.jupyter.widget-view+json": {
       "model_id": "a0efd4a2778248ae9b8e757a44f8020a",
       "version_major": 2,
       "version_minor": 0
      },
      "text/plain": [
       "  0%|          | 0/236 [00:00<?, ?it/s]"
      ]
     },
     "metadata": {},
     "output_type": "display_data"
    }
   ],
   "source": [
    "test_preds = []\n",
    "\n",
    "progress_bar2 = tqdm(range(len(test_dataloader)))\n",
    "\n",
    "for step, batch in enumerate(test_dataloader):\n",
    "    test_input_ids = batch[0].to(device)\n",
    "    test_attention_mask = batch[1].to(device)\n",
    "    test_labels = batch[2].to(device)\n",
    "    \n",
    "    with torch.no_grad():\n",
    "        outputs = model(test_input_ids, token_type_ids=None, attention_mask = test_attention_mask, labels = test_labels)\n",
    "        preds = outputs[1].detach().cpu().numpy()\n",
    "        test_preds.append(preds)\n",
    "    \n",
    "    progress_bar2.update(1)"
   ]
  },
  {
   "cell_type": "code",
   "execution_count": 24,
   "id": "59b60586",
   "metadata": {
    "execution": {
     "iopub.execute_input": "2022-01-20T02:43:49.583223Z",
     "iopub.status.busy": "2022-01-20T02:43:49.582533Z",
     "iopub.status.idle": "2022-01-20T02:43:49.585282Z",
     "shell.execute_reply": "2022-01-20T02:43:49.585649Z",
     "shell.execute_reply.started": "2022-01-18T15:47:32.166019Z"
    },
    "papermill": {
     "duration": 0.031435,
     "end_time": "2022-01-20T02:43:49.585790",
     "exception": false,
     "start_time": "2022-01-20T02:43:49.554355",
     "status": "completed"
    },
    "tags": []
   },
   "outputs": [],
   "source": [
    "test['target']= np.concatenate(test_preds, axis=0)"
   ]
  },
  {
   "cell_type": "code",
   "execution_count": 25,
   "id": "bc763c3c",
   "metadata": {
    "execution": {
     "iopub.execute_input": "2022-01-20T02:43:49.640334Z",
     "iopub.status.busy": "2022-01-20T02:43:49.639421Z",
     "iopub.status.idle": "2022-01-20T02:43:49.650382Z",
     "shell.execute_reply": "2022-01-20T02:43:49.650899Z",
     "shell.execute_reply.started": "2022-01-18T15:48:03.758785Z"
    },
    "papermill": {
     "duration": 0.039632,
     "end_time": "2022-01-20T02:43:49.651030",
     "exception": false,
     "start_time": "2022-01-20T02:43:49.611398",
     "status": "completed"
    },
    "tags": []
   },
   "outputs": [],
   "source": [
    "sub = pd.read_csv('../input/jigsaw-toxic-severity-rating/sample_submission.csv')"
   ]
  },
  {
   "cell_type": "code",
   "execution_count": 26,
   "id": "ffca0184",
   "metadata": {
    "execution": {
     "iopub.execute_input": "2022-01-20T02:43:49.702715Z",
     "iopub.status.busy": "2022-01-20T02:43:49.702216Z",
     "iopub.status.idle": "2022-01-20T02:43:49.726909Z",
     "shell.execute_reply": "2022-01-20T02:43:49.727281Z",
     "shell.execute_reply.started": "2022-01-18T15:48:06.714205Z"
    },
    "papermill": {
     "duration": 0.052564,
     "end_time": "2022-01-20T02:43:49.727403",
     "exception": false,
     "start_time": "2022-01-20T02:43:49.674839",
     "status": "completed"
    },
    "tags": []
   },
   "outputs": [],
   "source": [
    "sub['score'] = test['target']\n",
    "sub.to_csv('submission.csv', index = False)"
   ]
  },
  {
   "cell_type": "code",
   "execution_count": null,
   "id": "f2c27309",
   "metadata": {
    "papermill": {
     "duration": 0.023536,
     "end_time": "2022-01-20T02:43:49.774879",
     "exception": false,
     "start_time": "2022-01-20T02:43:49.751343",
     "status": "completed"
    },
    "tags": []
   },
   "outputs": [],
   "source": []
  }
 ],
 "metadata": {
  "kernelspec": {
   "display_name": "Python 3",
   "language": "python",
   "name": "python3"
  },
  "language_info": {
   "codemirror_mode": {
    "name": "ipython",
    "version": 3
   },
   "file_extension": ".py",
   "mimetype": "text/x-python",
   "name": "python",
   "nbconvert_exporter": "python",
   "pygments_lexer": "ipython3",
   "version": "3.7.12"
  },
  "papermill": {
   "default_parameters": {},
   "duration": 2113.079587,
   "end_time": "2022-01-20T02:43:52.604919",
   "environment_variables": {},
   "exception": null,
   "input_path": "__notebook__.ipynb",
   "output_path": "__notebook__.ipynb",
   "parameters": {},
   "start_time": "2022-01-20T02:08:39.525332",
   "version": "2.3.3"
  },
  "widgets": {
   "application/vnd.jupyter.widget-state+json": {
    "state": {
     "11d388c0b0ef479cbf64258aea632a50": {
      "model_module": "@jupyter-widgets/controls",
      "model_module_version": "1.5.0",
      "model_name": "DescriptionStyleModel",
      "state": {
       "_model_module": "@jupyter-widgets/controls",
       "_model_module_version": "1.5.0",
       "_model_name": "DescriptionStyleModel",
       "_view_count": null,
       "_view_module": "@jupyter-widgets/base",
       "_view_module_version": "1.2.0",
       "_view_name": "StyleView",
       "description_width": ""
      }
     },
     "1b4cb497de16474f882aefcdc2347d11": {
      "model_module": "@jupyter-widgets/controls",
      "model_module_version": "1.5.0",
      "model_name": "HBoxModel",
      "state": {
       "_dom_classes": [],
       "_model_module": "@jupyter-widgets/controls",
       "_model_module_version": "1.5.0",
       "_model_name": "HBoxModel",
       "_view_count": null,
       "_view_module": "@jupyter-widgets/controls",
       "_view_module_version": "1.5.0",
       "_view_name": "HBoxView",
       "box_style": "",
       "children": [
        "IPY_MODEL_a44808f287994aecb76d31bdc637e880",
        "IPY_MODEL_8d5e2f0306f74eb5ab6f16dedbc10e14",
        "IPY_MODEL_f03c1f083c9040a3bfdafc975c02b0dd"
       ],
       "layout": "IPY_MODEL_ee0cb1a9fe4f4820a2efbfff397f2dd3"
      }
     },
     "1b6e7bdf211c4d7d987875950b2e5dde": {
      "model_module": "@jupyter-widgets/controls",
      "model_module_version": "1.5.0",
      "model_name": "HTMLModel",
      "state": {
       "_dom_classes": [],
       "_model_module": "@jupyter-widgets/controls",
       "_model_module_version": "1.5.0",
       "_model_name": "HTMLModel",
       "_view_count": null,
       "_view_module": "@jupyter-widgets/controls",
       "_view_module_version": "1.5.0",
       "_view_name": "HTMLView",
       "description": "",
       "description_tooltip": null,
       "layout": "IPY_MODEL_1f92407f396a4ea8910af79a1b736511",
       "placeholder": "​",
       "style": "IPY_MODEL_3ca4b263b6a84212890e456a1dd8c199",
       "value": "100%"
      }
     },
     "1f92407f396a4ea8910af79a1b736511": {
      "model_module": "@jupyter-widgets/base",
      "model_module_version": "1.2.0",
      "model_name": "LayoutModel",
      "state": {
       "_model_module": "@jupyter-widgets/base",
       "_model_module_version": "1.2.0",
       "_model_name": "LayoutModel",
       "_view_count": null,
       "_view_module": "@jupyter-widgets/base",
       "_view_module_version": "1.2.0",
       "_view_name": "LayoutView",
       "align_content": null,
       "align_items": null,
       "align_self": null,
       "border": null,
       "bottom": null,
       "display": null,
       "flex": null,
       "flex_flow": null,
       "grid_area": null,
       "grid_auto_columns": null,
       "grid_auto_flow": null,
       "grid_auto_rows": null,
       "grid_column": null,
       "grid_gap": null,
       "grid_row": null,
       "grid_template_areas": null,
       "grid_template_columns": null,
       "grid_template_rows": null,
       "height": null,
       "justify_content": null,
       "justify_items": null,
       "left": null,
       "margin": null,
       "max_height": null,
       "max_width": null,
       "min_height": null,
       "min_width": null,
       "object_fit": null,
       "object_position": null,
       "order": null,
       "overflow": null,
       "overflow_x": null,
       "overflow_y": null,
       "padding": null,
       "right": null,
       "top": null,
       "visibility": null,
       "width": null
      }
     },
     "337b9739b53d43cf95eedb8ba70c427b": {
      "model_module": "@jupyter-widgets/controls",
      "model_module_version": "1.5.0",
      "model_name": "ProgressStyleModel",
      "state": {
       "_model_module": "@jupyter-widgets/controls",
       "_model_module_version": "1.5.0",
       "_model_name": "ProgressStyleModel",
       "_view_count": null,
       "_view_module": "@jupyter-widgets/base",
       "_view_module_version": "1.2.0",
       "_view_name": "StyleView",
       "bar_color": null,
       "description_width": ""
      }
     },
     "3ca4b263b6a84212890e456a1dd8c199": {
      "model_module": "@jupyter-widgets/controls",
      "model_module_version": "1.5.0",
      "model_name": "DescriptionStyleModel",
      "state": {
       "_model_module": "@jupyter-widgets/controls",
       "_model_module_version": "1.5.0",
       "_model_name": "DescriptionStyleModel",
       "_view_count": null,
       "_view_module": "@jupyter-widgets/base",
       "_view_module_version": "1.2.0",
       "_view_name": "StyleView",
       "description_width": ""
      }
     },
     "3d17dbc458fb47be8b49a1adbaea19bf": {
      "model_module": "@jupyter-widgets/base",
      "model_module_version": "1.2.0",
      "model_name": "LayoutModel",
      "state": {
       "_model_module": "@jupyter-widgets/base",
       "_model_module_version": "1.2.0",
       "_model_name": "LayoutModel",
       "_view_count": null,
       "_view_module": "@jupyter-widgets/base",
       "_view_module_version": "1.2.0",
       "_view_name": "LayoutView",
       "align_content": null,
       "align_items": null,
       "align_self": null,
       "border": null,
       "bottom": null,
       "display": null,
       "flex": null,
       "flex_flow": null,
       "grid_area": null,
       "grid_auto_columns": null,
       "grid_auto_flow": null,
       "grid_auto_rows": null,
       "grid_column": null,
       "grid_gap": null,
       "grid_row": null,
       "grid_template_areas": null,
       "grid_template_columns": null,
       "grid_template_rows": null,
       "height": null,
       "justify_content": null,
       "justify_items": null,
       "left": null,
       "margin": null,
       "max_height": null,
       "max_width": null,
       "min_height": null,
       "min_width": null,
       "object_fit": null,
       "object_position": null,
       "order": null,
       "overflow": null,
       "overflow_x": null,
       "overflow_y": null,
       "padding": null,
       "right": null,
       "top": null,
       "visibility": null,
       "width": null
      }
     },
     "3d41945d0db74efab88f4ea965c922ff": {
      "model_module": "@jupyter-widgets/controls",
      "model_module_version": "1.5.0",
      "model_name": "ProgressStyleModel",
      "state": {
       "_model_module": "@jupyter-widgets/controls",
       "_model_module_version": "1.5.0",
       "_model_name": "ProgressStyleModel",
       "_view_count": null,
       "_view_module": "@jupyter-widgets/base",
       "_view_module_version": "1.2.0",
       "_view_name": "StyleView",
       "bar_color": null,
       "description_width": ""
      }
     },
     "605573de4596499ca9c46c3267e90f9d": {
      "model_module": "@jupyter-widgets/controls",
      "model_module_version": "1.5.0",
      "model_name": "DescriptionStyleModel",
      "state": {
       "_model_module": "@jupyter-widgets/controls",
       "_model_module_version": "1.5.0",
       "_model_name": "DescriptionStyleModel",
       "_view_count": null,
       "_view_module": "@jupyter-widgets/base",
       "_view_module_version": "1.2.0",
       "_view_name": "StyleView",
       "description_width": ""
      }
     },
     "8d5e2f0306f74eb5ab6f16dedbc10e14": {
      "model_module": "@jupyter-widgets/controls",
      "model_module_version": "1.5.0",
      "model_name": "FloatProgressModel",
      "state": {
       "_dom_classes": [],
       "_model_module": "@jupyter-widgets/controls",
       "_model_module_version": "1.5.0",
       "_model_name": "FloatProgressModel",
       "_view_count": null,
       "_view_module": "@jupyter-widgets/controls",
       "_view_module_version": "1.5.0",
       "_view_name": "ProgressView",
       "bar_style": "",
       "description": "",
       "description_tooltip": null,
       "layout": "IPY_MODEL_cd01bb2efd644b57a7421dc8d28a6ad4",
       "max": 4060.0,
       "min": 0.0,
       "orientation": "horizontal",
       "style": "IPY_MODEL_337b9739b53d43cf95eedb8ba70c427b",
       "value": 4059.0
      }
     },
     "9f68bd8c0d3d406d8f53343185fb57f3": {
      "model_module": "@jupyter-widgets/controls",
      "model_module_version": "1.5.0",
      "model_name": "HTMLModel",
      "state": {
       "_dom_classes": [],
       "_model_module": "@jupyter-widgets/controls",
       "_model_module_version": "1.5.0",
       "_model_name": "HTMLModel",
       "_view_count": null,
       "_view_module": "@jupyter-widgets/controls",
       "_view_module_version": "1.5.0",
       "_view_name": "HTMLView",
       "description": "",
       "description_tooltip": null,
       "layout": "IPY_MODEL_a84c70181f43410e89d0622e886db9cb",
       "placeholder": "​",
       "style": "IPY_MODEL_f4e4de0d1eaf40e4bbecefbb63f99980",
       "value": " 235/236 [00:39&lt;00:00,  5.94it/s]"
      }
     },
     "a0efd4a2778248ae9b8e757a44f8020a": {
      "model_module": "@jupyter-widgets/controls",
      "model_module_version": "1.5.0",
      "model_name": "HBoxModel",
      "state": {
       "_dom_classes": [],
       "_model_module": "@jupyter-widgets/controls",
       "_model_module_version": "1.5.0",
       "_model_name": "HBoxModel",
       "_view_count": null,
       "_view_module": "@jupyter-widgets/controls",
       "_view_module_version": "1.5.0",
       "_view_name": "HBoxView",
       "box_style": "",
       "children": [
        "IPY_MODEL_1b6e7bdf211c4d7d987875950b2e5dde",
        "IPY_MODEL_fbad031f645a414ebf71f62ef3dff173",
        "IPY_MODEL_9f68bd8c0d3d406d8f53343185fb57f3"
       ],
       "layout": "IPY_MODEL_e7e1cca1c464429890299681d1f9ce2c"
      }
     },
     "a44808f287994aecb76d31bdc637e880": {
      "model_module": "@jupyter-widgets/controls",
      "model_module_version": "1.5.0",
      "model_name": "HTMLModel",
      "state": {
       "_dom_classes": [],
       "_model_module": "@jupyter-widgets/controls",
       "_model_module_version": "1.5.0",
       "_model_name": "HTMLModel",
       "_view_count": null,
       "_view_module": "@jupyter-widgets/controls",
       "_view_module_version": "1.5.0",
       "_view_name": "HTMLView",
       "description": "",
       "description_tooltip": null,
       "layout": "IPY_MODEL_3d17dbc458fb47be8b49a1adbaea19bf",
       "placeholder": "​",
       "style": "IPY_MODEL_11d388c0b0ef479cbf64258aea632a50",
       "value": "100%"
      }
     },
     "a84c70181f43410e89d0622e886db9cb": {
      "model_module": "@jupyter-widgets/base",
      "model_module_version": "1.2.0",
      "model_name": "LayoutModel",
      "state": {
       "_model_module": "@jupyter-widgets/base",
       "_model_module_version": "1.2.0",
       "_model_name": "LayoutModel",
       "_view_count": null,
       "_view_module": "@jupyter-widgets/base",
       "_view_module_version": "1.2.0",
       "_view_name": "LayoutView",
       "align_content": null,
       "align_items": null,
       "align_self": null,
       "border": null,
       "bottom": null,
       "display": null,
       "flex": null,
       "flex_flow": null,
       "grid_area": null,
       "grid_auto_columns": null,
       "grid_auto_flow": null,
       "grid_auto_rows": null,
       "grid_column": null,
       "grid_gap": null,
       "grid_row": null,
       "grid_template_areas": null,
       "grid_template_columns": null,
       "grid_template_rows": null,
       "height": null,
       "justify_content": null,
       "justify_items": null,
       "left": null,
       "margin": null,
       "max_height": null,
       "max_width": null,
       "min_height": null,
       "min_width": null,
       "object_fit": null,
       "object_position": null,
       "order": null,
       "overflow": null,
       "overflow_x": null,
       "overflow_y": null,
       "padding": null,
       "right": null,
       "top": null,
       "visibility": null,
       "width": null
      }
     },
     "ae4eba333bef4d8bb37fb8d7eacab04a": {
      "model_module": "@jupyter-widgets/base",
      "model_module_version": "1.2.0",
      "model_name": "LayoutModel",
      "state": {
       "_model_module": "@jupyter-widgets/base",
       "_model_module_version": "1.2.0",
       "_model_name": "LayoutModel",
       "_view_count": null,
       "_view_module": "@jupyter-widgets/base",
       "_view_module_version": "1.2.0",
       "_view_name": "LayoutView",
       "align_content": null,
       "align_items": null,
       "align_self": null,
       "border": null,
       "bottom": null,
       "display": null,
       "flex": null,
       "flex_flow": null,
       "grid_area": null,
       "grid_auto_columns": null,
       "grid_auto_flow": null,
       "grid_auto_rows": null,
       "grid_column": null,
       "grid_gap": null,
       "grid_row": null,
       "grid_template_areas": null,
       "grid_template_columns": null,
       "grid_template_rows": null,
       "height": null,
       "justify_content": null,
       "justify_items": null,
       "left": null,
       "margin": null,
       "max_height": null,
       "max_width": null,
       "min_height": null,
       "min_width": null,
       "object_fit": null,
       "object_position": null,
       "order": null,
       "overflow": null,
       "overflow_x": null,
       "overflow_y": null,
       "padding": null,
       "right": null,
       "top": null,
       "visibility": null,
       "width": null
      }
     },
     "b219f5819b404d4d8b8f9647d5024d36": {
      "model_module": "@jupyter-widgets/base",
      "model_module_version": "1.2.0",
      "model_name": "LayoutModel",
      "state": {
       "_model_module": "@jupyter-widgets/base",
       "_model_module_version": "1.2.0",
       "_model_name": "LayoutModel",
       "_view_count": null,
       "_view_module": "@jupyter-widgets/base",
       "_view_module_version": "1.2.0",
       "_view_name": "LayoutView",
       "align_content": null,
       "align_items": null,
       "align_self": null,
       "border": null,
       "bottom": null,
       "display": null,
       "flex": null,
       "flex_flow": null,
       "grid_area": null,
       "grid_auto_columns": null,
       "grid_auto_flow": null,
       "grid_auto_rows": null,
       "grid_column": null,
       "grid_gap": null,
       "grid_row": null,
       "grid_template_areas": null,
       "grid_template_columns": null,
       "grid_template_rows": null,
       "height": null,
       "justify_content": null,
       "justify_items": null,
       "left": null,
       "margin": null,
       "max_height": null,
       "max_width": null,
       "min_height": null,
       "min_width": null,
       "object_fit": null,
       "object_position": null,
       "order": null,
       "overflow": null,
       "overflow_x": null,
       "overflow_y": null,
       "padding": null,
       "right": null,
       "top": null,
       "visibility": null,
       "width": null
      }
     },
     "cd01bb2efd644b57a7421dc8d28a6ad4": {
      "model_module": "@jupyter-widgets/base",
      "model_module_version": "1.2.0",
      "model_name": "LayoutModel",
      "state": {
       "_model_module": "@jupyter-widgets/base",
       "_model_module_version": "1.2.0",
       "_model_name": "LayoutModel",
       "_view_count": null,
       "_view_module": "@jupyter-widgets/base",
       "_view_module_version": "1.2.0",
       "_view_name": "LayoutView",
       "align_content": null,
       "align_items": null,
       "align_self": null,
       "border": null,
       "bottom": null,
       "display": null,
       "flex": null,
       "flex_flow": null,
       "grid_area": null,
       "grid_auto_columns": null,
       "grid_auto_flow": null,
       "grid_auto_rows": null,
       "grid_column": null,
       "grid_gap": null,
       "grid_row": null,
       "grid_template_areas": null,
       "grid_template_columns": null,
       "grid_template_rows": null,
       "height": null,
       "justify_content": null,
       "justify_items": null,
       "left": null,
       "margin": null,
       "max_height": null,
       "max_width": null,
       "min_height": null,
       "min_width": null,
       "object_fit": null,
       "object_position": null,
       "order": null,
       "overflow": null,
       "overflow_x": null,
       "overflow_y": null,
       "padding": null,
       "right": null,
       "top": null,
       "visibility": null,
       "width": null
      }
     },
     "e7e1cca1c464429890299681d1f9ce2c": {
      "model_module": "@jupyter-widgets/base",
      "model_module_version": "1.2.0",
      "model_name": "LayoutModel",
      "state": {
       "_model_module": "@jupyter-widgets/base",
       "_model_module_version": "1.2.0",
       "_model_name": "LayoutModel",
       "_view_count": null,
       "_view_module": "@jupyter-widgets/base",
       "_view_module_version": "1.2.0",
       "_view_name": "LayoutView",
       "align_content": null,
       "align_items": null,
       "align_self": null,
       "border": null,
       "bottom": null,
       "display": null,
       "flex": null,
       "flex_flow": null,
       "grid_area": null,
       "grid_auto_columns": null,
       "grid_auto_flow": null,
       "grid_auto_rows": null,
       "grid_column": null,
       "grid_gap": null,
       "grid_row": null,
       "grid_template_areas": null,
       "grid_template_columns": null,
       "grid_template_rows": null,
       "height": null,
       "justify_content": null,
       "justify_items": null,
       "left": null,
       "margin": null,
       "max_height": null,
       "max_width": null,
       "min_height": null,
       "min_width": null,
       "object_fit": null,
       "object_position": null,
       "order": null,
       "overflow": null,
       "overflow_x": null,
       "overflow_y": null,
       "padding": null,
       "right": null,
       "top": null,
       "visibility": null,
       "width": null
      }
     },
     "ee0cb1a9fe4f4820a2efbfff397f2dd3": {
      "model_module": "@jupyter-widgets/base",
      "model_module_version": "1.2.0",
      "model_name": "LayoutModel",
      "state": {
       "_model_module": "@jupyter-widgets/base",
       "_model_module_version": "1.2.0",
       "_model_name": "LayoutModel",
       "_view_count": null,
       "_view_module": "@jupyter-widgets/base",
       "_view_module_version": "1.2.0",
       "_view_name": "LayoutView",
       "align_content": null,
       "align_items": null,
       "align_self": null,
       "border": null,
       "bottom": null,
       "display": null,
       "flex": null,
       "flex_flow": null,
       "grid_area": null,
       "grid_auto_columns": null,
       "grid_auto_flow": null,
       "grid_auto_rows": null,
       "grid_column": null,
       "grid_gap": null,
       "grid_row": null,
       "grid_template_areas": null,
       "grid_template_columns": null,
       "grid_template_rows": null,
       "height": null,
       "justify_content": null,
       "justify_items": null,
       "left": null,
       "margin": null,
       "max_height": null,
       "max_width": null,
       "min_height": null,
       "min_width": null,
       "object_fit": null,
       "object_position": null,
       "order": null,
       "overflow": null,
       "overflow_x": null,
       "overflow_y": null,
       "padding": null,
       "right": null,
       "top": null,
       "visibility": null,
       "width": null
      }
     },
     "f03c1f083c9040a3bfdafc975c02b0dd": {
      "model_module": "@jupyter-widgets/controls",
      "model_module_version": "1.5.0",
      "model_name": "HTMLModel",
      "state": {
       "_dom_classes": [],
       "_model_module": "@jupyter-widgets/controls",
       "_model_module_version": "1.5.0",
       "_model_name": "HTMLModel",
       "_view_count": null,
       "_view_module": "@jupyter-widgets/controls",
       "_view_module_version": "1.5.0",
       "_view_name": "HTMLView",
       "description": "",
       "description_tooltip": null,
       "layout": "IPY_MODEL_b219f5819b404d4d8b8f9647d5024d36",
       "placeholder": "​",
       "style": "IPY_MODEL_605573de4596499ca9c46c3267e90f9d",
       "value": " 4059/4060 [33:33&lt;00:00,  2.02it/s]"
      }
     },
     "f4e4de0d1eaf40e4bbecefbb63f99980": {
      "model_module": "@jupyter-widgets/controls",
      "model_module_version": "1.5.0",
      "model_name": "DescriptionStyleModel",
      "state": {
       "_model_module": "@jupyter-widgets/controls",
       "_model_module_version": "1.5.0",
       "_model_name": "DescriptionStyleModel",
       "_view_count": null,
       "_view_module": "@jupyter-widgets/base",
       "_view_module_version": "1.2.0",
       "_view_name": "StyleView",
       "description_width": ""
      }
     },
     "fbad031f645a414ebf71f62ef3dff173": {
      "model_module": "@jupyter-widgets/controls",
      "model_module_version": "1.5.0",
      "model_name": "FloatProgressModel",
      "state": {
       "_dom_classes": [],
       "_model_module": "@jupyter-widgets/controls",
       "_model_module_version": "1.5.0",
       "_model_name": "FloatProgressModel",
       "_view_count": null,
       "_view_module": "@jupyter-widgets/controls",
       "_view_module_version": "1.5.0",
       "_view_name": "ProgressView",
       "bar_style": "",
       "description": "",
       "description_tooltip": null,
       "layout": "IPY_MODEL_ae4eba333bef4d8bb37fb8d7eacab04a",
       "max": 236.0,
       "min": 0.0,
       "orientation": "horizontal",
       "style": "IPY_MODEL_3d41945d0db74efab88f4ea965c922ff",
       "value": 235.0
      }
     }
    },
    "version_major": 2,
    "version_minor": 0
   }
  }
 },
 "nbformat": 4,
 "nbformat_minor": 5
}
