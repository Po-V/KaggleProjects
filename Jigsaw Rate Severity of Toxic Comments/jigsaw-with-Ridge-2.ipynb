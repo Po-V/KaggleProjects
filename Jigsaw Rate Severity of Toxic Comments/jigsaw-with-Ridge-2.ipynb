{
 "cells": [
  {
   "cell_type": "code",
   "execution_count": 1,
   "id": "85dff4cb",
   "metadata": {
    "execution": {
     "iopub.execute_input": "2021-12-25T08:24:43.289124Z",
     "iopub.status.busy": "2021-12-25T08:24:43.287276Z",
     "iopub.status.idle": "2021-12-25T08:24:44.677374Z",
     "shell.execute_reply": "2021-12-25T08:24:44.676547Z",
     "shell.execute_reply.started": "2021-12-25T07:56:29.130998Z"
    },
    "papermill": {
     "duration": 1.424634,
     "end_time": "2021-12-25T08:24:44.677595",
     "exception": false,
     "start_time": "2021-12-25T08:24:43.252961",
     "status": "completed"
    },
    "tags": []
   },
   "outputs": [],
   "source": [
    "import numpy as np\n",
    "import pandas as pd\n",
    "from bs4 import BeautifulSoup\n",
    "from collections import defaultdict\n",
    "from sklearn.feature_extraction.text import TfidfVectorizer, CountVectorizer\n",
    "import re "
   ]
  },
  {
   "cell_type": "code",
   "execution_count": 2,
   "id": "7aa4d185",
   "metadata": {
    "execution": {
     "iopub.execute_input": "2021-12-25T08:24:44.733963Z",
     "iopub.status.busy": "2021-12-25T08:24:44.732851Z",
     "iopub.status.idle": "2021-12-25T08:24:44.939232Z",
     "shell.execute_reply": "2021-12-25T08:24:44.939780Z",
     "shell.execute_reply.started": "2021-12-25T07:56:29.139296Z"
    },
    "papermill": {
     "duration": 0.236366,
     "end_time": "2021-12-25T08:24:44.940025",
     "exception": false,
     "start_time": "2021-12-25T08:24:44.703659",
     "status": "completed"
    },
    "tags": []
   },
   "outputs": [
    {
     "data": {
      "text/html": [
       "<div>\n",
       "<style scoped>\n",
       "    .dataframe tbody tr th:only-of-type {\n",
       "        vertical-align: middle;\n",
       "    }\n",
       "\n",
       "    .dataframe tbody tr th {\n",
       "        vertical-align: top;\n",
       "    }\n",
       "\n",
       "    .dataframe thead th {\n",
       "        text-align: right;\n",
       "    }\n",
       "</style>\n",
       "<table border=\"1\" class=\"dataframe\">\n",
       "  <thead>\n",
       "    <tr style=\"text-align: right;\">\n",
       "      <th></th>\n",
       "      <th>comment_id</th>\n",
       "      <th>text</th>\n",
       "    </tr>\n",
       "  </thead>\n",
       "  <tbody>\n",
       "    <tr>\n",
       "      <th>0</th>\n",
       "      <td>114890</td>\n",
       "      <td>\"\\n \\n\\nGjalexei, you asked about whether ther...</td>\n",
       "    </tr>\n",
       "    <tr>\n",
       "      <th>1</th>\n",
       "      <td>732895</td>\n",
       "      <td>Looks like be have an abuser , can you please ...</td>\n",
       "    </tr>\n",
       "    <tr>\n",
       "      <th>2</th>\n",
       "      <td>1139051</td>\n",
       "      <td>I confess to having complete (and apparently b...</td>\n",
       "    </tr>\n",
       "    <tr>\n",
       "      <th>3</th>\n",
       "      <td>1434512</td>\n",
       "      <td>\"\\n\\nFreud's ideas are certainly much discusse...</td>\n",
       "    </tr>\n",
       "    <tr>\n",
       "      <th>4</th>\n",
       "      <td>2084821</td>\n",
       "      <td>It is not just you. This is a laundry list of ...</td>\n",
       "    </tr>\n",
       "  </tbody>\n",
       "</table>\n",
       "</div>"
      ],
      "text/plain": [
       "   comment_id                                               text\n",
       "0      114890  \"\\n \\n\\nGjalexei, you asked about whether ther...\n",
       "1      732895  Looks like be have an abuser , can you please ...\n",
       "2     1139051  I confess to having complete (and apparently b...\n",
       "3     1434512  \"\\n\\nFreud's ideas are certainly much discusse...\n",
       "4     2084821  It is not just you. This is a laundry list of ..."
      ]
     },
     "execution_count": 2,
     "metadata": {},
     "output_type": "execute_result"
    }
   ],
   "source": [
    "comment_to_score = pd.read_csv('../input/jigsaw-toxic-severity-rating/comments_to_score.csv')\n",
    "comment_to_score.head()"
   ]
  },
  {
   "cell_type": "code",
   "execution_count": 3,
   "id": "00bcd298",
   "metadata": {
    "execution": {
     "iopub.execute_input": "2021-12-25T08:24:44.997509Z",
     "iopub.status.busy": "2021-12-25T08:24:44.996803Z",
     "iopub.status.idle": "2021-12-25T08:24:45.002556Z",
     "shell.execute_reply": "2021-12-25T08:24:45.001923Z",
     "shell.execute_reply.started": "2021-12-25T07:56:29.210645Z"
    },
    "papermill": {
     "duration": 0.036083,
     "end_time": "2021-12-25T08:24:45.002709",
     "exception": false,
     "start_time": "2021-12-25T08:24:44.966626",
     "status": "completed"
    },
    "tags": []
   },
   "outputs": [
    {
     "data": {
      "text/plain": [
       "(7537, 2)"
      ]
     },
     "execution_count": 3,
     "metadata": {},
     "output_type": "execute_result"
    }
   ],
   "source": [
    "comment_to_score.shape"
   ]
  },
  {
   "cell_type": "code",
   "execution_count": 4,
   "id": "5321d54b",
   "metadata": {
    "execution": {
     "iopub.execute_input": "2021-12-25T08:24:45.060711Z",
     "iopub.status.busy": "2021-12-25T08:24:45.060022Z",
     "iopub.status.idle": "2021-12-25T08:24:45.630245Z",
     "shell.execute_reply": "2021-12-25T08:24:45.630761Z",
     "shell.execute_reply.started": "2021-12-25T07:56:29.217489Z"
    },
    "papermill": {
     "duration": 0.602353,
     "end_time": "2021-12-25T08:24:45.630980",
     "exception": false,
     "start_time": "2021-12-25T08:24:45.028627",
     "status": "completed"
    },
    "tags": []
   },
   "outputs": [
    {
     "data": {
      "text/html": [
       "<div>\n",
       "<style scoped>\n",
       "    .dataframe tbody tr th:only-of-type {\n",
       "        vertical-align: middle;\n",
       "    }\n",
       "\n",
       "    .dataframe tbody tr th {\n",
       "        vertical-align: top;\n",
       "    }\n",
       "\n",
       "    .dataframe thead th {\n",
       "        text-align: right;\n",
       "    }\n",
       "</style>\n",
       "<table border=\"1\" class=\"dataframe\">\n",
       "  <thead>\n",
       "    <tr style=\"text-align: right;\">\n",
       "      <th></th>\n",
       "      <th>worker</th>\n",
       "      <th>less_toxic</th>\n",
       "      <th>more_toxic</th>\n",
       "    </tr>\n",
       "  </thead>\n",
       "  <tbody>\n",
       "    <tr>\n",
       "      <th>0</th>\n",
       "      <td>313</td>\n",
       "      <td>This article sucks \\n\\nwoo woo wooooooo</td>\n",
       "      <td>WHAT!!!!!!!!?!?!!?!?!!?!?!?!?!!!!!!!!!!!!!!!!!...</td>\n",
       "    </tr>\n",
       "    <tr>\n",
       "      <th>1</th>\n",
       "      <td>188</td>\n",
       "      <td>\"And yes, people should recognize that but the...</td>\n",
       "      <td>Daphne Guinness \\n\\nTop of the mornin' my fav...</td>\n",
       "    </tr>\n",
       "    <tr>\n",
       "      <th>2</th>\n",
       "      <td>82</td>\n",
       "      <td>Western Media?\\n\\nYup, because every crime in...</td>\n",
       "      <td>\"Atom you don't believe actual photos of mastu...</td>\n",
       "    </tr>\n",
       "    <tr>\n",
       "      <th>3</th>\n",
       "      <td>347</td>\n",
       "      <td>And you removed it! You numbskull! I don't car...</td>\n",
       "      <td>You seem to have sand in your vagina.\\n\\nMight...</td>\n",
       "    </tr>\n",
       "    <tr>\n",
       "      <th>4</th>\n",
       "      <td>539</td>\n",
       "      <td>smelly vagina \\n\\nBluerasberry why don't you ...</td>\n",
       "      <td>hey \\n\\nway to support nazis, you racist</td>\n",
       "    </tr>\n",
       "  </tbody>\n",
       "</table>\n",
       "</div>"
      ],
      "text/plain": [
       "   worker                                         less_toxic  \\\n",
       "0     313            This article sucks \\n\\nwoo woo wooooooo   \n",
       "1     188  \"And yes, people should recognize that but the...   \n",
       "2      82   Western Media?\\n\\nYup, because every crime in...   \n",
       "3     347  And you removed it! You numbskull! I don't car...   \n",
       "4     539   smelly vagina \\n\\nBluerasberry why don't you ...   \n",
       "\n",
       "                                          more_toxic  \n",
       "0  WHAT!!!!!!!!?!?!!?!?!!?!?!?!?!!!!!!!!!!!!!!!!!...  \n",
       "1   Daphne Guinness \\n\\nTop of the mornin' my fav...  \n",
       "2  \"Atom you don't believe actual photos of mastu...  \n",
       "3  You seem to have sand in your vagina.\\n\\nMight...  \n",
       "4           hey \\n\\nway to support nazis, you racist  "
      ]
     },
     "execution_count": 4,
     "metadata": {},
     "output_type": "execute_result"
    }
   ],
   "source": [
    "val_data = pd.read_csv('../input/jigsaw-toxic-severity-rating/validation_data.csv')\n",
    "val_data.head()"
   ]
  },
  {
   "cell_type": "code",
   "execution_count": 5,
   "id": "c2cf6d85",
   "metadata": {
    "execution": {
     "iopub.execute_input": "2021-12-25T08:24:45.691280Z",
     "iopub.status.busy": "2021-12-25T08:24:45.690497Z",
     "iopub.status.idle": "2021-12-25T08:24:45.693620Z",
     "shell.execute_reply": "2021-12-25T08:24:45.694120Z",
     "shell.execute_reply.started": "2021-12-25T07:56:29.504395Z"
    },
    "papermill": {
     "duration": 0.035602,
     "end_time": "2021-12-25T08:24:45.694286",
     "exception": false,
     "start_time": "2021-12-25T08:24:45.658684",
     "status": "completed"
    },
    "tags": []
   },
   "outputs": [
    {
     "data": {
      "text/plain": [
       "(30108, 3)"
      ]
     },
     "execution_count": 5,
     "metadata": {},
     "output_type": "execute_result"
    }
   ],
   "source": [
    "val_data.shape"
   ]
  },
  {
   "cell_type": "code",
   "execution_count": 6,
   "id": "a2ed1f0f",
   "metadata": {
    "execution": {
     "iopub.execute_input": "2021-12-25T08:24:45.755175Z",
     "iopub.status.busy": "2021-12-25T08:24:45.754098Z",
     "iopub.status.idle": "2021-12-25T08:24:45.768928Z",
     "shell.execute_reply": "2021-12-25T08:24:45.768330Z",
     "shell.execute_reply.started": "2021-12-25T07:56:29.512911Z"
    },
    "papermill": {
     "duration": 0.048388,
     "end_time": "2021-12-25T08:24:45.769096",
     "exception": false,
     "start_time": "2021-12-25T08:24:45.720708",
     "status": "completed"
    },
    "tags": []
   },
   "outputs": [
    {
     "data": {
      "text/plain": [
       "753"
      ]
     },
     "execution_count": 6,
     "metadata": {},
     "output_type": "execute_result"
    }
   ],
   "source": [
    "val_data['worker'].nunique()"
   ]
  },
  {
   "cell_type": "code",
   "execution_count": 7,
   "id": "db5b67c6",
   "metadata": {
    "execution": {
     "iopub.execute_input": "2021-12-25T08:24:45.829628Z",
     "iopub.status.busy": "2021-12-25T08:24:45.828952Z",
     "iopub.status.idle": "2021-12-25T08:24:47.796016Z",
     "shell.execute_reply": "2021-12-25T08:24:47.795415Z",
     "shell.execute_reply.started": "2021-12-25T07:56:29.529361Z"
    },
    "papermill": {
     "duration": 1.999077,
     "end_time": "2021-12-25T08:24:47.796179",
     "exception": false,
     "start_time": "2021-12-25T08:24:45.797102",
     "status": "completed"
    },
    "tags": []
   },
   "outputs": [
    {
     "data": {
      "text/html": [
       "<div>\n",
       "<style scoped>\n",
       "    .dataframe tbody tr th:only-of-type {\n",
       "        vertical-align: middle;\n",
       "    }\n",
       "\n",
       "    .dataframe tbody tr th {\n",
       "        vertical-align: top;\n",
       "    }\n",
       "\n",
       "    .dataframe thead th {\n",
       "        text-align: right;\n",
       "    }\n",
       "</style>\n",
       "<table border=\"1\" class=\"dataframe\">\n",
       "  <thead>\n",
       "    <tr style=\"text-align: right;\">\n",
       "      <th></th>\n",
       "      <th>id</th>\n",
       "      <th>comment_text</th>\n",
       "      <th>toxic</th>\n",
       "      <th>severe_toxic</th>\n",
       "      <th>obscene</th>\n",
       "      <th>threat</th>\n",
       "      <th>insult</th>\n",
       "      <th>identity_hate</th>\n",
       "    </tr>\n",
       "  </thead>\n",
       "  <tbody>\n",
       "    <tr>\n",
       "      <th>0</th>\n",
       "      <td>0000997932d777bf</td>\n",
       "      <td>Explanation\\nWhy the edits made under my usern...</td>\n",
       "      <td>0</td>\n",
       "      <td>0</td>\n",
       "      <td>0</td>\n",
       "      <td>0</td>\n",
       "      <td>0</td>\n",
       "      <td>0</td>\n",
       "    </tr>\n",
       "    <tr>\n",
       "      <th>1</th>\n",
       "      <td>000103f0d9cfb60f</td>\n",
       "      <td>D'aww! He matches this background colour I'm s...</td>\n",
       "      <td>0</td>\n",
       "      <td>0</td>\n",
       "      <td>0</td>\n",
       "      <td>0</td>\n",
       "      <td>0</td>\n",
       "      <td>0</td>\n",
       "    </tr>\n",
       "    <tr>\n",
       "      <th>2</th>\n",
       "      <td>000113f07ec002fd</td>\n",
       "      <td>Hey man, I'm really not trying to edit war. It...</td>\n",
       "      <td>0</td>\n",
       "      <td>0</td>\n",
       "      <td>0</td>\n",
       "      <td>0</td>\n",
       "      <td>0</td>\n",
       "      <td>0</td>\n",
       "    </tr>\n",
       "    <tr>\n",
       "      <th>3</th>\n",
       "      <td>0001b41b1c6bb37e</td>\n",
       "      <td>\"\\nMore\\nI can't make any real suggestions on ...</td>\n",
       "      <td>0</td>\n",
       "      <td>0</td>\n",
       "      <td>0</td>\n",
       "      <td>0</td>\n",
       "      <td>0</td>\n",
       "      <td>0</td>\n",
       "    </tr>\n",
       "    <tr>\n",
       "      <th>4</th>\n",
       "      <td>0001d958c54c6e35</td>\n",
       "      <td>You, sir, are my hero. Any chance you remember...</td>\n",
       "      <td>0</td>\n",
       "      <td>0</td>\n",
       "      <td>0</td>\n",
       "      <td>0</td>\n",
       "      <td>0</td>\n",
       "      <td>0</td>\n",
       "    </tr>\n",
       "  </tbody>\n",
       "</table>\n",
       "</div>"
      ],
      "text/plain": [
       "                 id                                       comment_text  toxic  \\\n",
       "0  0000997932d777bf  Explanation\\nWhy the edits made under my usern...      0   \n",
       "1  000103f0d9cfb60f  D'aww! He matches this background colour I'm s...      0   \n",
       "2  000113f07ec002fd  Hey man, I'm really not trying to edit war. It...      0   \n",
       "3  0001b41b1c6bb37e  \"\\nMore\\nI can't make any real suggestions on ...      0   \n",
       "4  0001d958c54c6e35  You, sir, are my hero. Any chance you remember...      0   \n",
       "\n",
       "   severe_toxic  obscene  threat  insult  identity_hate  \n",
       "0             0        0       0       0              0  \n",
       "1             0        0       0       0              0  \n",
       "2             0        0       0       0              0  \n",
       "3             0        0       0       0              0  \n",
       "4             0        0       0       0              0  "
      ]
     },
     "execution_count": 7,
     "metadata": {},
     "output_type": "execute_result"
    }
   ],
   "source": [
    "train = pd.read_csv('../input/jigsaw-toxic-comment-classification-challenge/train.csv')\n",
    "train.head()"
   ]
  },
  {
   "cell_type": "code",
   "execution_count": 8,
   "id": "e3313ce4",
   "metadata": {
    "execution": {
     "iopub.execute_input": "2021-12-25T08:24:47.857318Z",
     "iopub.status.busy": "2021-12-25T08:24:47.856586Z",
     "iopub.status.idle": "2021-12-25T08:24:47.860789Z",
     "shell.execute_reply": "2021-12-25T08:24:47.860297Z",
     "shell.execute_reply.started": "2021-12-25T07:56:30.634647Z"
    },
    "papermill": {
     "duration": 0.037006,
     "end_time": "2021-12-25T08:24:47.860968",
     "exception": false,
     "start_time": "2021-12-25T08:24:47.823962",
     "status": "completed"
    },
    "tags": []
   },
   "outputs": [
    {
     "data": {
      "text/plain": [
       "0.09584448302009764"
      ]
     },
     "execution_count": 8,
     "metadata": {},
     "output_type": "execute_result"
    }
   ],
   "source": [
    "train['toxic'].mean()"
   ]
  },
  {
   "cell_type": "code",
   "execution_count": 9,
   "id": "3ed7bc33",
   "metadata": {
    "execution": {
     "iopub.execute_input": "2021-12-25T08:24:47.920510Z",
     "iopub.status.busy": "2021-12-25T08:24:47.919850Z",
     "iopub.status.idle": "2021-12-25T08:24:47.928321Z",
     "shell.execute_reply": "2021-12-25T08:24:47.927695Z",
     "shell.execute_reply.started": "2021-12-25T07:56:30.643337Z"
    },
    "papermill": {
     "duration": 0.039472,
     "end_time": "2021-12-25T08:24:47.928492",
     "exception": false,
     "start_time": "2021-12-25T08:24:47.889020",
     "status": "completed"
    },
    "tags": []
   },
   "outputs": [
    {
     "data": {
      "text/plain": [
       "0.052948217407925"
      ]
     },
     "execution_count": 9,
     "metadata": {},
     "output_type": "execute_result"
    }
   ],
   "source": [
    "train['obscene'].mean()"
   ]
  },
  {
   "cell_type": "code",
   "execution_count": 10,
   "id": "e5976fe4",
   "metadata": {
    "execution": {
     "iopub.execute_input": "2021-12-25T08:24:47.990851Z",
     "iopub.status.busy": "2021-12-25T08:24:47.989911Z",
     "iopub.status.idle": "2021-12-25T08:24:47.994162Z",
     "shell.execute_reply": "2021-12-25T08:24:47.994795Z",
     "shell.execute_reply.started": "2021-12-25T07:56:30.657371Z"
    },
    "papermill": {
     "duration": 0.037837,
     "end_time": "2021-12-25T08:24:47.995013",
     "exception": false,
     "start_time": "2021-12-25T08:24:47.957176",
     "status": "completed"
    },
    "tags": []
   },
   "outputs": [
    {
     "data": {
      "text/plain": [
       "0.04936360616904074"
      ]
     },
     "execution_count": 10,
     "metadata": {},
     "output_type": "execute_result"
    }
   ],
   "source": [
    "train['insult'].mean()"
   ]
  },
  {
   "cell_type": "code",
   "execution_count": 11,
   "id": "70a1164b",
   "metadata": {
    "execution": {
     "iopub.execute_input": "2021-12-25T08:24:48.059650Z",
     "iopub.status.busy": "2021-12-25T08:24:48.058969Z",
     "iopub.status.idle": "2021-12-25T08:24:48.077940Z",
     "shell.execute_reply": "2021-12-25T08:24:48.077347Z",
     "shell.execute_reply.started": "2021-12-25T07:56:30.671402Z"
    },
    "papermill": {
     "duration": 0.054264,
     "end_time": "2021-12-25T08:24:48.078125",
     "exception": false,
     "start_time": "2021-12-25T08:24:48.023861",
     "status": "completed"
    },
    "tags": []
   },
   "outputs": [],
   "source": [
    "unlabelled_in_all = train[(train['toxic']!=1) & (train['severe_toxic']!=1) & (train['obscene']!=1) & \n",
    "                            (train['threat']!=1) & (train['insult']!=1) & (train['identity_hate']!=1)]"
   ]
  },
  {
   "cell_type": "code",
   "execution_count": 12,
   "id": "5a83f414",
   "metadata": {
    "execution": {
     "iopub.execute_input": "2021-12-25T08:24:48.144542Z",
     "iopub.status.busy": "2021-12-25T08:24:48.143790Z",
     "iopub.status.idle": "2021-12-25T08:24:48.153940Z",
     "shell.execute_reply": "2021-12-25T08:24:48.154407Z",
     "shell.execute_reply.started": "2021-12-25T07:56:30.708898Z"
    },
    "papermill": {
     "duration": 0.047838,
     "end_time": "2021-12-25T08:24:48.154614",
     "exception": false,
     "start_time": "2021-12-25T08:24:48.106776",
     "status": "completed"
    },
    "tags": []
   },
   "outputs": [
    {
     "data": {
      "text/plain": [
       "'\"\\nMore\\nI can\\'t make any real suggestions on improvement - I wondered if the section statistics should be later on, or a subsection of \"\"types of accidents\"\"  -I think the references may need tidying so that they are all in the exact same format ie date format etc. I can do that later on, if no-one else does first - if you have any preferences for formatting style on references or want to do it yourself please let me know.\\n\\nThere appears to be a backlog on articles for review so I guess there may be a delay until a reviewer turns up. It\\'s listed in the relevant form eg Wikipedia:Good_article_nominations#Transport  \"'"
      ]
     },
     "execution_count": 12,
     "metadata": {},
     "output_type": "execute_result"
    }
   ],
   "source": [
    "unlabelled_in_all['comment_text'][3]"
   ]
  },
  {
   "cell_type": "code",
   "execution_count": 13,
   "id": "682d2ff1",
   "metadata": {
    "execution": {
     "iopub.execute_input": "2021-12-25T08:24:48.216043Z",
     "iopub.status.busy": "2021-12-25T08:24:48.215362Z",
     "iopub.status.idle": "2021-12-25T08:24:48.251514Z",
     "shell.execute_reply": "2021-12-25T08:24:48.252041Z",
     "shell.execute_reply.started": "2021-12-25T07:56:30.720270Z"
    },
    "papermill": {
     "duration": 0.068572,
     "end_time": "2021-12-25T08:24:48.252248",
     "exception": false,
     "start_time": "2021-12-25T08:24:48.183676",
     "status": "completed"
    },
    "tags": []
   },
   "outputs": [
    {
     "data": {
      "text/html": [
       "<div>\n",
       "<style scoped>\n",
       "    .dataframe tbody tr th:only-of-type {\n",
       "        vertical-align: middle;\n",
       "    }\n",
       "\n",
       "    .dataframe tbody tr th {\n",
       "        vertical-align: top;\n",
       "    }\n",
       "\n",
       "    .dataframe thead th {\n",
       "        text-align: right;\n",
       "    }\n",
       "</style>\n",
       "<table border=\"1\" class=\"dataframe\">\n",
       "  <thead>\n",
       "    <tr style=\"text-align: right;\">\n",
       "      <th></th>\n",
       "      <th>id</th>\n",
       "      <th>comment_text</th>\n",
       "      <th>toxic</th>\n",
       "      <th>severe_toxic</th>\n",
       "      <th>obscene</th>\n",
       "      <th>threat</th>\n",
       "      <th>insult</th>\n",
       "      <th>identity_hate</th>\n",
       "    </tr>\n",
       "  </thead>\n",
       "  <tbody>\n",
       "    <tr>\n",
       "      <th>6</th>\n",
       "      <td>0002bcb3da6cb337</td>\n",
       "      <td>COCKSUCKER BEFORE YOU PISS AROUND ON MY WORK</td>\n",
       "      <td>1</td>\n",
       "      <td>1</td>\n",
       "      <td>1</td>\n",
       "      <td>0</td>\n",
       "      <td>1</td>\n",
       "      <td>0</td>\n",
       "    </tr>\n",
       "  </tbody>\n",
       "</table>\n",
       "</div>"
      ],
      "text/plain": [
       "                 id                                  comment_text  toxic  \\\n",
       "6  0002bcb3da6cb337  COCKSUCKER BEFORE YOU PISS AROUND ON MY WORK      1   \n",
       "\n",
       "   severe_toxic  obscene  threat  insult  identity_hate  \n",
       "6             1        1       0       1              0  "
      ]
     },
     "execution_count": 13,
     "metadata": {},
     "output_type": "execute_result"
    }
   ],
   "source": [
    "train[train['id'] == '0002bcb3da6cb337']"
   ]
  },
  {
   "cell_type": "code",
   "execution_count": 14,
   "id": "6cc1333f",
   "metadata": {
    "execution": {
     "iopub.execute_input": "2021-12-25T08:24:48.314802Z",
     "iopub.status.busy": "2021-12-25T08:24:48.314173Z",
     "iopub.status.idle": "2021-12-25T08:24:48.361462Z",
     "shell.execute_reply": "2021-12-25T08:24:48.362041Z",
     "shell.execute_reply.started": "2021-12-25T07:56:30.764900Z"
    },
    "papermill": {
     "duration": 0.080175,
     "end_time": "2021-12-25T08:24:48.362264",
     "exception": false,
     "start_time": "2021-12-25T08:24:48.282089",
     "status": "completed"
    },
    "tags": []
   },
   "outputs": [],
   "source": [
    "cat_mtpl = {'obscene': 0.16, 'toxic': 0.32, 'threat': 1.5, \n",
    "            'insult': 0.64, 'severe_toxic': 1.5, 'identity_hate': 1.5}\n",
    "\n",
    "for category in cat_mtpl:\n",
    "    train[category] = train[category] * cat_mtpl[category]\n",
    "    \n",
    "train['y'] = train.loc[:, 'toxic':'identity_hate'].sum(axis = 1)"
   ]
  },
  {
   "cell_type": "code",
   "execution_count": 15,
   "id": "99578970",
   "metadata": {
    "execution": {
     "iopub.execute_input": "2021-12-25T08:24:48.424954Z",
     "iopub.status.busy": "2021-12-25T08:24:48.424247Z",
     "iopub.status.idle": "2021-12-25T08:24:48.466628Z",
     "shell.execute_reply": "2021-12-25T08:24:48.466046Z",
     "shell.execute_reply.started": "2021-12-25T07:56:30.800702Z"
    },
    "papermill": {
     "duration": 0.075034,
     "end_time": "2021-12-25T08:24:48.466786",
     "exception": false,
     "start_time": "2021-12-25T08:24:48.391752",
     "status": "completed"
    },
    "tags": []
   },
   "outputs": [],
   "source": [
    "min_len = (train['y']> 0).sum()\n",
    "train_undersample = train[train['y'] == 0].sample(n=min_len, random_state=2020)\n",
    "train_new = pd.concat([train[train['y'] > 0], train_undersample])"
   ]
  },
  {
   "cell_type": "code",
   "execution_count": 16,
   "id": "beca4c88",
   "metadata": {
    "execution": {
     "iopub.execute_input": "2021-12-25T08:24:48.544860Z",
     "iopub.status.busy": "2021-12-25T08:24:48.544143Z",
     "iopub.status.idle": "2021-12-25T08:24:48.546996Z",
     "shell.execute_reply": "2021-12-25T08:24:48.547489Z",
     "shell.execute_reply.started": "2021-12-25T07:56:30.848330Z"
    },
    "papermill": {
     "duration": 0.051405,
     "end_time": "2021-12-25T08:24:48.547683",
     "exception": false,
     "start_time": "2021-12-25T08:24:48.496278",
     "status": "completed"
    },
    "tags": []
   },
   "outputs": [
    {
     "data": {
      "text/html": [
       "<div>\n",
       "<style scoped>\n",
       "    .dataframe tbody tr th:only-of-type {\n",
       "        vertical-align: middle;\n",
       "    }\n",
       "\n",
       "    .dataframe tbody tr th {\n",
       "        vertical-align: top;\n",
       "    }\n",
       "\n",
       "    .dataframe thead th {\n",
       "        text-align: right;\n",
       "    }\n",
       "</style>\n",
       "<table border=\"1\" class=\"dataframe\">\n",
       "  <thead>\n",
       "    <tr style=\"text-align: right;\">\n",
       "      <th></th>\n",
       "      <th>id</th>\n",
       "      <th>comment_text</th>\n",
       "      <th>toxic</th>\n",
       "      <th>severe_toxic</th>\n",
       "      <th>obscene</th>\n",
       "      <th>threat</th>\n",
       "      <th>insult</th>\n",
       "      <th>identity_hate</th>\n",
       "      <th>y</th>\n",
       "    </tr>\n",
       "  </thead>\n",
       "  <tbody>\n",
       "    <tr>\n",
       "      <th>6</th>\n",
       "      <td>0002bcb3da6cb337</td>\n",
       "      <td>COCKSUCKER BEFORE YOU PISS AROUND ON MY WORK</td>\n",
       "      <td>0.32</td>\n",
       "      <td>1.5</td>\n",
       "      <td>0.16</td>\n",
       "      <td>0.0</td>\n",
       "      <td>0.64</td>\n",
       "      <td>0.0</td>\n",
       "      <td>2.62</td>\n",
       "    </tr>\n",
       "    <tr>\n",
       "      <th>12</th>\n",
       "      <td>0005c987bdfc9d4b</td>\n",
       "      <td>Hey... what is it..\\n@ | talk .\\nWhat is it......</td>\n",
       "      <td>0.32</td>\n",
       "      <td>0.0</td>\n",
       "      <td>0.00</td>\n",
       "      <td>0.0</td>\n",
       "      <td>0.00</td>\n",
       "      <td>0.0</td>\n",
       "      <td>0.32</td>\n",
       "    </tr>\n",
       "    <tr>\n",
       "      <th>16</th>\n",
       "      <td>0007e25b2121310b</td>\n",
       "      <td>Bye! \\n\\nDon't look, come or think of comming ...</td>\n",
       "      <td>0.32</td>\n",
       "      <td>0.0</td>\n",
       "      <td>0.00</td>\n",
       "      <td>0.0</td>\n",
       "      <td>0.00</td>\n",
       "      <td>0.0</td>\n",
       "      <td>0.32</td>\n",
       "    </tr>\n",
       "    <tr>\n",
       "      <th>42</th>\n",
       "      <td>001810bf8c45bf5f</td>\n",
       "      <td>You are gay or antisemmitian? \\n\\nArchangel WH...</td>\n",
       "      <td>0.32</td>\n",
       "      <td>0.0</td>\n",
       "      <td>0.16</td>\n",
       "      <td>0.0</td>\n",
       "      <td>0.64</td>\n",
       "      <td>1.5</td>\n",
       "      <td>2.62</td>\n",
       "    </tr>\n",
       "    <tr>\n",
       "      <th>43</th>\n",
       "      <td>00190820581d90ce</td>\n",
       "      <td>FUCK YOUR FILTHY MOTHER IN THE ASS, DRY!</td>\n",
       "      <td>0.32</td>\n",
       "      <td>0.0</td>\n",
       "      <td>0.16</td>\n",
       "      <td>0.0</td>\n",
       "      <td>0.64</td>\n",
       "      <td>0.0</td>\n",
       "      <td>1.12</td>\n",
       "    </tr>\n",
       "  </tbody>\n",
       "</table>\n",
       "</div>"
      ],
      "text/plain": [
       "                  id                                       comment_text  \\\n",
       "6   0002bcb3da6cb337       COCKSUCKER BEFORE YOU PISS AROUND ON MY WORK   \n",
       "12  0005c987bdfc9d4b  Hey... what is it..\\n@ | talk .\\nWhat is it......   \n",
       "16  0007e25b2121310b  Bye! \\n\\nDon't look, come or think of comming ...   \n",
       "42  001810bf8c45bf5f  You are gay or antisemmitian? \\n\\nArchangel WH...   \n",
       "43  00190820581d90ce           FUCK YOUR FILTHY MOTHER IN THE ASS, DRY!   \n",
       "\n",
       "    toxic  severe_toxic  obscene  threat  insult  identity_hate     y  \n",
       "6    0.32           1.5     0.16     0.0    0.64            0.0  2.62  \n",
       "12   0.32           0.0     0.00     0.0    0.00            0.0  0.32  \n",
       "16   0.32           0.0     0.00     0.0    0.00            0.0  0.32  \n",
       "42   0.32           0.0     0.16     0.0    0.64            1.5  2.62  \n",
       "43   0.32           0.0     0.16     0.0    0.64            0.0  1.12  "
      ]
     },
     "execution_count": 16,
     "metadata": {},
     "output_type": "execute_result"
    }
   ],
   "source": [
    "train_new.head()"
   ]
  },
  {
   "cell_type": "code",
   "execution_count": 17,
   "id": "bbf84cc2",
   "metadata": {
    "execution": {
     "iopub.execute_input": "2021-12-25T08:24:48.616921Z",
     "iopub.status.busy": "2021-12-25T08:24:48.616094Z",
     "iopub.status.idle": "2021-12-25T08:24:48.617644Z",
     "shell.execute_reply": "2021-12-25T08:24:48.618140Z",
     "shell.execute_reply.started": "2021-12-25T07:56:30.871115Z"
    },
    "papermill": {
     "duration": 0.040592,
     "end_time": "2021-12-25T08:24:48.618344",
     "exception": false,
     "start_time": "2021-12-25T08:24:48.577752",
     "status": "completed"
    },
    "tags": []
   },
   "outputs": [],
   "source": [
    "def text_cleaning(text):\n",
    "    '''\n",
    "    Cleans text into a basic form for NLP. Operations include the following:-\n",
    "    1. Remove special charecters like &, #, etc\n",
    "    2. Removes extra spaces\n",
    "    3. Removes embedded URL links\n",
    "    4. Removes HTML tags\n",
    "    5. Removes emojis\n",
    "    \n",
    "    text - Text piece to be cleaned.\n",
    "    '''\n",
    "    template = re.compile(r'https?://\\S+|www\\.\\S+') #Removes website links\n",
    "    text = template.sub(r'', text)\n",
    "    \n",
    "    soup = BeautifulSoup(text, 'lxml') #Removes HTML tags\n",
    "    only_text = soup.get_text()\n",
    "    text = only_text\n",
    "    \n",
    "    emoji_pattern = re.compile(\"[\"\n",
    "                               u\"\\U0001F600-\\U0001F64F\"  # emoticons\n",
    "                               u\"\\U0001F300-\\U0001F5FF\"  # symbols & pictographs\n",
    "                               u\"\\U0001F680-\\U0001F6FF\"  # transport & map symbols\n",
    "                               u\"\\U0001F1E0-\\U0001F1FF\"  # flags (iOS)\n",
    "                               u\"\\U00002702-\\U000027B0\"\n",
    "                               u\"\\U000024C2-\\U0001F251\"\n",
    "                               \"]+\", flags=re.UNICODE)\n",
    "    text = emoji_pattern.sub(r'', text)\n",
    "    \n",
    "    text = re.sub(r\"[^a-zA-Z\\d]\", \" \", text) #Remove special Charecters\n",
    "    text = re.sub(' +', ' ', text) #Remove Extra Spaces\n",
    "    text = text.strip() # remove spaces at the beginning and at the end of string\n",
    "\n",
    "    return text"
   ]
  },
  {
   "cell_type": "code",
   "execution_count": 18,
   "id": "e445deb6",
   "metadata": {
    "execution": {
     "iopub.execute_input": "2021-12-25T08:24:48.682524Z",
     "iopub.status.busy": "2021-12-25T08:24:48.681617Z",
     "iopub.status.idle": "2021-12-25T08:24:48.735899Z",
     "shell.execute_reply": "2021-12-25T08:24:48.735260Z",
     "shell.execute_reply.started": "2021-12-25T07:56:30.883102Z"
    },
    "papermill": {
     "duration": 0.087814,
     "end_time": "2021-12-25T08:24:48.736067",
     "exception": false,
     "start_time": "2021-12-25T08:24:48.648253",
     "status": "completed"
    },
    "tags": []
   },
   "outputs": [],
   "source": [
    "def clean(data, col):\n",
    "    \n",
    "    data[col] = data[col].str.replace('https?://\\S+|www\\.\\S+', ' social medium ')      \n",
    "        \n",
    "    data[col] = data[col].str.lower()\n",
    "    data[col] = data[col].str.replace(\"4\", \"a\") \n",
    "    data[col] = data[col].str.replace(\"2\", \"l\")\n",
    "    data[col] = data[col].str.replace(\"5\", \"s\") \n",
    "    data[col] = data[col].str.replace(\"1\", \"i\") \n",
    "    data[col] = data[col].str.replace(\"!\", \"i\") \n",
    "    data[col] = data[col].str.replace(\"|\", \"i\") \n",
    "    data[col] = data[col].str.replace(\"0\", \"o\") \n",
    "    data[col] = data[col].str.replace(\"l3\", \"b\") \n",
    "    data[col] = data[col].str.replace(\"7\", \"t\") \n",
    "    data[col] = data[col].str.replace(\"7\", \"+\") \n",
    "    data[col] = data[col].str.replace(\"8\", \"ate\") \n",
    "    data[col] = data[col].str.replace(\"3\", \"e\") \n",
    "    data[col] = data[col].str.replace(\"9\", \"g\")\n",
    "    data[col] = data[col].str.replace(\"6\", \"g\")\n",
    "    data[col] = data[col].str.replace(\"@\", \"a\")\n",
    "    data[col] = data[col].str.replace(\"$\", \"s\")\n",
    "    data[col] = data[col].str.replace(\"#ofc\", \" of fuckin course \")\n",
    "    data[col] = data[col].str.replace(\"fggt\", \" faggot \")\n",
    "    data[col] = data[col].str.replace(\"your\", \" your \")\n",
    "    data[col] = data[col].str.replace(\"self\", \" self \")\n",
    "    data[col] = data[col].str.replace(\"cuntbag\", \" cunt bag \")\n",
    "    data[col] = data[col].str.replace(\"fartchina\", \" fart china \")   \n",
    "    data[col] = data[col].str.replace(\"youi\", \" you i \")\n",
    "    data[col] = data[col].str.replace(\"cunti\", \" cunt i \")\n",
    "    data[col] = data[col].str.replace(\"sucki\", \" suck i \")\n",
    "    data[col] = data[col].str.replace(\"pagedelete\", \" page delete \")\n",
    "    data[col] = data[col].str.replace(\"cuntsi\", \" cuntsi \")\n",
    "    data[col] = data[col].str.replace(\"i'm\", \" i am \")\n",
    "    data[col] = data[col].str.replace(\"offuck\", \" of fuck \")\n",
    "    data[col] = data[col].str.replace(\"centraliststupid\", \" central ist stupid \")\n",
    "    data[col] = data[col].str.replace(\"hitleri\", \" hitler i \")\n",
    "    data[col] = data[col].str.replace(\"i've\", \" i have \")\n",
    "    data[col] = data[col].str.replace(\"i'll\", \" sick \")\n",
    "    data[col] = data[col].str.replace(\"fuck\", \" fuck \")\n",
    "    data[col] = data[col].str.replace(\"f u c k\", \" fuck \")\n",
    "    data[col] = data[col].str.replace(\"shit\", \" shit \")\n",
    "    data[col] = data[col].str.replace(\"bunksteve\", \" bunk steve \")\n",
    "    data[col] = data[col].str.replace('wikipedia', ' social medium ')\n",
    "    data[col] = data[col].str.replace(\"faggot\", \" faggot \")\n",
    "    data[col] = data[col].str.replace(\"delanoy\", \" delanoy \")\n",
    "    data[col] = data[col].str.replace(\"jewish\", \" jewish \")\n",
    "    data[col] = data[col].str.replace(\"sexsex\", \" sex \")\n",
    "    data[col] = data[col].str.replace(\"allii\", \" all ii \")\n",
    "    data[col] = data[col].str.replace(\"i'd\", \" i had \")\n",
    "    data[col] = data[col].str.replace(\"'s\", \" is \")\n",
    "    data[col] = data[col].str.replace(\"youbollocks\", \" you bollocks \")\n",
    "    data[col] = data[col].str.replace(\"dick\", \" dick \")\n",
    "    data[col] = data[col].str.replace(\"cuntsi\", \" cuntsi \")\n",
    "    data[col] = data[col].str.replace(\"mothjer\", \" mother \")\n",
    "    data[col] = data[col].str.replace(\"cuntfranks\", \" cunt \")\n",
    "    data[col] = data[col].str.replace(\"ullmann\", \" jewish \")\n",
    "    data[col] = data[col].str.replace(\"mr.\", \" mister \")\n",
    "    data[col] = data[col].str.replace(\"aidsaids\", \" aids \")\n",
    "    data[col] = data[col].str.replace(\"njgw\", \" nigger \")\n",
    "    data[col] = data[col].str.replace(\"wiki\", \" social medium \")\n",
    "    data[col] = data[col].str.replace(\"administrator\", \" admin \")\n",
    "    data[col] = data[col].str.replace(\"gamaliel\", \" jewish \")\n",
    "    data[col] = data[col].str.replace(\"rvv\", \" vanadalism \")\n",
    "    data[col] = data[col].str.replace(\"admins\", \" admin \")\n",
    "    data[col] = data[col].str.replace(\"pensnsnniensnsn\", \" penis \")\n",
    "    data[col] = data[col].str.replace(\"pneis\", \" penis \")\n",
    "    data[col] = data[col].str.replace(\"pennnis\", \" penis \")\n",
    "    data[col] = data[col].str.replace(\"pov.\", \" point of view \")\n",
    "    data[col] = data[col].str.replace(\"vandalising\", \" vandalism \")\n",
    "    data[col] = data[col].str.replace(\"cock\", \" dick \")\n",
    "    data[col] = data[col].str.replace(\"asshole\", \" asshole \")\n",
    "    data[col] = data[col].str.replace(\"youi\", \" you \")\n",
    "    data[col] = data[col].str.replace(\"afd\", \" all fucking day \")\n",
    "    data[col] = data[col].str.replace(\"sockpuppets\", \" sockpuppetry \")\n",
    "    data[col] = data[col].str.replace(\"iiprick\", \" iprick \")\n",
    "    data[col] = data[col].str.replace(\"penisi\", \" penis \")\n",
    "    data[col] = data[col].str.replace(\"warrior\", \" warrior \")\n",
    "    data[col] = data[col].str.replace(\"loil\", \" laughing out insanely loud \")\n",
    "    data[col] = data[col].str.replace(\"vandalise\", \" vanadalism \")\n",
    "    data[col] = data[col].str.replace(\"helli\", \" helli \")\n",
    "    data[col] = data[col].str.replace(\"lunchablesi\", \" lunchablesi \")\n",
    "    data[col] = data[col].str.replace(\"special\", \" special \")\n",
    "    data[col] = data[col].str.replace(\"ilol\", \" i lol \")\n",
    "    data[col] = data[col].str.replace(r'\\b[uU]\\b', 'you')\n",
    "    data[col] = data[col].str.replace(r\"what's\", \"what is \")\n",
    "    data[col] = data[col].str.replace(r\"\\'s\", \" is \")\n",
    "    data[col] = data[col].str.replace(r\"\\'ve\", \" have \")\n",
    "    data[col] = data[col].str.replace(r\"can't\", \"cannot \")\n",
    "    data[col] = data[col].str.replace(r\"n't\", \" not \")\n",
    "    data[col] = data[col].str.replace(r\"i'm\", \"i am \")\n",
    "    data[col] = data[col].str.replace(r\"\\'re\", \" are \")\n",
    "    data[col] = data[col].str.replace(r\"\\'d\", \" would \")\n",
    "    data[col] = data[col].str.replace(r\"\\'ll\", \" will \")\n",
    "    data[col] = data[col].str.replace(r\"\\'scuse\", \" excuse \")\n",
    "    data[col] = data[col].str.replace('\\s+', ' ')  # will remove more than one whitespace character\n",
    "#     text = re.sub(r'\\b([^\\W\\d_]+)(\\s+\\1)+\\b', r'\\1', re.sub(r'\\W+', ' ', text).strip(), flags=re.I)  # remove repeating words coming immediately one after another\n",
    "    data[col] = data[col].str.replace(r'(.)\\1+', r'\\1\\1') # 2 or more characters are replaced by 2 characters\n",
    "#     text = re.sub(r'((\\b\\w+\\b.{1,2}\\w+\\b)+).+\\1', r'\\1', text, flags = re.I)\n",
    "    data[col] = data[col].str.replace(\"[:|♣|'|§|♠|*|/|?|=|%|&|-|#|•|~|^|>|<|►|_]\", '')\n",
    "    \n",
    "    \n",
    "    data[col] = data[col].str.replace(r\"what's\", \"what is \")    \n",
    "    data[col] = data[col].str.replace(r\"\\'ve\", \" have \")\n",
    "    data[col] = data[col].str.replace(r\"can't\", \"cannot \")\n",
    "    data[col] = data[col].str.replace(r\"n't\", \" not \")\n",
    "    data[col] = data[col].str.replace(r\"i'm\", \"i am \")\n",
    "    data[col] = data[col].str.replace(r\"\\'re\", \" are \")\n",
    "    data[col] = data[col].str.replace(r\"\\'d\", \" would \")\n",
    "    data[col] = data[col].str.replace(r\"\\'ll\", \" will \")\n",
    "    data[col] = data[col].str.replace(r\"\\'scuse\", \" excuse \")\n",
    "    data[col] = data[col].str.replace(r\"\\'s\", \" \")\n",
    "\n",
    "    # Clean some punctutations\n",
    "    data[col] = data[col].str.replace('\\n', ' \\n ')\n",
    "    data[col] = data[col].str.replace(r'([a-zA-Z]+)([/!?.])([a-zA-Z]+)',r'\\1 \\2 \\3')\n",
    "    # Replace repeating characters more than 3 times to length of 3\n",
    "    data[col] = data[col].str.replace(r'([*!?\\'])\\1\\1{2,}',r'\\1\\1\\1')    \n",
    "    # Add space around repeating characters\n",
    "    data[col] = data[col].str.replace(r'([*!?\\']+)',r' \\1 ')    \n",
    "    # patterns with repeating characters \n",
    "    data[col] = data[col].str.replace(r'([a-zA-Z])\\1{2,}\\b',r'\\1\\1')\n",
    "    data[col] = data[col].str.replace(r'([a-zA-Z])\\1\\1{2,}\\B',r'\\1\\1\\1')\n",
    "    data[col] = data[col].str.replace(r'[ ]{2,}',' ').str.strip()   \n",
    "    data[col] = data[col].str.replace(r'[ ]{2,}',' ').str.strip()   \n",
    "    data[col] = data[col].apply(lambda x: ' '.join([word for word in x.split() if word not in (stop)]))\n",
    "    \n",
    "    return data  "
   ]
  },
  {
   "cell_type": "code",
   "execution_count": 19,
   "id": "1142ea0b",
   "metadata": {
    "execution": {
     "iopub.execute_input": "2021-12-25T08:24:48.801880Z",
     "iopub.status.busy": "2021-12-25T08:24:48.801192Z",
     "iopub.status.idle": "2021-12-25T08:24:49.419847Z",
     "shell.execute_reply": "2021-12-25T08:24:49.419146Z",
     "shell.execute_reply.started": "2021-12-25T07:59:14.361474Z"
    },
    "papermill": {
     "duration": 0.653738,
     "end_time": "2021-12-25T08:24:49.420021",
     "exception": false,
     "start_time": "2021-12-25T08:24:48.766283",
     "status": "completed"
    },
    "tags": []
   },
   "outputs": [],
   "source": [
    "from nltk.corpus import stopwords\n",
    "\n",
    "train_new['y'].value_counts()\n",
    "stop = stopwords.words('english')"
   ]
  },
  {
   "cell_type": "code",
   "execution_count": 20,
   "id": "20fbac5e",
   "metadata": {
    "execution": {
     "iopub.execute_input": "2021-12-25T08:24:49.487144Z",
     "iopub.status.busy": "2021-12-25T08:24:49.485438Z",
     "iopub.status.idle": "2021-12-25T08:25:00.805578Z",
     "shell.execute_reply": "2021-12-25T08:25:00.805020Z",
     "shell.execute_reply.started": "2021-12-25T07:59:19.757549Z"
    },
    "papermill": {
     "duration": 11.355498,
     "end_time": "2021-12-25T08:25:00.805738",
     "exception": false,
     "start_time": "2021-12-25T08:24:49.450240",
     "status": "completed"
    },
    "tags": []
   },
   "outputs": [],
   "source": [
    "# train_new = clean(train_new, 'comment_text')\n",
    "train_new['comment_text'] = train_new['comment_text'].apply(text_cleaning)"
   ]
  },
  {
   "cell_type": "code",
   "execution_count": 21,
   "id": "f85452b2",
   "metadata": {
    "execution": {
     "iopub.execute_input": "2021-12-25T08:25:00.936338Z",
     "iopub.status.busy": "2021-12-25T08:25:00.900030Z",
     "iopub.status.idle": "2021-12-25T08:25:23.920141Z",
     "shell.execute_reply": "2021-12-25T08:25:23.919425Z",
     "shell.execute_reply.started": "2021-12-25T07:59:58.738066Z"
    },
    "papermill": {
     "duration": 23.084631,
     "end_time": "2021-12-25T08:25:23.920300",
     "exception": false,
     "start_time": "2021-12-25T08:25:00.835669",
     "status": "completed"
    },
    "tags": []
   },
   "outputs": [],
   "source": [
    "vect = TfidfVectorizer(min_df = 3, max_df = 0.5, analyzer = 'char_wb', ngram_range = (3, 5))\n",
    "X_train = vect.fit_transform(train_new['comment_text'])"
   ]
  },
  {
   "cell_type": "code",
   "execution_count": 22,
   "id": "ce591ac9",
   "metadata": {
    "execution": {
     "iopub.execute_input": "2021-12-25T08:25:23.985886Z",
     "iopub.status.busy": "2021-12-25T08:25:23.985207Z",
     "iopub.status.idle": "2021-12-25T08:25:30.668048Z",
     "shell.execute_reply": "2021-12-25T08:25:30.669163Z",
     "shell.execute_reply.started": "2021-12-25T08:00:17.765991Z"
    },
    "papermill": {
     "duration": 6.719185,
     "end_time": "2021-12-25T08:25:30.669445",
     "exception": false,
     "start_time": "2021-12-25T08:25:23.950260",
     "status": "completed"
    },
    "tags": []
   },
   "outputs": [
    {
     "data": {
      "text/plain": [
       "Ridge(alpha=0.5)"
      ]
     },
     "execution_count": 22,
     "metadata": {},
     "output_type": "execute_result"
    }
   ],
   "source": [
    "from sklearn.linear_model import Ridge\n",
    "from sklearn.naive_bayes import GaussianNB\n",
    "\n",
    "model = Ridge(alpha = 0.5)\n",
    "# model = GaussianNB()\n",
    "model.fit(X_train, train_new['y'])"
   ]
  },
  {
   "cell_type": "code",
   "execution_count": 23,
   "id": "930863a3",
   "metadata": {
    "execution": {
     "iopub.execute_input": "2021-12-25T08:25:30.786157Z",
     "iopub.status.busy": "2021-12-25T08:25:30.785524Z",
     "iopub.status.idle": "2021-12-25T08:25:52.191636Z",
     "shell.execute_reply": "2021-12-25T08:25:52.190939Z",
     "shell.execute_reply.started": "2021-12-25T08:00:20.686024Z"
    },
    "papermill": {
     "duration": 21.466766,
     "end_time": "2021-12-25T08:25:52.191797",
     "exception": false,
     "start_time": "2021-12-25T08:25:30.725031",
     "status": "completed"
    },
    "tags": []
   },
   "outputs": [],
   "source": [
    "# val_data = clean(val_data, 'less_toxic')\n",
    "# val_data = clean(val_data, 'more_toxic')\n",
    "val_data['less_toxic'] = val_data['less_toxic'].apply(text_cleaning)\n",
    "val_data['more_toxic'] = val_data['more_toxic'].apply(text_cleaning)"
   ]
  },
  {
   "cell_type": "code",
   "execution_count": 24,
   "id": "fbd40a09",
   "metadata": {
    "execution": {
     "iopub.execute_input": "2021-12-25T08:25:52.298652Z",
     "iopub.status.busy": "2021-12-25T08:25:52.283124Z",
     "iopub.status.idle": "2021-12-25T08:26:42.069330Z",
     "shell.execute_reply": "2021-12-25T08:26:42.069921Z",
     "shell.execute_reply.started": "2021-12-25T08:01:28.070496Z"
    },
    "papermill": {
     "duration": 49.847943,
     "end_time": "2021-12-25T08:26:42.070105",
     "exception": false,
     "start_time": "2021-12-25T08:25:52.222162",
     "status": "completed"
    },
    "tags": []
   },
   "outputs": [],
   "source": [
    "less_toxic_val = vect.transform(val_data['less_toxic'])\n",
    "more_toxic_val = vect.transform(val_data['more_toxic'])"
   ]
  },
  {
   "cell_type": "code",
   "execution_count": 25,
   "id": "0128bf54",
   "metadata": {
    "execution": {
     "iopub.execute_input": "2021-12-25T08:26:42.134153Z",
     "iopub.status.busy": "2021-12-25T08:26:42.133473Z",
     "iopub.status.idle": "2021-12-25T08:26:42.225657Z",
     "shell.execute_reply": "2021-12-25T08:26:42.226255Z",
     "shell.execute_reply.started": "2021-12-25T08:02:06.571862Z"
    },
    "papermill": {
     "duration": 0.126069,
     "end_time": "2021-12-25T08:26:42.226436",
     "exception": false,
     "start_time": "2021-12-25T08:26:42.100367",
     "status": "completed"
    },
    "tags": []
   },
   "outputs": [],
   "source": [
    "less_toxic_preds = model.predict(less_toxic_val)\n",
    "more_toxic_preds = model.predict(more_toxic_val)"
   ]
  },
  {
   "cell_type": "code",
   "execution_count": 26,
   "id": "3ebc6049",
   "metadata": {
    "execution": {
     "iopub.execute_input": "2021-12-25T08:26:42.290941Z",
     "iopub.status.busy": "2021-12-25T08:26:42.290278Z",
     "iopub.status.idle": "2021-12-25T08:26:42.295303Z",
     "shell.execute_reply": "2021-12-25T08:26:42.295899Z",
     "shell.execute_reply.started": "2021-12-25T08:02:06.643587Z"
    },
    "papermill": {
     "duration": 0.038768,
     "end_time": "2021-12-25T08:26:42.296063",
     "exception": false,
     "start_time": "2021-12-25T08:26:42.257295",
     "status": "completed"
    },
    "tags": []
   },
   "outputs": [
    {
     "data": {
      "text/plain": [
       "0.6683273548558523"
      ]
     },
     "execution_count": 26,
     "metadata": {},
     "output_type": "execute_result"
    }
   ],
   "source": [
    "(less_toxic_preds < more_toxic_preds).mean()"
   ]
  },
  {
   "cell_type": "code",
   "execution_count": 27,
   "id": "ea9eaf01",
   "metadata": {
    "execution": {
     "iopub.execute_input": "2021-12-25T08:26:42.359716Z",
     "iopub.status.busy": "2021-12-25T08:26:42.359091Z",
     "iopub.status.idle": "2021-12-25T08:26:42.390070Z",
     "shell.execute_reply": "2021-12-25T08:26:42.390517Z",
     "shell.execute_reply.started": "2021-12-25T07:56:51.245649Z"
    },
    "papermill": {
     "duration": 0.064467,
     "end_time": "2021-12-25T08:26:42.390699",
     "exception": false,
     "start_time": "2021-12-25T08:26:42.326232",
     "status": "completed"
    },
    "tags": []
   },
   "outputs": [
    {
     "data": {
      "text/html": [
       "<div>\n",
       "<style scoped>\n",
       "    .dataframe tbody tr th:only-of-type {\n",
       "        vertical-align: middle;\n",
       "    }\n",
       "\n",
       "    .dataframe tbody tr th {\n",
       "        vertical-align: top;\n",
       "    }\n",
       "\n",
       "    .dataframe thead th {\n",
       "        text-align: right;\n",
       "    }\n",
       "</style>\n",
       "<table border=\"1\" class=\"dataframe\">\n",
       "  <thead>\n",
       "    <tr style=\"text-align: right;\">\n",
       "      <th></th>\n",
       "      <th>comment_id</th>\n",
       "      <th>score</th>\n",
       "    </tr>\n",
       "  </thead>\n",
       "  <tbody>\n",
       "    <tr>\n",
       "      <th>0</th>\n",
       "      <td>114890</td>\n",
       "      <td>0.5</td>\n",
       "    </tr>\n",
       "    <tr>\n",
       "      <th>1</th>\n",
       "      <td>732895</td>\n",
       "      <td>0.5</td>\n",
       "    </tr>\n",
       "    <tr>\n",
       "      <th>2</th>\n",
       "      <td>1139051</td>\n",
       "      <td>0.5</td>\n",
       "    </tr>\n",
       "    <tr>\n",
       "      <th>3</th>\n",
       "      <td>1434512</td>\n",
       "      <td>0.5</td>\n",
       "    </tr>\n",
       "    <tr>\n",
       "      <th>4</th>\n",
       "      <td>2084821</td>\n",
       "      <td>0.5</td>\n",
       "    </tr>\n",
       "  </tbody>\n",
       "</table>\n",
       "</div>"
      ],
      "text/plain": [
       "   comment_id  score\n",
       "0      114890    0.5\n",
       "1      732895    0.5\n",
       "2     1139051    0.5\n",
       "3     1434512    0.5\n",
       "4     2084821    0.5"
      ]
     },
     "execution_count": 27,
     "metadata": {},
     "output_type": "execute_result"
    }
   ],
   "source": [
    "sub = pd.read_csv('../input/jigsaw-toxic-severity-rating/sample_submission.csv')\n",
    "sub.head()"
   ]
  },
  {
   "cell_type": "code",
   "execution_count": 28,
   "id": "677734b0",
   "metadata": {
    "execution": {
     "iopub.execute_input": "2021-12-25T08:26:42.459135Z",
     "iopub.status.busy": "2021-12-25T08:26:42.455111Z",
     "iopub.status.idle": "2021-12-25T08:26:51.860889Z",
     "shell.execute_reply": "2021-12-25T08:26:51.861387Z",
     "shell.execute_reply.started": "2021-12-25T07:56:51.246827Z"
    },
    "papermill": {
     "duration": 9.439994,
     "end_time": "2021-12-25T08:26:51.861557",
     "exception": false,
     "start_time": "2021-12-25T08:26:42.421563",
     "status": "completed"
    },
    "tags": []
   },
   "outputs": [
    {
     "data": {
      "text/html": [
       "<div>\n",
       "<style scoped>\n",
       "    .dataframe tbody tr th:only-of-type {\n",
       "        vertical-align: middle;\n",
       "    }\n",
       "\n",
       "    .dataframe tbody tr th {\n",
       "        vertical-align: top;\n",
       "    }\n",
       "\n",
       "    .dataframe thead th {\n",
       "        text-align: right;\n",
       "    }\n",
       "</style>\n",
       "<table border=\"1\" class=\"dataframe\">\n",
       "  <thead>\n",
       "    <tr style=\"text-align: right;\">\n",
       "      <th></th>\n",
       "      <th>comment_id</th>\n",
       "      <th>score</th>\n",
       "    </tr>\n",
       "  </thead>\n",
       "  <tbody>\n",
       "    <tr>\n",
       "      <th>0</th>\n",
       "      <td>114890</td>\n",
       "      <td>-0.025054</td>\n",
       "    </tr>\n",
       "    <tr>\n",
       "      <th>1</th>\n",
       "      <td>732895</td>\n",
       "      <td>0.285758</td>\n",
       "    </tr>\n",
       "    <tr>\n",
       "      <th>2</th>\n",
       "      <td>1139051</td>\n",
       "      <td>0.235326</td>\n",
       "    </tr>\n",
       "    <tr>\n",
       "      <th>3</th>\n",
       "      <td>1434512</td>\n",
       "      <td>-0.259304</td>\n",
       "    </tr>\n",
       "    <tr>\n",
       "      <th>4</th>\n",
       "      <td>2084821</td>\n",
       "      <td>0.220295</td>\n",
       "    </tr>\n",
       "  </tbody>\n",
       "</table>\n",
       "</div>"
      ],
      "text/plain": [
       "   comment_id     score\n",
       "0      114890 -0.025054\n",
       "1      732895  0.285758\n",
       "2     1139051  0.235326\n",
       "3     1434512 -0.259304\n",
       "4     2084821  0.220295"
      ]
     },
     "execution_count": 28,
     "metadata": {},
     "output_type": "execute_result"
    }
   ],
   "source": [
    "# comment_to_score = clean(comment_to_score, 'text')\n",
    "comment_to_score['text'] = comment_to_score['text'].apply(text_cleaning)\n",
    "X_test = vect.transform(comment_to_score['text'])\n",
    "sub['score'] = model.predict(X_test)\n",
    "sub.head()"
   ]
  },
  {
   "cell_type": "code",
   "execution_count": 29,
   "id": "5ea59266",
   "metadata": {
    "execution": {
     "iopub.execute_input": "2021-12-25T08:26:51.928436Z",
     "iopub.status.busy": "2021-12-25T08:26:51.927833Z",
     "iopub.status.idle": "2021-12-25T08:26:51.969131Z",
     "shell.execute_reply": "2021-12-25T08:26:51.968461Z",
     "shell.execute_reply.started": "2021-12-25T07:56:51.248631Z"
    },
    "papermill": {
     "duration": 0.075521,
     "end_time": "2021-12-25T08:26:51.969290",
     "exception": false,
     "start_time": "2021-12-25T08:26:51.893769",
     "status": "completed"
    },
    "tags": []
   },
   "outputs": [],
   "source": [
    "sub[['comment_id', 'score']].to_csv(\"submission.csv\", index=False)"
   ]
  },
  {
   "cell_type": "code",
   "execution_count": null,
   "id": "0601eadf",
   "metadata": {
    "papermill": {
     "duration": 0.031303,
     "end_time": "2021-12-25T08:26:52.032905",
     "exception": false,
     "start_time": "2021-12-25T08:26:52.001602",
     "status": "completed"
    },
    "tags": []
   },
   "outputs": [],
   "source": []
  }
 ],
 "metadata": {
  "kernelspec": {
   "display_name": "Python 3",
   "language": "python",
   "name": "python3"
  },
  "language_info": {
   "codemirror_mode": {
    "name": "ipython",
    "version": 3
   },
   "file_extension": ".py",
   "mimetype": "text/x-python",
   "name": "python",
   "nbconvert_exporter": "python",
   "pygments_lexer": "ipython3",
   "version": "3.7.12"
  },
  "papermill": {
   "default_parameters": {},
   "duration": 140.263546,
   "end_time": "2021-12-25T08:26:53.077190",
   "environment_variables": {},
   "exception": null,
   "input_path": "__notebook__.ipynb",
   "output_path": "__notebook__.ipynb",
   "parameters": {},
   "start_time": "2021-12-25T08:24:32.813644",
   "version": "2.3.3"
  }
 },
 "nbformat": 4,
 "nbformat_minor": 5
}
