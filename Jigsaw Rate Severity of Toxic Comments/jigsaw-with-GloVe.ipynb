{
 "cells": [
  {
   "cell_type": "code",
   "execution_count": 1,
   "id": "83bdef01",
   "metadata": {
    "execution": {
     "iopub.execute_input": "2021-12-23T13:09:26.695602Z",
     "iopub.status.busy": "2021-12-23T13:09:26.694499Z",
     "iopub.status.idle": "2021-12-23T13:09:26.705323Z",
     "shell.execute_reply": "2021-12-23T13:09:26.706699Z",
     "shell.execute_reply.started": "2021-12-23T11:18:40.637852Z"
    },
    "papermill": {
     "duration": 0.071134,
     "end_time": "2021-12-23T13:09:26.707111",
     "exception": false,
     "start_time": "2021-12-23T13:09:26.635977",
     "status": "completed"
    },
    "tags": []
   },
   "outputs": [],
   "source": [
    "import pandas as pd\n",
    "import numpy as np"
   ]
  },
  {
   "cell_type": "code",
   "execution_count": 2,
   "id": "3b775feb",
   "metadata": {
    "execution": {
     "iopub.execute_input": "2021-12-23T13:09:26.796208Z",
     "iopub.status.busy": "2021-12-23T13:09:26.795046Z",
     "iopub.status.idle": "2021-12-23T13:09:26.939664Z",
     "shell.execute_reply": "2021-12-23T13:09:26.940182Z",
     "shell.execute_reply.started": "2021-12-23T11:18:40.663178Z"
    },
    "papermill": {
     "duration": 0.190674,
     "end_time": "2021-12-23T13:09:26.940366",
     "exception": false,
     "start_time": "2021-12-23T13:09:26.749692",
     "status": "completed"
    },
    "tags": []
   },
   "outputs": [
    {
     "data": {
      "text/html": [
       "<div>\n",
       "<style scoped>\n",
       "    .dataframe tbody tr th:only-of-type {\n",
       "        vertical-align: middle;\n",
       "    }\n",
       "\n",
       "    .dataframe tbody tr th {\n",
       "        vertical-align: top;\n",
       "    }\n",
       "\n",
       "    .dataframe thead th {\n",
       "        text-align: right;\n",
       "    }\n",
       "</style>\n",
       "<table border=\"1\" class=\"dataframe\">\n",
       "  <thead>\n",
       "    <tr style=\"text-align: right;\">\n",
       "      <th></th>\n",
       "      <th>comment_id</th>\n",
       "      <th>text</th>\n",
       "    </tr>\n",
       "  </thead>\n",
       "  <tbody>\n",
       "    <tr>\n",
       "      <th>0</th>\n",
       "      <td>114890</td>\n",
       "      <td>\"\\n \\n\\nGjalexei, you asked about whether ther...</td>\n",
       "    </tr>\n",
       "    <tr>\n",
       "      <th>1</th>\n",
       "      <td>732895</td>\n",
       "      <td>Looks like be have an abuser , can you please ...</td>\n",
       "    </tr>\n",
       "    <tr>\n",
       "      <th>2</th>\n",
       "      <td>1139051</td>\n",
       "      <td>I confess to having complete (and apparently b...</td>\n",
       "    </tr>\n",
       "    <tr>\n",
       "      <th>3</th>\n",
       "      <td>1434512</td>\n",
       "      <td>\"\\n\\nFreud's ideas are certainly much discusse...</td>\n",
       "    </tr>\n",
       "    <tr>\n",
       "      <th>4</th>\n",
       "      <td>2084821</td>\n",
       "      <td>It is not just you. This is a laundry list of ...</td>\n",
       "    </tr>\n",
       "  </tbody>\n",
       "</table>\n",
       "</div>"
      ],
      "text/plain": [
       "   comment_id                                               text\n",
       "0      114890  \"\\n \\n\\nGjalexei, you asked about whether ther...\n",
       "1      732895  Looks like be have an abuser , can you please ...\n",
       "2     1139051  I confess to having complete (and apparently b...\n",
       "3     1434512  \"\\n\\nFreud's ideas are certainly much discusse...\n",
       "4     2084821  It is not just you. This is a laundry list of ..."
      ]
     },
     "execution_count": 2,
     "metadata": {},
     "output_type": "execute_result"
    }
   ],
   "source": [
    "test = pd.read_csv('../input/jigsaw-toxic-severity-rating/comments_to_score.csv')\n",
    "test.head()"
   ]
  },
  {
   "cell_type": "code",
   "execution_count": 3,
   "id": "dedef02f",
   "metadata": {
    "execution": {
     "iopub.execute_input": "2021-12-23T13:09:26.991721Z",
     "iopub.status.busy": "2021-12-23T13:09:26.990888Z",
     "iopub.status.idle": "2021-12-23T13:09:27.531810Z",
     "shell.execute_reply": "2021-12-23T13:09:27.532468Z",
     "shell.execute_reply.started": "2021-12-23T11:18:40.783975Z"
    },
    "papermill": {
     "duration": 0.568545,
     "end_time": "2021-12-23T13:09:27.532691",
     "exception": false,
     "start_time": "2021-12-23T13:09:26.964146",
     "status": "completed"
    },
    "tags": []
   },
   "outputs": [
    {
     "data": {
      "text/html": [
       "<div>\n",
       "<style scoped>\n",
       "    .dataframe tbody tr th:only-of-type {\n",
       "        vertical-align: middle;\n",
       "    }\n",
       "\n",
       "    .dataframe tbody tr th {\n",
       "        vertical-align: top;\n",
       "    }\n",
       "\n",
       "    .dataframe thead th {\n",
       "        text-align: right;\n",
       "    }\n",
       "</style>\n",
       "<table border=\"1\" class=\"dataframe\">\n",
       "  <thead>\n",
       "    <tr style=\"text-align: right;\">\n",
       "      <th></th>\n",
       "      <th>worker</th>\n",
       "      <th>less_toxic</th>\n",
       "      <th>more_toxic</th>\n",
       "    </tr>\n",
       "  </thead>\n",
       "  <tbody>\n",
       "    <tr>\n",
       "      <th>0</th>\n",
       "      <td>313</td>\n",
       "      <td>This article sucks \\n\\nwoo woo wooooooo</td>\n",
       "      <td>WHAT!!!!!!!!?!?!!?!?!!?!?!?!?!!!!!!!!!!!!!!!!!...</td>\n",
       "    </tr>\n",
       "    <tr>\n",
       "      <th>1</th>\n",
       "      <td>188</td>\n",
       "      <td>\"And yes, people should recognize that but the...</td>\n",
       "      <td>Daphne Guinness \\n\\nTop of the mornin' my fav...</td>\n",
       "    </tr>\n",
       "    <tr>\n",
       "      <th>2</th>\n",
       "      <td>82</td>\n",
       "      <td>Western Media?\\n\\nYup, because every crime in...</td>\n",
       "      <td>\"Atom you don't believe actual photos of mastu...</td>\n",
       "    </tr>\n",
       "    <tr>\n",
       "      <th>3</th>\n",
       "      <td>347</td>\n",
       "      <td>And you removed it! You numbskull! I don't car...</td>\n",
       "      <td>You seem to have sand in your vagina.\\n\\nMight...</td>\n",
       "    </tr>\n",
       "    <tr>\n",
       "      <th>4</th>\n",
       "      <td>539</td>\n",
       "      <td>smelly vagina \\n\\nBluerasberry why don't you ...</td>\n",
       "      <td>hey \\n\\nway to support nazis, you racist</td>\n",
       "    </tr>\n",
       "  </tbody>\n",
       "</table>\n",
       "</div>"
      ],
      "text/plain": [
       "   worker                                         less_toxic  \\\n",
       "0     313            This article sucks \\n\\nwoo woo wooooooo   \n",
       "1     188  \"And yes, people should recognize that but the...   \n",
       "2      82   Western Media?\\n\\nYup, because every crime in...   \n",
       "3     347  And you removed it! You numbskull! I don't car...   \n",
       "4     539   smelly vagina \\n\\nBluerasberry why don't you ...   \n",
       "\n",
       "                                          more_toxic  \n",
       "0  WHAT!!!!!!!!?!?!!?!?!!?!?!?!?!!!!!!!!!!!!!!!!!...  \n",
       "1   Daphne Guinness \\n\\nTop of the mornin' my fav...  \n",
       "2  \"Atom you don't believe actual photos of mastu...  \n",
       "3  You seem to have sand in your vagina.\\n\\nMight...  \n",
       "4           hey \\n\\nway to support nazis, you racist  "
      ]
     },
     "execution_count": 3,
     "metadata": {},
     "output_type": "execute_result"
    }
   ],
   "source": [
    "val = pd.read_csv('../input/jigsaw-toxic-severity-rating/validation_data.csv')\n",
    "val.head()"
   ]
  },
  {
   "cell_type": "code",
   "execution_count": 4,
   "id": "17d8ee58",
   "metadata": {
    "execution": {
     "iopub.execute_input": "2021-12-23T13:09:27.586721Z",
     "iopub.status.busy": "2021-12-23T13:09:27.585700Z",
     "iopub.status.idle": "2021-12-23T13:09:27.607277Z",
     "shell.execute_reply": "2021-12-23T13:09:27.607846Z",
     "shell.execute_reply.started": "2021-12-23T11:18:41.268532Z"
    },
    "papermill": {
     "duration": 0.050938,
     "end_time": "2021-12-23T13:09:27.608058",
     "exception": false,
     "start_time": "2021-12-23T13:09:27.557120",
     "status": "completed"
    },
    "tags": []
   },
   "outputs": [
    {
     "data": {
      "text/html": [
       "<div>\n",
       "<style scoped>\n",
       "    .dataframe tbody tr th:only-of-type {\n",
       "        vertical-align: middle;\n",
       "    }\n",
       "\n",
       "    .dataframe tbody tr th {\n",
       "        vertical-align: top;\n",
       "    }\n",
       "\n",
       "    .dataframe thead th {\n",
       "        text-align: right;\n",
       "    }\n",
       "</style>\n",
       "<table border=\"1\" class=\"dataframe\">\n",
       "  <thead>\n",
       "    <tr style=\"text-align: right;\">\n",
       "      <th></th>\n",
       "      <th>comment_id</th>\n",
       "      <th>score</th>\n",
       "    </tr>\n",
       "  </thead>\n",
       "  <tbody>\n",
       "    <tr>\n",
       "      <th>0</th>\n",
       "      <td>114890</td>\n",
       "      <td>0.5</td>\n",
       "    </tr>\n",
       "    <tr>\n",
       "      <th>1</th>\n",
       "      <td>732895</td>\n",
       "      <td>0.5</td>\n",
       "    </tr>\n",
       "    <tr>\n",
       "      <th>2</th>\n",
       "      <td>1139051</td>\n",
       "      <td>0.5</td>\n",
       "    </tr>\n",
       "    <tr>\n",
       "      <th>3</th>\n",
       "      <td>1434512</td>\n",
       "      <td>0.5</td>\n",
       "    </tr>\n",
       "    <tr>\n",
       "      <th>4</th>\n",
       "      <td>2084821</td>\n",
       "      <td>0.5</td>\n",
       "    </tr>\n",
       "  </tbody>\n",
       "</table>\n",
       "</div>"
      ],
      "text/plain": [
       "   comment_id  score\n",
       "0      114890    0.5\n",
       "1      732895    0.5\n",
       "2     1139051    0.5\n",
       "3     1434512    0.5\n",
       "4     2084821    0.5"
      ]
     },
     "execution_count": 4,
     "metadata": {},
     "output_type": "execute_result"
    }
   ],
   "source": [
    "sub = pd.read_csv('../input/jigsaw-toxic-severity-rating/sample_submission.csv')\n",
    "sub.head()"
   ]
  },
  {
   "cell_type": "code",
   "execution_count": 5,
   "id": "d60f2699",
   "metadata": {
    "execution": {
     "iopub.execute_input": "2021-12-23T13:09:27.660769Z",
     "iopub.status.busy": "2021-12-23T13:09:27.660009Z",
     "iopub.status.idle": "2021-12-23T13:09:29.444338Z",
     "shell.execute_reply": "2021-12-23T13:09:29.444924Z",
     "shell.execute_reply.started": "2021-12-23T11:18:41.289592Z"
    },
    "papermill": {
     "duration": 1.812796,
     "end_time": "2021-12-23T13:09:29.445087",
     "exception": false,
     "start_time": "2021-12-23T13:09:27.632291",
     "status": "completed"
    },
    "tags": []
   },
   "outputs": [
    {
     "data": {
      "text/html": [
       "<div>\n",
       "<style scoped>\n",
       "    .dataframe tbody tr th:only-of-type {\n",
       "        vertical-align: middle;\n",
       "    }\n",
       "\n",
       "    .dataframe tbody tr th {\n",
       "        vertical-align: top;\n",
       "    }\n",
       "\n",
       "    .dataframe thead th {\n",
       "        text-align: right;\n",
       "    }\n",
       "</style>\n",
       "<table border=\"1\" class=\"dataframe\">\n",
       "  <thead>\n",
       "    <tr style=\"text-align: right;\">\n",
       "      <th></th>\n",
       "      <th>id</th>\n",
       "      <th>comment_text</th>\n",
       "      <th>toxic</th>\n",
       "      <th>severe_toxic</th>\n",
       "      <th>obscene</th>\n",
       "      <th>threat</th>\n",
       "      <th>insult</th>\n",
       "      <th>identity_hate</th>\n",
       "    </tr>\n",
       "  </thead>\n",
       "  <tbody>\n",
       "    <tr>\n",
       "      <th>0</th>\n",
       "      <td>0000997932d777bf</td>\n",
       "      <td>Explanation\\nWhy the edits made under my usern...</td>\n",
       "      <td>0</td>\n",
       "      <td>0</td>\n",
       "      <td>0</td>\n",
       "      <td>0</td>\n",
       "      <td>0</td>\n",
       "      <td>0</td>\n",
       "    </tr>\n",
       "    <tr>\n",
       "      <th>1</th>\n",
       "      <td>000103f0d9cfb60f</td>\n",
       "      <td>D'aww! He matches this background colour I'm s...</td>\n",
       "      <td>0</td>\n",
       "      <td>0</td>\n",
       "      <td>0</td>\n",
       "      <td>0</td>\n",
       "      <td>0</td>\n",
       "      <td>0</td>\n",
       "    </tr>\n",
       "    <tr>\n",
       "      <th>2</th>\n",
       "      <td>000113f07ec002fd</td>\n",
       "      <td>Hey man, I'm really not trying to edit war. It...</td>\n",
       "      <td>0</td>\n",
       "      <td>0</td>\n",
       "      <td>0</td>\n",
       "      <td>0</td>\n",
       "      <td>0</td>\n",
       "      <td>0</td>\n",
       "    </tr>\n",
       "    <tr>\n",
       "      <th>3</th>\n",
       "      <td>0001b41b1c6bb37e</td>\n",
       "      <td>\"\\nMore\\nI can't make any real suggestions on ...</td>\n",
       "      <td>0</td>\n",
       "      <td>0</td>\n",
       "      <td>0</td>\n",
       "      <td>0</td>\n",
       "      <td>0</td>\n",
       "      <td>0</td>\n",
       "    </tr>\n",
       "    <tr>\n",
       "      <th>4</th>\n",
       "      <td>0001d958c54c6e35</td>\n",
       "      <td>You, sir, are my hero. Any chance you remember...</td>\n",
       "      <td>0</td>\n",
       "      <td>0</td>\n",
       "      <td>0</td>\n",
       "      <td>0</td>\n",
       "      <td>0</td>\n",
       "      <td>0</td>\n",
       "    </tr>\n",
       "  </tbody>\n",
       "</table>\n",
       "</div>"
      ],
      "text/plain": [
       "                 id                                       comment_text  toxic  \\\n",
       "0  0000997932d777bf  Explanation\\nWhy the edits made under my usern...      0   \n",
       "1  000103f0d9cfb60f  D'aww! He matches this background colour I'm s...      0   \n",
       "2  000113f07ec002fd  Hey man, I'm really not trying to edit war. It...      0   \n",
       "3  0001b41b1c6bb37e  \"\\nMore\\nI can't make any real suggestions on ...      0   \n",
       "4  0001d958c54c6e35  You, sir, are my hero. Any chance you remember...      0   \n",
       "\n",
       "   severe_toxic  obscene  threat  insult  identity_hate  \n",
       "0             0        0       0       0              0  \n",
       "1             0        0       0       0              0  \n",
       "2             0        0       0       0              0  \n",
       "3             0        0       0       0              0  \n",
       "4             0        0       0       0              0  "
      ]
     },
     "execution_count": 5,
     "metadata": {},
     "output_type": "execute_result"
    }
   ],
   "source": [
    "toxic_train = pd.read_csv('../input/jigsaw-toxic-comment-classification-challenge/train.csv')\n",
    "toxic_train.head()"
   ]
  },
  {
   "cell_type": "code",
   "execution_count": 6,
   "id": "b6f24a54",
   "metadata": {
    "execution": {
     "iopub.execute_input": "2021-12-23T13:09:29.497185Z",
     "iopub.status.busy": "2021-12-23T13:09:29.496045Z",
     "iopub.status.idle": "2021-12-23T13:09:29.527410Z",
     "shell.execute_reply": "2021-12-23T13:09:29.528016Z",
     "shell.execute_reply.started": "2021-12-23T11:18:43.175638Z"
    },
    "papermill": {
     "duration": 0.058879,
     "end_time": "2021-12-23T13:09:29.528197",
     "exception": false,
     "start_time": "2021-12-23T13:09:29.469318",
     "status": "completed"
    },
    "tags": []
   },
   "outputs": [
    {
     "data": {
      "text/html": [
       "<div>\n",
       "<style scoped>\n",
       "    .dataframe tbody tr th:only-of-type {\n",
       "        vertical-align: middle;\n",
       "    }\n",
       "\n",
       "    .dataframe tbody tr th {\n",
       "        vertical-align: top;\n",
       "    }\n",
       "\n",
       "    .dataframe thead th {\n",
       "        text-align: right;\n",
       "    }\n",
       "</style>\n",
       "<table border=\"1\" class=\"dataframe\">\n",
       "  <thead>\n",
       "    <tr style=\"text-align: right;\">\n",
       "      <th></th>\n",
       "      <th>id</th>\n",
       "      <th>comment_text</th>\n",
       "      <th>toxic</th>\n",
       "      <th>severe_toxic</th>\n",
       "      <th>obscene</th>\n",
       "      <th>threat</th>\n",
       "      <th>insult</th>\n",
       "      <th>identity_hate</th>\n",
       "      <th>y</th>\n",
       "    </tr>\n",
       "  </thead>\n",
       "  <tbody>\n",
       "    <tr>\n",
       "      <th>0</th>\n",
       "      <td>0000997932d777bf</td>\n",
       "      <td>Explanation\\nWhy the edits made under my usern...</td>\n",
       "      <td>0</td>\n",
       "      <td>0</td>\n",
       "      <td>0</td>\n",
       "      <td>0</td>\n",
       "      <td>0</td>\n",
       "      <td>0</td>\n",
       "      <td>0</td>\n",
       "    </tr>\n",
       "    <tr>\n",
       "      <th>1</th>\n",
       "      <td>000103f0d9cfb60f</td>\n",
       "      <td>D'aww! He matches this background colour I'm s...</td>\n",
       "      <td>0</td>\n",
       "      <td>0</td>\n",
       "      <td>0</td>\n",
       "      <td>0</td>\n",
       "      <td>0</td>\n",
       "      <td>0</td>\n",
       "      <td>0</td>\n",
       "    </tr>\n",
       "    <tr>\n",
       "      <th>2</th>\n",
       "      <td>000113f07ec002fd</td>\n",
       "      <td>Hey man, I'm really not trying to edit war. It...</td>\n",
       "      <td>0</td>\n",
       "      <td>0</td>\n",
       "      <td>0</td>\n",
       "      <td>0</td>\n",
       "      <td>0</td>\n",
       "      <td>0</td>\n",
       "      <td>0</td>\n",
       "    </tr>\n",
       "    <tr>\n",
       "      <th>3</th>\n",
       "      <td>0001b41b1c6bb37e</td>\n",
       "      <td>\"\\nMore\\nI can't make any real suggestions on ...</td>\n",
       "      <td>0</td>\n",
       "      <td>0</td>\n",
       "      <td>0</td>\n",
       "      <td>0</td>\n",
       "      <td>0</td>\n",
       "      <td>0</td>\n",
       "      <td>0</td>\n",
       "    </tr>\n",
       "    <tr>\n",
       "      <th>4</th>\n",
       "      <td>0001d958c54c6e35</td>\n",
       "      <td>You, sir, are my hero. Any chance you remember...</td>\n",
       "      <td>0</td>\n",
       "      <td>0</td>\n",
       "      <td>0</td>\n",
       "      <td>0</td>\n",
       "      <td>0</td>\n",
       "      <td>0</td>\n",
       "      <td>0</td>\n",
       "    </tr>\n",
       "  </tbody>\n",
       "</table>\n",
       "</div>"
      ],
      "text/plain": [
       "                 id                                       comment_text  toxic  \\\n",
       "0  0000997932d777bf  Explanation\\nWhy the edits made under my usern...      0   \n",
       "1  000103f0d9cfb60f  D'aww! He matches this background colour I'm s...      0   \n",
       "2  000113f07ec002fd  Hey man, I'm really not trying to edit war. It...      0   \n",
       "3  0001b41b1c6bb37e  \"\\nMore\\nI can't make any real suggestions on ...      0   \n",
       "4  0001d958c54c6e35  You, sir, are my hero. Any chance you remember...      0   \n",
       "\n",
       "   severe_toxic  obscene  threat  insult  identity_hate  y  \n",
       "0             0        0       0       0              0  0  \n",
       "1             0        0       0       0              0  0  \n",
       "2             0        0       0       0              0  0  \n",
       "3             0        0       0       0              0  0  \n",
       "4             0        0       0       0              0  0  "
      ]
     },
     "execution_count": 6,
     "metadata": {},
     "output_type": "execute_result"
    }
   ],
   "source": [
    "toxic_train['y'] = (toxic_train[['toxic', 'severe_toxic', 'obscene', 'threat', 'insult', 'identity_hate']].sum(axis = 1) >0 ).astype(int)\n",
    "toxic_train.head()"
   ]
  },
  {
   "cell_type": "code",
   "execution_count": 7,
   "id": "e33e790e",
   "metadata": {
    "execution": {
     "iopub.execute_input": "2021-12-23T13:09:29.588545Z",
     "iopub.status.busy": "2021-12-23T13:09:29.587489Z",
     "iopub.status.idle": "2021-12-23T13:09:29.591291Z",
     "shell.execute_reply": "2021-12-23T13:09:29.591886Z",
     "shell.execute_reply.started": "2021-12-23T11:18:43.203482Z"
    },
    "papermill": {
     "duration": 0.039295,
     "end_time": "2021-12-23T13:09:29.592036",
     "exception": false,
     "start_time": "2021-12-23T13:09:29.552741",
     "status": "completed"
    },
    "tags": []
   },
   "outputs": [
    {
     "data": {
      "text/plain": [
       "0    143346\n",
       "1     16225\n",
       "Name: y, dtype: int64"
      ]
     },
     "execution_count": 7,
     "metadata": {},
     "output_type": "execute_result"
    }
   ],
   "source": [
    "toxic_train['y'].value_counts()"
   ]
  },
  {
   "cell_type": "code",
   "execution_count": 8,
   "id": "826e3846",
   "metadata": {
    "execution": {
     "iopub.execute_input": "2021-12-23T13:09:29.650324Z",
     "iopub.status.busy": "2021-12-23T13:09:29.648984Z",
     "iopub.status.idle": "2021-12-23T13:09:29.700073Z",
     "shell.execute_reply": "2021-12-23T13:09:29.700584Z",
     "shell.execute_reply.started": "2021-12-23T11:18:43.215349Z"
    },
    "papermill": {
     "duration": 0.083347,
     "end_time": "2021-12-23T13:09:29.700801",
     "exception": false,
     "start_time": "2021-12-23T13:09:29.617454",
     "status": "completed"
    },
    "tags": []
   },
   "outputs": [
    {
     "data": {
      "text/html": [
       "<div>\n",
       "<style scoped>\n",
       "    .dataframe tbody tr th:only-of-type {\n",
       "        vertical-align: middle;\n",
       "    }\n",
       "\n",
       "    .dataframe tbody tr th {\n",
       "        vertical-align: top;\n",
       "    }\n",
       "\n",
       "    .dataframe thead th {\n",
       "        text-align: right;\n",
       "    }\n",
       "</style>\n",
       "<table border=\"1\" class=\"dataframe\">\n",
       "  <thead>\n",
       "    <tr style=\"text-align: right;\">\n",
       "      <th></th>\n",
       "      <th>id</th>\n",
       "      <th>comment_text</th>\n",
       "      <th>toxic</th>\n",
       "      <th>severe_toxic</th>\n",
       "      <th>obscene</th>\n",
       "      <th>threat</th>\n",
       "      <th>insult</th>\n",
       "      <th>identity_hate</th>\n",
       "      <th>y</th>\n",
       "    </tr>\n",
       "  </thead>\n",
       "  <tbody>\n",
       "    <tr>\n",
       "      <th>69816</th>\n",
       "      <td>bac4e5358a94395c</td>\n",
       "      <td>\"\\n\\nI have never used Wikipedia for editing a...</td>\n",
       "      <td>0</td>\n",
       "      <td>0</td>\n",
       "      <td>0</td>\n",
       "      <td>0</td>\n",
       "      <td>0</td>\n",
       "      <td>0</td>\n",
       "      <td>0</td>\n",
       "    </tr>\n",
       "    <tr>\n",
       "      <th>105772</th>\n",
       "      <td>35eb8cb052edd783</td>\n",
       "      <td>Vandalsim warning \\n\\nhttp://en.wikipedia.org/...</td>\n",
       "      <td>0</td>\n",
       "      <td>0</td>\n",
       "      <td>0</td>\n",
       "      <td>0</td>\n",
       "      <td>0</td>\n",
       "      <td>0</td>\n",
       "      <td>0</td>\n",
       "    </tr>\n",
       "    <tr>\n",
       "      <th>51494</th>\n",
       "      <td>89c33ba9c1cc1e28</td>\n",
       "      <td>Dog i.e. Renee question \\n\\nDid anyone from  t...</td>\n",
       "      <td>0</td>\n",
       "      <td>0</td>\n",
       "      <td>0</td>\n",
       "      <td>0</td>\n",
       "      <td>0</td>\n",
       "      <td>0</td>\n",
       "      <td>0</td>\n",
       "    </tr>\n",
       "    <tr>\n",
       "      <th>27518</th>\n",
       "      <td>48d287d6379a207e</td>\n",
       "      <td>\"\\n\\n DistroWatch != popularity \\n\\nI've rever...</td>\n",
       "      <td>0</td>\n",
       "      <td>0</td>\n",
       "      <td>0</td>\n",
       "      <td>0</td>\n",
       "      <td>0</td>\n",
       "      <td>0</td>\n",
       "      <td>0</td>\n",
       "    </tr>\n",
       "    <tr>\n",
       "      <th>155259</th>\n",
       "      <td>bb3bfb52f2e08419</td>\n",
       "      <td>I like coulises. They are often very tasty. My...</td>\n",
       "      <td>0</td>\n",
       "      <td>0</td>\n",
       "      <td>0</td>\n",
       "      <td>0</td>\n",
       "      <td>0</td>\n",
       "      <td>0</td>\n",
       "      <td>0</td>\n",
       "    </tr>\n",
       "  </tbody>\n",
       "</table>\n",
       "</div>"
      ],
      "text/plain": [
       "                      id                                       comment_text  \\\n",
       "69816   bac4e5358a94395c  \"\\n\\nI have never used Wikipedia for editing a...   \n",
       "105772  35eb8cb052edd783  Vandalsim warning \\n\\nhttp://en.wikipedia.org/...   \n",
       "51494   89c33ba9c1cc1e28  Dog i.e. Renee question \\n\\nDid anyone from  t...   \n",
       "27518   48d287d6379a207e  \"\\n\\n DistroWatch != popularity \\n\\nI've rever...   \n",
       "155259  bb3bfb52f2e08419  I like coulises. They are often very tasty. My...   \n",
       "\n",
       "        toxic  severe_toxic  obscene  threat  insult  identity_hate  y  \n",
       "69816       0             0        0       0       0              0  0  \n",
       "105772      0             0        0       0       0              0  0  \n",
       "51494       0             0        0       0       0              0  0  \n",
       "27518       0             0        0       0       0              0  0  \n",
       "155259      0             0        0       0       0              0  0  "
      ]
     },
     "execution_count": 8,
     "metadata": {},
     "output_type": "execute_result"
    }
   ],
   "source": [
    "toxic_train_undersample = toxic_train[toxic_train['y'] == 0].sample(n = 16225, random_state = 2020)\n",
    "toxic = pd.concat([toxic_train_undersample, toxic_train[toxic_train['y'] == 1]])\n",
    "toxic.head()"
   ]
  },
  {
   "cell_type": "code",
   "execution_count": 9,
   "id": "c63aafa9",
   "metadata": {
    "execution": {
     "iopub.execute_input": "2021-12-23T13:09:29.766098Z",
     "iopub.status.busy": "2021-12-23T13:09:29.765385Z",
     "iopub.status.idle": "2021-12-23T13:09:29.771398Z",
     "shell.execute_reply": "2021-12-23T13:09:29.770900Z",
     "shell.execute_reply.started": "2021-12-23T11:18:43.26375Z"
    },
    "papermill": {
     "duration": 0.044225,
     "end_time": "2021-12-23T13:09:29.771555",
     "exception": false,
     "start_time": "2021-12-23T13:09:29.727330",
     "status": "completed"
    },
    "tags": []
   },
   "outputs": [
    {
     "data": {
      "text/html": [
       "<div>\n",
       "<style scoped>\n",
       "    .dataframe tbody tr th:only-of-type {\n",
       "        vertical-align: middle;\n",
       "    }\n",
       "\n",
       "    .dataframe tbody tr th {\n",
       "        vertical-align: top;\n",
       "    }\n",
       "\n",
       "    .dataframe thead th {\n",
       "        text-align: right;\n",
       "    }\n",
       "</style>\n",
       "<table border=\"1\" class=\"dataframe\">\n",
       "  <thead>\n",
       "    <tr style=\"text-align: right;\">\n",
       "      <th></th>\n",
       "      <th>comment_text</th>\n",
       "      <th>y</th>\n",
       "    </tr>\n",
       "  </thead>\n",
       "  <tbody>\n",
       "    <tr>\n",
       "      <th>69816</th>\n",
       "      <td>\"\\n\\nI have never used Wikipedia for editing a...</td>\n",
       "      <td>0</td>\n",
       "    </tr>\n",
       "    <tr>\n",
       "      <th>105772</th>\n",
       "      <td>Vandalsim warning \\n\\nhttp://en.wikipedia.org/...</td>\n",
       "      <td>0</td>\n",
       "    </tr>\n",
       "    <tr>\n",
       "      <th>51494</th>\n",
       "      <td>Dog i.e. Renee question \\n\\nDid anyone from  t...</td>\n",
       "      <td>0</td>\n",
       "    </tr>\n",
       "    <tr>\n",
       "      <th>27518</th>\n",
       "      <td>\"\\n\\n DistroWatch != popularity \\n\\nI've rever...</td>\n",
       "      <td>0</td>\n",
       "    </tr>\n",
       "    <tr>\n",
       "      <th>155259</th>\n",
       "      <td>I like coulises. They are often very tasty. My...</td>\n",
       "      <td>0</td>\n",
       "    </tr>\n",
       "  </tbody>\n",
       "</table>\n",
       "</div>"
      ],
      "text/plain": [
       "                                             comment_text  y\n",
       "69816   \"\\n\\nI have never used Wikipedia for editing a...  0\n",
       "105772  Vandalsim warning \\n\\nhttp://en.wikipedia.org/...  0\n",
       "51494   Dog i.e. Renee question \\n\\nDid anyone from  t...  0\n",
       "27518   \"\\n\\n DistroWatch != popularity \\n\\nI've rever...  0\n",
       "155259  I like coulises. They are often very tasty. My...  0"
      ]
     },
     "execution_count": 9,
     "metadata": {},
     "output_type": "execute_result"
    }
   ],
   "source": [
    "toxic = toxic.drop(['id', 'toxic', 'severe_toxic', 'obscene', 'threat', 'insult', 'identity_hate'], axis = 1)\n",
    "toxic.head()"
   ]
  },
  {
   "cell_type": "code",
   "execution_count": 10,
   "id": "09d9b07b",
   "metadata": {
    "execution": {
     "iopub.execute_input": "2021-12-23T13:09:29.831990Z",
     "iopub.status.busy": "2021-12-23T13:09:29.828458Z",
     "iopub.status.idle": "2021-12-23T13:09:29.835741Z",
     "shell.execute_reply": "2021-12-23T13:09:29.836404Z",
     "shell.execute_reply.started": "2021-12-23T11:18:43.279922Z"
    },
    "papermill": {
     "duration": 0.039564,
     "end_time": "2021-12-23T13:09:29.836599",
     "exception": false,
     "start_time": "2021-12-23T13:09:29.797035",
     "status": "completed"
    },
    "tags": []
   },
   "outputs": [
    {
     "data": {
      "text/plain": [
       "0    16225\n",
       "1    16225\n",
       "Name: y, dtype: int64"
      ]
     },
     "execution_count": 10,
     "metadata": {},
     "output_type": "execute_result"
    }
   ],
   "source": [
    "toxic['y'].value_counts()"
   ]
  },
  {
   "cell_type": "code",
   "execution_count": 11,
   "id": "58f9773e",
   "metadata": {
    "execution": {
     "iopub.execute_input": "2021-12-23T13:09:29.895508Z",
     "iopub.status.busy": "2021-12-23T13:09:29.894503Z",
     "iopub.status.idle": "2021-12-23T13:09:30.047286Z",
     "shell.execute_reply": "2021-12-23T13:09:30.046542Z",
     "shell.execute_reply.started": "2021-12-23T11:18:43.288614Z"
    },
    "papermill": {
     "duration": 0.184106,
     "end_time": "2021-12-23T13:09:30.047444",
     "exception": false,
     "start_time": "2021-12-23T13:09:29.863338",
     "status": "completed"
    },
    "tags": []
   },
   "outputs": [
    {
     "data": {
      "text/plain": [
       "1411"
      ]
     },
     "execution_count": 11,
     "metadata": {},
     "output_type": "execute_result"
    }
   ],
   "source": [
    "toxic['comment_text'].apply(lambda x : len(str(x).split())).max()"
   ]
  },
  {
   "cell_type": "code",
   "execution_count": 12,
   "id": "bed58ae2",
   "metadata": {
    "execution": {
     "iopub.execute_input": "2021-12-23T13:09:30.108975Z",
     "iopub.status.busy": "2021-12-23T13:09:30.108074Z",
     "iopub.status.idle": "2021-12-23T13:09:40.116014Z",
     "shell.execute_reply": "2021-12-23T13:09:40.115072Z",
     "shell.execute_reply.started": "2021-12-23T11:18:43.432635Z"
    },
    "papermill": {
     "duration": 10.041658,
     "end_time": "2021-12-23T13:09:40.116160",
     "exception": false,
     "start_time": "2021-12-23T13:09:30.074502",
     "status": "completed"
    },
    "tags": []
   },
   "outputs": [
    {
     "data": {
      "text/plain": [
       "69947"
      ]
     },
     "execution_count": 12,
     "metadata": {},
     "output_type": "execute_result"
    }
   ],
   "source": [
    "import tensorflow as tf\n",
    "import keras\n",
    "from keras.preprocessing.text import Tokenizer\n",
    "\n",
    "t = Tokenizer()\n",
    "t.fit_on_texts(toxic['comment_text'])\n",
    "comment_seq = t.texts_to_sequences(toxic['comment_text'])\n",
    "len(t.word_index)"
   ]
  },
  {
   "cell_type": "code",
   "execution_count": 13,
   "id": "5dcf9bd0",
   "metadata": {
    "execution": {
     "iopub.execute_input": "2021-12-23T13:09:40.234940Z",
     "iopub.status.busy": "2021-12-23T13:09:40.233761Z",
     "iopub.status.idle": "2021-12-23T13:09:41.135793Z",
     "shell.execute_reply": "2021-12-23T13:09:41.137079Z",
     "shell.execute_reply.started": "2021-12-23T11:18:51.288756Z"
    },
    "papermill": {
     "duration": 0.980569,
     "end_time": "2021-12-23T13:09:41.137343",
     "exception": false,
     "start_time": "2021-12-23T13:09:40.156774",
     "status": "completed"
    },
    "tags": []
   },
   "outputs": [],
   "source": [
    "from keras.preprocessing import sequence\n",
    "\n",
    "comment_pad = sequence.pad_sequences(comment_seq, maxlen = 1411)\n",
    "target = toxic['y']"
   ]
  },
  {
   "cell_type": "code",
   "execution_count": 14,
   "id": "0d7e52f4",
   "metadata": {
    "execution": {
     "iopub.execute_input": "2021-12-23T13:09:41.243483Z",
     "iopub.status.busy": "2021-12-23T13:09:41.241078Z",
     "iopub.status.idle": "2021-12-23T13:09:41.989946Z",
     "shell.execute_reply": "2021-12-23T13:09:41.989099Z"
    },
    "papermill": {
     "duration": 0.803111,
     "end_time": "2021-12-23T13:09:41.990096",
     "exception": false,
     "start_time": "2021-12-23T13:09:41.186985",
     "status": "completed"
    },
    "tags": []
   },
   "outputs": [],
   "source": [
    "import sklearn\n",
    "comment_pad, target = sklearn.utils.shuffle(comment_pad, target, random_state = 2021)"
   ]
  },
  {
   "cell_type": "code",
   "execution_count": 15,
   "id": "024b4e3f",
   "metadata": {
    "execution": {
     "iopub.execute_input": "2021-12-23T13:09:42.051417Z",
     "iopub.status.busy": "2021-12-23T13:09:42.050387Z",
     "iopub.status.idle": "2021-12-23T13:09:42.251775Z",
     "shell.execute_reply": "2021-12-23T13:09:42.252333Z",
     "shell.execute_reply.started": "2021-12-23T11:18:51.852117Z"
    },
    "papermill": {
     "duration": 0.234383,
     "end_time": "2021-12-23T13:09:42.252528",
     "exception": false,
     "start_time": "2021-12-23T13:09:42.018145",
     "status": "completed"
    },
    "tags": []
   },
   "outputs": [
    {
     "data": {
      "text/plain": [
       "21"
      ]
     },
     "execution_count": 15,
     "metadata": {},
     "output_type": "execute_result"
    }
   ],
   "source": [
    "import os, gc\n",
    "\n",
    "del comment_seq, toxic, toxic_train_undersample, toxic_train\n",
    "gc.collect()"
   ]
  },
  {
   "cell_type": "code",
   "execution_count": 16,
   "id": "39af106e",
   "metadata": {
    "execution": {
     "iopub.execute_input": "2021-12-23T13:09:42.316654Z",
     "iopub.status.busy": "2021-12-23T13:09:42.315471Z",
     "iopub.status.idle": "2021-12-23T13:15:10.235326Z",
     "shell.execute_reply": "2021-12-23T13:15:10.234441Z",
     "shell.execute_reply.started": "2021-12-23T11:18:52.012227Z"
    },
    "papermill": {
     "duration": 327.954622,
     "end_time": "2021-12-23T13:15:10.235492",
     "exception": false,
     "start_time": "2021-12-23T13:09:42.280870",
     "status": "completed"
    },
    "tags": []
   },
   "outputs": [],
   "source": [
    "embedding_words = {}\n",
    "file = open('../input/glove840b300dtxt/glove.840B.300d.txt', 'r', encoding = 'utf-8')\n",
    "for line in file:\n",
    "    values = line.split(' ')\n",
    "    word = values[0]\n",
    "    vector = np.asarray([float(val) for val in values[1:]])\n",
    "    embedding_words[word] = vector\n",
    "file.close()"
   ]
  },
  {
   "cell_type": "code",
   "execution_count": 17,
   "id": "cb10af7e",
   "metadata": {
    "execution": {
     "iopub.execute_input": "2021-12-23T13:15:10.301144Z",
     "iopub.status.busy": "2021-12-23T13:15:10.299938Z",
     "iopub.status.idle": "2021-12-23T13:15:10.545883Z",
     "shell.execute_reply": "2021-12-23T13:15:10.545166Z",
     "shell.execute_reply.started": "2021-12-23T11:23:20.657134Z"
    },
    "papermill": {
     "duration": 0.280973,
     "end_time": "2021-12-23T13:15:10.546062",
     "exception": false,
     "start_time": "2021-12-23T13:15:10.265089",
     "status": "completed"
    },
    "tags": []
   },
   "outputs": [],
   "source": [
    "embedding_matrix = np.zeros((len(t.word_index) + 1, 300))\n",
    "for word,val in t.word_index.items() :\n",
    "    vector = embedding_words.get(word)\n",
    "    if vector is not None:\n",
    "        embedding_matrix[val] = vector"
   ]
  },
  {
   "cell_type": "code",
   "execution_count": 18,
   "id": "8e6d3521",
   "metadata": {
    "execution": {
     "iopub.execute_input": "2021-12-23T13:15:10.609655Z",
     "iopub.status.busy": "2021-12-23T13:15:10.608908Z",
     "iopub.status.idle": "2021-12-23T13:15:14.842979Z",
     "shell.execute_reply": "2021-12-23T13:15:14.843520Z",
     "shell.execute_reply.started": "2021-12-23T11:23:20.875513Z"
    },
    "papermill": {
     "duration": 4.269479,
     "end_time": "2021-12-23T13:15:14.843769",
     "exception": false,
     "start_time": "2021-12-23T13:15:10.574290",
     "status": "completed"
    },
    "tags": []
   },
   "outputs": [
    {
     "name": "stderr",
     "output_type": "stream",
     "text": [
      "2021-12-23 13:15:10.705124: I tensorflow/stream_executor/cuda/cuda_gpu_executor.cc:937] successful NUMA node read from SysFS had negative value (-1), but there must be at least one NUMA node, so returning NUMA node zero\n",
      "2021-12-23 13:15:10.838374: I tensorflow/stream_executor/cuda/cuda_gpu_executor.cc:937] successful NUMA node read from SysFS had negative value (-1), but there must be at least one NUMA node, so returning NUMA node zero\n",
      "2021-12-23 13:15:10.839417: I tensorflow/stream_executor/cuda/cuda_gpu_executor.cc:937] successful NUMA node read from SysFS had negative value (-1), but there must be at least one NUMA node, so returning NUMA node zero\n",
      "2021-12-23 13:15:10.840999: I tensorflow/core/platform/cpu_feature_guard.cc:142] This TensorFlow binary is optimized with oneAPI Deep Neural Network Library (oneDNN) to use the following CPU instructions in performance-critical operations:  AVX2 FMA\n",
      "To enable them in other operations, rebuild TensorFlow with the appropriate compiler flags.\n",
      "2021-12-23 13:15:10.841342: I tensorflow/stream_executor/cuda/cuda_gpu_executor.cc:937] successful NUMA node read from SysFS had negative value (-1), but there must be at least one NUMA node, so returning NUMA node zero\n",
      "2021-12-23 13:15:10.842408: I tensorflow/stream_executor/cuda/cuda_gpu_executor.cc:937] successful NUMA node read from SysFS had negative value (-1), but there must be at least one NUMA node, so returning NUMA node zero\n",
      "2021-12-23 13:15:10.843402: I tensorflow/stream_executor/cuda/cuda_gpu_executor.cc:937] successful NUMA node read from SysFS had negative value (-1), but there must be at least one NUMA node, so returning NUMA node zero\n",
      "2021-12-23 13:15:13.383073: I tensorflow/stream_executor/cuda/cuda_gpu_executor.cc:937] successful NUMA node read from SysFS had negative value (-1), but there must be at least one NUMA node, so returning NUMA node zero\n",
      "2021-12-23 13:15:13.384432: I tensorflow/stream_executor/cuda/cuda_gpu_executor.cc:937] successful NUMA node read from SysFS had negative value (-1), but there must be at least one NUMA node, so returning NUMA node zero\n",
      "2021-12-23 13:15:13.385758: I tensorflow/stream_executor/cuda/cuda_gpu_executor.cc:937] successful NUMA node read from SysFS had negative value (-1), but there must be at least one NUMA node, so returning NUMA node zero\n",
      "2021-12-23 13:15:13.388237: I tensorflow/core/common_runtime/gpu/gpu_device.cc:1510] Created device /job:localhost/replica:0/task:0/device:GPU:0 with 15403 MB memory:  -> device: 0, name: Tesla P100-PCIE-16GB, pci bus id: 0000:00:04.0, compute capability: 6.0\n",
      "2021-12-23 13:15:14.070742: W tensorflow/core/framework/cpu_allocator_impl.cc:80] Allocation of 83937600 exceeds 10% of free system memory.\n"
     ]
    }
   ],
   "source": [
    "def model():\n",
    "    model = keras.Sequential()\n",
    "    model.add(keras.layers.Embedding(len(t.word_index) + 1, output_dim = 300, weights = [embedding_matrix], input_length = 1411, trainable = False ))\n",
    "    model.add(keras.layers.LSTM(33, dropout = 0.5, return_sequences=True))\n",
    "    model.add(keras.layers.LSTM(10, dropout = 0.3))\n",
    "    model.add(keras.layers.Dense(1, activation = 'sigmoid'))\n",
    "    return model\n",
    "\n",
    "model = model()"
   ]
  },
  {
   "cell_type": "code",
   "execution_count": 19,
   "id": "399c2fe4",
   "metadata": {
    "execution": {
     "iopub.execute_input": "2021-12-23T13:15:14.912573Z",
     "iopub.status.busy": "2021-12-23T13:15:14.908703Z",
     "iopub.status.idle": "2021-12-23T13:15:14.926380Z",
     "shell.execute_reply": "2021-12-23T13:15:14.925890Z",
     "shell.execute_reply.started": "2021-12-23T11:23:24.152881Z"
    },
    "papermill": {
     "duration": 0.053351,
     "end_time": "2021-12-23T13:15:14.926560",
     "exception": false,
     "start_time": "2021-12-23T13:15:14.873209",
     "status": "completed"
    },
    "tags": []
   },
   "outputs": [
    {
     "name": "stdout",
     "output_type": "stream",
     "text": [
      "Model: \"sequential\"\n",
      "_________________________________________________________________\n",
      "Layer (type)                 Output Shape              Param #   \n",
      "=================================================================\n",
      "embedding (Embedding)        (None, 1411, 300)         20984400  \n",
      "_________________________________________________________________\n",
      "lstm (LSTM)                  (None, 1411, 33)          44088     \n",
      "_________________________________________________________________\n",
      "lstm_1 (LSTM)                (None, 10)                1760      \n",
      "_________________________________________________________________\n",
      "dense (Dense)                (None, 1)                 11        \n",
      "=================================================================\n",
      "Total params: 21,030,259\n",
      "Trainable params: 45,859\n",
      "Non-trainable params: 20,984,400\n",
      "_________________________________________________________________\n"
     ]
    }
   ],
   "source": [
    "model.compile(optimizer = 'adam', loss = 'binary_crossentropy', metrics = ['accuracy'])\n",
    "model.summary()"
   ]
  },
  {
   "cell_type": "code",
   "execution_count": 20,
   "id": "6bcb61ed",
   "metadata": {
    "execution": {
     "iopub.execute_input": "2021-12-23T13:15:14.990510Z",
     "iopub.status.busy": "2021-12-23T13:15:14.989465Z",
     "iopub.status.idle": "2021-12-23T13:20:12.373120Z",
     "shell.execute_reply": "2021-12-23T13:20:12.372549Z",
     "shell.execute_reply.started": "2021-12-23T11:23:24.171894Z"
    },
    "papermill": {
     "duration": 297.4176,
     "end_time": "2021-12-23T13:20:12.373268",
     "exception": false,
     "start_time": "2021-12-23T13:15:14.955668",
     "status": "completed"
    },
    "tags": []
   },
   "outputs": [
    {
     "name": "stderr",
     "output_type": "stream",
     "text": [
      "2021-12-23 13:15:14.991955: W tensorflow/core/framework/cpu_allocator_impl.cc:80] Allocation of 183147800 exceeds 10% of free system memory.\n",
      "2021-12-23 13:15:15.203632: I tensorflow/compiler/mlir/mlir_graph_optimization_pass.cc:185] None of the MLIR Optimization Passes are enabled (registered 2)\n"
     ]
    },
    {
     "name": "stdout",
     "output_type": "stream",
     "text": [
      "Epoch 1/8\n"
     ]
    },
    {
     "name": "stderr",
     "output_type": "stream",
     "text": [
      "2021-12-23 13:15:20.107568: I tensorflow/stream_executor/cuda/cuda_dnn.cc:369] Loaded cuDNN version 8005\n"
     ]
    },
    {
     "name": "stdout",
     "output_type": "stream",
     "text": [
      "254/254 [==============================] - 42s 142ms/step - loss: 0.3555 - accuracy: 0.8513\n",
      "Epoch 2/8\n",
      "254/254 [==============================] - 36s 143ms/step - loss: 0.2542 - accuracy: 0.8967\n",
      "Epoch 3/8\n",
      "254/254 [==============================] - 36s 143ms/step - loss: 0.2249 - accuracy: 0.9088\n",
      "Epoch 4/8\n",
      "254/254 [==============================] - 37s 144ms/step - loss: 0.2400 - accuracy: 0.9045\n",
      "Epoch 5/8\n",
      "254/254 [==============================] - 36s 143ms/step - loss: 0.2329 - accuracy: 0.9089\n",
      "Epoch 6/8\n",
      "254/254 [==============================] - 37s 144ms/step - loss: 0.2080 - accuracy: 0.9165\n",
      "Epoch 7/8\n",
      "254/254 [==============================] - 36s 143ms/step - loss: 0.1993 - accuracy: 0.9216\n",
      "Epoch 8/8\n",
      "254/254 [==============================] - 37s 144ms/step - loss: 0.1951 - accuracy: 0.9225\n"
     ]
    }
   ],
   "source": [
    "history = model.fit(comment_pad, target, epochs = 8, batch_size = 128)"
   ]
  },
  {
   "cell_type": "code",
   "execution_count": 21,
   "id": "002a00b5",
   "metadata": {
    "execution": {
     "iopub.execute_input": "2021-12-23T13:20:13.806931Z",
     "iopub.status.busy": "2021-12-23T13:20:13.796901Z",
     "iopub.status.idle": "2021-12-23T13:20:14.358602Z",
     "shell.execute_reply": "2021-12-23T13:20:14.357978Z",
     "shell.execute_reply.started": "2021-12-23T11:25:10.816894Z"
    },
    "papermill": {
     "duration": 1.286656,
     "end_time": "2021-12-23T13:20:14.358783",
     "exception": false,
     "start_time": "2021-12-23T13:20:13.072127",
     "status": "completed"
    },
    "tags": []
   },
   "outputs": [],
   "source": [
    "comment_seq_test = t.texts_to_sequences(test['text'])\n",
    "comment_pad_test = sequence.pad_sequences(comment_seq_test, maxlen = 1411)"
   ]
  },
  {
   "cell_type": "code",
   "execution_count": 22,
   "id": "249d7f98",
   "metadata": {
    "execution": {
     "iopub.execute_input": "2021-12-23T13:20:16.150119Z",
     "iopub.status.busy": "2021-12-23T13:20:16.148898Z",
     "iopub.status.idle": "2021-12-23T13:20:37.457805Z",
     "shell.execute_reply": "2021-12-23T13:20:37.458724Z",
     "shell.execute_reply.started": "2021-12-23T11:27:43.044204Z"
    },
    "papermill": {
     "duration": 22.34852,
     "end_time": "2021-12-23T13:20:37.458989",
     "exception": false,
     "start_time": "2021-12-23T13:20:15.110469",
     "status": "completed"
    },
    "tags": []
   },
   "outputs": [
    {
     "name": "stderr",
     "output_type": "stream",
     "text": [
      "2021-12-23 13:20:16.147908: W tensorflow/core/framework/cpu_allocator_impl.cc:80] Allocation of 42538828 exceeds 10% of free system memory.\n"
     ]
    }
   ],
   "source": [
    "y_test = model.predict(comment_pad_test)"
   ]
  },
  {
   "cell_type": "code",
   "execution_count": 23,
   "id": "e458e3b2",
   "metadata": {
    "execution": {
     "iopub.execute_input": "2021-12-23T13:20:39.156873Z",
     "iopub.status.busy": "2021-12-23T13:20:39.155551Z",
     "iopub.status.idle": "2021-12-23T13:20:39.161278Z",
     "shell.execute_reply": "2021-12-23T13:20:39.160694Z",
     "shell.execute_reply.started": "2021-12-23T11:27:51.186822Z"
    },
    "papermill": {
     "duration": 0.721392,
     "end_time": "2021-12-23T13:20:39.161434",
     "exception": false,
     "start_time": "2021-12-23T13:20:38.440042",
     "status": "completed"
    },
    "tags": []
   },
   "outputs": [
    {
     "data": {
      "text/html": [
       "<div>\n",
       "<style scoped>\n",
       "    .dataframe tbody tr th:only-of-type {\n",
       "        vertical-align: middle;\n",
       "    }\n",
       "\n",
       "    .dataframe tbody tr th {\n",
       "        vertical-align: top;\n",
       "    }\n",
       "\n",
       "    .dataframe thead th {\n",
       "        text-align: right;\n",
       "    }\n",
       "</style>\n",
       "<table border=\"1\" class=\"dataframe\">\n",
       "  <thead>\n",
       "    <tr style=\"text-align: right;\">\n",
       "      <th></th>\n",
       "      <th>comment_id</th>\n",
       "      <th>score</th>\n",
       "    </tr>\n",
       "  </thead>\n",
       "  <tbody>\n",
       "    <tr>\n",
       "      <th>0</th>\n",
       "      <td>114890</td>\n",
       "      <td>0.006591</td>\n",
       "    </tr>\n",
       "    <tr>\n",
       "      <th>1</th>\n",
       "      <td>732895</td>\n",
       "      <td>0.431618</td>\n",
       "    </tr>\n",
       "    <tr>\n",
       "      <th>2</th>\n",
       "      <td>1139051</td>\n",
       "      <td>0.015597</td>\n",
       "    </tr>\n",
       "    <tr>\n",
       "      <th>3</th>\n",
       "      <td>1434512</td>\n",
       "      <td>0.003121</td>\n",
       "    </tr>\n",
       "    <tr>\n",
       "      <th>4</th>\n",
       "      <td>2084821</td>\n",
       "      <td>0.800016</td>\n",
       "    </tr>\n",
       "  </tbody>\n",
       "</table>\n",
       "</div>"
      ],
      "text/plain": [
       "   comment_id     score\n",
       "0      114890  0.006591\n",
       "1      732895  0.431618\n",
       "2     1139051  0.015597\n",
       "3     1434512  0.003121\n",
       "4     2084821  0.800016"
      ]
     },
     "execution_count": 23,
     "metadata": {},
     "output_type": "execute_result"
    }
   ],
   "source": [
    "sub['score'] = y_test\n",
    "sub.head()"
   ]
  },
  {
   "cell_type": "code",
   "execution_count": 24,
   "id": "4752ec23",
   "metadata": {
    "execution": {
     "iopub.execute_input": "2021-12-23T13:20:41.204365Z",
     "iopub.status.busy": "2021-12-23T13:20:41.203626Z",
     "iopub.status.idle": "2021-12-23T13:20:41.236511Z",
     "shell.execute_reply": "2021-12-23T13:20:41.235931Z",
     "shell.execute_reply.started": "2021-12-23T11:27:57.383185Z"
    },
    "papermill": {
     "duration": 0.982067,
     "end_time": "2021-12-23T13:20:41.236703",
     "exception": false,
     "start_time": "2021-12-23T13:20:40.254636",
     "status": "completed"
    },
    "tags": []
   },
   "outputs": [],
   "source": [
    "sub[['comment_id', 'score']].to_csv(\"submission.csv\", index=False)"
   ]
  },
  {
   "cell_type": "code",
   "execution_count": null,
   "id": "08081613",
   "metadata": {
    "papermill": {
     "duration": 0.702763,
     "end_time": "2021-12-23T13:20:42.641497",
     "exception": false,
     "start_time": "2021-12-23T13:20:41.938734",
     "status": "completed"
    },
    "tags": []
   },
   "outputs": [],
   "source": []
  },
  {
   "cell_type": "code",
   "execution_count": null,
   "id": "818d0eb6",
   "metadata": {
    "papermill": {
     "duration": 0.709095,
     "end_time": "2021-12-23T13:20:44.121225",
     "exception": false,
     "start_time": "2021-12-23T13:20:43.412130",
     "status": "completed"
    },
    "tags": []
   },
   "outputs": [],
   "source": []
  }
 ],
 "metadata": {
  "kernelspec": {
   "display_name": "Python 3",
   "language": "python",
   "name": "python3"
  },
  "language_info": {
   "codemirror_mode": {
    "name": "ipython",
    "version": 3
   },
   "file_extension": ".py",
   "mimetype": "text/x-python",
   "name": "python",
   "nbconvert_exporter": "python",
   "pygments_lexer": "ipython3",
   "version": "3.7.12"
  },
  "papermill": {
   "default_parameters": {},
   "duration": 692.193186,
   "end_time": "2021-12-23T13:20:48.806121",
   "environment_variables": {},
   "exception": null,
   "input_path": "__notebook__.ipynb",
   "output_path": "__notebook__.ipynb",
   "parameters": {},
   "start_time": "2021-12-23T13:09:16.612935",
   "version": "2.3.3"
  }
 },
 "nbformat": 4,
 "nbformat_minor": 5
}
