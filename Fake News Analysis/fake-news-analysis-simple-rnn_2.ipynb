{
 "cells": [
  {
   "cell_type": "code",
   "execution_count": 1,
   "id": "0af23452",
   "metadata": {
    "execution": {
     "iopub.execute_input": "2021-11-04T08:04:34.396635Z",
     "iopub.status.busy": "2021-11-04T08:04:34.394895Z",
     "iopub.status.idle": "2021-11-04T08:04:34.404065Z",
     "shell.execute_reply": "2021-11-04T08:04:34.403575Z",
     "shell.execute_reply.started": "2021-11-04T07:16:15.194004Z"
    },
    "papermill": {
     "duration": 0.030681,
     "end_time": "2021-11-04T08:04:34.404218",
     "exception": false,
     "start_time": "2021-11-04T08:04:34.373537",
     "status": "completed"
    },
    "tags": []
   },
   "outputs": [],
   "source": [
    "import pandas as pd\n",
    "import numpy as np"
   ]
  },
  {
   "cell_type": "code",
   "execution_count": 2,
   "id": "6211a82c",
   "metadata": {
    "execution": {
     "iopub.execute_input": "2021-11-04T08:04:34.440204Z",
     "iopub.status.busy": "2021-11-04T08:04:34.439681Z",
     "iopub.status.idle": "2021-11-04T08:04:37.187187Z",
     "shell.execute_reply": "2021-11-04T08:04:37.186624Z",
     "shell.execute_reply.started": "2021-11-04T07:16:15.200302Z"
    },
    "papermill": {
     "duration": 2.766114,
     "end_time": "2021-11-04T08:04:37.187315",
     "exception": false,
     "start_time": "2021-11-04T08:04:34.421201",
     "status": "completed"
    },
    "tags": []
   },
   "outputs": [],
   "source": [
    "fake = pd.read_csv('../input/fake-and-real-news-dataset/Fake.csv')\n",
    "true = pd.read_csv('../input/fake-and-real-news-dataset/True.csv')\n",
    "\n",
    "fake['target'] = 0\n",
    "true['target'] = 1"
   ]
  },
  {
   "cell_type": "code",
   "execution_count": 3,
   "id": "3e72c8b8",
   "metadata": {
    "execution": {
     "iopub.execute_input": "2021-11-04T08:04:37.224006Z",
     "iopub.status.busy": "2021-11-04T08:04:37.220303Z",
     "iopub.status.idle": "2021-11-04T08:04:37.227779Z",
     "shell.execute_reply": "2021-11-04T08:04:37.228176Z",
     "shell.execute_reply.started": "2021-11-04T07:16:18.366936Z"
    },
    "papermill": {
     "duration": 0.025225,
     "end_time": "2021-11-04T08:04:37.228304",
     "exception": false,
     "start_time": "2021-11-04T08:04:37.203079",
     "status": "completed"
    },
    "tags": []
   },
   "outputs": [
    {
     "data": {
      "text/plain": [
       "(23481, 5)"
      ]
     },
     "execution_count": 3,
     "metadata": {},
     "output_type": "execute_result"
    }
   ],
   "source": [
    "fake.shape"
   ]
  },
  {
   "cell_type": "code",
   "execution_count": 4,
   "id": "dafc1b22",
   "metadata": {
    "execution": {
     "iopub.execute_input": "2021-11-04T08:04:37.264914Z",
     "iopub.status.busy": "2021-11-04T08:04:37.263818Z",
     "iopub.status.idle": "2021-11-04T08:04:37.266847Z",
     "shell.execute_reply": "2021-11-04T08:04:37.267279Z",
     "shell.execute_reply.started": "2021-11-04T07:16:18.375581Z"
    },
    "papermill": {
     "duration": 0.023455,
     "end_time": "2021-11-04T08:04:37.267400",
     "exception": false,
     "start_time": "2021-11-04T08:04:37.243945",
     "status": "completed"
    },
    "tags": []
   },
   "outputs": [
    {
     "data": {
      "text/plain": [
       "(21417, 5)"
      ]
     },
     "execution_count": 4,
     "metadata": {},
     "output_type": "execute_result"
    }
   ],
   "source": [
    "true.shape"
   ]
  },
  {
   "cell_type": "code",
   "execution_count": 5,
   "id": "2346b4c4",
   "metadata": {
    "execution": {
     "iopub.execute_input": "2021-11-04T08:04:37.307727Z",
     "iopub.status.busy": "2021-11-04T08:04:37.306895Z",
     "iopub.status.idle": "2021-11-04T08:04:37.452750Z",
     "shell.execute_reply": "2021-11-04T08:04:37.453180Z",
     "shell.execute_reply.started": "2021-11-04T07:16:18.390119Z"
    },
    "papermill": {
     "duration": 0.170355,
     "end_time": "2021-11-04T08:04:37.453328",
     "exception": false,
     "start_time": "2021-11-04T08:04:37.282973",
     "status": "completed"
    },
    "tags": []
   },
   "outputs": [
    {
     "data": {
      "text/plain": [
       "(44898, 5)"
      ]
     },
     "execution_count": 5,
     "metadata": {},
     "output_type": "execute_result"
    }
   ],
   "source": [
    "news = pd.concat([true, fake], ignore_index = True)\n",
    "news['text'] = news['title'] + \" \" + news['text']\n",
    "news.shape"
   ]
  },
  {
   "cell_type": "code",
   "execution_count": 6,
   "id": "07fdafef",
   "metadata": {
    "execution": {
     "iopub.execute_input": "2021-11-04T08:04:37.489809Z",
     "iopub.status.busy": "2021-11-04T08:04:37.489128Z",
     "iopub.status.idle": "2021-11-04T08:04:37.499368Z",
     "shell.execute_reply": "2021-11-04T08:04:37.499792Z",
     "shell.execute_reply.started": "2021-11-04T07:16:18.610717Z"
    },
    "papermill": {
     "duration": 0.030523,
     "end_time": "2021-11-04T08:04:37.499911",
     "exception": false,
     "start_time": "2021-11-04T08:04:37.469388",
     "status": "completed"
    },
    "tags": []
   },
   "outputs": [
    {
     "data": {
      "text/html": [
       "<div>\n",
       "<style scoped>\n",
       "    .dataframe tbody tr th:only-of-type {\n",
       "        vertical-align: middle;\n",
       "    }\n",
       "\n",
       "    .dataframe tbody tr th {\n",
       "        vertical-align: top;\n",
       "    }\n",
       "\n",
       "    .dataframe thead th {\n",
       "        text-align: right;\n",
       "    }\n",
       "</style>\n",
       "<table border=\"1\" class=\"dataframe\">\n",
       "  <thead>\n",
       "    <tr style=\"text-align: right;\">\n",
       "      <th></th>\n",
       "      <th>title</th>\n",
       "      <th>text</th>\n",
       "      <th>subject</th>\n",
       "      <th>date</th>\n",
       "      <th>target</th>\n",
       "    </tr>\n",
       "  </thead>\n",
       "  <tbody>\n",
       "    <tr>\n",
       "      <th>21416</th>\n",
       "      <td>Indonesia to buy $1.14 billion worth of Russia...</td>\n",
       "      <td>Indonesia to buy $1.14 billion worth of Russia...</td>\n",
       "      <td>worldnews</td>\n",
       "      <td>August 22, 2017</td>\n",
       "      <td>1</td>\n",
       "    </tr>\n",
       "    <tr>\n",
       "      <th>21417</th>\n",
       "      <td>Donald Trump Sends Out Embarrassing New Year’...</td>\n",
       "      <td>Donald Trump Sends Out Embarrassing New Year’...</td>\n",
       "      <td>News</td>\n",
       "      <td>December 31, 2017</td>\n",
       "      <td>0</td>\n",
       "    </tr>\n",
       "    <tr>\n",
       "      <th>21418</th>\n",
       "      <td>Drunk Bragging Trump Staffer Started Russian ...</td>\n",
       "      <td>Drunk Bragging Trump Staffer Started Russian ...</td>\n",
       "      <td>News</td>\n",
       "      <td>December 31, 2017</td>\n",
       "      <td>0</td>\n",
       "    </tr>\n",
       "    <tr>\n",
       "      <th>21419</th>\n",
       "      <td>Sheriff David Clarke Becomes An Internet Joke...</td>\n",
       "      <td>Sheriff David Clarke Becomes An Internet Joke...</td>\n",
       "      <td>News</td>\n",
       "      <td>December 30, 2017</td>\n",
       "      <td>0</td>\n",
       "    </tr>\n",
       "  </tbody>\n",
       "</table>\n",
       "</div>"
      ],
      "text/plain": [
       "                                                   title  \\\n",
       "21416  Indonesia to buy $1.14 billion worth of Russia...   \n",
       "21417   Donald Trump Sends Out Embarrassing New Year’...   \n",
       "21418   Drunk Bragging Trump Staffer Started Russian ...   \n",
       "21419   Sheriff David Clarke Becomes An Internet Joke...   \n",
       "\n",
       "                                                    text    subject  \\\n",
       "21416  Indonesia to buy $1.14 billion worth of Russia...  worldnews   \n",
       "21417   Donald Trump Sends Out Embarrassing New Year’...       News   \n",
       "21418   Drunk Bragging Trump Staffer Started Russian ...       News   \n",
       "21419   Sheriff David Clarke Becomes An Internet Joke...       News   \n",
       "\n",
       "                    date  target  \n",
       "21416   August 22, 2017        1  \n",
       "21417  December 31, 2017       0  \n",
       "21418  December 31, 2017       0  \n",
       "21419  December 30, 2017       0  "
      ]
     },
     "execution_count": 6,
     "metadata": {},
     "output_type": "execute_result"
    }
   ],
   "source": [
    "news[21416:21420]"
   ]
  },
  {
   "cell_type": "code",
   "execution_count": 7,
   "id": "2c863803",
   "metadata": {
    "execution": {
     "iopub.execute_input": "2021-11-04T08:04:37.539162Z",
     "iopub.status.busy": "2021-11-04T08:04:37.538041Z",
     "iopub.status.idle": "2021-11-04T08:04:37.541106Z",
     "shell.execute_reply": "2021-11-04T08:04:37.541557Z",
     "shell.execute_reply.started": "2021-11-04T07:16:18.625376Z"
    },
    "papermill": {
     "duration": 0.025468,
     "end_time": "2021-11-04T08:04:37.541675",
     "exception": false,
     "start_time": "2021-11-04T08:04:37.516207",
     "status": "completed"
    },
    "tags": []
   },
   "outputs": [
    {
     "data": {
      "text/plain": [
       "0     As U.S. budget fight looms, Republicans flip t...\n",
       "1     U.S. military to accept transgender recruits o...\n",
       "2     Senior U.S. Republican senator: 'Let Mr. Muell...\n",
       "3     FBI Russia probe helped by Australian diplomat...\n",
       "4     Trump wants Postal Service to charge 'much mor...\n",
       "5     White House, Congress prepare for talks on spe...\n",
       "6     Trump says Russia probe will be fair, but time...\n",
       "7     Factbox: Trump on Twitter (Dec 29) - Approval ...\n",
       "8     Trump on Twitter (Dec 28) - Global Warming The...\n",
       "9     Alabama official to certify Senator-elect Jone...\n",
       "10    Jones certified U.S. Senate winner despite Moo...\n",
       "11    New York governor questions the constitutional...\n",
       "12    Factbox: Trump on Twitter (Dec 28) - Vanity Fa...\n",
       "13    Trump on Twitter (Dec 27) - Trump, Iraq, Syria...\n",
       "14    Man says he delivered manure to Mnuchin to pro...\n",
       "15    Virginia officials postpone lottery drawing to...\n",
       "16    U.S. lawmakers question businessman at 2016 Tr...\n",
       "17    Trump on Twitter (Dec 26) - Hillary Clinton, T...\n",
       "18    U.S. appeals court rejects challenge to Trump ...\n",
       "19    Treasury Secretary Mnuchin was sent gift-wrapp...\n",
       "Name: text, dtype: object"
      ]
     },
     "execution_count": 7,
     "metadata": {},
     "output_type": "execute_result"
    }
   ],
   "source": [
    "news['text'].head(20)"
   ]
  },
  {
   "cell_type": "code",
   "execution_count": 8,
   "id": "b480ee11",
   "metadata": {
    "execution": {
     "iopub.execute_input": "2021-11-04T08:04:37.582650Z",
     "iopub.status.busy": "2021-11-04T08:04:37.581898Z",
     "iopub.status.idle": "2021-11-04T08:04:48.352247Z",
     "shell.execute_reply": "2021-11-04T08:04:48.351745Z",
     "shell.execute_reply.started": "2021-11-04T07:16:18.640150Z"
    },
    "papermill": {
     "duration": 10.793981,
     "end_time": "2021-11-04T08:04:48.352384",
     "exception": false,
     "start_time": "2021-11-04T08:04:37.558403",
     "status": "completed"
    },
    "tags": []
   },
   "outputs": [
    {
     "name": "stderr",
     "output_type": "stream",
     "text": [
      "/opt/conda/lib/python3.7/site-packages/ipykernel_launcher.py:12: FutureWarning: The default value of regex will change from True to False in a future version.\n",
      "  if sys.path[0] == '':\n",
      "/opt/conda/lib/python3.7/site-packages/ipykernel_launcher.py:17: FutureWarning: The default value of regex will change from True to False in a future version.\n",
      "/opt/conda/lib/python3.7/site-packages/ipykernel_launcher.py:18: FutureWarning: The default value of regex will change from True to False in a future version.\n"
     ]
    }
   ],
   "source": [
    "import re\n",
    "import nltk\n",
    "from nltk.corpus import stopwords\n",
    "import string\n",
    "from string import punctuation\n",
    "\n",
    "stop = set(stopwords.words('english'))\n",
    "punctuations = list(string.punctuation)\n",
    "stop.update(punctuation)\n",
    "\n",
    "def preprocess_text(df):\n",
    "    df['text'] = df['text'].str.replace('\\[[^]]*\\]', '')\n",
    "    df['text'] = df['text'].apply(lambda x : x.lower())\n",
    "    df['text'] = df['text'].apply(lambda x : x.split(\" \"))\n",
    "    df['text'] = df['text'].apply(lambda x : [word for word in x if word not in stop])\n",
    "    df['text'] = df['text'].apply(lambda x : \" \".join(x))\n",
    "    df['text'] = df['text'].str.replace('https?:\\/\\/.*[\\r\\n]*', '')\n",
    "    df['text'] = df['text'].str.replace('[^\\w\\s]', '')\n",
    "    \n",
    "    return df\n",
    "\n",
    "news = preprocess_text(news)"
   ]
  },
  {
   "cell_type": "code",
   "execution_count": 9,
   "id": "3a2c6dbe",
   "metadata": {
    "execution": {
     "iopub.execute_input": "2021-11-04T08:04:48.418463Z",
     "iopub.status.busy": "2021-11-04T08:04:48.392982Z",
     "iopub.status.idle": "2021-11-04T08:04:48.430240Z",
     "shell.execute_reply": "2021-11-04T08:04:48.429795Z",
     "shell.execute_reply.started": "2021-11-04T07:16:29.901249Z"
    },
    "papermill": {
     "duration": 0.060149,
     "end_time": "2021-11-04T08:04:48.430356",
     "exception": false,
     "start_time": "2021-11-04T08:04:48.370207",
     "status": "completed"
    },
    "tags": []
   },
   "outputs": [
    {
     "data": {
      "text/plain": [
       "9"
      ]
     },
     "execution_count": 9,
     "metadata": {},
     "output_type": "execute_result"
    }
   ],
   "source": [
    "empty_text = [index for index,text in enumerate(news.text.values) if str(text).strip() == '']\n",
    "len(empty_text)"
   ]
  },
  {
   "cell_type": "code",
   "execution_count": 10,
   "id": "4c665717",
   "metadata": {
    "execution": {
     "iopub.execute_input": "2021-11-04T08:04:48.470372Z",
     "iopub.status.busy": "2021-11-04T08:04:48.469744Z",
     "iopub.status.idle": "2021-11-04T08:04:48.483604Z",
     "shell.execute_reply": "2021-11-04T08:04:48.484010Z",
     "shell.execute_reply.started": "2021-11-04T07:16:29.953772Z"
    },
    "papermill": {
     "duration": 0.03618,
     "end_time": "2021-11-04T08:04:48.484127",
     "exception": false,
     "start_time": "2021-11-04T08:04:48.447947",
     "status": "completed"
    },
    "tags": []
   },
   "outputs": [
    {
     "data": {
      "text/plain": [
       "(44889, 4)"
      ]
     },
     "execution_count": 10,
     "metadata": {},
     "output_type": "execute_result"
    }
   ],
   "source": [
    "news = news.drop(empty_text)\n",
    "news = news.drop(['title'], axis = 1)\n",
    "news.shape"
   ]
  },
  {
   "cell_type": "code",
   "execution_count": 11,
   "id": "c17f688b",
   "metadata": {
    "execution": {
     "iopub.execute_input": "2021-11-04T08:04:48.522781Z",
     "iopub.status.busy": "2021-11-04T08:04:48.521963Z",
     "iopub.status.idle": "2021-11-04T08:04:49.289800Z",
     "shell.execute_reply": "2021-11-04T08:04:49.290845Z",
     "shell.execute_reply.started": "2021-11-04T07:16:29.976861Z"
    },
    "papermill": {
     "duration": 0.78894,
     "end_time": "2021-11-04T08:04:49.291053",
     "exception": false,
     "start_time": "2021-11-04T08:04:48.502113",
     "status": "completed"
    },
    "tags": []
   },
   "outputs": [
    {
     "data": {
      "text/plain": [
       "4974"
      ]
     },
     "execution_count": 11,
     "metadata": {},
     "output_type": "execute_result"
    }
   ],
   "source": [
    "news['text'].apply(lambda x : len(str(x).split())).max()"
   ]
  },
  {
   "cell_type": "markdown",
   "id": "aae01d26",
   "metadata": {
    "papermill": {
     "duration": 0.02955,
     "end_time": "2021-11-04T08:04:49.350416",
     "exception": false,
     "start_time": "2021-11-04T08:04:49.320866",
     "status": "completed"
    },
    "tags": []
   },
   "source": [
    "Tokenizer fit_on_text first create word_index that maps each word in vocabulary to number of occurances. Then, it sorts this key-value pairs in descending order of values. Finally, it assigns every unique word an integer value from 1, 2, 3...\n",
    "\n",
    "text_to_sequences transforms each text to a sequence of integers. "
   ]
  },
  {
   "cell_type": "code",
   "execution_count": 12,
   "id": "d6e7cf58",
   "metadata": {
    "execution": {
     "iopub.execute_input": "2021-11-04T08:04:49.415209Z",
     "iopub.status.busy": "2021-11-04T08:04:49.414417Z",
     "iopub.status.idle": "2021-11-04T08:05:07.817119Z",
     "shell.execute_reply": "2021-11-04T08:05:07.817622Z",
     "shell.execute_reply.started": "2021-11-04T07:16:30.760943Z"
    },
    "papermill": {
     "duration": 18.438188,
     "end_time": "2021-11-04T08:05:07.817790",
     "exception": false,
     "start_time": "2021-11-04T08:04:49.379602",
     "status": "completed"
    },
    "tags": []
   },
   "outputs": [],
   "source": [
    "import tensorflow as tf\n",
    "import keras\n",
    "from keras.preprocessing.text import Tokenizer\n",
    "\n",
    "t = Tokenizer()\n",
    "t.fit_on_texts(news['text'])\n",
    "News_seq = t.texts_to_sequences(news['text'])\n",
    "# X_test_seq = t.texts_to_sequences(X_test)"
   ]
  },
  {
   "cell_type": "code",
   "execution_count": 13,
   "id": "834e585c",
   "metadata": {
    "execution": {
     "iopub.execute_input": "2021-11-04T08:05:07.859298Z",
     "iopub.status.busy": "2021-11-04T08:05:07.858628Z",
     "iopub.status.idle": "2021-11-04T08:05:07.861332Z",
     "shell.execute_reply": "2021-11-04T08:05:07.861760Z",
     "shell.execute_reply.started": "2021-11-04T07:16:51.467726Z"
    },
    "papermill": {
     "duration": 0.025402,
     "end_time": "2021-11-04T08:05:07.861883",
     "exception": false,
     "start_time": "2021-11-04T08:05:07.836481",
     "status": "completed"
    },
    "tags": []
   },
   "outputs": [
    {
     "data": {
      "text/plain": [
       "216766"
      ]
     },
     "execution_count": 13,
     "metadata": {},
     "output_type": "execute_result"
    }
   ],
   "source": [
    "len(t.word_index)"
   ]
  },
  {
   "cell_type": "code",
   "execution_count": 14,
   "id": "84147f7a",
   "metadata": {
    "execution": {
     "iopub.execute_input": "2021-11-04T08:05:07.906080Z",
     "iopub.status.busy": "2021-11-04T08:05:07.904990Z",
     "iopub.status.idle": "2021-11-04T08:05:10.090892Z",
     "shell.execute_reply": "2021-11-04T08:05:10.090388Z",
     "shell.execute_reply.started": "2021-11-04T07:16:51.478932Z"
    },
    "papermill": {
     "duration": 2.211012,
     "end_time": "2021-11-04T08:05:10.091029",
     "exception": false,
     "start_time": "2021-11-04T08:05:07.880017",
     "status": "completed"
    },
    "tags": []
   },
   "outputs": [],
   "source": [
    "from keras.preprocessing import sequence\n",
    "\n",
    "News_pad = sequence.pad_sequences(News_seq, maxlen = 1000)\n",
    "# X_test_pad = sequence.pad_sequences(X_test_seq, maxlen = 1000)"
   ]
  },
  {
   "cell_type": "code",
   "execution_count": 15,
   "id": "8a409a1a",
   "metadata": {
    "execution": {
     "iopub.execute_input": "2021-11-04T08:05:10.134604Z",
     "iopub.status.busy": "2021-11-04T08:05:10.133786Z",
     "iopub.status.idle": "2021-11-04T08:05:10.217052Z",
     "shell.execute_reply": "2021-11-04T08:05:10.216570Z",
     "shell.execute_reply.started": "2021-11-04T07:16:54.174016Z"
    },
    "papermill": {
     "duration": 0.106929,
     "end_time": "2021-11-04T08:05:10.217213",
     "exception": false,
     "start_time": "2021-11-04T08:05:10.110284",
     "status": "completed"
    },
    "tags": []
   },
   "outputs": [],
   "source": [
    "from sklearn.model_selection import train_test_split\n",
    "\n",
    "X_train, X_test, y_train, y_test = train_test_split(News_pad, news['target'], test_size = 0.3, random_state = 2021, stratify = news['target'], shuffle = True)"
   ]
  },
  {
   "cell_type": "code",
   "execution_count": 16,
   "id": "a4e55dfe",
   "metadata": {
    "execution": {
     "iopub.execute_input": "2021-11-04T08:05:10.259695Z",
     "iopub.status.busy": "2021-11-04T08:05:10.259126Z",
     "iopub.status.idle": "2021-11-04T08:05:12.785732Z",
     "shell.execute_reply": "2021-11-04T08:05:12.786185Z",
     "shell.execute_reply.started": "2021-11-04T07:16:54.273518Z"
    },
    "papermill": {
     "duration": 2.550466,
     "end_time": "2021-11-04T08:05:12.786337",
     "exception": false,
     "start_time": "2021-11-04T08:05:10.235871",
     "status": "completed"
    },
    "tags": []
   },
   "outputs": [
    {
     "name": "stderr",
     "output_type": "stream",
     "text": [
      "2021-11-04 08:05:10.328204: I tensorflow/stream_executor/cuda/cuda_gpu_executor.cc:937] successful NUMA node read from SysFS had negative value (-1), but there must be at least one NUMA node, so returning NUMA node zero\n",
      "2021-11-04 08:05:10.439709: I tensorflow/stream_executor/cuda/cuda_gpu_executor.cc:937] successful NUMA node read from SysFS had negative value (-1), but there must be at least one NUMA node, so returning NUMA node zero\n",
      "2021-11-04 08:05:10.440469: I tensorflow/stream_executor/cuda/cuda_gpu_executor.cc:937] successful NUMA node read from SysFS had negative value (-1), but there must be at least one NUMA node, so returning NUMA node zero\n",
      "2021-11-04 08:05:10.441545: I tensorflow/core/platform/cpu_feature_guard.cc:142] This TensorFlow binary is optimized with oneAPI Deep Neural Network Library (oneDNN) to use the following CPU instructions in performance-critical operations:  AVX2 AVX512F FMA\n",
      "To enable them in other operations, rebuild TensorFlow with the appropriate compiler flags.\n",
      "2021-11-04 08:05:10.442711: I tensorflow/stream_executor/cuda/cuda_gpu_executor.cc:937] successful NUMA node read from SysFS had negative value (-1), but there must be at least one NUMA node, so returning NUMA node zero\n",
      "2021-11-04 08:05:10.443368: I tensorflow/stream_executor/cuda/cuda_gpu_executor.cc:937] successful NUMA node read from SysFS had negative value (-1), but there must be at least one NUMA node, so returning NUMA node zero\n",
      "2021-11-04 08:05:10.443970: I tensorflow/stream_executor/cuda/cuda_gpu_executor.cc:937] successful NUMA node read from SysFS had negative value (-1), but there must be at least one NUMA node, so returning NUMA node zero\n",
      "2021-11-04 08:05:12.333787: I tensorflow/stream_executor/cuda/cuda_gpu_executor.cc:937] successful NUMA node read from SysFS had negative value (-1), but there must be at least one NUMA node, so returning NUMA node zero\n",
      "2021-11-04 08:05:12.334633: I tensorflow/stream_executor/cuda/cuda_gpu_executor.cc:937] successful NUMA node read from SysFS had negative value (-1), but there must be at least one NUMA node, so returning NUMA node zero\n",
      "2021-11-04 08:05:12.335288: I tensorflow/stream_executor/cuda/cuda_gpu_executor.cc:937] successful NUMA node read from SysFS had negative value (-1), but there must be at least one NUMA node, so returning NUMA node zero\n",
      "2021-11-04 08:05:12.335866: I tensorflow/core/common_runtime/gpu/gpu_device.cc:1510] Created device /job:localhost/replica:0/task:0/device:GPU:0 with 15403 MB memory:  -> device: 0, name: Tesla P100-PCIE-16GB, pci bus id: 0000:00:04.0, compute capability: 6.0\n"
     ]
    }
   ],
   "source": [
    "def model():\n",
    "    model = keras.Sequential()\n",
    "    model.add(keras.layers.Embedding(len(t.word_index) + 1, output_dim = 300, input_length = 1000 ))\n",
    "    model.add(keras.layers.SimpleRNN(10))\n",
    "    model.add(keras.layers.Dense(1, activation = 'sigmoid'))\n",
    "    return model\n",
    "\n",
    "model = model()"
   ]
  },
  {
   "cell_type": "code",
   "execution_count": 17,
   "id": "1b98b818",
   "metadata": {
    "execution": {
     "iopub.execute_input": "2021-11-04T08:05:12.830523Z",
     "iopub.status.busy": "2021-11-04T08:05:12.829054Z",
     "iopub.status.idle": "2021-11-04T08:05:13.144840Z",
     "shell.execute_reply": "2021-11-04T08:05:13.145344Z",
     "shell.execute_reply.started": "2021-11-04T07:16:54.680264Z"
    },
    "papermill": {
     "duration": 0.339795,
     "end_time": "2021-11-04T08:05:13.145489",
     "exception": false,
     "start_time": "2021-11-04T08:05:12.805694",
     "status": "completed"
    },
    "tags": []
   },
   "outputs": [
    {
     "name": "stdout",
     "output_type": "stream",
     "text": [
      "Model: \"sequential\"\n",
      "_________________________________________________________________\n",
      "Layer (type)                 Output Shape              Param #   \n",
      "=================================================================\n",
      "embedding (Embedding)        (None, 1000, 300)         65030100  \n",
      "_________________________________________________________________\n",
      "simple_rnn (SimpleRNN)       (None, 10)                3110      \n",
      "_________________________________________________________________\n",
      "dense (Dense)                (None, 1)                 11        \n",
      "=================================================================\n",
      "Total params: 65,033,221\n",
      "Trainable params: 65,033,221\n",
      "Non-trainable params: 0\n",
      "_________________________________________________________________\n"
     ]
    }
   ],
   "source": [
    "lr_scheduler = tf.keras.callbacks.ReduceLROnPlateau(monitor = 'val_loss', factor = 0.5, patience = 2, min_lr = 0.0001)\n",
    "model.compile(optimizer = 'adam', loss = 'binary_crossentropy', metrics = ['accuracy'])\n",
    "model.summary()"
   ]
  },
  {
   "cell_type": "code",
   "execution_count": 18,
   "id": "7b2a953c",
   "metadata": {
    "execution": {
     "iopub.execute_input": "2021-11-04T08:05:13.189517Z",
     "iopub.status.busy": "2021-11-04T08:05:13.188891Z",
     "iopub.status.idle": "2021-11-04T08:48:36.146154Z",
     "shell.execute_reply": "2021-11-04T08:48:36.147314Z",
     "shell.execute_reply.started": "2021-11-04T07:16:54.700110Z"
    },
    "papermill": {
     "duration": 2602.982461,
     "end_time": "2021-11-04T08:48:36.147527",
     "exception": false,
     "start_time": "2021-11-04T08:05:13.165066",
     "status": "completed"
    },
    "tags": []
   },
   "outputs": [
    {
     "name": "stderr",
     "output_type": "stream",
     "text": [
      "2021-11-04 08:05:13.330538: I tensorflow/compiler/mlir/mlir_graph_optimization_pass.cc:185] None of the MLIR Optimization Passes are enabled (registered 2)\n"
     ]
    },
    {
     "name": "stdout",
     "output_type": "stream",
     "text": [
      "Epoch 1/10\n",
      "246/246 [==============================] - 259s 1s/step - loss: 0.3869 - accuracy: 0.8219 - val_loss: 0.2153 - val_accuracy: 0.9271\n",
      "Epoch 2/10\n",
      "246/246 [==============================] - 260s 1s/step - loss: 0.0931 - accuracy: 0.9754 - val_loss: 0.1259 - val_accuracy: 0.9635\n",
      "Epoch 3/10\n",
      "246/246 [==============================] - 258s 1s/step - loss: 0.0311 - accuracy: 0.9945 - val_loss: 0.1109 - val_accuracy: 0.9676\n",
      "Epoch 4/10\n",
      "246/246 [==============================] - 260s 1s/step - loss: 0.0167 - accuracy: 0.9971 - val_loss: 0.1133 - val_accuracy: 0.9670\n",
      "Epoch 5/10\n",
      "246/246 [==============================] - 259s 1s/step - loss: 0.0089 - accuracy: 0.9991 - val_loss: 0.1205 - val_accuracy: 0.9614\n",
      "Epoch 6/10\n",
      "246/246 [==============================] - 261s 1s/step - loss: 0.0046 - accuracy: 0.9997 - val_loss: 0.1167 - val_accuracy: 0.9631\n",
      "Epoch 7/10\n",
      "246/246 [==============================] - 261s 1s/step - loss: 0.0034 - accuracy: 0.9999 - val_loss: 0.1180 - val_accuracy: 0.9641\n",
      "Epoch 8/10\n",
      "246/246 [==============================] - 263s 1s/step - loss: 0.0027 - accuracy: 0.9999 - val_loss: 0.1177 - val_accuracy: 0.9640\n",
      "Epoch 9/10\n",
      "246/246 [==============================] - 260s 1s/step - loss: 0.0023 - accuracy: 0.9999 - val_loss: 0.1171 - val_accuracy: 0.9649\n",
      "Epoch 10/10\n",
      "246/246 [==============================] - 260s 1s/step - loss: 0.0020 - accuracy: 1.0000 - val_loss: 0.1170 - val_accuracy: 0.9652\n"
     ]
    }
   ],
   "source": [
    "history = model.fit(X_train, y_train, epochs = 10, batch_size = 128, validation_data = (X_test, y_test), callbacks = [lr_scheduler])"
   ]
  },
  {
   "cell_type": "code",
   "execution_count": 19,
   "id": "92d12f19",
   "metadata": {
    "execution": {
     "iopub.execute_input": "2021-11-04T08:48:37.524205Z",
     "iopub.status.busy": "2021-11-04T08:48:37.523288Z",
     "iopub.status.idle": "2021-11-04T08:49:06.233489Z",
     "shell.execute_reply": "2021-11-04T08:49:06.232985Z",
     "shell.execute_reply.started": "2021-11-04T07:22:05.377251Z"
    },
    "papermill": {
     "duration": 29.363001,
     "end_time": "2021-11-04T08:49:06.233620",
     "exception": false,
     "start_time": "2021-11-04T08:48:36.870619",
     "status": "completed"
    },
    "tags": []
   },
   "outputs": [
    {
     "name": "stdout",
     "output_type": "stream",
     "text": [
      "0.9895328971142573\n"
     ]
    }
   ],
   "source": [
    "from sklearn.metrics import roc_auc_score\n",
    "\n",
    "pred_t = model.predict(X_test)\n",
    "pred_t = pred_t.reshape(-1,)\n",
    "print(roc_auc_score(y_test, pred_t))"
   ]
  },
  {
   "cell_type": "code",
   "execution_count": 20,
   "id": "420768c4",
   "metadata": {
    "execution": {
     "iopub.execute_input": "2021-11-04T08:49:07.769985Z",
     "iopub.status.busy": "2021-11-04T08:49:07.769122Z",
     "iopub.status.idle": "2021-11-04T08:49:08.253066Z",
     "shell.execute_reply": "2021-11-04T08:49:08.253751Z",
     "shell.execute_reply.started": "2021-11-04T07:27:21.031752Z"
    },
    "papermill": {
     "duration": 1.378403,
     "end_time": "2021-11-04T08:49:08.253993",
     "exception": false,
     "start_time": "2021-11-04T08:49:06.875590",
     "status": "completed"
    },
    "tags": []
   },
   "outputs": [
    {
     "data": {
      "image/png": "[encoded data removed]",
      "text/plain": [
       "<Figure size 1080x360 with 2 Axes>"
      ]
     },
     "metadata": {
      "needs_background": "light"
     },
     "output_type": "display_data"
    }
   ],
   "source": [
    "import matplotlib.pyplot as plt\n",
    "\n",
    "fig, ax = plt.subplots(1, 2)\n",
    "fig.set_size_inches(15, 5)\n",
    "\n",
    "ax[0].plot(history.history['accuracy'])\n",
    "ax[0].plot(history.history['val_accuracy'])\n",
    "ax[0].set_title('Model Accuracy')\n",
    "ax[0].set_xlabel('Epochs')\n",
    "ax[0].set_ylabel('Accuracy')\n",
    "ax[0].legend(['train', 'test'], loc = 'upper left')\n",
    "\n",
    "ax[1].plot(history.history['loss'])\n",
    "ax[1].plot(history.history['val_loss'])\n",
    "ax[1].set_title('Model Loss')\n",
    "ax[1].set_xlabel('Epochs')\n",
    "ax[1].set_ylabel('Loss')\n",
    "ax[1].legend(['train', 'test'], loc = 'upper left')\n",
    "\n",
    "plt.show()"
   ]
  },
  {
   "cell_type": "markdown",
   "id": "f34be35f",
   "metadata": {
    "papermill": {
     "duration": 0.646585,
     "end_time": "2021-11-04T08:49:09.608344",
     "exception": false,
     "start_time": "2021-11-04T08:49:08.961759",
     "status": "completed"
    },
    "tags": []
   },
   "source": [
    "Reference notebooks :\n",
    "\n",
    "https://www.kaggle.com/atishadhikari/fake-news-cleaning-word2vec-lstm-99-accuracy\n",
    "\n",
    "https://www.kaggle.com/josutk/only-one-word-99-2\n",
    "\n",
    "https://www.kaggle.com/madz2000/nlp-using-glove-embeddings-99-87-accuracy"
   ]
  },
  {
   "cell_type": "code",
   "execution_count": null,
   "id": "2363ce96",
   "metadata": {
    "papermill": {
     "duration": 0.641434,
     "end_time": "2021-11-04T08:49:10.902387",
     "exception": false,
     "start_time": "2021-11-04T08:49:10.260953",
     "status": "completed"
    },
    "tags": []
   },
   "outputs": [],
   "source": []
  }
 ],
 "metadata": {
  "kernelspec": {
   "display_name": "Python 3",
   "language": "python",
   "name": "python3"
  },
  "language_info": {
   "codemirror_mode": {
    "name": "ipython",
    "version": 3
   },
   "file_extension": ".py",
   "mimetype": "text/x-python",
   "name": "python",
   "nbconvert_exporter": "python",
   "pygments_lexer": "ipython3",
   "version": "3.7.10"
  },
  "papermill": {
   "default_parameters": {},
   "duration": 2688.005591,
   "end_time": "2021-11-04T08:49:14.983734",
   "environment_variables": {},
   "exception": null,
   "input_path": "__notebook__.ipynb",
   "output_path": "__notebook__.ipynb",
   "parameters": {},
   "start_time": "2021-11-04T08:04:26.978143",
   "version": "2.3.3"
  }
 },
 "nbformat": 4,
 "nbformat_minor": 5
}
