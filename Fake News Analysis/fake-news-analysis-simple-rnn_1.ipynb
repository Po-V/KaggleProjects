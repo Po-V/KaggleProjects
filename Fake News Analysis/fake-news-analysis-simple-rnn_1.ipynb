{
 "cells": [
  {
   "cell_type": "code",
   "execution_count": 1,
   "id": "23745736",
   "metadata": {
    "execution": {
     "iopub.execute_input": "2021-11-04T07:32:01.847644Z",
     "iopub.status.busy": "2021-11-04T07:32:01.846846Z",
     "iopub.status.idle": "2021-11-04T07:32:01.850422Z",
     "shell.execute_reply": "2021-11-04T07:32:01.849867Z",
     "shell.execute_reply.started": "2021-11-04T07:16:15.194004Z"
    },
    "papermill": {
     "duration": 0.030494,
     "end_time": "2021-11-04T07:32:01.850553",
     "exception": false,
     "start_time": "2021-11-04T07:32:01.820059",
     "status": "completed"
    },
    "tags": []
   },
   "outputs": [],
   "source": [
    "import pandas as pd\n",
    "import numpy as np"
   ]
  },
  {
   "cell_type": "code",
   "execution_count": 2,
   "id": "fa9b1c4e",
   "metadata": {
    "execution": {
     "iopub.execute_input": "2021-11-04T07:32:01.888132Z",
     "iopub.status.busy": "2021-11-04T07:32:01.887587Z",
     "iopub.status.idle": "2021-11-04T07:32:04.628309Z",
     "shell.execute_reply": "2021-11-04T07:32:04.627455Z",
     "shell.execute_reply.started": "2021-11-04T07:16:15.200302Z"
    },
    "papermill": {
     "duration": 2.760151,
     "end_time": "2021-11-04T07:32:04.628453",
     "exception": false,
     "start_time": "2021-11-04T07:32:01.868302",
     "status": "completed"
    },
    "tags": []
   },
   "outputs": [],
   "source": [
    "fake = pd.read_csv('../input/fake-and-real-news-dataset/Fake.csv')\n",
    "true = pd.read_csv('../input/fake-and-real-news-dataset/True.csv')\n",
    "\n",
    "fake['target'] = 0\n",
    "true['target'] = 1"
   ]
  },
  {
   "cell_type": "code",
   "execution_count": 3,
   "id": "faec205f",
   "metadata": {
    "execution": {
     "iopub.execute_input": "2021-11-04T07:32:04.666372Z",
     "iopub.status.busy": "2021-11-04T07:32:04.665437Z",
     "iopub.status.idle": "2021-11-04T07:32:04.668851Z",
     "shell.execute_reply": "2021-11-04T07:32:04.669265Z",
     "shell.execute_reply.started": "2021-11-04T07:16:18.366936Z"
    },
    "papermill": {
     "duration": 0.024948,
     "end_time": "2021-11-04T07:32:04.669397",
     "exception": false,
     "start_time": "2021-11-04T07:32:04.644449",
     "status": "completed"
    },
    "tags": []
   },
   "outputs": [
    {
     "data": {
      "text/plain": [
       "(23481, 5)"
      ]
     },
     "execution_count": 3,
     "metadata": {},
     "output_type": "execute_result"
    }
   ],
   "source": [
    "fake.shape"
   ]
  },
  {
   "cell_type": "code",
   "execution_count": 4,
   "id": "e3a01ea0",
   "metadata": {
    "execution": {
     "iopub.execute_input": "2021-11-04T07:32:04.706311Z",
     "iopub.status.busy": "2021-11-04T07:32:04.705140Z",
     "iopub.status.idle": "2021-11-04T07:32:04.708646Z",
     "shell.execute_reply": "2021-11-04T07:32:04.708184Z",
     "shell.execute_reply.started": "2021-11-04T07:16:18.375581Z"
    },
    "papermill": {
     "duration": 0.023713,
     "end_time": "2021-11-04T07:32:04.708754",
     "exception": false,
     "start_time": "2021-11-04T07:32:04.685041",
     "status": "completed"
    },
    "tags": []
   },
   "outputs": [
    {
     "data": {
      "text/plain": [
       "(21417, 5)"
      ]
     },
     "execution_count": 4,
     "metadata": {},
     "output_type": "execute_result"
    }
   ],
   "source": [
    "true.shape"
   ]
  },
  {
   "cell_type": "code",
   "execution_count": 5,
   "id": "1c1f7324",
   "metadata": {
    "execution": {
     "iopub.execute_input": "2021-11-04T07:32:04.749492Z",
     "iopub.status.busy": "2021-11-04T07:32:04.748668Z",
     "iopub.status.idle": "2021-11-04T07:32:04.895863Z",
     "shell.execute_reply": "2021-11-04T07:32:04.895051Z",
     "shell.execute_reply.started": "2021-11-04T07:16:18.390119Z"
    },
    "papermill": {
     "duration": 0.171345,
     "end_time": "2021-11-04T07:32:04.895992",
     "exception": false,
     "start_time": "2021-11-04T07:32:04.724647",
     "status": "completed"
    },
    "tags": []
   },
   "outputs": [
    {
     "data": {
      "text/plain": [
       "(44898, 5)"
      ]
     },
     "execution_count": 5,
     "metadata": {},
     "output_type": "execute_result"
    }
   ],
   "source": [
    "news = pd.concat([true, fake], ignore_index = True)\n",
    "news['text'] = news['title'] + \" \" + news['text']\n",
    "news.shape"
   ]
  },
  {
   "cell_type": "code",
   "execution_count": 6,
   "id": "cda91fd9",
   "metadata": {
    "execution": {
     "iopub.execute_input": "2021-11-04T07:32:04.933128Z",
     "iopub.status.busy": "2021-11-04T07:32:04.932409Z",
     "iopub.status.idle": "2021-11-04T07:32:04.944351Z",
     "shell.execute_reply": "2021-11-04T07:32:04.943911Z",
     "shell.execute_reply.started": "2021-11-04T07:16:18.610717Z"
    },
    "papermill": {
     "duration": 0.032236,
     "end_time": "2021-11-04T07:32:04.944466",
     "exception": false,
     "start_time": "2021-11-04T07:32:04.912230",
     "status": "completed"
    },
    "tags": []
   },
   "outputs": [
    {
     "data": {
      "text/html": [
       "<div>\n",
       "<style scoped>\n",
       "    .dataframe tbody tr th:only-of-type {\n",
       "        vertical-align: middle;\n",
       "    }\n",
       "\n",
       "    .dataframe tbody tr th {\n",
       "        vertical-align: top;\n",
       "    }\n",
       "\n",
       "    .dataframe thead th {\n",
       "        text-align: right;\n",
       "    }\n",
       "</style>\n",
       "<table border=\"1\" class=\"dataframe\">\n",
       "  <thead>\n",
       "    <tr style=\"text-align: right;\">\n",
       "      <th></th>\n",
       "      <th>title</th>\n",
       "      <th>text</th>\n",
       "      <th>subject</th>\n",
       "      <th>date</th>\n",
       "      <th>target</th>\n",
       "    </tr>\n",
       "  </thead>\n",
       "  <tbody>\n",
       "    <tr>\n",
       "      <th>21416</th>\n",
       "      <td>Indonesia to buy $1.14 billion worth of Russia...</td>\n",
       "      <td>Indonesia to buy $1.14 billion worth of Russia...</td>\n",
       "      <td>worldnews</td>\n",
       "      <td>August 22, 2017</td>\n",
       "      <td>1</td>\n",
       "    </tr>\n",
       "    <tr>\n",
       "      <th>21417</th>\n",
       "      <td>Donald Trump Sends Out Embarrassing New Year’...</td>\n",
       "      <td>Donald Trump Sends Out Embarrassing New Year’...</td>\n",
       "      <td>News</td>\n",
       "      <td>December 31, 2017</td>\n",
       "      <td>0</td>\n",
       "    </tr>\n",
       "    <tr>\n",
       "      <th>21418</th>\n",
       "      <td>Drunk Bragging Trump Staffer Started Russian ...</td>\n",
       "      <td>Drunk Bragging Trump Staffer Started Russian ...</td>\n",
       "      <td>News</td>\n",
       "      <td>December 31, 2017</td>\n",
       "      <td>0</td>\n",
       "    </tr>\n",
       "    <tr>\n",
       "      <th>21419</th>\n",
       "      <td>Sheriff David Clarke Becomes An Internet Joke...</td>\n",
       "      <td>Sheriff David Clarke Becomes An Internet Joke...</td>\n",
       "      <td>News</td>\n",
       "      <td>December 30, 2017</td>\n",
       "      <td>0</td>\n",
       "    </tr>\n",
       "  </tbody>\n",
       "</table>\n",
       "</div>"
      ],
      "text/plain": [
       "                                                   title  \\\n",
       "21416  Indonesia to buy $1.14 billion worth of Russia...   \n",
       "21417   Donald Trump Sends Out Embarrassing New Year’...   \n",
       "21418   Drunk Bragging Trump Staffer Started Russian ...   \n",
       "21419   Sheriff David Clarke Becomes An Internet Joke...   \n",
       "\n",
       "                                                    text    subject  \\\n",
       "21416  Indonesia to buy $1.14 billion worth of Russia...  worldnews   \n",
       "21417   Donald Trump Sends Out Embarrassing New Year’...       News   \n",
       "21418   Drunk Bragging Trump Staffer Started Russian ...       News   \n",
       "21419   Sheriff David Clarke Becomes An Internet Joke...       News   \n",
       "\n",
       "                    date  target  \n",
       "21416   August 22, 2017        1  \n",
       "21417  December 31, 2017       0  \n",
       "21418  December 31, 2017       0  \n",
       "21419  December 30, 2017       0  "
      ]
     },
     "execution_count": 6,
     "metadata": {},
     "output_type": "execute_result"
    }
   ],
   "source": [
    "news[21416:21420]"
   ]
  },
  {
   "cell_type": "code",
   "execution_count": 7,
   "id": "88c71845",
   "metadata": {
    "execution": {
     "iopub.execute_input": "2021-11-04T07:32:04.984176Z",
     "iopub.status.busy": "2021-11-04T07:32:04.983581Z",
     "iopub.status.idle": "2021-11-04T07:32:04.986617Z",
     "shell.execute_reply": "2021-11-04T07:32:04.987018Z",
     "shell.execute_reply.started": "2021-11-04T07:16:18.625376Z"
    },
    "papermill": {
     "duration": 0.026091,
     "end_time": "2021-11-04T07:32:04.987138",
     "exception": false,
     "start_time": "2021-11-04T07:32:04.961047",
     "status": "completed"
    },
    "tags": []
   },
   "outputs": [
    {
     "data": {
      "text/plain": [
       "0     As U.S. budget fight looms, Republicans flip t...\n",
       "1     U.S. military to accept transgender recruits o...\n",
       "2     Senior U.S. Republican senator: 'Let Mr. Muell...\n",
       "3     FBI Russia probe helped by Australian diplomat...\n",
       "4     Trump wants Postal Service to charge 'much mor...\n",
       "5     White House, Congress prepare for talks on spe...\n",
       "6     Trump says Russia probe will be fair, but time...\n",
       "7     Factbox: Trump on Twitter (Dec 29) - Approval ...\n",
       "8     Trump on Twitter (Dec 28) - Global Warming The...\n",
       "9     Alabama official to certify Senator-elect Jone...\n",
       "10    Jones certified U.S. Senate winner despite Moo...\n",
       "11    New York governor questions the constitutional...\n",
       "12    Factbox: Trump on Twitter (Dec 28) - Vanity Fa...\n",
       "13    Trump on Twitter (Dec 27) - Trump, Iraq, Syria...\n",
       "14    Man says he delivered manure to Mnuchin to pro...\n",
       "15    Virginia officials postpone lottery drawing to...\n",
       "16    U.S. lawmakers question businessman at 2016 Tr...\n",
       "17    Trump on Twitter (Dec 26) - Hillary Clinton, T...\n",
       "18    U.S. appeals court rejects challenge to Trump ...\n",
       "19    Treasury Secretary Mnuchin was sent gift-wrapp...\n",
       "Name: text, dtype: object"
      ]
     },
     "execution_count": 7,
     "metadata": {},
     "output_type": "execute_result"
    }
   ],
   "source": [
    "news['text'].head(20)"
   ]
  },
  {
   "cell_type": "code",
   "execution_count": 8,
   "id": "ac3a6274",
   "metadata": {
    "execution": {
     "iopub.execute_input": "2021-11-04T07:32:05.029623Z",
     "iopub.status.busy": "2021-11-04T07:32:05.028938Z",
     "iopub.status.idle": "2021-11-04T07:32:15.540615Z",
     "shell.execute_reply": "2021-11-04T07:32:15.539986Z",
     "shell.execute_reply.started": "2021-11-04T07:16:18.640150Z"
    },
    "papermill": {
     "duration": 10.535575,
     "end_time": "2021-11-04T07:32:15.540740",
     "exception": false,
     "start_time": "2021-11-04T07:32:05.005165",
     "status": "completed"
    },
    "tags": []
   },
   "outputs": [
    {
     "name": "stderr",
     "output_type": "stream",
     "text": [
      "/opt/conda/lib/python3.7/site-packages/ipykernel_launcher.py:12: FutureWarning: The default value of regex will change from True to False in a future version.\n",
      "  if sys.path[0] == '':\n",
      "/opt/conda/lib/python3.7/site-packages/ipykernel_launcher.py:17: FutureWarning: The default value of regex will change from True to False in a future version.\n",
      "/opt/conda/lib/python3.7/site-packages/ipykernel_launcher.py:18: FutureWarning: The default value of regex will change from True to False in a future version.\n"
     ]
    }
   ],
   "source": [
    "import re\n",
    "import nltk\n",
    "from nltk.corpus import stopwords\n",
    "import string\n",
    "from string import punctuation\n",
    "\n",
    "stop = set(stopwords.words('english'))\n",
    "punctuations = list(string.punctuation)\n",
    "stop.update(punctuation)\n",
    "\n",
    "def preprocess_text(df):\n",
    "    df['text'] = df['text'].str.replace('\\[[^]]*\\]', '')\n",
    "    df['text'] = df['text'].apply(lambda x : x.lower())\n",
    "    df['text'] = df['text'].apply(lambda x : x.split(\" \"))\n",
    "    df['text'] = df['text'].apply(lambda x : [word for word in x if word not in stop])\n",
    "    df['text'] = df['text'].apply(lambda x : \" \".join(x))\n",
    "    df['text'] = df['text'].str.replace('https?:\\/\\/.*[\\r\\n]*', '')\n",
    "    df['text'] = df['text'].str.replace('[^\\w\\s]', '')\n",
    "    \n",
    "    return df\n",
    "\n",
    "news = preprocess_text(news)"
   ]
  },
  {
   "cell_type": "code",
   "execution_count": 9,
   "id": "0b417f90",
   "metadata": {
    "execution": {
     "iopub.execute_input": "2021-11-04T07:32:15.620325Z",
     "iopub.status.busy": "2021-11-04T07:32:15.582096Z",
     "iopub.status.idle": "2021-11-04T07:32:15.630111Z",
     "shell.execute_reply": "2021-11-04T07:32:15.630695Z",
     "shell.execute_reply.started": "2021-11-04T07:16:29.901249Z"
    },
    "papermill": {
     "duration": 0.072494,
     "end_time": "2021-11-04T07:32:15.630878",
     "exception": false,
     "start_time": "2021-11-04T07:32:15.558384",
     "status": "completed"
    },
    "tags": []
   },
   "outputs": [
    {
     "data": {
      "text/plain": [
       "9"
      ]
     },
     "execution_count": 9,
     "metadata": {},
     "output_type": "execute_result"
    }
   ],
   "source": [
    "empty_text = [index for index,text in enumerate(news.text.values) if str(text).strip() == '']\n",
    "len(empty_text)"
   ]
  },
  {
   "cell_type": "code",
   "execution_count": 10,
   "id": "74eb56a5",
   "metadata": {
    "execution": {
     "iopub.execute_input": "2021-11-04T07:32:15.692582Z",
     "iopub.status.busy": "2021-11-04T07:32:15.691712Z",
     "iopub.status.idle": "2021-11-04T07:32:15.719036Z",
     "shell.execute_reply": "2021-11-04T07:32:15.719844Z",
     "shell.execute_reply.started": "2021-11-04T07:16:29.953772Z"
    },
    "papermill": {
     "duration": 0.064879,
     "end_time": "2021-11-04T07:32:15.720001",
     "exception": false,
     "start_time": "2021-11-04T07:32:15.655122",
     "status": "completed"
    },
    "tags": []
   },
   "outputs": [
    {
     "data": {
      "text/plain": [
       "(44889, 4)"
      ]
     },
     "execution_count": 10,
     "metadata": {},
     "output_type": "execute_result"
    }
   ],
   "source": [
    "news = news.drop(empty_text)\n",
    "news = news.drop(['title'], axis = 1)\n",
    "news.shape"
   ]
  },
  {
   "cell_type": "code",
   "execution_count": 11,
   "id": "6d94bdc5",
   "metadata": {
    "execution": {
     "iopub.execute_input": "2021-11-04T07:32:15.815769Z",
     "iopub.status.busy": "2021-11-04T07:32:15.810682Z",
     "iopub.status.idle": "2021-11-04T07:32:17.079929Z",
     "shell.execute_reply": "2021-11-04T07:32:17.080953Z",
     "shell.execute_reply.started": "2021-11-04T07:16:29.976861Z"
    },
    "papermill": {
     "duration": 1.322352,
     "end_time": "2021-11-04T07:32:17.081164",
     "exception": false,
     "start_time": "2021-11-04T07:32:15.758812",
     "status": "completed"
    },
    "tags": []
   },
   "outputs": [
    {
     "data": {
      "text/plain": [
       "4974"
      ]
     },
     "execution_count": 11,
     "metadata": {},
     "output_type": "execute_result"
    }
   ],
   "source": [
    "news['text'].apply(lambda x : len(str(x).split())).max()"
   ]
  },
  {
   "cell_type": "markdown",
   "id": "a6d65d6c",
   "metadata": {
    "papermill": {
     "duration": 0.024919,
     "end_time": "2021-11-04T07:32:17.138011",
     "exception": false,
     "start_time": "2021-11-04T07:32:17.113092",
     "status": "completed"
    },
    "tags": []
   },
   "source": [
    "Tokenizer fit_on_text first create word_index that maps each word in vocabulary to number of occurances. Then, it sorts this key-value pairs in descending order of values. Finally, it assigns every unique word an integer value from 1, 2, 3...\n",
    "\n",
    "text_to_sequences transforms each text to a sequence of integers. "
   ]
  },
  {
   "cell_type": "code",
   "execution_count": 12,
   "id": "704a05d9",
   "metadata": {
    "execution": {
     "iopub.execute_input": "2021-11-04T07:32:17.181074Z",
     "iopub.status.busy": "2021-11-04T07:32:17.180402Z",
     "iopub.status.idle": "2021-11-04T07:32:35.529304Z",
     "shell.execute_reply": "2021-11-04T07:32:35.528820Z",
     "shell.execute_reply.started": "2021-11-04T07:16:30.760943Z"
    },
    "papermill": {
     "duration": 18.371919,
     "end_time": "2021-11-04T07:32:35.529448",
     "exception": false,
     "start_time": "2021-11-04T07:32:17.157529",
     "status": "completed"
    },
    "tags": []
   },
   "outputs": [],
   "source": [
    "import tensorflow as tf\n",
    "import keras\n",
    "from keras.preprocessing.text import Tokenizer\n",
    "\n",
    "t = Tokenizer()\n",
    "t.fit_on_texts(news['text'])\n",
    "News_seq = t.texts_to_sequences(news['text'])\n",
    "# X_test_seq = t.texts_to_sequences(X_test)"
   ]
  },
  {
   "cell_type": "code",
   "execution_count": 13,
   "id": "c1391a11",
   "metadata": {
    "execution": {
     "iopub.execute_input": "2021-11-04T07:32:35.571313Z",
     "iopub.status.busy": "2021-11-04T07:32:35.570659Z",
     "iopub.status.idle": "2021-11-04T07:32:35.573272Z",
     "shell.execute_reply": "2021-11-04T07:32:35.573687Z",
     "shell.execute_reply.started": "2021-11-04T07:16:51.467726Z"
    },
    "papermill": {
     "duration": 0.025584,
     "end_time": "2021-11-04T07:32:35.573813",
     "exception": false,
     "start_time": "2021-11-04T07:32:35.548229",
     "status": "completed"
    },
    "tags": []
   },
   "outputs": [
    {
     "data": {
      "text/plain": [
       "216766"
      ]
     },
     "execution_count": 13,
     "metadata": {},
     "output_type": "execute_result"
    }
   ],
   "source": [
    "len(t.word_index)"
   ]
  },
  {
   "cell_type": "code",
   "execution_count": 14,
   "id": "e0e96733",
   "metadata": {
    "execution": {
     "iopub.execute_input": "2021-11-04T07:32:35.622448Z",
     "iopub.status.busy": "2021-11-04T07:32:35.621240Z",
     "iopub.status.idle": "2021-11-04T07:32:37.800945Z",
     "shell.execute_reply": "2021-11-04T07:32:37.801439Z",
     "shell.execute_reply.started": "2021-11-04T07:16:51.478932Z"
    },
    "papermill": {
     "duration": 2.209369,
     "end_time": "2021-11-04T07:32:37.801607",
     "exception": false,
     "start_time": "2021-11-04T07:32:35.592238",
     "status": "completed"
    },
    "tags": []
   },
   "outputs": [],
   "source": [
    "from keras.preprocessing import sequence\n",
    "\n",
    "News_pad = sequence.pad_sequences(News_seq, maxlen = 1000)\n",
    "# X_test_pad = sequence.pad_sequences(X_test_seq, maxlen = 1000)"
   ]
  },
  {
   "cell_type": "code",
   "execution_count": 15,
   "id": "2320f86a",
   "metadata": {
    "execution": {
     "iopub.execute_input": "2021-11-04T07:32:37.844756Z",
     "iopub.status.busy": "2021-11-04T07:32:37.843946Z",
     "iopub.status.idle": "2021-11-04T07:32:37.927337Z",
     "shell.execute_reply": "2021-11-04T07:32:37.926792Z",
     "shell.execute_reply.started": "2021-11-04T07:16:54.174016Z"
    },
    "papermill": {
     "duration": 0.107009,
     "end_time": "2021-11-04T07:32:37.927466",
     "exception": false,
     "start_time": "2021-11-04T07:32:37.820457",
     "status": "completed"
    },
    "tags": []
   },
   "outputs": [],
   "source": [
    "from sklearn.model_selection import train_test_split\n",
    "\n",
    "X_train, X_test, y_train, y_test = train_test_split(News_pad, news['target'], test_size = 0.3, random_state = 2021, stratify = news['target'], shuffle = True)"
   ]
  },
  {
   "cell_type": "code",
   "execution_count": 16,
   "id": "581e5420",
   "metadata": {
    "execution": {
     "iopub.execute_input": "2021-11-04T07:32:37.970591Z",
     "iopub.status.busy": "2021-11-04T07:32:37.969998Z",
     "iopub.status.idle": "2021-11-04T07:32:40.416038Z",
     "shell.execute_reply": "2021-11-04T07:32:40.416506Z",
     "shell.execute_reply.started": "2021-11-04T07:16:54.273518Z"
    },
    "papermill": {
     "duration": 2.470374,
     "end_time": "2021-11-04T07:32:40.416681",
     "exception": false,
     "start_time": "2021-11-04T07:32:37.946307",
     "status": "completed"
    },
    "tags": []
   },
   "outputs": [
    {
     "name": "stderr",
     "output_type": "stream",
     "text": [
      "2021-11-04 07:32:38.036328: I tensorflow/stream_executor/cuda/cuda_gpu_executor.cc:937] successful NUMA node read from SysFS had negative value (-1), but there must be at least one NUMA node, so returning NUMA node zero\n",
      "2021-11-04 07:32:38.140920: I tensorflow/stream_executor/cuda/cuda_gpu_executor.cc:937] successful NUMA node read from SysFS had negative value (-1), but there must be at least one NUMA node, so returning NUMA node zero\n",
      "2021-11-04 07:32:38.141843: I tensorflow/stream_executor/cuda/cuda_gpu_executor.cc:937] successful NUMA node read from SysFS had negative value (-1), but there must be at least one NUMA node, so returning NUMA node zero\n",
      "2021-11-04 07:32:38.143090: I tensorflow/core/platform/cpu_feature_guard.cc:142] This TensorFlow binary is optimized with oneAPI Deep Neural Network Library (oneDNN) to use the following CPU instructions in performance-critical operations:  AVX2 AVX512F FMA\n",
      "To enable them in other operations, rebuild TensorFlow with the appropriate compiler flags.\n",
      "2021-11-04 07:32:38.144353: I tensorflow/stream_executor/cuda/cuda_gpu_executor.cc:937] successful NUMA node read from SysFS had negative value (-1), but there must be at least one NUMA node, so returning NUMA node zero\n",
      "2021-11-04 07:32:38.145014: I tensorflow/stream_executor/cuda/cuda_gpu_executor.cc:937] successful NUMA node read from SysFS had negative value (-1), but there must be at least one NUMA node, so returning NUMA node zero\n",
      "2021-11-04 07:32:38.145643: I tensorflow/stream_executor/cuda/cuda_gpu_executor.cc:937] successful NUMA node read from SysFS had negative value (-1), but there must be at least one NUMA node, so returning NUMA node zero\n",
      "2021-11-04 07:32:39.978097: I tensorflow/stream_executor/cuda/cuda_gpu_executor.cc:937] successful NUMA node read from SysFS had negative value (-1), but there must be at least one NUMA node, so returning NUMA node zero\n",
      "2021-11-04 07:32:39.978932: I tensorflow/stream_executor/cuda/cuda_gpu_executor.cc:937] successful NUMA node read from SysFS had negative value (-1), but there must be at least one NUMA node, so returning NUMA node zero\n",
      "2021-11-04 07:32:39.979581: I tensorflow/stream_executor/cuda/cuda_gpu_executor.cc:937] successful NUMA node read from SysFS had negative value (-1), but there must be at least one NUMA node, so returning NUMA node zero\n",
      "2021-11-04 07:32:39.980153: I tensorflow/core/common_runtime/gpu/gpu_device.cc:1510] Created device /job:localhost/replica:0/task:0/device:GPU:0 with 15403 MB memory:  -> device: 0, name: Tesla P100-PCIE-16GB, pci bus id: 0000:00:04.0, compute capability: 6.0\n"
     ]
    }
   ],
   "source": [
    "def model():\n",
    "    model = keras.Sequential()\n",
    "    model.add(keras.layers.Embedding(len(t.word_index) + 1, output_dim = 300, input_length = 1000 ))\n",
    "    model.add(keras.layers.SimpleRNN(10))\n",
    "    model.add(keras.layers.Dense(1, activation = 'sigmoid'))\n",
    "    return model\n",
    "\n",
    "model = model()"
   ]
  },
  {
   "cell_type": "code",
   "execution_count": 17,
   "id": "90e674d7",
   "metadata": {
    "execution": {
     "iopub.execute_input": "2021-11-04T07:32:40.459961Z",
     "iopub.status.busy": "2021-11-04T07:32:40.459114Z",
     "iopub.status.idle": "2021-11-04T07:32:40.746976Z",
     "shell.execute_reply": "2021-11-04T07:32:40.747442Z",
     "shell.execute_reply.started": "2021-11-04T07:16:54.680264Z"
    },
    "papermill": {
     "duration": 0.311944,
     "end_time": "2021-11-04T07:32:40.747596",
     "exception": false,
     "start_time": "2021-11-04T07:32:40.435652",
     "status": "completed"
    },
    "tags": []
   },
   "outputs": [
    {
     "name": "stdout",
     "output_type": "stream",
     "text": [
      "Model: \"sequential\"\n",
      "_________________________________________________________________\n",
      "Layer (type)                 Output Shape              Param #   \n",
      "=================================================================\n",
      "embedding (Embedding)        (None, 1000, 300)         65030100  \n",
      "_________________________________________________________________\n",
      "simple_rnn (SimpleRNN)       (None, 10)                3110      \n",
      "_________________________________________________________________\n",
      "dense (Dense)                (None, 1)                 11        \n",
      "=================================================================\n",
      "Total params: 65,033,221\n",
      "Trainable params: 65,033,221\n",
      "Non-trainable params: 0\n",
      "_________________________________________________________________\n"
     ]
    }
   ],
   "source": [
    "lr_scheduler = tf.keras.callbacks.ReduceLROnPlateau(monitor = 'val_loss', factor = 0.5, patience = 2, min_lr = 0.0001)\n",
    "model.compile(optimizer = 'adam', loss = 'binary_crossentropy', metrics = ['accuracy'])\n",
    "model.summary()"
   ]
  },
  {
   "cell_type": "code",
   "execution_count": 18,
   "id": "113ad797",
   "metadata": {
    "execution": {
     "iopub.execute_input": "2021-11-04T07:32:40.792165Z",
     "iopub.status.busy": "2021-11-04T07:32:40.791403Z",
     "iopub.status.idle": "2021-11-04T07:56:03.778359Z",
     "shell.execute_reply": "2021-11-04T07:56:03.778855Z",
     "shell.execute_reply.started": "2021-11-04T07:16:54.700110Z"
    },
    "papermill": {
     "duration": 1403.011892,
     "end_time": "2021-11-04T07:56:03.779040",
     "exception": false,
     "start_time": "2021-11-04T07:32:40.767148",
     "status": "completed"
    },
    "tags": []
   },
   "outputs": [
    {
     "name": "stderr",
     "output_type": "stream",
     "text": [
      "2021-11-04 07:32:40.933347: I tensorflow/compiler/mlir/mlir_graph_optimization_pass.cc:185] None of the MLIR Optimization Passes are enabled (registered 2)\n"
     ]
    },
    {
     "name": "stdout",
     "output_type": "stream",
     "text": [
      "Epoch 1/5\n",
      "246/246 [==============================] - 268s 1s/step - loss: 0.2487 - accuracy: 0.9524 - val_loss: 0.0940 - val_accuracy: 0.9851\n",
      "Epoch 2/5\n",
      "246/246 [==============================] - 268s 1s/step - loss: 0.0531 - accuracy: 0.9908 - val_loss: 0.0471 - val_accuracy: 0.9919\n",
      "Epoch 3/5\n",
      "246/246 [==============================] - 271s 1s/step - loss: 0.0410 - accuracy: 0.9895 - val_loss: 0.1031 - val_accuracy: 0.9682\n",
      "Epoch 4/5\n",
      "246/246 [==============================] - 271s 1s/step - loss: 0.0544 - accuracy: 0.9829 - val_loss: 0.0964 - val_accuracy: 0.9690\n",
      "Epoch 5/5\n",
      "246/246 [==============================] - 270s 1s/step - loss: 0.0206 - accuracy: 0.9962 - val_loss: 0.0743 - val_accuracy: 0.9788\n"
     ]
    }
   ],
   "source": [
    "history = model.fit(X_train, y_train, epochs = 5, batch_size = 128, validation_data = (X_test, y_test), callbacks = [lr_scheduler])"
   ]
  },
  {
   "cell_type": "code",
   "execution_count": 19,
   "id": "aaf91306",
   "metadata": {
    "execution": {
     "iopub.execute_input": "2021-11-04T07:56:04.456360Z",
     "iopub.status.busy": "2021-11-04T07:56:04.455412Z",
     "iopub.status.idle": "2021-11-04T07:56:35.174915Z",
     "shell.execute_reply": "2021-11-04T07:56:35.175616Z",
     "shell.execute_reply.started": "2021-11-04T07:22:05.377251Z"
    },
    "papermill": {
     "duration": 31.059373,
     "end_time": "2021-11-04T07:56:35.175825",
     "exception": false,
     "start_time": "2021-11-04T07:56:04.116452",
     "status": "completed"
    },
    "tags": []
   },
   "outputs": [
    {
     "name": "stdout",
     "output_type": "stream",
     "text": [
      "0.9946895724043732\n"
     ]
    }
   ],
   "source": [
    "from sklearn.metrics import roc_auc_score\n",
    "\n",
    "pred_t = model.predict(X_test)\n",
    "pred_t = pred_t.reshape(-1,)\n",
    "print(roc_auc_score(y_test, pred_t))"
   ]
  },
  {
   "cell_type": "code",
   "execution_count": 20,
   "id": "28138d17",
   "metadata": {
    "execution": {
     "iopub.execute_input": "2021-11-04T07:56:35.871828Z",
     "iopub.status.busy": "2021-11-04T07:56:35.858659Z",
     "iopub.status.idle": "2021-11-04T07:56:36.242719Z",
     "shell.execute_reply": "2021-11-04T07:56:36.243138Z",
     "shell.execute_reply.started": "2021-11-04T07:27:21.031752Z"
    },
    "papermill": {
     "duration": 0.728723,
     "end_time": "2021-11-04T07:56:36.243307",
     "exception": false,
     "start_time": "2021-11-04T07:56:35.514584",
     "status": "completed"
    },
    "tags": []
   },
   "outputs": [
    {
     "data": {
      "image/png": "[encoded data removed]",
      "text/plain": [
       "<Figure size 1080x360 with 2 Axes>"
      ]
     },
     "metadata": {
      "needs_background": "light"
     },
     "output_type": "display_data"
    }
   ],
   "source": [
    "import matplotlib.pyplot as plt\n",
    "\n",
    "fig, ax = plt.subplots(1, 2)\n",
    "fig.set_size_inches(15, 5)\n",
    "\n",
    "ax[0].plot(history.history['accuracy'])\n",
    "ax[0].plot(history.history['val_accuracy'])\n",
    "ax[0].set_title('Model Accuracy')\n",
    "ax[0].set_xlabel('Epochs')\n",
    "ax[0].set_ylabel('Accuracy')\n",
    "ax[0].legend(['train', 'test'], loc = 'upper left')\n",
    "\n",
    "ax[1].plot(history.history['loss'])\n",
    "ax[1].plot(history.history['val_loss'])\n",
    "ax[1].set_title('Model Loss')\n",
    "ax[1].set_xlabel('Epochs')\n",
    "ax[1].set_ylabel('Loss')\n",
    "ax[1].legend(['train', 'test'], loc = 'upper left')\n",
    "\n",
    "plt.show()"
   ]
  },
  {
   "cell_type": "markdown",
   "id": "a234eca4",
   "metadata": {
    "papermill": {
     "duration": 0.339598,
     "end_time": "2021-11-04T07:56:36.923770",
     "exception": false,
     "start_time": "2021-11-04T07:56:36.584172",
     "status": "completed"
    },
    "tags": []
   },
   "source": [
    "Reference notebooks :\n",
    "\n",
    "https://www.kaggle.com/atishadhikari/fake-news-cleaning-word2vec-lstm-99-accuracy\n",
    "\n",
    "https://www.kaggle.com/josutk/only-one-word-99-2\n",
    "\n",
    "https://www.kaggle.com/madz2000/nlp-using-glove-embeddings-99-87-accuracy"
   ]
  },
  {
   "cell_type": "code",
   "execution_count": null,
   "id": "00bcd6cf",
   "metadata": {
    "papermill": {
     "duration": 0.33993,
     "end_time": "2021-11-04T07:56:37.603281",
     "exception": false,
     "start_time": "2021-11-04T07:56:37.263351",
     "status": "completed"
    },
    "tags": []
   },
   "outputs": [],
   "source": []
  }
 ],
 "metadata": {
  "kernelspec": {
   "display_name": "Python 3",
   "language": "python",
   "name": "python3"
  },
  "language_info": {
   "codemirror_mode": {
    "name": "ipython",
    "version": 3
   },
   "file_extension": ".py",
   "mimetype": "text/x-python",
   "name": "python",
   "nbconvert_exporter": "python",
   "pygments_lexer": "ipython3",
   "version": "3.7.10"
  },
  "papermill": {
   "default_parameters": {},
   "duration": 1487.1857,
   "end_time": "2021-11-04T07:56:41.534538",
   "environment_variables": {},
   "exception": null,
   "input_path": "__notebook__.ipynb",
   "output_path": "__notebook__.ipynb",
   "parameters": {},
   "start_time": "2021-11-04T07:31:54.348838",
   "version": "2.3.3"
  }
 },
 "nbformat": 4,
 "nbformat_minor": 5
}
