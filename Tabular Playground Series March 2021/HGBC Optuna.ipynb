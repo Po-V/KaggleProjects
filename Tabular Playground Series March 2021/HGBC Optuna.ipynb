{
 "cells": [
  {
   "cell_type": "code",
   "execution_count": 1,
   "metadata": {},
   "outputs": [],
   "source": [
    "from sklearn.experimental import enable_hist_gradient_boosting\n",
    "from sklearn.ensemble import HistGradientBoostingClassifier\n",
    "import pandas as pd\n",
    "import seaborn as sns\n",
    "import numpy as np\n",
    "import matplotlib.pyplot as plt"
   ]
  },
  {
   "cell_type": "code",
   "execution_count": 2,
   "metadata": {},
   "outputs": [],
   "source": [
    "train = pd.read_csv('train.csv')\n",
    "test = pd.read_csv('test.csv')"
   ]
  },
  {
   "cell_type": "code",
   "execution_count": 3,
   "metadata": {},
   "outputs": [],
   "source": [
    "target = train['target']\n",
    "train = train.drop(['id', 'target'], axis = 1)"
   ]
  },
  {
   "cell_type": "code",
   "execution_count": 4,
   "metadata": {},
   "outputs": [],
   "source": [
    "from sklearn.preprocessing import LabelEncoder\n",
    "cats = ['cat0', 'cat1', 'cat2', 'cat3', 'cat4', 'cat5', 'cat6', 'cat7',\n",
    "       'cat8', 'cat9', 'cat10', 'cat11', 'cat12', 'cat13', 'cat14', 'cat15',\n",
    "       'cat16', 'cat17', 'cat18']\n",
    "\n",
    "for cat in cats :\n",
    "    le = LabelEncoder()\n",
    "    le.fit(train[cat])\n",
    "    test[cat] = test[cat].map(lambda s: -1 if s not in le.classes_ else s)\n",
    "    le.classes_ = np.append(le.classes_, -1)\n",
    "    train[cat] = le.transform(train[cat])\n",
    "    test[cat] = le.transform(test[cat])"
   ]
  },
  {
   "cell_type": "code",
   "execution_count": 5,
   "metadata": {},
   "outputs": [],
   "source": [
    "sub = pd.read_csv('sample_submission.csv')\n",
    "sub['id'] = test['id']\n",
    "test = test.drop('id', axis = 1)"
   ]
  },
  {
   "cell_type": "code",
   "execution_count": null,
   "metadata": {},
   "outputs": [
    {
     "name": "stderr",
     "output_type": "stream",
     "text": [
      "\u001b[32m[I 2021-03-04 23:20:25,311]\u001b[0m A new study created in memory with name: no-name-888e18f0-cee7-49ca-8cd6-3100ea0c2a43\u001b[0m\n",
      "\u001b[32m[I 2021-03-04 23:21:13,508]\u001b[0m Trial 0 finished with value: 0.8919592439864159 and parameters: {'max_leaf_nodes': 287, 'max_depth': 100, 'min_samples_leaf': 20, 'learning_rate': 0.04403914176436581}. Best is trial 0 with value: 0.8919592439864159.\u001b[0m\n",
      "\u001b[32m[I 2021-03-04 23:21:19,452]\u001b[0m Trial 1 finished with value: 0.8888102582154764 and parameters: {'max_leaf_nodes': 117, 'max_depth': 9, 'min_samples_leaf': 10, 'learning_rate': 0.23750329830390532}. Best is trial 0 with value: 0.8919592439864159.\u001b[0m\n",
      "\u001b[32m[I 2021-03-04 23:23:12,030]\u001b[0m Trial 2 finished with value: 0.8901752139355632 and parameters: {'max_leaf_nodes': 36, 'max_depth': 100, 'min_samples_leaf': 8, 'learning_rate': 0.00528803458935933}. Best is trial 0 with value: 0.8919592439864159.\u001b[0m\n",
      "\u001b[32m[I 2021-03-04 23:24:11,792]\u001b[0m Trial 3 finished with value: 0.89196000088655 and parameters: {'max_leaf_nodes': 127, 'max_depth': 300, 'min_samples_leaf': 11, 'learning_rate': 0.02105214932891318}. Best is trial 3 with value: 0.89196000088655.\u001b[0m\n",
      "\u001b[32m[I 2021-03-04 23:29:18,694]\u001b[0m Trial 4 finished with value: 0.8923786269206141 and parameters: {'max_leaf_nodes': 271, 'max_depth': 9, 'min_samples_leaf': 30, 'learning_rate': 0.005421315636455241}. Best is trial 4 with value: 0.8923786269206141.\u001b[0m\n",
      "\u001b[32m[I 2021-03-04 23:29:25,793]\u001b[0m Trial 5 finished with value: 0.8793086036833692 and parameters: {'max_leaf_nodes': 249, 'max_depth': 300, 'min_samples_leaf': 12, 'learning_rate': 0.4425377801242079}. Best is trial 4 with value: 0.8923786269206141.\u001b[0m\n",
      "\u001b[32m[I 2021-03-04 23:30:15,844]\u001b[0m Trial 6 finished with value: 0.8921680452513063 and parameters: {'max_leaf_nodes': 168, 'max_depth': 9, 'min_samples_leaf': 15, 'learning_rate': 0.04294785172426411}. Best is trial 4 with value: 0.8923786269206141.\u001b[0m\n",
      "\u001b[32m[I 2021-03-04 23:30:31,856]\u001b[0m Trial 7 finished with value: 0.8907493834037228 and parameters: {'max_leaf_nodes': 111, 'max_depth': 3, 'min_samples_leaf': 3, 'learning_rate': 0.16930225818897676}. Best is trial 4 with value: 0.8923786269206141.\u001b[0m\n",
      "\u001b[32m[I 2021-03-04 23:32:14,311]\u001b[0m Trial 8 finished with value: 0.8924512865944154 and parameters: {'max_leaf_nodes': 186, 'max_depth': 80, 'min_samples_leaf': 20, 'learning_rate': 0.027555034404734318}. Best is trial 8 with value: 0.8924512865944154.\u001b[0m\n",
      "\u001b[32m[I 2021-03-04 23:32:33,353]\u001b[0m Trial 9 finished with value: 0.8914154975211178 and parameters: {'max_leaf_nodes': 107, 'max_depth': 30, 'min_samples_leaf': 18, 'learning_rate': 0.11122978718296002}. Best is trial 8 with value: 0.8924512865944154.\u001b[0m\n",
      "\u001b[32m[I 2021-03-04 23:40:30,515]\u001b[0m Trial 10 finished with value: 0.8861900913600831 and parameters: {'max_leaf_nodes': 216, 'max_depth': 80, 'min_samples_leaf': 28, 'learning_rate': 0.0013552765661655737}. Best is trial 8 with value: 0.8924512865944154.\u001b[0m\n",
      "\u001b[32m[I 2021-03-04 23:49:20,279]\u001b[0m Trial 11 finished with value: 0.8923426061436598 and parameters: {'max_leaf_nodes': 298, 'max_depth': 80, 'min_samples_leaf': 29, 'learning_rate': 0.006498265484260004}. Best is trial 8 with value: 0.8924512865944154.\u001b[0m\n",
      "\u001b[32m[I 2021-03-04 23:53:04,403]\u001b[0m Trial 12 finished with value: 0.8924372980938649 and parameters: {'max_leaf_nodes': 199, 'max_depth': 200, 'min_samples_leaf': 24, 'learning_rate': 0.007567411878661987}. Best is trial 8 with value: 0.8924512865944154.\u001b[0m\n",
      "\u001b[32m[I 2021-03-04 23:59:09,290]\u001b[0m Trial 13 finished with value: 0.8865614321354005 and parameters: {'max_leaf_nodes': 189, 'max_depth': 200, 'min_samples_leaf': 23, 'learning_rate': 0.0014917545358008027}. Best is trial 8 with value: 0.8924512865944154.\u001b[0m\n",
      "\u001b[32m[I 2021-03-05 00:04:35,075]\u001b[0m Trial 14 finished with value: 0.8924242125779136 and parameters: {'max_leaf_nodes': 215, 'max_depth': 200, 'min_samples_leaf': 24, 'learning_rate': 0.014109902320861597}. Best is trial 8 with value: 0.8924512865944154.\u001b[0m\n",
      "\u001b[32m[I 2021-03-05 00:06:36,834]\u001b[0m Trial 15 finished with value: 0.8920044963885295 and parameters: {'max_leaf_nodes': 61, 'max_depth': 80, 'min_samples_leaf': 24, 'learning_rate': 0.01252412045869565}. Best is trial 8 with value: 0.8924512865944154.\u001b[0m\n",
      "\u001b[32m[I 2021-03-05 00:12:07,605]\u001b[0m Trial 16 finished with value: 0.8903672501820405 and parameters: {'max_leaf_nodes': 158, 'max_depth': 200, 'min_samples_leaf': 20, 'learning_rate': 0.00262136502225556}. Best is trial 8 with value: 0.8924512865944154.\u001b[0m\n",
      "\u001b[32m[I 2021-03-05 00:12:33,122]\u001b[0m Trial 17 finished with value: 0.8914235066019109 and parameters: {'max_leaf_nodes': 222, 'max_depth': 80, 'min_samples_leaf': 27, 'learning_rate': 0.08435106108810421}. Best is trial 8 with value: 0.8924512865944154.\u001b[0m\n",
      "\u001b[32m[I 2021-03-05 00:13:25,975]\u001b[0m Trial 18 finished with value: 0.8922374435894268 and parameters: {'max_leaf_nodes': 192, 'max_depth': 200, 'min_samples_leaf': 15, 'learning_rate': 0.03319126727064643}. Best is trial 8 with value: 0.8924512865944154.\u001b[0m\n",
      "\u001b[32m[I 2021-03-05 00:14:24,891]\u001b[0m Trial 19 finished with value: 0.8854826298609293 and parameters: {'max_leaf_nodes': 260, 'max_depth': 3, 'min_samples_leaf': 21, 'learning_rate': 0.009703732246440064}. Best is trial 8 with value: 0.8924512865944154.\u001b[0m\n",
      "\u001b[32m[I 2021-03-05 00:17:33,362]\u001b[0m Trial 20 finished with value: 0.8894128666768575 and parameters: {'max_leaf_nodes': 75, 'max_depth': 30, 'min_samples_leaf': 26, 'learning_rate': 0.0027448422944515213}. Best is trial 8 with value: 0.8924512865944154.\u001b[0m\n",
      "\u001b[32m[I 2021-03-05 00:23:05,896]\u001b[0m Trial 21 finished with value: 0.892728806904664 and parameters: {'max_leaf_nodes': 222, 'max_depth': 200, 'min_samples_leaf': 23, 'learning_rate': 0.01904032560385671}. Best is trial 21 with value: 0.892728806904664.\u001b[0m\n",
      "\u001b[32m[I 2021-03-05 00:24:29,958]\u001b[0m Trial 22 finished with value: 0.8924020743902725 and parameters: {'max_leaf_nodes': 237, 'max_depth': 200, 'min_samples_leaf': 17, 'learning_rate': 0.02297378739505468}. Best is trial 21 with value: 0.892728806904664.\u001b[0m\n",
      "\u001b[32m[I 2021-03-05 00:24:53,535]\u001b[0m Trial 23 finished with value: 0.8911831556577223 and parameters: {'max_leaf_nodes': 184, 'max_depth': 200, 'min_samples_leaf': 21, 'learning_rate': 0.08068560642488477}. Best is trial 21 with value: 0.892728806904664.\u001b[0m\n",
      "\u001b[32m[I 2021-03-05 00:26:30,664]\u001b[0m Trial 24 finished with value: 0.892496382868757 and parameters: {'max_leaf_nodes': 199, 'max_depth': 200, 'min_samples_leaf': 25, 'learning_rate': 0.01883953463021218}. Best is trial 21 with value: 0.892728806904664.\u001b[0m\n",
      "\u001b[32m[I 2021-03-05 00:27:46,698]\u001b[0m Trial 25 finished with value: 0.8923210732935206 and parameters: {'max_leaf_nodes': 142, 'max_depth': 80, 'min_samples_leaf': 26, 'learning_rate': 0.018668885830723587}. Best is trial 21 with value: 0.892728806904664.\u001b[0m\n",
      "\u001b[32m[I 2021-03-05 00:28:21,810]\u001b[0m Trial 26 finished with value: 0.8919523652341707 and parameters: {'max_leaf_nodes': 168, 'max_depth': 200, 'min_samples_leaf': 17, 'learning_rate': 0.04660582109580947}. Best is trial 21 with value: 0.892728806904664.\u001b[0m\n",
      "\u001b[32m[I 2021-03-05 00:29:02,497]\u001b[0m Trial 27 finished with value: 0.8916480019034806 and parameters: {'max_leaf_nodes': 234, 'max_depth': 300, 'min_samples_leaf': 22, 'learning_rate': 0.0645782291735151}. Best is trial 21 with value: 0.892728806904664.\u001b[0m\n",
      "\u001b[32m[I 2021-03-05 00:29:51,229]\u001b[0m Trial 28 finished with value: 0.8896804970688267 and parameters: {'max_leaf_nodes': 274, 'max_depth': 3, 'min_samples_leaf': 19, 'learning_rate': 0.02658755004025097}. Best is trial 21 with value: 0.892728806904664.\u001b[0m\n",
      "\u001b[32m[I 2021-03-05 00:30:33,118]\u001b[0m Trial 29 finished with value: 0.8924775096689084 and parameters: {'max_leaf_nodes': 142, 'max_depth': 100, 'min_samples_leaf': 26, 'learning_rate': 0.04111209009780952}. Best is trial 21 with value: 0.892728806904664.\u001b[0m\n",
      "\u001b[32m[I 2021-03-05 00:31:20,366]\u001b[0m Trial 30 finished with value: 0.892200764519352 and parameters: {'max_leaf_nodes': 143, 'max_depth': 100, 'min_samples_leaf': 26, 'learning_rate': 0.049420695184891214}. Best is trial 21 with value: 0.892728806904664.\u001b[0m\n",
      "\u001b[32m[I 2021-03-05 00:34:14,572]\u001b[0m Trial 31 finished with value: 0.8926487288791252 and parameters: {'max_leaf_nodes': 176, 'max_depth': 100, 'min_samples_leaf': 23, 'learning_rate': 0.014690733913951757}. Best is trial 21 with value: 0.892728806904664.\u001b[0m\n"
     ]
    },
    {
     "name": "stderr",
     "output_type": "stream",
     "text": [
      "\u001b[32m[I 2021-03-05 00:40:21,734]\u001b[0m Trial 32 finished with value: 0.892403860272857 and parameters: {'max_leaf_nodes': 88, 'max_depth': 100, 'min_samples_leaf': 30, 'learning_rate': 0.013328529360089575}. Best is trial 21 with value: 0.892728806904664.\u001b[0m\n",
      "\u001b[32m[I 2021-03-05 00:44:12,109]\u001b[0m Trial 33 finished with value: 0.8923470854585674 and parameters: {'max_leaf_nodes': 208, 'max_depth': 100, 'min_samples_leaf': 25, 'learning_rate': 0.009976878348901284}. Best is trial 21 with value: 0.892728806904664.\u001b[0m\n",
      "\u001b[32m[I 2021-03-05 00:46:21,870]\u001b[0m Trial 34 finished with value: 0.8924630062206189 and parameters: {'max_leaf_nodes': 162, 'max_depth': 100, 'min_samples_leaf': 28, 'learning_rate': 0.016568017546797348}. Best is trial 21 with value: 0.892728806904664.\u001b[0m\n",
      "\u001b[32m[I 2021-03-05 00:52:38,662]\u001b[0m Trial 35 finished with value: 0.8910622351548567 and parameters: {'max_leaf_nodes': 133, 'max_depth': 100, 'min_samples_leaf': 22, 'learning_rate': 0.0030791972052619005}. Best is trial 21 with value: 0.892728806904664.\u001b[0m\n",
      "\u001b[32m[I 2021-03-05 00:53:38,102]\u001b[0m Trial 36 finished with value: 0.8921503434662614 and parameters: {'max_leaf_nodes': 177, 'max_depth': 100, 'min_samples_leaf': 28, 'learning_rate': 0.035375477752532164}. Best is trial 21 with value: 0.892728806904664.\u001b[0m\n",
      "\u001b[32m[I 2021-03-05 00:55:14,955]\u001b[0m Trial 37 finished with value: 0.883354255900403 and parameters: {'max_leaf_nodes': 10, 'max_depth': 100, 'min_samples_leaf': 30, 'learning_rate': 0.003828725965823949}. Best is trial 21 with value: 0.892728806904664.\u001b[0m\n",
      "\u001b[32m[I 2021-03-05 00:55:19,597]\u001b[0m Trial 38 finished with value: 0.872029674959098 and parameters: {'max_leaf_nodes': 237, 'max_depth': 9, 'min_samples_leaf': 13, 'learning_rate': 0.8089952347942992}. Best is trial 21 with value: 0.892728806904664.\u001b[0m\n",
      "\u001b[32m[I 2021-03-05 00:55:34,868]\u001b[0m Trial 39 finished with value: 0.8909936074122894 and parameters: {'max_leaf_nodes': 125, 'max_depth': 100, 'min_samples_leaf': 23, 'learning_rate': 0.13253256064936017}. Best is trial 21 with value: 0.892728806904664.\u001b[0m\n",
      "\u001b[32m[I 2021-03-05 00:55:45,060]\u001b[0m Trial 40 finished with value: 0.8889626626596306 and parameters: {'max_leaf_nodes': 150, 'max_depth': 300, 'min_samples_leaf': 25, 'learning_rate': 0.21797201488399126}. Best is trial 21 with value: 0.892728806904664.\u001b[0m\n",
      "\u001b[32m[I 2021-03-05 01:01:49,590]\u001b[0m Trial 41 finished with value: 0.8924813096910539 and parameters: {'max_leaf_nodes': 170, 'max_depth': 100, 'min_samples_leaf': 28, 'learning_rate': 0.01794678039356075}. Best is trial 21 with value: 0.892728806904664.\u001b[0m\n",
      "\u001b[32m[I 2021-03-05 01:04:04,934]\u001b[0m Trial 42 finished with value: 0.8921110093110358 and parameters: {'max_leaf_nodes': 203, 'max_depth': 100, 'min_samples_leaf': 5, 'learning_rate': 0.021145824172997027}. Best is trial 21 with value: 0.892728806904664.\u001b[0m\n",
      "\u001b[32m[I 2021-03-05 01:08:09,964]\u001b[0m Trial 43 finished with value: 0.8925655776016541 and parameters: {'max_leaf_nodes': 176, 'max_depth': 100, 'min_samples_leaf': 27, 'learning_rate': 0.008714382791118528}. Best is trial 21 with value: 0.892728806904664.\u001b[0m\n",
      "\u001b[32m[I 2021-03-05 01:15:25,069]\u001b[0m Trial 44 finished with value: 0.8926115467306742 and parameters: {'max_leaf_nodes': 167, 'max_depth': 30, 'min_samples_leaf': 29, 'learning_rate': 0.004786718362040152}. Best is trial 21 with value: 0.892728806904664.\u001b[0m\n"
     ]
    }
   ],
   "source": [
    "import optuna\n",
    "from sklearn.metrics import roc_auc_score\n",
    "from sklearn.model_selection import train_test_split\n",
    "import warnings\n",
    "warnings.filterwarnings(\"ignore\")\n",
    "\n",
    "def objective(trial, data=train, target=target):\n",
    "\n",
    "    train_x, test_x, train_y, test_y = train_test_split(data, target, test_size=0.25, stratify = target, shuffle = True, random_state=2021)\n",
    "    param = {\n",
    "        'max_iter' : 2000,\n",
    "        'max_leaf_nodes' : trial.suggest_int('max_leaf_nodes', 1, 300),\n",
    "        'max_depth': trial.suggest_categorical('max_depth', [3,9, 30,80, 100,200, 300]),\n",
    "        'min_samples_leaf': trial.suggest_int('min_samples_leaf', 1, 30),\n",
    "        'learning_rate': trial.suggest_loguniform('learning_rate', 1E-2, 1.0),\n",
    "        'verbose' : 0,\n",
    "        'random_state' : 2021,\n",
    "        'early_stopping' : 50\n",
    "       # 'categorical_features' : np.array([0, 1, 2,3, 4, 5, 6, 7, 8, 9, 10, 11, 12, 13, 14, 15, 16, 17, 18])\n",
    "    }\n",
    "\n",
    "    model = model = HistGradientBoostingClassifier(**param)  \n",
    "    model.fit(train_x,train_y)\n",
    "\n",
    "    preds = model.predict_proba(test_x)[:, 1]    \n",
    "    roc = roc_auc_score(test_y, preds)\n",
    "    \n",
    "    return roc\n",
    "\n",
    "study = optuna.create_study(direction='maximize')\n",
    "study.optimize(objective, n_trials=50)\n",
    "print('Best trial:', study.best_params)"
   ]
  },
  {
   "cell_type": "code",
   "execution_count": null,
   "metadata": {},
   "outputs": [],
   "source": [
    "# Trial 21 finished with value: 0.892728806904664 and parameters: {'max_leaf_nodes': 222, 'max_depth': 200, 'min_samples_leaf': 23, 'learning_rate': 0.01904032560385671}"
   ]
  },
  {
   "cell_type": "code",
   "execution_count": 7,
   "metadata": {},
   "outputs": [],
   "source": [
    "from sklearn.model_selection import StratifiedKFold\n",
    "from sklearn.metrics import roc_auc_score\n",
    "\n",
    "num_folds = 10\n",
    "train_oof_hgbc = np.zeros(train.shape[0])   \n",
    "test_preds_hgbc = 0\n",
    "auc_hgbc = []\n",
    "\n",
    "kf = StratifiedKFold(n_splits =num_folds, shuffle = True, random_state = 2021 )\n",
    "\n",
    "for f, (train_idx, val_idx) in  enumerate(kf.split(train, target)) :\n",
    "    train_df, val_df = train.iloc[train_idx], train.iloc[val_idx]\n",
    "    train_t, val_t = target.iloc[train_idx], target.iloc[val_idx]\n",
    "    \n",
    "    param = {\n",
    "        'max_iter' : 2000, 'verbose' : 0,\n",
    "        'random_state' : 2021,\n",
    "        'early_stopping' : 50, 'max_leaf_nodes': 222, 'max_depth': 200, 'min_samples_leaf': 23, \n",
    "        'learning_rate': 0.01904032560385671\n",
    "\n",
    "    }\n",
    "    \n",
    "    model = HistGradientBoostingClassifier(**param)  \n",
    "    model.fit(train_df,train_t)\n",
    "    temp_oof = model.predict_proba(val_df)[:, 1]\n",
    "    temp_test = model.predict_proba(test)[:, 1]\n",
    "    train_oof_hgbc[val_idx] = temp_oof\n",
    "    test_preds_hgbc += temp_test / num_folds\n",
    "    auc_hgbc.append(roc_auc_score(val_t, model.predict_proba(val_df)[:, 1])) \n"
   ]
  },
  {
   "cell_type": "code",
   "execution_count": 8,
   "metadata": {},
   "outputs": [
    {
     "data": {
      "text/plain": [
       "0.891835760714822"
      ]
     },
     "execution_count": 8,
     "metadata": {},
     "output_type": "execute_result"
    }
   ],
   "source": [
    "np.mean(auc_hgbc)"
   ]
  },
  {
   "cell_type": "code",
   "execution_count": 9,
   "metadata": {},
   "outputs": [
    {
     "data": {
      "text/plain": [
       "0.8918073775842985"
      ]
     },
     "execution_count": 9,
     "metadata": {},
     "output_type": "execute_result"
    }
   ],
   "source": [
    "roc_auc_score(target, train_oof_hgbc)"
   ]
  },
  {
   "cell_type": "code",
   "execution_count": null,
   "metadata": {},
   "outputs": [],
   "source": []
  }
 ],
 "metadata": {
  "kernelspec": {
   "display_name": "Python 3",
   "language": "python",
   "name": "python3"
  },
  "language_info": {
   "codemirror_mode": {
    "name": "ipython",
    "version": 3
   },
   "file_extension": ".py",
   "mimetype": "text/x-python",
   "name": "python",
   "nbconvert_exporter": "python",
   "pygments_lexer": "ipython3",
   "version": "3.8.5"
  }
 },
 "nbformat": 4,
 "nbformat_minor": 4
}
