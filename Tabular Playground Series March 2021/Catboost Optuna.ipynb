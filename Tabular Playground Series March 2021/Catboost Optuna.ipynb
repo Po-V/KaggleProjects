{
 "cells": [
  {
   "cell_type": "code",
   "execution_count": 1,
   "metadata": {},
   "outputs": [],
   "source": [
    "from hyperopt import STATUS_OK, Trials, fmin, hp, tpe\n",
    "from catboost import CatBoostClassifier\n",
    "from sklearn.metrics import roc_auc_score\n",
    "import pandas as pd\n",
    "import seaborn as sns\n",
    "import numpy as np\n",
    "import matplotlib.pyplot as plt"
   ]
  },
  {
   "cell_type": "code",
   "execution_count": 2,
   "metadata": {},
   "outputs": [],
   "source": [
    "train = pd.read_csv('train.csv')\n",
    "test = pd.read_csv('test.csv')"
   ]
  },
  {
   "cell_type": "code",
   "execution_count": 3,
   "metadata": {},
   "outputs": [],
   "source": [
    "target = train['target']\n",
    "train = train.drop(['id', 'target'], axis = 1)"
   ]
  },
  {
   "cell_type": "code",
   "execution_count": 4,
   "metadata": {},
   "outputs": [],
   "source": [
    "sub = pd.read_csv('sample_submission.csv')\n",
    "sub['id'] = test['id']\n",
    "test = test.drop('id', axis = 1)"
   ]
  },
  {
   "cell_type": "code",
   "execution_count": 10,
   "metadata": {},
   "outputs": [
    {
     "name": "stderr",
     "output_type": "stream",
     "text": [
      "\u001b[32m[I 2021-03-06 13:56:32,923]\u001b[0m A new study created in memory with name: no-name-51435d47-85b4-4a76-b9eb-5f5ce0448574\u001b[0m\n",
      "\u001b[32m[I 2021-03-06 13:56:59,708]\u001b[0m Trial 0 finished with value: 0.8898600503977709 and parameters: {'learning_rate': 0.2835358536849435, 'depth': 13, 'l2_leaf_reg': 9.83216000375306, 'bagging_temperature': 4.06255003921493, 'border_count': 225, 'min_data_in_leaf': 385}. Best is trial 0 with value: 0.8898600503977709.\u001b[0m\n",
      "\u001b[32m[I 2021-03-06 13:59:35,248]\u001b[0m Trial 1 finished with value: 0.8945588170408715 and parameters: {'learning_rate': 0.054943602378284224, 'depth': 11, 'l2_leaf_reg': 21.85335873290447, 'bagging_temperature': 3.192763399205135, 'border_count': 100, 'min_data_in_leaf': 100}. Best is trial 1 with value: 0.8945588170408715.\u001b[0m\n",
      "\u001b[32m[I 2021-03-06 14:04:21,668]\u001b[0m Trial 2 finished with value: 0.8917145598117848 and parameters: {'learning_rate': 0.06741957468005244, 'depth': 13, 'l2_leaf_reg': 4.272929167346739, 'bagging_temperature': 11.897976440371417, 'border_count': 5, 'min_data_in_leaf': 79}. Best is trial 1 with value: 0.8945588170408715.\u001b[0m\n",
      "\u001b[32m[I 2021-03-06 14:07:34,251]\u001b[0m Trial 3 finished with value: 0.8950821701148572 and parameters: {'learning_rate': 0.06912491333347717, 'depth': 14, 'l2_leaf_reg': 32.74673163959001, 'bagging_temperature': 0.7091551408914539, 'border_count': 225, 'min_data_in_leaf': 384}. Best is trial 3 with value: 0.8950821701148572.\u001b[0m\n",
      "\u001b[32m[I 2021-03-06 14:10:17,263]\u001b[0m Trial 4 finished with value: 0.8946214343207326 and parameters: {'learning_rate': 0.06053319848993905, 'depth': 9, 'l2_leaf_reg': 47.05808239988688, 'bagging_temperature': 25.26531589874318, 'border_count': 225, 'min_data_in_leaf': 305}. Best is trial 3 with value: 0.8950821701148572.\u001b[0m\n",
      "\u001b[32m[I 2021-03-06 14:10:46,012]\u001b[0m Trial 5 finished with value: 0.888797068614344 and parameters: {'learning_rate': 0.5820728430635189, 'depth': 5, 'l2_leaf_reg': 13.206129139738508, 'bagging_temperature': 29.455639246377913, 'border_count': 5, 'min_data_in_leaf': 352}. Best is trial 3 with value: 0.8950821701148572.\u001b[0m\n",
      "\u001b[32m[I 2021-03-06 14:13:26,802]\u001b[0m Trial 6 finished with value: 0.8927765290472639 and parameters: {'learning_rate': 0.06503946482530731, 'depth': 11, 'l2_leaf_reg': 2.694242103253007, 'bagging_temperature': 2.3231100620535385, 'border_count': 5, 'min_data_in_leaf': 350}. Best is trial 3 with value: 0.8950821701148572.\u001b[0m\n",
      "\u001b[32m[I 2021-03-06 14:15:48,473]\u001b[0m Trial 7 finished with value: 0.8899734950281407 and parameters: {'learning_rate': 0.24307523478106727, 'depth': 14, 'l2_leaf_reg': 43.705884454952766, 'bagging_temperature': 32.82464039822593, 'border_count': 100, 'min_data_in_leaf': 116}. Best is trial 3 with value: 0.8950821701148572.\u001b[0m\n",
      "\u001b[32m[I 2021-03-06 14:16:47,512]\u001b[0m Trial 8 finished with value: 0.8929764346812646 and parameters: {'learning_rate': 0.20667263663151622, 'depth': 5, 'l2_leaf_reg': 12.478606984739251, 'bagging_temperature': 5.036539582536058, 'border_count': 100, 'min_data_in_leaf': 426}. Best is trial 3 with value: 0.8950821701148572.\u001b[0m\n",
      "\u001b[32m[I 2021-03-06 14:21:32,455]\u001b[0m Trial 9 finished with value: 0.894878911842385 and parameters: {'learning_rate': 0.04563570888403555, 'depth': 11, 'l2_leaf_reg': 19.164621999453853, 'bagging_temperature': 17.718758428688187, 'border_count': 225, 'min_data_in_leaf': 169}. Best is trial 3 with value: 0.8950821701148572.\u001b[0m\n",
      "\u001b[32m[I 2021-03-06 14:24:10,063]\u001b[0m Trial 10 finished with value: 0.893400417450054 and parameters: {'learning_rate': 0.12744193684242053, 'depth': 15, 'l2_leaf_reg': 35.33226018293072, 'bagging_temperature': 48.928282017882175, 'border_count': 200, 'min_data_in_leaf': 497}. Best is trial 3 with value: 0.8950821701148572.\u001b[0m\n",
      "\u001b[32m[I 2021-03-06 14:29:10,456]\u001b[0m Trial 11 finished with value: 0.8947618096222232 and parameters: {'learning_rate': 0.04087171311181318, 'depth': 8, 'l2_leaf_reg': 30.22549601623008, 'bagging_temperature': 15.664080129597064, 'border_count': 225, 'min_data_in_leaf': 202}. Best is trial 3 with value: 0.8950821701148572.\u001b[0m\n",
      "\u001b[32m[I 2021-03-06 14:33:52,432]\u001b[0m Trial 12 finished with value: 0.8925563971060576 and parameters: {'learning_rate': 0.11821659722634625, 'depth': 16, 'l2_leaf_reg': 23.091426654771006, 'bagging_temperature': 39.40245797974728, 'border_count': 254, 'min_data_in_leaf': 219}. Best is trial 3 with value: 0.8950821701148572.\u001b[0m\n",
      "\u001b[32m[I 2021-03-06 14:36:38,595]\u001b[0m Trial 13 finished with value: 0.8941465292465323 and parameters: {'learning_rate': 0.10686473221012534, 'depth': 9, 'l2_leaf_reg': 38.28843064909272, 'bagging_temperature': 15.71873516848895, 'border_count': 225, 'min_data_in_leaf': 19}. Best is trial 3 with value: 0.8950821701148572.\u001b[0m\n",
      "\u001b[32m[I 2021-03-06 14:41:44,887]\u001b[0m Trial 14 finished with value: 0.8951567644947915 and parameters: {'learning_rate': 0.04075830365714392, 'depth': 12, 'l2_leaf_reg': 28.60828031739777, 'bagging_temperature': 18.764614161035862, 'border_count': 225, 'min_data_in_leaf': 266}. Best is trial 14 with value: 0.8951567644947915.\u001b[0m\n",
      "\u001b[32m[I 2021-03-06 14:42:32,682]\u001b[0m Trial 15 finished with value: 0.8744029471992993 and parameters: {'learning_rate': 0.9952527497451045, 'depth': 13, 'l2_leaf_reg': 29.37002288213262, 'bagging_temperature': 9.64523417087183, 'border_count': 225, 'min_data_in_leaf': 282}. Best is trial 14 with value: 0.8951567644947915.\u001b[0m\n",
      "\u001b[32m[I 2021-03-06 14:46:26,719]\u001b[0m Trial 16 finished with value: 0.8941306453000484 and parameters: {'learning_rate': 0.09860041167613523, 'depth': 16, 'l2_leaf_reg': 34.66683465267826, 'bagging_temperature': 21.99240699140516, 'border_count': 254, 'min_data_in_leaf': 476}. Best is trial 14 with value: 0.8951567644947915.\u001b[0m\n",
      "\u001b[32m[I 2021-03-06 14:53:16,296]\u001b[0m Trial 17 finished with value: 0.8954092148847925 and parameters: {'learning_rate': 0.040691477109864746, 'depth': 14, 'l2_leaf_reg': 27.441886312424632, 'bagging_temperature': 41.8642535326738, 'border_count': 200, 'min_data_in_leaf': 439}. Best is trial 17 with value: 0.8954092148847925.\u001b[0m\n",
      "\u001b[32m[I 2021-03-06 14:58:18,085]\u001b[0m Trial 18 finished with value: 0.8955251749070442 and parameters: {'learning_rate': 0.043929139772041444, 'depth': 12, 'l2_leaf_reg': 41.03925321836908, 'bagging_temperature': 49.794807843112864, 'border_count': 200, 'min_data_in_leaf': 440}. Best is trial 18 with value: 0.8955251749070442.\u001b[0m\n",
      "\u001b[32m[I 2021-03-06 14:59:19,142]\u001b[0m Trial 19 finished with value: 0.8857967064389993 and parameters: {'learning_rate': 0.5170547249163933, 'depth': 15, 'l2_leaf_reg': 43.49301266146236, 'bagging_temperature': 49.81122040728865, 'border_count': 200, 'min_data_in_leaf': 454}. Best is trial 18 with value: 0.8955251749070442.\u001b[0m\n",
      "\u001b[32m[I 2021-03-06 15:00:44,839]\u001b[0m Trial 20 finished with value: 0.8928414444183649 and parameters: {'learning_rate': 0.15497769239941095, 'depth': 7, 'l2_leaf_reg': 39.92523227487107, 'bagging_temperature': 42.637363629458115, 'border_count': 200, 'min_data_in_leaf': 433}. Best is trial 18 with value: 0.8955251749070442.\u001b[0m\n",
      "\u001b[32m[I 2021-03-06 15:05:23,706]\u001b[0m Trial 21 finished with value: 0.8951922922366766 and parameters: {'learning_rate': 0.04398400967381009, 'depth': 12, 'l2_leaf_reg': 27.115306840368348, 'bagging_temperature': 43.68150831924031, 'border_count': 200, 'min_data_in_leaf': 290}. Best is trial 18 with value: 0.8955251749070442.\u001b[0m\n",
      "\u001b[32m[I 2021-03-06 15:10:07,902]\u001b[0m Trial 22 finished with value: 0.8951486020253103 and parameters: {'learning_rate': 0.040862209074016775, 'depth': 12, 'l2_leaf_reg': 25.769758092768665, 'bagging_temperature': 43.94924755266199, 'border_count': 200, 'min_data_in_leaf': 329}. Best is trial 18 with value: 0.8955251749070442.\u001b[0m\n",
      "\u001b[32m[I 2021-03-06 15:12:23,425]\u001b[0m Trial 23 finished with value: 0.8941890553473181 and parameters: {'learning_rate': 0.07758274914211306, 'depth': 10, 'l2_leaf_reg': 17.91418697677821, 'bagging_temperature': 36.928495239774264, 'border_count': 200, 'min_data_in_leaf': 402}. Best is trial 18 with value: 0.8955251749070442.\u001b[0m\n",
      "\u001b[32m[I 2021-03-06 15:16:25,522]\u001b[0m Trial 24 finished with value: 0.8951950477548973 and parameters: {'learning_rate': 0.048817568380925255, 'depth': 12, 'l2_leaf_reg': 26.133425136425377, 'bagging_temperature': 46.30936103042131, 'border_count': 200, 'min_data_in_leaf': 499}. Best is trial 18 with value: 0.8955251749070442.\u001b[0m\n"
     ]
    },
    {
     "name": "stderr",
     "output_type": "stream",
     "text": [
      "\u001b[32m[I 2021-03-06 15:19:19,177]\u001b[0m Trial 25 finished with value: 0.894385863990661 and parameters: {'learning_rate': 0.08710602182269733, 'depth': 14, 'l2_leaf_reg': 17.94566984793561, 'bagging_temperature': 47.797209405938126, 'border_count': 200, 'min_data_in_leaf': 488}. Best is trial 18 with value: 0.8955251749070442.\u001b[0m\n",
      "\u001b[32m[I 2021-03-06 15:23:34,823]\u001b[0m Trial 26 finished with value: 0.8951864406408259 and parameters: {'learning_rate': 0.052315760421902786, 'depth': 10, 'l2_leaf_reg': 38.58968824517141, 'bagging_temperature': 35.31671571742632, 'border_count': 200, 'min_data_in_leaf': 497}. Best is trial 18 with value: 0.8955251749070442.\u001b[0m\n",
      "\u001b[32m[I 2021-03-06 15:28:41,200]\u001b[0m Trial 27 finished with value: 0.8951691615877018 and parameters: {'learning_rate': 0.051763766264766, 'depth': 15, 'l2_leaf_reg': 23.95711578622072, 'bagging_temperature': 46.084410417245266, 'border_count': 200, 'min_data_in_leaf': 452}. Best is trial 18 with value: 0.8955251749070442.\u001b[0m\n",
      "\u001b[32m[I 2021-03-06 15:30:23,224]\u001b[0m Trial 28 finished with value: 0.8937508384734711 and parameters: {'learning_rate': 0.14396224909270444, 'depth': 12, 'l2_leaf_reg': 32.06677299977609, 'bagging_temperature': 40.26379288723659, 'border_count': 200, 'min_data_in_leaf': 428}. Best is trial 18 with value: 0.8955251749070442.\u001b[0m\n",
      "\u001b[32m[I 2021-03-06 15:31:27,627]\u001b[0m Trial 29 finished with value: 0.8893034037611864 and parameters: {'learning_rate': 0.3420738975399095, 'depth': 13, 'l2_leaf_reg': 46.57269169404026, 'bagging_temperature': 46.3878112038056, 'border_count': 200, 'min_data_in_leaf': 381}. Best is trial 18 with value: 0.8955251749070442.\u001b[0m\n",
      "\u001b[32m[I 2021-03-06 15:34:37,213]\u001b[0m Trial 30 finished with value: 0.8940667853892071 and parameters: {'learning_rate': 0.08729779776691061, 'depth': 14, 'l2_leaf_reg': 7.845002403547184, 'bagging_temperature': 30.315422368080384, 'border_count': 200, 'min_data_in_leaf': 396}. Best is trial 18 with value: 0.8955251749070442.\u001b[0m\n",
      "\u001b[32m[I 2021-03-06 15:39:02,975]\u001b[0m Trial 31 finished with value: 0.8952594792212083 and parameters: {'learning_rate': 0.04755487077763851, 'depth': 12, 'l2_leaf_reg': 26.190992998240784, 'bagging_temperature': 42.40802878569873, 'border_count': 200, 'min_data_in_leaf': 463}. Best is trial 18 with value: 0.8955251749070442.\u001b[0m\n",
      "\u001b[32m[I 2021-03-06 15:42:38,816]\u001b[0m Trial 32 finished with value: 0.8950930278427176 and parameters: {'learning_rate': 0.05260402790293203, 'depth': 11, 'l2_leaf_reg': 20.67154858027147, 'bagging_temperature': 49.94240657212958, 'border_count': 200, 'min_data_in_leaf': 466}. Best is trial 18 with value: 0.8955251749070442.\u001b[0m\n",
      "\u001b[32m[I 2021-03-06 15:47:22,376]\u001b[0m Trial 33 finished with value: 0.8953275545818924 and parameters: {'learning_rate': 0.040494159522725365, 'depth': 12, 'l2_leaf_reg': 22.712184430964303, 'bagging_temperature': 40.92960718656642, 'border_count': 200, 'min_data_in_leaf': 496}. Best is trial 18 with value: 0.8955251749070442.\u001b[0m\n",
      "\u001b[32m[I 2021-03-06 15:51:25,235]\u001b[0m Trial 34 finished with value: 0.8947294455220329 and parameters: {'learning_rate': 0.06171949100785732, 'depth': 13, 'l2_leaf_reg': 16.00514040629902, 'bagging_temperature': 40.12756428113553, 'border_count': 200, 'min_data_in_leaf': 411}. Best is trial 18 with value: 0.8955251749070442.\u001b[0m\n",
      "\u001b[32m[I 2021-03-06 15:54:58,606]\u001b[0m Trial 35 finished with value: 0.8944201591448726 and parameters: {'learning_rate': 0.07595979311653997, 'depth': 13, 'l2_leaf_reg': 22.66022803719444, 'bagging_temperature': 36.66941500383963, 'border_count': 254, 'min_data_in_leaf': 361}. Best is trial 18 with value: 0.8955251749070442.\u001b[0m\n",
      "\u001b[32m[I 2021-03-06 15:59:22,313]\u001b[0m Trial 36 finished with value: 0.8950390094596766 and parameters: {'learning_rate': 0.04129425357824411, 'depth': 10, 'l2_leaf_reg': 49.2345581143647, 'bagging_temperature': 41.64378695161848, 'border_count': 100, 'min_data_in_leaf': 448}. Best is trial 18 with value: 0.8955251749070442.\u001b[0m\n",
      "\u001b[32m[I 2021-03-06 16:03:23,772]\u001b[0m Trial 37 finished with value: 0.892808181898715 and parameters: {'learning_rate': 0.05996200338565456, 'depth': 12, 'l2_leaf_reg': 35.83621495482348, 'bagging_temperature': 32.840411561519474, 'border_count': 5, 'min_data_in_leaf': 473}. Best is trial 18 with value: 0.8955251749070442.\u001b[0m\n",
      "\u001b[32m[I 2021-03-06 16:08:15,199]\u001b[0m Trial 38 finished with value: 0.8951395950050162 and parameters: {'learning_rate': 0.04011321225341217, 'depth': 11, 'l2_leaf_reg': 14.846633163264393, 'bagging_temperature': 26.809793911167844, 'border_count': 200, 'min_data_in_leaf': 326}. Best is trial 18 with value: 0.8955251749070442.\u001b[0m\n",
      "\u001b[32m[I 2021-03-06 16:12:12,442]\u001b[0m Trial 39 finished with value: 0.8946014810088712 and parameters: {'learning_rate': 0.07136168943700565, 'depth': 14, 'l2_leaf_reg': 21.550970467320028, 'bagging_temperature': 38.265739292018424, 'border_count': 200, 'min_data_in_leaf': 375}. Best is trial 18 with value: 0.8955251749070442.\u001b[0m\n",
      "\u001b[32m[I 2021-03-06 16:17:45,376]\u001b[0m Trial 40 finished with value: 0.8926283866173758 and parameters: {'learning_rate': 0.057373405691401945, 'depth': 15, 'l2_leaf_reg': 8.098073106487758, 'bagging_temperature': 33.55499825615521, 'border_count': 5, 'min_data_in_leaf': 419}. Best is trial 18 with value: 0.8955251749070442.\u001b[0m\n",
      "\u001b[32m[I 2021-03-06 16:22:41,943]\u001b[0m Trial 41 finished with value: 0.8952282217108403 and parameters: {'learning_rate': 0.049266256788062464, 'depth': 13, 'l2_leaf_reg': 25.6387144711127, 'bagging_temperature': 45.28167064998241, 'border_count': 200, 'min_data_in_leaf': 495}. Best is trial 18 with value: 0.8955251749070442.\u001b[0m\n",
      "\u001b[32m[I 2021-03-06 16:27:30,889]\u001b[0m Trial 42 finished with value: 0.8952398573384768 and parameters: {'learning_rate': 0.04601394843998925, 'depth': 13, 'l2_leaf_reg': 32.20421200532559, 'bagging_temperature': 44.56823095153456, 'border_count': 200, 'min_data_in_leaf': 474}. Best is trial 18 with value: 0.8955251749070442.\u001b[0m\n",
      "\u001b[32m[I 2021-03-06 16:33:38,823]\u001b[0m Trial 43 finished with value: 0.8952702356029708 and parameters: {'learning_rate': 0.04717904252722556, 'depth': 14, 'l2_leaf_reg': 32.234289556379885, 'bagging_temperature': 41.746983096010766, 'border_count': 200, 'min_data_in_leaf': 464}. Best is trial 18 with value: 0.8955251749070442.\u001b[0m\n",
      "\u001b[32m[I 2021-03-06 16:37:27,766]\u001b[0m Trial 44 finished with value: 0.8944264069948346 and parameters: {'learning_rate': 0.06743695041084913, 'depth': 14, 'l2_leaf_reg': 41.905012760389134, 'bagging_temperature': 41.12113964718176, 'border_count': 100, 'min_data_in_leaf': 438}. Best is trial 18 with value: 0.8955251749070442.\u001b[0m\n",
      "\u001b[32m[I 2021-03-06 16:41:23,718]\u001b[0m Trial 45 finished with value: 0.8950474120554973 and parameters: {'learning_rate': 0.05760606341354378, 'depth': 14, 'l2_leaf_reg': 30.919185275692406, 'bagging_temperature': 48.06416750554154, 'border_count': 200, 'min_data_in_leaf': 500}. Best is trial 18 with value: 0.8955251749070442.\u001b[0m\n",
      "\u001b[32m[I 2021-03-06 16:46:50,012]\u001b[0m Trial 46 finished with value: 0.895442334972089 and parameters: {'learning_rate': 0.04130824826516994, 'depth': 11, 'l2_leaf_reg': 27.94092109617748, 'bagging_temperature': 38.105430535389054, 'border_count': 200, 'min_data_in_leaf': 460}. Best is trial 18 with value: 0.8955251749070442.\u001b[0m\n",
      "\u001b[32m[I 2021-03-06 16:52:01,584]\u001b[0m Trial 47 finished with value: 0.8948331755354811 and parameters: {'learning_rate': 0.04012560472162407, 'depth': 11, 'l2_leaf_reg': 28.524169503112798, 'bagging_temperature': 29.950170658016877, 'border_count': 200, 'min_data_in_leaf': 402}. Best is trial 18 with value: 0.8955251749070442.\u001b[0m\n",
      "\u001b[32m[I 2021-03-06 16:54:27,460]\u001b[0m Trial 48 finished with value: 0.8938743519755903 and parameters: {'learning_rate': 0.08430856254310767, 'depth': 10, 'l2_leaf_reg': 35.10966180153796, 'bagging_temperature': 38.60011550550539, 'border_count': 254, 'min_data_in_leaf': 342}. Best is trial 18 with value: 0.8955251749070442.\u001b[0m\n",
      "\u001b[32m[I 2021-03-06 16:57:55,540]\u001b[0m Trial 49 finished with value: 0.8948744352665611 and parameters: {'learning_rate': 0.06263692650728693, 'depth': 9, 'l2_leaf_reg': 24.041899378855188, 'bagging_temperature': 34.95802549315754, 'border_count': 200, 'min_data_in_leaf': 437}. Best is trial 18 with value: 0.8955251749070442.\u001b[0m\n"
     ]
    },
    {
     "name": "stderr",
     "output_type": "stream",
     "text": [
      "\u001b[32m[I 2021-03-06 16:59:09,620]\u001b[0m Trial 50 finished with value: 0.8869151911888424 and parameters: {'learning_rate': 0.3375877281260559, 'depth': 15, 'l2_leaf_reg': 28.190058100792466, 'bagging_temperature': 27.130630636318127, 'border_count': 5, 'min_data_in_leaf': 370}. Best is trial 18 with value: 0.8955251749070442.\u001b[0m\n",
      "\u001b[32m[I 2021-03-06 17:04:34,366]\u001b[0m Trial 51 finished with value: 0.8952338085285981 and parameters: {'learning_rate': 0.04480209128078856, 'depth': 12, 'l2_leaf_reg': 33.87162010810913, 'bagging_temperature': 42.084972995148654, 'border_count': 200, 'min_data_in_leaf': 463}. Best is trial 18 with value: 0.8955251749070442.\u001b[0m\n",
      "\u001b[32m[I 2021-03-06 17:08:54,373]\u001b[0m Trial 52 finished with value: 0.8951714678961927 and parameters: {'learning_rate': 0.04720240939347395, 'depth': 11, 'l2_leaf_reg': 20.324965494537103, 'bagging_temperature': 38.20015409859215, 'border_count': 200, 'min_data_in_leaf': 481}. Best is trial 18 with value: 0.8955251749070442.\u001b[0m\n",
      "\u001b[32m[I 2021-03-06 17:18:18,247]\u001b[0m Trial 53 finished with value: 0.8953070899744033 and parameters: {'learning_rate': 0.04033938307675756, 'depth': 16, 'l2_leaf_reg': 30.727725700233723, 'bagging_temperature': 42.44062349071999, 'border_count': 200, 'min_data_in_leaf': 449}. Best is trial 18 with value: 0.8955251749070442.\u001b[0m\n",
      "\u001b[32m[I 2021-03-06 17:27:22,221]\u001b[0m Trial 54 finished with value: 0.8953206110046659 and parameters: {'learning_rate': 0.04035599968467422, 'depth': 16, 'l2_leaf_reg': 37.91631956852036, 'bagging_temperature': 48.62151919123201, 'border_count': 200, 'min_data_in_leaf': 415}. Best is trial 18 with value: 0.8955251749070442.\u001b[0m\n",
      "\u001b[32m[I 2021-03-06 17:37:28,347]\u001b[0m Trial 55 finished with value: 0.8953750630759624 and parameters: {'learning_rate': 0.04051290762141975, 'depth': 16, 'l2_leaf_reg': 37.514825459754924, 'bagging_temperature': 49.88506726195923, 'border_count': 200, 'min_data_in_leaf': 411}. Best is trial 18 with value: 0.8955251749070442.\u001b[0m\n",
      "\u001b[32m[I 2021-03-06 17:38:20,790]\u001b[0m Trial 56 finished with value: 0.8780709441400169 and parameters: {'learning_rate': 0.8246962579114018, 'depth': 16, 'l2_leaf_reg': 37.258652954321136, 'bagging_temperature': 47.879384610721175, 'border_count': 100, 'min_data_in_leaf': 418}. Best is trial 18 with value: 0.8955251749070442.\u001b[0m\n",
      "\u001b[32m[I 2021-03-06 17:46:47,286]\u001b[0m Trial 57 finished with value: 0.8946850111929232 and parameters: {'learning_rate': 0.05578099276383847, 'depth': 16, 'l2_leaf_reg': 41.456273305068706, 'bagging_temperature': 48.416017797092, 'border_count': 200, 'min_data_in_leaf': 239}. Best is trial 18 with value: 0.8955251749070442.\u001b[0m\n",
      "\u001b[32m[I 2021-03-06 17:55:44,789]\u001b[0m Trial 58 finished with value: 0.8954266728913867 and parameters: {'learning_rate': 0.040642398251166244, 'depth': 15, 'l2_leaf_reg': 44.8633715608554, 'bagging_temperature': 49.891870056473024, 'border_count': 225, 'min_data_in_leaf': 388}. Best is trial 18 with value: 0.8955251749070442.\u001b[0m\n",
      "\u001b[32m[I 2021-03-06 18:01:17,901]\u001b[0m Trial 59 finished with value: 0.894676761985791 and parameters: {'learning_rate': 0.06775826936842916, 'depth': 15, 'l2_leaf_reg': 47.568811757239594, 'bagging_temperature': 46.66329131499095, 'border_count': 225, 'min_data_in_leaf': 384}. Best is trial 18 with value: 0.8955251749070442.\u001b[0m\n",
      "\u001b[32m[I 2021-03-06 18:04:45,948]\u001b[0m Trial 60 finished with value: 0.8914011565917956 and parameters: {'learning_rate': 0.18077924742625492, 'depth': 15, 'l2_leaf_reg': 44.32942013607477, 'bagging_temperature': 44.252214341806486, 'border_count': 225, 'min_data_in_leaf': 124}. Best is trial 18 with value: 0.8955251749070442.\u001b[0m\n",
      "\u001b[32m[I 2021-03-06 18:14:14,529]\u001b[0m Trial 61 finished with value: 0.8952922815747932 and parameters: {'learning_rate': 0.04278556723126695, 'depth': 16, 'l2_leaf_reg': 40.57617012149242, 'bagging_temperature': 49.76707725819125, 'border_count': 225, 'min_data_in_leaf': 405}. Best is trial 18 with value: 0.8955251749070442.\u001b[0m\n",
      "\u001b[32m[I 2021-03-06 18:20:33,445]\u001b[0m Trial 62 finished with value: 0.8951850427951016 and parameters: {'learning_rate': 0.05349722919880619, 'depth': 16, 'l2_leaf_reg': 44.55528030183993, 'bagging_temperature': 49.86373372236628, 'border_count': 225, 'min_data_in_leaf': 428}. Best is trial 18 with value: 0.8955251749070442.\u001b[0m\n",
      "\u001b[32m[I 2021-03-06 18:28:18,459]\u001b[0m Trial 63 finished with value: 0.8951266044439671 and parameters: {'learning_rate': 0.04377599807408008, 'depth': 15, 'l2_leaf_reg': 38.31926963265916, 'bagging_temperature': 46.94079405926296, 'border_count': 200, 'min_data_in_leaf': 393}. Best is trial 18 with value: 0.8955251749070442.\u001b[0m\n",
      "\u001b[32m[I 2021-03-06 18:33:40,293]\u001b[0m Trial 64 finished with value: 0.8953943681380103 and parameters: {'learning_rate': 0.040026581289843655, 'depth': 13, 'l2_leaf_reg': 36.756185535169855, 'bagging_temperature': 49.89937862773443, 'border_count': 225, 'min_data_in_leaf': 442}. Best is trial 18 with value: 0.8955251749070442.\u001b[0m\n",
      "\u001b[32m[I 2021-03-06 18:39:23,151]\u001b[0m Trial 65 finished with value: 0.8954846465113169 and parameters: {'learning_rate': 0.05022038138680188, 'depth': 13, 'l2_leaf_reg': 42.6527855957902, 'bagging_temperature': 49.99229124491861, 'border_count': 225, 'min_data_in_leaf': 443}. Best is trial 18 with value: 0.8955251749070442.\u001b[0m\n",
      "\u001b[32m[I 2021-03-06 18:44:21,503]\u001b[0m Trial 66 finished with value: 0.8948879544707679 and parameters: {'learning_rate': 0.05173609426229576, 'depth': 13, 'l2_leaf_reg': 42.671840881253466, 'bagging_temperature': 23.005350277114943, 'border_count': 225, 'min_data_in_leaf': 438}. Best is trial 18 with value: 0.8955251749070442.\u001b[0m\n",
      "\u001b[32m[I 2021-03-06 18:50:57,293]\u001b[0m Trial 67 finished with value: 0.8951956366578969 and parameters: {'learning_rate': 0.04481340415294103, 'depth': 13, 'l2_leaf_reg': 45.25066582921455, 'bagging_temperature': 49.581654222711485, 'border_count': 225, 'min_data_in_leaf': 354}. Best is trial 18 with value: 0.8955251749070442.\u001b[0m\n",
      "\u001b[32m[I 2021-03-06 18:56:09,630]\u001b[0m Trial 68 finished with value: 0.8951287153644862 and parameters: {'learning_rate': 0.05067240037183432, 'depth': 14, 'l2_leaf_reg': 39.90793747821264, 'bagging_temperature': 45.47862056163609, 'border_count': 225, 'min_data_in_leaf': 450}. Best is trial 18 with value: 0.8955251749070442.\u001b[0m\n",
      "\u001b[32m[I 2021-03-06 19:13:07,699]\u001b[0m Trial 69 finished with value: 0.894697505979819 and parameters: {'learning_rate': 0.05675498761147452, 'depth': 14, 'l2_leaf_reg': 49.67496198299891, 'bagging_temperature': 49.94588877608592, 'border_count': 225, 'min_data_in_leaf': 39}. Best is trial 18 with value: 0.8955251749070442.\u001b[0m\n",
      "\u001b[32m[I 2021-03-06 19:14:40,836]\u001b[0m Trial 70 finished with value: 0.8917882429898688 and parameters: {'learning_rate': 0.24029773632194365, 'depth': 13, 'l2_leaf_reg': 36.73500702943134, 'bagging_temperature': 44.05888482938432, 'border_count': 225, 'min_data_in_leaf': 318}. Best is trial 18 with value: 0.8955251749070442.\u001b[0m\n",
      "\u001b[32m[I 2021-03-06 19:19:57,200]\u001b[0m Trial 71 finished with value: 0.8952136059601185 and parameters: {'learning_rate': 0.04017586329760839, 'depth': 12, 'l2_leaf_reg': 39.375862829069575, 'bagging_temperature': 47.0883729080208, 'border_count': 225, 'min_data_in_leaf': 477}. Best is trial 18 with value: 0.8955251749070442.\u001b[0m\n",
      "\u001b[32m[I 2021-03-06 19:25:34,130]\u001b[0m Trial 72 finished with value: 0.8952344905604444 and parameters: {'learning_rate': 0.04381997968277134, 'depth': 12, 'l2_leaf_reg': 33.85275327388953, 'bagging_temperature': 43.53502180141197, 'border_count': 225, 'min_data_in_leaf': 487}. Best is trial 18 with value: 0.8955251749070442.\u001b[0m\n",
      "\u001b[32m[I 2021-03-06 19:29:47,685]\u001b[0m Trial 73 finished with value: 0.8949129449575877 and parameters: {'learning_rate': 0.048692844259167374, 'depth': 11, 'l2_leaf_reg': 47.96750587306633, 'bagging_temperature': 40.07644137361985, 'border_count': 225, 'min_data_in_leaf': 441}. Best is trial 18 with value: 0.8955251749070442.\u001b[0m\n",
      "\u001b[32m[I 2021-03-06 19:36:00,475]\u001b[0m Trial 74 finished with value: 0.8952676197780195 and parameters: {'learning_rate': 0.04116414936157814, 'depth': 13, 'l2_leaf_reg': 43.266553824512435, 'bagging_temperature': 7.108712861724129, 'border_count': 254, 'min_data_in_leaf': 414}. Best is trial 18 with value: 0.8955251749070442.\u001b[0m\n"
     ]
    },
    {
     "name": "stderr",
     "output_type": "stream",
     "text": [
      "\u001b[32m[I 2021-03-06 19:39:50,640]\u001b[0m Trial 75 finished with value: 0.8946750610148018 and parameters: {'learning_rate': 0.06394697738813257, 'depth': 12, 'l2_leaf_reg': 46.04045044176159, 'bagging_temperature': 45.82587612078778, 'border_count': 225, 'min_data_in_leaf': 396}. Best is trial 18 with value: 0.8955251749070442.\u001b[0m\n",
      "\u001b[32m[I 2021-03-06 19:44:45,873]\u001b[0m Trial 76 finished with value: 0.8952725172597085 and parameters: {'learning_rate': 0.04004524537422323, 'depth': 11, 'l2_leaf_reg': 41.401826996209614, 'bagging_temperature': 48.643168289483405, 'border_count': 200, 'min_data_in_leaf': 459}. Best is trial 18 with value: 0.8955251749070442.\u001b[0m\n",
      "\u001b[32m[I 2021-03-06 19:49:38,820]\u001b[0m Trial 77 finished with value: 0.8949739005266595 and parameters: {'learning_rate': 0.05447401340361339, 'depth': 14, 'l2_leaf_reg': 35.97963707705111, 'bagging_temperature': 31.425794087612854, 'border_count': 225, 'min_data_in_leaf': 425}. Best is trial 18 with value: 0.8955251749070442.\u001b[0m\n",
      "\u001b[32m[I 2021-03-06 19:53:35,435]\u001b[0m Trial 78 finished with value: 0.8928636529091545 and parameters: {'learning_rate': 0.073634851130426, 'depth': 13, 'l2_leaf_reg': 29.595085411434127, 'bagging_temperature': 36.456608461140924, 'border_count': 5, 'min_data_in_leaf': 488}. Best is trial 18 with value: 0.8955251749070442.\u001b[0m\n",
      "\u001b[32m[I 2021-03-06 19:58:41,671]\u001b[0m Trial 79 finished with value: 0.8950851493249151 and parameters: {'learning_rate': 0.04778471071106779, 'depth': 12, 'l2_leaf_reg': 33.70207400813757, 'bagging_temperature': 45.33415646487998, 'border_count': 200, 'min_data_in_leaf': 369}. Best is trial 18 with value: 0.8955251749070442.\u001b[0m\n",
      "\u001b[32m[I 2021-03-06 20:00:51,111]\u001b[0m Trial 80 finished with value: 0.8937207989423304 and parameters: {'learning_rate': 0.10903638976870551, 'depth': 6, 'l2_leaf_reg': 24.76395465626006, 'bagging_temperature': 49.938254725813664, 'border_count': 200, 'min_data_in_leaf': 454}. Best is trial 18 with value: 0.8955251749070442.\u001b[0m\n",
      "\u001b[32m[I 2021-03-06 20:09:27,552]\u001b[0m Trial 81 finished with value: 0.8956200686364164 and parameters: {'learning_rate': 0.04032086503004097, 'depth': 15, 'l2_leaf_reg': 37.627509267746504, 'bagging_temperature': 48.25499321116483, 'border_count': 200, 'min_data_in_leaf': 413}. Best is trial 81 with value: 0.8956200686364164.\u001b[0m\n",
      "\u001b[32m[I 2021-03-06 20:17:23,557]\u001b[0m Trial 82 finished with value: 0.8952635431084186 and parameters: {'learning_rate': 0.0441668079287452, 'depth': 15, 'l2_leaf_reg': 42.705264856854185, 'bagging_temperature': 47.864161082428716, 'border_count': 200, 'min_data_in_leaf': 388}. Best is trial 81 with value: 0.8956200686364164.\u001b[0m\n",
      "\u001b[32m[I 2021-03-06 20:23:44,505]\u001b[0m Trial 83 finished with value: 0.8955873311078126 and parameters: {'learning_rate': 0.04005234012358968, 'depth': 14, 'l2_leaf_reg': 39.36279294382323, 'bagging_temperature': 47.37860354223426, 'border_count': 200, 'min_data_in_leaf': 426}. Best is trial 81 with value: 0.8956200686364164.\u001b[0m\n",
      "\u001b[32m[I 2021-03-06 20:28:57,061]\u001b[0m Trial 84 finished with value: 0.8953311254340335 and parameters: {'learning_rate': 0.04982208823057219, 'depth': 14, 'l2_leaf_reg': 39.622512873117266, 'bagging_temperature': 47.420323704868714, 'border_count': 200, 'min_data_in_leaf': 428}. Best is trial 81 with value: 0.8956200686364164.\u001b[0m\n",
      "\u001b[32m[I 2021-03-06 20:35:41,262]\u001b[0m Trial 85 finished with value: 0.8956320877357732 and parameters: {'learning_rate': 0.04487756498826348, 'depth': 15, 'l2_leaf_reg': 36.71763813738534, 'bagging_temperature': 49.14896686365306, 'border_count': 200, 'min_data_in_leaf': 442}. Best is trial 85 with value: 0.8956320877357732.\u001b[0m\n",
      "\u001b[32m[I 2021-03-06 20:39:18,011]\u001b[0m Trial 86 finished with value: 0.894668440649454 and parameters: {'learning_rate': 0.06207590440100507, 'depth': 14, 'l2_leaf_reg': 40.58513598690716, 'bagging_temperature': 43.202375206056324, 'border_count': 100, 'min_data_in_leaf': 442}. Best is trial 85 with value: 0.8956320877357732.\u001b[0m\n",
      "\u001b[32m[I 2021-03-06 20:45:39,782]\u001b[0m Trial 87 finished with value: 0.8953362657811451 and parameters: {'learning_rate': 0.04502270931878899, 'depth': 15, 'l2_leaf_reg': 36.58642080429839, 'bagging_temperature': 48.734396128255355, 'border_count': 200, 'min_data_in_leaf': 472}. Best is trial 85 with value: 0.8956320877357732.\u001b[0m\n",
      "\u001b[32m[I 2021-03-06 20:50:28,676]\u001b[0m Trial 88 finished with value: 0.8951756815199796 and parameters: {'learning_rate': 0.05831777194815575, 'depth': 15, 'l2_leaf_reg': 38.967771113913884, 'bagging_temperature': 46.41563865025209, 'border_count': 200, 'min_data_in_leaf': 434}. Best is trial 85 with value: 0.8956320877357732.\u001b[0m\n",
      "\u001b[32m[I 2021-03-06 20:56:06,189]\u001b[0m Trial 89 finished with value: 0.895273581850247 and parameters: {'learning_rate': 0.053823960608318636, 'depth': 14, 'l2_leaf_reg': 34.82795698400233, 'bagging_temperature': 44.820612582692604, 'border_count': 254, 'min_data_in_leaf': 405}. Best is trial 85 with value: 0.8956320877357732.\u001b[0m\n",
      "\u001b[32m[I 2021-03-06 21:01:54,584]\u001b[0m Trial 90 finished with value: 0.8952552747277003 and parameters: {'learning_rate': 0.04748110388034959, 'depth': 15, 'l2_leaf_reg': 27.06258934986613, 'bagging_temperature': 48.91746796595125, 'border_count': 200, 'min_data_in_leaf': 460}. Best is trial 85 with value: 0.8956320877357732.\u001b[0m\n",
      "\u001b[32m[I 2021-03-06 21:08:19,472]\u001b[0m Trial 91 finished with value: 0.8953779098969736 and parameters: {'learning_rate': 0.0400955115596002, 'depth': 15, 'l2_leaf_reg': 37.7926549925533, 'bagging_temperature': 49.62345752808654, 'border_count': 200, 'min_data_in_leaf': 414}. Best is trial 85 with value: 0.8956320877357732.\u001b[0m\n",
      "\u001b[32m[I 2021-03-06 21:15:13,813]\u001b[0m Trial 92 finished with value: 0.8955995300736669 and parameters: {'learning_rate': 0.043222664857440814, 'depth': 15, 'l2_leaf_reg': 41.5155195298765, 'bagging_temperature': 47.289520787453576, 'border_count': 200, 'min_data_in_leaf': 423}. Best is trial 85 with value: 0.8956320877357732.\u001b[0m\n",
      "\u001b[32m[I 2021-03-06 21:20:44,981]\u001b[0m Trial 93 finished with value: 0.8954730747956342 and parameters: {'learning_rate': 0.04314954629654384, 'depth': 14, 'l2_leaf_reg': 41.662183150451014, 'bagging_temperature': 47.320596195074906, 'border_count': 200, 'min_data_in_leaf': 423}. Best is trial 85 with value: 0.8956320877357732.\u001b[0m\n",
      "\u001b[32m[I 2021-03-06 21:26:55,118]\u001b[0m Trial 94 finished with value: 0.8954503239662682 and parameters: {'learning_rate': 0.04330884116586207, 'depth': 14, 'l2_leaf_reg': 45.51438601810102, 'bagging_temperature': 47.09682875615495, 'border_count': 200, 'min_data_in_leaf': 379}. Best is trial 85 with value: 0.8956320877357732.\u001b[0m\n",
      "\u001b[32m[I 2021-03-06 21:32:49,866]\u001b[0m Trial 95 finished with value: 0.8951028876310763 and parameters: {'learning_rate': 0.050721336790886654, 'depth': 15, 'l2_leaf_reg': 45.821902604880435, 'bagging_temperature': 46.59653649228678, 'border_count': 200, 'min_data_in_leaf': 376}. Best is trial 85 with value: 0.8956320877357732.\u001b[0m\n",
      "\u001b[32m[I 2021-03-06 21:40:23,203]\u001b[0m Trial 96 finished with value: 0.8952242966038718 and parameters: {'learning_rate': 0.04435707434340364, 'depth': 14, 'l2_leaf_reg': 48.239931580572964, 'bagging_temperature': 47.32766103569858, 'border_count': 200, 'min_data_in_leaf': 389}. Best is trial 85 with value: 0.8956320877357732.\u001b[0m\n",
      "\u001b[32m[I 2021-03-06 21:41:18,649]\u001b[0m Trial 97 finished with value: 0.885858189281687 and parameters: {'learning_rate': 0.48175728036832444, 'depth': 14, 'l2_leaf_reg': 44.53815277755708, 'bagging_temperature': 45.00941688597846, 'border_count': 200, 'min_data_in_leaf': 428}. Best is trial 85 with value: 0.8956320877357732.\u001b[0m\n",
      "\u001b[32m[I 2021-03-06 21:48:41,532]\u001b[0m Trial 98 finished with value: 0.8953428971028277 and parameters: {'learning_rate': 0.043241955249953674, 'depth': 15, 'l2_leaf_reg': 41.77331934729076, 'bagging_temperature': 45.89958831332982, 'border_count': 200, 'min_data_in_leaf': 340}. Best is trial 85 with value: 0.8956320877357732.\u001b[0m\n",
      "\u001b[32m[I 2021-03-06 21:54:29,881]\u001b[0m Trial 99 finished with value: 0.8953258444806242 and parameters: {'learning_rate': 0.04768005229820289, 'depth': 14, 'l2_leaf_reg': 43.633672806047414, 'bagging_temperature': 47.79858114040456, 'border_count': 200, 'min_data_in_leaf': 362}. Best is trial 85 with value: 0.8956320877357732.\u001b[0m\n"
     ]
    },
    {
     "name": "stdout",
     "output_type": "stream",
     "text": [
      "Best trial: {'learning_rate': 0.04487756498826348, 'depth': 15, 'l2_leaf_reg': 36.71763813738534, 'bagging_temperature': 49.14896686365306, 'border_count': 200, 'min_data_in_leaf': 442}\n"
     ]
    }
   ],
   "source": [
    "import optuna\n",
    "from sklearn.model_selection import train_test_split\n",
    "import warnings\n",
    "warnings.filterwarnings(\"ignore\")\n",
    "\n",
    "def objective(trial, data=train, target=target):\n",
    "\n",
    "    train_x, test_x, train_y, test_y = train_test_split(data, target, test_size=0.25, stratify = target, shuffle = True, random_state = 2021)\n",
    "    \n",
    "    param = {\n",
    "        'iterations' : 2000,\n",
    "        'eval_metric' : 'AUC',\n",
    "        'random_state' : 2021,\n",
    "        'od_type' : 'Iter',\n",
    "        #'od_wait' : 50,\n",
    "        'learning_rate': trial.suggest_loguniform('learning_rate', 4E-2, 1.0),\n",
    "        'depth': trial.suggest_int('depth', 5, 16),\n",
    "        'l2_leaf_reg' : trial.suggest_float('l2_leaf_reg', 1.0, 50),\n",
    "        'bagging_temperature' : trial.suggest_float('bagging_temperature', 1E-3, 50),\n",
    "        'border_count' : trial.suggest_categorical('border_count', [5, 100, 200, 225, 254]),\n",
    "        'grow_policy' : 'Depthwise',\n",
    "        'min_data_in_leaf' : trial.suggest_int('min_data_in_leaf', 1, 500),\n",
    "        'cat_features' : [0, 1, 2,3, 4, 5, 6, 7, 8, 9, 10, 11, 12, 13, 14, 15, 16, 17, 18],\n",
    "        'early_stopping_rounds' : 50,\n",
    "        'verbose' : False\n",
    "    }\n",
    "    \n",
    "    model = CatBoostClassifier(**param)  \n",
    "    model.fit(train_x,train_y,eval_set=(test_x,test_y), use_best_model = True)\n",
    "    preds = model.predict_proba(test_x)[:, 1]    \n",
    "    roc = roc_auc_score(test_y, preds)\n",
    "    \n",
    "    return roc\n",
    "\n",
    "study = optuna.create_study(direction='maximize')\n",
    "study.optimize(objective, n_trials=100)\n",
    "print('Best trial:', study.best_params)\n",
    "    "
   ]
  },
  {
   "cell_type": "code",
   "execution_count": null,
   "metadata": {},
   "outputs": [],
   "source": []
  }
 ],
 "metadata": {
  "kernelspec": {
   "display_name": "Python 3",
   "language": "python",
   "name": "python3"
  },
  "language_info": {
   "codemirror_mode": {
    "name": "ipython",
    "version": 3
   },
   "file_extension": ".py",
   "mimetype": "text/x-python",
   "name": "python",
   "nbconvert_exporter": "python",
   "pygments_lexer": "ipython3",
   "version": "3.8.5"
  }
 },
 "nbformat": 4,
 "nbformat_minor": 4
}
