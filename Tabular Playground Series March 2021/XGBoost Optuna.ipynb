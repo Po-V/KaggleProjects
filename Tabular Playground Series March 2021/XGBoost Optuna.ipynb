{
 "cells": [
  {
   "cell_type": "code",
   "execution_count": 1,
   "metadata": {},
   "outputs": [],
   "source": [
    "import numpy as np\n",
    "import pandas as pd"
   ]
  },
  {
   "cell_type": "code",
   "execution_count": 2,
   "metadata": {},
   "outputs": [],
   "source": [
    "train = pd.read_csv('train.csv')\n",
    "test = pd.read_csv('test.csv')"
   ]
  },
  {
   "cell_type": "code",
   "execution_count": 3,
   "metadata": {},
   "outputs": [],
   "source": [
    "cont_features = [\n",
    "    \"cont0\", \"cont1\", \"cont2\", \"cont3\", \"cont4\", \"cont5\", \"cont6\", \"cont7\",\n",
    "    \"cont8\", \"cont9\", \"cont10\",\n",
    "]\n",
    "cat_features = [\n",
    "    \"cat0\", \"cat1\", \"cat2\", \"cat3\", \"cat4\", \"cat5\", \"cat6\", \"cat7\",\n",
    "    \"cat8\", \"cat9\", \"cat10\", \"cat11\", \"cat12\", \"cat13\", \"cat14\", \"cat15\",\n",
    "    \"cat16\", \"cat17\", \"cat18\"\n",
    "]\n",
    "target = train[\"target\"]"
   ]
  },
  {
   "cell_type": "code",
   "execution_count": 4,
   "metadata": {},
   "outputs": [],
   "source": [
    "from category_encoders import CatBoostEncoder, LeaveOneOutEncoder\n",
    "\n",
    "xgb_cat_features = []\n",
    "loo_features = []\n",
    "\n",
    "def loo_encode(train, test, column):\n",
    "    loo = LeaveOneOutEncoder()\n",
    "    new_feature = \"{}_loo\".format(column)\n",
    "    loo.fit(train[column], train['target']) \n",
    "    train[new_feature] = loo.transform(train[column])\n",
    "    test[new_feature] = loo.transform(test[column])\n",
    "    return new_feature\n",
    "\n",
    "for feature in cat_features:\n",
    "    loo_features.append(loo_encode(train, test, feature))\n",
    "    \n",
    "xgb_cat_features.extend(loo_features)\n",
    "xgb_features = xgb_cat_features + cont_features\n",
    "\n"
   ]
  },
  {
   "cell_type": "code",
   "execution_count": null,
   "metadata": {},
   "outputs": [
    {
     "name": "stderr",
     "output_type": "stream",
     "text": [
      "\u001b[32m[I 2021-03-06 14:25:42,564]\u001b[0m A new study created in memory with name: no-name-71f2d5ee-7f5f-4260-936e-5ae5c45bb707\u001b[0m\n",
      "\u001b[32m[I 2021-03-06 14:35:48,526]\u001b[0m Trial 0 finished with value: 0.8925831209763573 and parameters: {'max_depth': 20, 'reg_alpha': 86.37140270350748, 'reg_lambda': 12.231624641752926, 'colsample_bytree': 0.918324972729146, 'subsample': 0.3, 'min_child_weight': 2.162685667872237, 'learning_rate': 0.03919517116001566}. Best is trial 0 with value: 0.8925831209763573.\u001b[0m\n",
      "\u001b[32m[I 2021-03-06 14:42:18,038]\u001b[0m Trial 1 finished with value: 0.8945380954160269 and parameters: {'max_depth': 20, 'reg_alpha': 27.452878774631323, 'reg_lambda': 46.899148187099314, 'colsample_bytree': 0.128403157794986, 'subsample': 0.5, 'min_child_weight': 0.009489090853903346, 'learning_rate': 0.030875684897131484}. Best is trial 1 with value: 0.8945380954160269.\u001b[0m\n",
      "\u001b[32m[I 2021-03-06 14:46:06,153]\u001b[0m Trial 2 finished with value: 0.8924388767191145 and parameters: {'max_depth': 5, 'reg_alpha': 94.54513185665289, 'reg_lambda': 96.21749607636264, 'colsample_bytree': 0.1305303588228556, 'subsample': 0.8, 'min_child_weight': 0.055310015892339685, 'learning_rate': 0.12215402567191778}. Best is trial 1 with value: 0.8945380954160269.\u001b[0m\n",
      "\u001b[32m[I 2021-03-06 14:48:11,300]\u001b[0m Trial 3 finished with value: 0.8940252782275645 and parameters: {'max_depth': 20, 'reg_alpha': 48.63371461566689, 'reg_lambda': 87.23589819558751, 'colsample_bytree': 0.8025041017822522, 'subsample': 0.7, 'min_child_weight': 1.6836155352375068, 'learning_rate': 0.18257498809372286}. Best is trial 1 with value: 0.8945380954160269.\u001b[0m\n",
      "\u001b[32m[I 2021-03-06 14:49:37,536]\u001b[0m Trial 4 finished with value: 0.8935948951331528 and parameters: {'max_depth': 50, 'reg_alpha': 8.21971767370018, 'reg_lambda': 43.75163959781987, 'colsample_bytree': 0.4360051018722502, 'subsample': 0.4, 'min_child_weight': 1.121096266859348, 'learning_rate': 0.14327690893880834}. Best is trial 1 with value: 0.8945380954160269.\u001b[0m\n",
      "\u001b[32m[I 2021-03-06 14:56:20,344]\u001b[0m Trial 5 finished with value: 0.8934462076256044 and parameters: {'max_depth': 50, 'reg_alpha': 47.73571537712978, 'reg_lambda': 27.66269754093067, 'colsample_bytree': 0.760005319580276, 'subsample': 0.3, 'min_child_weight': 0.16188992782510073, 'learning_rate': 0.09225954367407557}. Best is trial 1 with value: 0.8945380954160269.\u001b[0m\n",
      "\u001b[32m[I 2021-03-06 15:01:45,579]\u001b[0m Trial 6 finished with value: 0.8942747863851379 and parameters: {'max_depth': 30, 'reg_alpha': 48.69469945184775, 'reg_lambda': 48.943255255264695, 'colsample_bytree': 0.7279775382912533, 'subsample': 0.6, 'min_child_weight': 0.003086912978457354, 'learning_rate': 0.09450600626114632}. Best is trial 1 with value: 0.8945380954160269.\u001b[0m\n",
      "\u001b[32m[I 2021-03-06 15:02:24,129]\u001b[0m Trial 7 finished with value: 0.8877147730951036 and parameters: {'max_depth': 50, 'reg_alpha': 28.104462189602867, 'reg_lambda': 96.87591679961315, 'colsample_bytree': 0.06251650261434585, 'subsample': 1.0, 'min_child_weight': 0.9602445225273825, 'learning_rate': 0.6228630141784466}. Best is trial 1 with value: 0.8945380954160269.\u001b[0m\n",
      "\u001b[32m[I 2021-03-06 15:03:27,563]\u001b[0m Trial 8 finished with value: 0.8873827212801308 and parameters: {'max_depth': 30, 'reg_alpha': 62.09637184962901, 'reg_lambda': 47.58423023392017, 'colsample_bytree': 0.025188997850807155, 'subsample': 0.6, 'min_child_weight': 2.636751617891427, 'learning_rate': 0.6358190810420761}. Best is trial 1 with value: 0.8945380954160269.\u001b[0m\n",
      "\u001b[32m[I 2021-03-06 15:08:28,748]\u001b[0m Trial 9 finished with value: 0.8963663863206872 and parameters: {'max_depth': 20, 'reg_alpha': 11.896484146969295, 'reg_lambda': 10.732961479437478, 'colsample_bytree': 0.4712337785083719, 'subsample': 0.8, 'min_child_weight': 0.5105912113192146, 'learning_rate': 0.0332491453079014}. Best is trial 9 with value: 0.8963663863206872.\u001b[0m\n",
      "\u001b[32m[I 2021-03-06 15:19:46,734]\u001b[0m Trial 10 finished with value: 0.8971202506371168 and parameters: {'max_depth': 20, 'reg_alpha': 1.7345631505675811, 'reg_lambda': 1.9527317140273315, 'colsample_bytree': 0.4191287517589424, 'subsample': 0.8, 'min_child_weight': 9.829929517621826, 'learning_rate': 0.008413195904274324}. Best is trial 10 with value: 0.8971202506371168.\u001b[0m\n",
      "\u001b[32m[I 2021-03-06 15:31:51,871]\u001b[0m Trial 11 finished with value: 0.8972392807157024 and parameters: {'max_depth': 20, 'reg_alpha': 3.1153912388948193, 'reg_lambda': 9.406055353724689, 'colsample_bytree': 0.40963245841977824, 'subsample': 0.8, 'min_child_weight': 9.376546546296618, 'learning_rate': 0.009466141457680446}. Best is trial 11 with value: 0.8972392807157024.\u001b[0m\n",
      "\u001b[32m[I 2021-03-06 15:40:13,723]\u001b[0m Trial 12 finished with value: 0.8964202704886258 and parameters: {'max_depth': 20, 'reg_alpha': 0.8714270023926032, 'reg_lambda': 21.15026826829466, 'colsample_bytree': 0.31284080772424927, 'subsample': 0.2, 'min_child_weight': 6.305004237338038, 'learning_rate': 0.009101874942925178}. Best is trial 11 with value: 0.8972392807157024.\u001b[0m\n",
      "\u001b[32m[I 2021-03-06 15:45:08,013]\u001b[0m Trial 13 finished with value: 0.8925755583662104 and parameters: {'max_depth': 5, 'reg_alpha': 17.345057852293053, 'reg_lambda': 0.9746052467649097, 'colsample_bytree': 0.28913851247925965, 'subsample': 0.8, 'min_child_weight': 4.051984578270273, 'learning_rate': 0.010059355957706604}. Best is trial 11 with value: 0.8972392807157024.\u001b[0m\n",
      "\u001b[32m[I 2021-03-06 15:52:05,146]\u001b[0m Trial 14 finished with value: 0.8963007957654495 and parameters: {'max_depth': 20, 'reg_alpha': 2.6643375082461844, 'reg_lambda': 1.8094689992218846, 'colsample_bytree': 0.5899580354342516, 'subsample': 0.8, 'min_child_weight': 8.614083204629003, 'learning_rate': 0.016555475454876387}. Best is trial 11 with value: 0.8972392807157024.\u001b[0m\n",
      "\u001b[32m[I 2021-03-06 16:07:31,899]\u001b[0m Trial 15 finished with value: 0.8965671164188872 and parameters: {'max_depth': 20, 'reg_alpha': 27.889002509768392, 'reg_lambda': 71.19373964598144, 'colsample_bytree': 0.29504147121849383, 'subsample': 0.8, 'min_child_weight': 0.2451355741847604, 'learning_rate': 0.01611121454375229}. Best is trial 11 with value: 0.8972392807157024.\u001b[0m\n",
      "\u001b[32m[I 2021-03-06 16:18:03,286]\u001b[0m Trial 16 finished with value: 0.8914095541659627 and parameters: {'max_depth': 20, 'reg_alpha': 70.99132499921473, 'reg_lambda': 32.71050599133802, 'colsample_bytree': 0.5994677791587466, 'subsample': 0.5, 'min_child_weight': 9.805041432765059, 'learning_rate': 0.008167581578618867}. Best is trial 11 with value: 0.8972392807157024.\u001b[0m\n",
      "\u001b[32m[I 2021-03-06 16:41:04,693]\u001b[0m Trial 17 finished with value: 0.8969855073482654 and parameters: {'max_depth': 30, 'reg_alpha': 19.700090791689195, 'reg_lambda': 64.58852067493854, 'colsample_bytree': 0.37825532114832966, 'subsample': 0.7, 'min_child_weight': 0.05471159997546304, 'learning_rate': 0.01611745532236417}. Best is trial 11 with value: 0.8972392807157024.\u001b[0m\n",
      "\u001b[32m[I 2021-03-06 16:46:01,332]\u001b[0m Trial 18 finished with value: 0.8949091828261004 and parameters: {'max_depth': 20, 'reg_alpha': 0.04641821823650294, 'reg_lambda': 12.207600234984863, 'colsample_bytree': 0.5774182067981319, 'subsample': 0.4, 'min_child_weight': 0.013177214886484509, 'learning_rate': 0.04890547167225545}. Best is trial 11 with value: 0.8972392807157024.\u001b[0m\n",
      "\u001b[32m[I 2021-03-06 16:53:25,571]\u001b[0m Trial 19 finished with value: 0.8939261959826728 and parameters: {'max_depth': 5, 'reg_alpha': 37.404129753502666, 'reg_lambda': 3.115730292252679, 'colsample_bytree': 0.17795537674357345, 'subsample': 1.0, 'min_child_weight': 0.4047918603701924, 'learning_rate': 0.022321123744083064}. Best is trial 11 with value: 0.8972392807157024.\u001b[0m\n",
      "\u001b[32m[I 2021-03-06 16:55:43,842]\u001b[0m Trial 20 finished with value: 0.8930488044687054 and parameters: {'max_depth': 20, 'reg_alpha': 36.42605893902379, 'reg_lambda': 34.114526344208215, 'colsample_bytree': 0.2349248441824906, 'subsample': 0.2, 'min_child_weight': 9.879985002193349, 'learning_rate': 0.23622161475726947}. Best is trial 11 with value: 0.8972392807157024.\u001b[0m\n",
      "\u001b[32m[I 2021-03-06 17:19:14,903]\u001b[0m Trial 21 finished with value: 0.8969267088076219 and parameters: {'max_depth': 30, 'reg_alpha': 17.65650619586617, 'reg_lambda': 60.85822354767355, 'colsample_bytree': 0.3990120986587723, 'subsample': 0.7, 'min_child_weight': 0.06442498419785135, 'learning_rate': 0.012999120967019587}. Best is trial 11 with value: 0.8972392807157024.\u001b[0m\n"
     ]
    },
    {
     "name": "stderr",
     "output_type": "stream",
     "text": [
      "\u001b[32m[I 2021-03-06 17:41:17,526]\u001b[0m Trial 22 finished with value: 0.8969294465217985 and parameters: {'max_depth': 30, 'reg_alpha': 10.38984401059398, 'reg_lambda': 62.44953086098899, 'colsample_bytree': 0.3731988268527646, 'subsample': 0.7, 'min_child_weight': 0.02299582594147899, 'learning_rate': 0.00955531402498414}. Best is trial 11 with value: 0.8972392807157024.\u001b[0m\n",
      "\u001b[32m[I 2021-03-06 17:49:55,366]\u001b[0m Trial 23 finished with value: 0.8961181591412662 and parameters: {'max_depth': 30, 'reg_alpha': 0.4196578614694131, 'reg_lambda': 76.60952165831857, 'colsample_bytree': 0.520917154518605, 'subsample': 0.8, 'min_child_weight': 0.0010689562345365913, 'learning_rate': 0.05625168095208454}. Best is trial 11 with value: 0.8972392807157024.\u001b[0m\n",
      "\u001b[32m[I 2021-03-06 18:10:28,055]\u001b[0m Trial 24 finished with value: 0.896920653606548 and parameters: {'max_depth': 30, 'reg_alpha': 20.297876795224468, 'reg_lambda': 78.14286391653151, 'colsample_bytree': 0.37230131039416736, 'subsample': 0.7, 'min_child_weight': 0.10010928039697053, 'learning_rate': 0.0199761421215205}. Best is trial 11 with value: 0.8972392807157024.\u001b[0m\n",
      "\u001b[32m[I 2021-03-06 18:39:01,307]\u001b[0m Trial 25 finished with value: 0.8963845446196852 and parameters: {'max_depth': 30, 'reg_alpha': 6.390899397392438, 'reg_lambda': 61.6927165871061, 'colsample_bytree': 0.6592176434130118, 'subsample': 0.8, 'min_child_weight': 0.026651399880862722, 'learning_rate': 0.012321573875873924}. Best is trial 11 with value: 0.8972392807157024.\u001b[0m\n",
      "\u001b[32m[I 2021-03-06 18:57:47,071]\u001b[0m Trial 26 finished with value: 0.8966595869721965 and parameters: {'max_depth': 20, 'reg_alpha': 15.410573505244518, 'reg_lambda': 22.16549408135956, 'colsample_bytree': 0.4883344241009262, 'subsample': 0.7, 'min_child_weight': 0.008033567503275961, 'learning_rate': 0.008071900387124862}. Best is trial 11 with value: 0.8972392807157024.\u001b[0m\n",
      "\u001b[32m[I 2021-03-06 19:11:46,042]\u001b[0m Trial 27 finished with value: 0.8967044047730268 and parameters: {'max_depth': 50, 'reg_alpha': 38.27288483803505, 'reg_lambda': 38.346575266023876, 'colsample_bytree': 0.3277068160415812, 'subsample': 0.8, 'min_child_weight': 0.003214599196930453, 'learning_rate': 0.0255896030588663}. Best is trial 11 with value: 0.8972392807157024.\u001b[0m\n",
      "\u001b[32m[I 2021-03-06 19:12:31,626]\u001b[0m Trial 28 finished with value: 0.8928780079904094 and parameters: {'max_depth': 30, 'reg_alpha': 23.755262915057365, 'reg_lambda': 59.823978335407524, 'colsample_bytree': 0.23456530243368157, 'subsample': 0.6, 'min_child_weight': 0.03425867690703006, 'learning_rate': 0.38024403854353805}. Best is trial 11 with value: 0.8972392807157024.\u001b[0m\n",
      "\u001b[32m[I 2021-03-06 19:22:36,117]\u001b[0m Trial 29 finished with value: 0.8954762685672498 and parameters: {'max_depth': 20, 'reg_alpha': 5.273093005788279, 'reg_lambda': 7.072354588225377, 'colsample_bytree': 0.8963161989182977, 'subsample': 0.3, 'min_child_weight': 4.23308612654221, 'learning_rate': 0.012758271807601673}. Best is trial 11 with value: 0.8972392807157024.\u001b[0m\n",
      "\u001b[32m[I 2021-03-06 19:35:13,930]\u001b[0m Trial 30 finished with value: 0.8954516752475692 and parameters: {'max_depth': 20, 'reg_alpha': 75.3377890201845, 'reg_lambda': 16.5105055181062, 'colsample_bytree': 0.5378113505200426, 'subsample': 0.8, 'min_child_weight': 0.1427796916973668, 'learning_rate': 0.04935862023674743}. Best is trial 11 with value: 0.8972392807157024.\u001b[0m\n",
      "\u001b[32m[I 2021-03-06 20:00:40,457]\u001b[0m Trial 31 finished with value: 0.8965010127419665 and parameters: {'max_depth': 30, 'reg_alpha': 11.798187524335955, 'reg_lambda': 68.87508246006074, 'colsample_bytree': 0.4264827025989808, 'subsample': 0.7, 'min_child_weight': 0.027073361670455934, 'learning_rate': 0.008065515734254944}. Best is trial 11 with value: 0.8972392807157024.\u001b[0m\n",
      "\u001b[32m[I 2021-03-06 20:21:01,564]\u001b[0m Trial 32 finished with value: 0.8970991249974236 and parameters: {'max_depth': 30, 'reg_alpha': 10.813419332592254, 'reg_lambda': 57.60386417316886, 'colsample_bytree': 0.39049760386480115, 'subsample': 0.7, 'min_child_weight': 0.01619101107947228, 'learning_rate': 0.010446145564945296}. Best is trial 11 with value: 0.8972392807157024.\u001b[0m\n",
      "\u001b[32m[I 2021-03-06 20:37:44,365]\u001b[0m Trial 33 finished with value: 0.8969195324082793 and parameters: {'max_depth': 30, 'reg_alpha': 6.192663168955034, 'reg_lambda': 55.033065635426155, 'colsample_bytree': 0.44579397536817966, 'subsample': 0.7, 'min_child_weight': 0.003653091773669952, 'learning_rate': 0.015882015784886853}. Best is trial 11 with value: 0.8972392807157024.\u001b[0m\n",
      "\u001b[32m[I 2021-03-06 20:41:43,562]\u001b[0m Trial 34 finished with value: 0.894352380518258 and parameters: {'max_depth': 5, 'reg_alpha': 22.44079962016119, 'reg_lambda': 54.83913505414941, 'colsample_bytree': 0.21313215754622183, 'subsample': 0.5, 'min_child_weight': 0.011185520998691589, 'learning_rate': 0.02844364294025113}. Best is trial 11 with value: 0.8972392807157024.\u001b[0m\n",
      "\u001b[32m[I 2021-03-06 21:01:23,462]\u001b[0m Trial 35 finished with value: 0.8956446765645435 and parameters: {'max_depth': 30, 'reg_alpha': 32.18585574415215, 'reg_lambda': 90.36597799301741, 'colsample_bytree': 0.3478029826147739, 'subsample': 0.7, 'min_child_weight': 0.006875896723171506, 'learning_rate': 0.01243420812370972}. Best is trial 11 with value: 0.8972392807157024.\u001b[0m\n",
      "\u001b[32m[I 2021-03-06 21:09:36,600]\u001b[0m Trial 36 finished with value: 0.8913876456048401 and parameters: {'max_depth': 20, 'reg_alpha': 97.2211271076007, 'reg_lambda': 41.665895240975786, 'colsample_bytree': 0.40693498414265894, 'subsample': 0.4, 'min_child_weight': 0.054850192735605076, 'learning_rate': 0.021181729474675233}. Best is trial 11 with value: 0.8972392807157024.\u001b[0m\n",
      "\u001b[32m[I 2021-03-06 21:15:53,065]\u001b[0m Trial 37 finished with value: 0.8914583367904755 and parameters: {'max_depth': 30, 'reg_alpha': 13.891065569840515, 'reg_lambda': 80.5281555997005, 'colsample_bytree': 0.13110669285335563, 'subsample': 0.3, 'min_child_weight': 0.051825072973464725, 'learning_rate': 0.010289820176760184}. Best is trial 11 with value: 0.8972392807157024.\u001b[0m\n",
      "\u001b[32m[I 2021-03-06 21:29:11,099]\u001b[0m Trial 38 finished with value: 0.895874876007957 and parameters: {'max_depth': 50, 'reg_alpha': 0.43164237752182544, 'reg_lambda': 74.19522980558352, 'colsample_bytree': 0.640500914650863, 'subsample': 0.7, 'min_child_weight': 0.005264385204612924, 'learning_rate': 0.03653391776266586}. Best is trial 11 with value: 0.8972392807157024.\u001b[0m\n",
      "\u001b[32m[I 2021-03-06 21:32:55,994]\u001b[0m Trial 39 finished with value: 0.8952090513204084 and parameters: {'max_depth': 20, 'reg_alpha': 58.16951210331928, 'reg_lambda': 53.75275542946017, 'colsample_bytree': 0.27388996810432736, 'subsample': 1.0, 'min_child_weight': 0.016369165971912535, 'learning_rate': 0.06559392064692726}. Best is trial 11 with value: 0.8972392807157024.\u001b[0m\n",
      "\u001b[32m[I 2021-03-06 21:58:49,256]\u001b[0m Trial 40 finished with value: 0.8967184339033192 and parameters: {'max_depth': 30, 'reg_alpha': 8.8575954254113, 'reg_lambda': 87.09101171235531, 'colsample_bytree': 0.5498303982913282, 'subsample': 0.8, 'min_child_weight': 0.001180174278248685, 'learning_rate': 0.016516678778124343}. Best is trial 11 with value: 0.8972392807157024.\u001b[0m\n",
      "\u001b[32m[I 2021-03-06 22:17:04,686]\u001b[0m Trial 41 finished with value: 0.8970264452370085 and parameters: {'max_depth': 30, 'reg_alpha': 12.517829556381185, 'reg_lambda': 65.60559977692878, 'colsample_bytree': 0.3597528795538021, 'subsample': 0.7, 'min_child_weight': 0.020112427062736242, 'learning_rate': 0.010655269534296356}. Best is trial 11 with value: 0.8972392807157024.\u001b[0m\n",
      "\u001b[32m[I 2021-03-06 22:42:20,200]\u001b[0m Trial 42 finished with value: 0.8956453535747358 and parameters: {'max_depth': 30, 'reg_alpha': 21.88039689599075, 'reg_lambda': 66.7387797321561, 'colsample_bytree': 0.45468724972759134, 'subsample': 0.7, 'min_child_weight': 0.07951549560816919, 'learning_rate': 0.008018133365513127}. Best is trial 11 with value: 0.8972392807157024.\u001b[0m\n"
     ]
    }
   ],
   "source": [
    "import optuna\n",
    "from xgboost import XGBClassifier\n",
    "from sklearn.metrics import roc_auc_score\n",
    "from sklearn.model_selection import train_test_split\n",
    "import warnings\n",
    "warnings.filterwarnings(\"ignore\")\n",
    "\n",
    "def objective(trial, data=train[xgb_features], target=target):\n",
    "\n",
    "    train_x, test_x, train_y, test_y = train_test_split(data, target, test_size=0.25, stratify = target, shuffle = True, random_state=2021)\n",
    "    param = {\n",
    "        'n_estimators': 2000,\n",
    "       # 'num_leaves': trial.suggest_int('num_leaves', 2, 500),\n",
    "        'max_depth': trial.suggest_categorical('max_depth', [5,20, 30,50]),\n",
    "        'alpha': trial.suggest_float('reg_alpha', 1E-5, 100),\n",
    "        'lambda': trial.suggest_float('reg_lambda', 1E-5, 100),\n",
    "        'colsample_bytree': trial.suggest_float('colsample_bytree', 1E-3, 1.0),\n",
    "        #'subsample': trial.suggest_float('subsample ', 1E-16, 0.9),\n",
    "        #'cat_smooth': trial.suggest_float('cat_smooth', 1.0, 100),  \n",
    "        'subsample': trial.suggest_categorical('subsample', [0.2,0.3,0.4,0.5,0.6,0.7,0.8,1.0]),\n",
    "        #'min_child_samples': trial.suggest_int('min_child_samples', 1, 300),\n",
    "        'min_child_weight': trial.suggest_loguniform('min_child_weight', 1E-3, 10),\n",
    "        #'subsample_freq': trial.suggest_int('subsample_freq', 0, 20),\n",
    "        'eval_metric': 'auc', \n",
    "        'random_state': 2021,\n",
    "        'learning_rate': trial.suggest_loguniform('learning_rate', 8E-3, 1.0), \n",
    "       # 'enable_categorical' : True\n",
    "    }\n",
    "\n",
    "    model = XGBClassifier(**param)  \n",
    "    model.fit(train_x,train_y,eval_set=[(test_x,test_y)],early_stopping_rounds=50,verbose=False)\n",
    "\n",
    "    preds = model.predict_proba(test_x)[:, 1]    \n",
    "    roc = roc_auc_score(test_y, preds)\n",
    "    \n",
    "    return roc\n",
    "\n",
    "study = optuna.create_study(direction='maximize')\n",
    "study.optimize(objective, n_trials=100)\n",
    "print('Best trial:', study.best_params)"
   ]
  },
  {
   "cell_type": "code",
   "execution_count": null,
   "metadata": {},
   "outputs": [],
   "source": []
  }
 ],
 "metadata": {
  "kernelspec": {
   "display_name": "Python 3",
   "language": "python",
   "name": "python3"
  },
  "language_info": {
   "codemirror_mode": {
    "name": "ipython",
    "version": 3
   },
   "file_extension": ".py",
   "mimetype": "text/x-python",
   "name": "python",
   "nbconvert_exporter": "python",
   "pygments_lexer": "ipython3",
   "version": "3.8.5"
  }
 },
 "nbformat": 4,
 "nbformat_minor": 4
}
